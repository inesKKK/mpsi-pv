{
 "cells": [
  {
   "cell_type": "markdown",
   "id": "a8c65b30",
   "metadata": {
    "nbgrader": {
     "grade": false,
     "grade_id": "cell-4b7403adc80a5db7",
     "locked": true,
     "schema_version": 3,
     "solution": false,
     "task": false
    }
   },
   "source": [
    "# TP3 : manipulation de listes\n",
    "\n",
    "Dans ce TP, nous allons étudier quelques algorithmes élémentaires concernant les listes d'éléments. Ce sera également l'occasion de rappeler quelques instructions de `python` et de voir ou revoir les listes.\n",
    "\n",
    "## Listes en `python`\n",
    "\n",
    "En `python`, une _liste_ est une suite finie et ordonnée d'éléments. Ces éléments n'ont pas besoin d'être du même type :\n",
    "```python\n",
    "liste_entiers = [1, 4, 8, -2]\n",
    "pi = 3.14\n",
    "liste_quelconque = [-17, 'toto', 3.4, pi, True]\n",
    "```\n",
    "\n",
    "En fait une liste peut même posséder un élément qui est lui-même une liste :\n",
    "```python\n",
    "liste_compliquee = ['titi', ['a', 3, 1.2], 9.5]\n",
    "```\n",
    "mais pour ce TP nous éviterons de les utiliser.\n",
    "\n",
    "En `python`, les éléments d'une liste sont repérés par leurs _indices_ dans la liste, et ces indices commencent **toujours** par 0. On utilise des crochets pour accéder à un élément à partir de son indice. Par exemple :"
   ]
  },
  {
   "cell_type": "code",
   "execution_count": 1,
   "id": "3df361cd",
   "metadata": {
    "nbgrader": {
     "grade": false,
     "grade_id": "cell-f47388750b5bc97d",
     "locked": true,
     "schema_version": 3,
     "solution": false,
     "task": false
    }
   },
   "outputs": [
    {
     "name": "stdout",
     "output_type": "stream",
     "text": [
      "b\n"
     ]
    }
   ],
   "source": [
    "L = ['a', 'b', 'c', 'd']\n",
    "print(L[1])"
   ]
  },
  {
   "cell_type": "code",
   "execution_count": 2,
   "id": "a066a4ae",
   "metadata": {
    "nbgrader": {
     "grade": false,
     "grade_id": "cell-779927bce27b8479",
     "locked": true,
     "schema_version": 3,
     "solution": false,
     "task": false
    }
   },
   "outputs": [
    {
     "name": "stdout",
     "output_type": "stream",
     "text": [
      "['z', 'b', 'c', 'd']\n"
     ]
    }
   ],
   "source": [
    "L[0] = 'z'\n",
    "print(L)"
   ]
  },
  {
   "cell_type": "markdown",
   "id": "1a46008c",
   "metadata": {
    "nbgrader": {
     "grade": false,
     "grade_id": "cell-35fdeed16da15716",
     "locked": true,
     "schema_version": 3,
     "solution": false,
     "task": false
    }
   },
   "source": [
    "On peut connaître la longueur d'une liste grâce à la fonction `len`:"
   ]
  },
  {
   "cell_type": "code",
   "execution_count": 3,
   "id": "0b084c45",
   "metadata": {
    "nbgrader": {
     "grade": false,
     "grade_id": "cell-afcc23191a272cb0",
     "locked": true,
     "schema_version": 3,
     "solution": false,
     "task": false
    }
   },
   "outputs": [
    {
     "data": {
      "text/plain": [
       "4"
      ]
     },
     "execution_count": 3,
     "metadata": {},
     "output_type": "execute_result"
    }
   ],
   "source": [
    "len(L)"
   ]
  },
  {
   "cell_type": "markdown",
   "id": "4620cb30",
   "metadata": {
    "nbgrader": {
     "grade": false,
     "grade_id": "cell-232420dfcdc16957",
     "locked": true,
     "schema_version": 3,
     "solution": false,
     "task": false
    }
   },
   "source": [
    "### Exo 1 : accéder aux éléments\n",
    "\n",
    "1. Écrire et documenter une fonction `avant_dernier` qui prend en argument une liste supposée contenir au moins deux éléments (sans avoir à le vérifier) et renvoie son avant-dernier élément."
   ]
  },
  {
   "cell_type": "code",
   "execution_count": 4,
   "id": "425d2dcc",
   "metadata": {
    "nbgrader": {
     "grade": false,
     "grade_id": "cell-fe0a24d825375171",
     "locked": false,
     "schema_version": 3,
     "solution": true,
     "task": false
    }
   },
   "outputs": [],
   "source": [
   ]
  },
  {
   "cell_type": "code",
   "execution_count": 5,
   "id": "a1a55748",
   "metadata": {
    "nbgrader": {
     "grade": true,
     "grade_id": "cell-1d0243295cabe404",
     "locked": true,
     "points": 0,
     "schema_version": 3,
     "solution": false,
     "task": false
    }
   },
   "outputs": [],
   "source": [
    "assert(avant_dernier([3, 4]) == 3)\n",
    "assert(avant_dernier([9, -3, 5, 17]) == 5)\n",
    "assert(avant_dernier([-1, -1, -1, -1, -1]) == -1)"
   ]
  },
  {
   "cell_type": "markdown",
   "id": "25ac07fd",
   "metadata": {
    "nbgrader": {
     "grade": false,
     "grade_id": "cell-d897ffc407aecbe9",
     "locked": true,
     "schema_version": 3,
     "solution": false,
     "task": false
    }
   },
   "source": [
    "2. Écrire et documenter une fonction `ddebut` qui prend en argument une liste supposée de longueur au moins 2 et supposée contenir des entiers (sans avoir à le vérifier) et teste si ses deux premiers éléments sont égaux."
   ]
  },
  {
   "cell_type": "code",
   "execution_count": 6,
   "id": "0644aca4",
   "metadata": {
    "nbgrader": {
     "grade": false,
     "grade_id": "cell-964f522edd16cb33",
     "locked": false,
     "schema_version": 3,
     "solution": true,
     "task": false
    }
   },
   "outputs": [],
   "source": [
   ]
  },
  {
   "cell_type": "code",
   "execution_count": 7,
   "id": "74ad96be",
   "metadata": {
    "nbgrader": {
     "grade": true,
     "grade_id": "cell-a713098df7f70a44",
     "locked": true,
     "points": 1,
     "schema_version": 3,
     "solution": false,
     "task": false
    }
   },
   "outputs": [],
   "source": [
    "assert(ddebut([4,4,2,-4]))\n",
    "assert(not ddebut([5,2,5]))"
   ]
  },
  {
   "cell_type": "markdown",
   "id": "7bcab860",
   "metadata": {
    "nbgrader": {
     "grade": false,
     "grade_id": "cell-da5d0686f541d5bc",
     "locked": true,
     "schema_version": 3,
     "solution": false,
     "task": false
    }
   },
   "source": [
    "## Boucles inconditionnelles\n",
    "\n",
    "On a vu dans le TP précédent l'instruction `while` qui permet d'exécuter un bloc d'instructions en boucle tant qu'une certaine condition est vraie. Il existe en `python` une instruction qui permet d'exécuter un bloc d'instructions pour chaque élément d'une liste : `for`.\n",
    "\n",
    "```python\n",
    "# liste est une liste\n",
    "for x in liste:\n",
    "    #code\n",
    "```\n",
    "Le bloc est alors réexécuté pour chaque élément de la liste.\n",
    "\n",
    "Exemple :"
   ]
  },
  {
   "cell_type": "code",
   "execution_count": 8,
   "id": "7ae77ff7",
   "metadata": {
    "nbgrader": {
     "grade": false,
     "grade_id": "cell-14add1bcbe50450f",
     "locked": true,
     "schema_version": 3,
     "solution": false,
     "task": false
    }
   },
   "outputs": [
    {
     "name": "stdout",
     "output_type": "stream",
     "text": [
      "34 pair\n",
      "-15 impair\n",
      "6 pair\n",
      "27 impair\n"
     ]
    }
   ],
   "source": [
    "L = [34, -15, 6, 27]\n",
    "for x in L :\n",
    "    if x%2 == 0 :\n",
    "        print(str(x) + \" pair\")  # str(i) permet d'obtenir une chaînes de caractères contenant x\n",
    "    else:\n",
    "        print(str(x) + \" impair\")"
   ]
  },
  {
   "cell_type": "markdown",
   "id": "f6a27ce3",
   "metadata": {
    "nbgrader": {
     "grade": false,
     "grade_id": "cell-8529dc32f50fe63c",
     "locked": true,
     "schema_version": 3,
     "solution": false,
     "task": false
    }
   },
   "source": [
    "### Exo 2 : parcourir les éléments d'une liste\n",
    "\n",
    "1. Écrire et documenter une fonction `somme` qui prend en argument une liste de nombres éventuellement vide (sans avoir à le vérifier) et renvoie sa somme (sans utiliser la fonction `sum` de `python`)."
   ]
  },
  {
   "cell_type": "code",
   "execution_count": 9,
   "id": "d37be167",
   "metadata": {
    "nbgrader": {
     "grade": false,
     "grade_id": "cell-3f0bc28428fd40dc",
     "locked": false,
     "schema_version": 3,
     "solution": true,
     "task": false
    }
   },
   "outputs": [],
   "source": [
   ]
  },
  {
   "cell_type": "code",
   "execution_count": 10,
   "id": "a0d68602",
   "metadata": {
    "nbgrader": {
     "grade": true,
     "grade_id": "cell-a09100ba64c5218e",
     "locked": true,
     "points": 1,
     "schema_version": 3,
     "solution": false,
     "task": false
    }
   },
   "outputs": [],
   "source": [
    "import random\n",
    "\n",
    "assert(somme([]) == 0)\n",
    "\n",
    "liste1 = random.sample(range(10, 30), random.randint(5,15)) # liste aléatoire\n",
    "assert(somme(liste1) == sum(liste1))"
   ]
  },
  {
   "cell_type": "markdown",
   "id": "a3e2af01",
   "metadata": {
    "nbgrader": {
     "grade": false,
     "grade_id": "cell-6f441297e8387734",
     "locked": true,
     "schema_version": 3,
     "solution": false,
     "task": false
    }
   },
   "source": [
    "2. Écrire et documenter une fonction `que_des_pairs` qui prend en argument une liste d'entiers éventuellement vide (sans avoir à le vérifier) et teste si elle ne contient que des entiers pairs (rappel : le reste de la dixision euclidienne de `x` par 2 s'écrit `x%2` en `python`)."
   ]
  },
  {
   "cell_type": "code",
   "execution_count": 11,
   "id": "f3134f2c",
   "metadata": {
    "nbgrader": {
     "grade": false,
     "grade_id": "cell-11c98315c5f4aa46",
     "locked": false,
     "schema_version": 3,
     "solution": true,
     "task": false
    }
   },
   "outputs": [],
   "source": [
   ]
  },
  {
   "cell_type": "code",
   "execution_count": 12,
   "id": "184014d6",
   "metadata": {
    "nbgrader": {
     "grade": true,
     "grade_id": "cell-0379d195f63b4732",
     "locked": true,
     "points": 1,
     "schema_version": 3,
     "solution": false,
     "task": false
    }
   },
   "outputs": [],
   "source": [
    "assert(que_des_pairs([]))\n",
    "assert(que_des_pairs([ 2*i-20 for i in random.sample(range(10, 30), random.randint(5,15))]))\n",
    "assert(not que_des_pairs([34, 22, 17, -12]))"
   ]
  },
  {
   "cell_type": "markdown",
   "id": "9a855799",
   "metadata": {
    "nbgrader": {
     "grade": false,
     "grade_id": "cell-af513394e681d533",
     "locked": true,
     "schema_version": 3,
     "solution": false,
     "task": false
    }
   },
   "source": [
    "3. Écrire et documenter une fonction `max_liste` qui prend en argument une liste de nombres non vide (sans avoir à le vérifier) et renvoie son maximum (sans utiliser la fonction `max` de `python`)."
   ]
  },
  {
   "cell_type": "code",
   "execution_count": 13,
   "id": "0a2e3d88",
   "metadata": {
    "nbgrader": {
     "grade": false,
     "grade_id": "cell-6aaa6daf2938418a",
     "locked": false,
     "schema_version": 3,
     "solution": true,
     "task": false
    }
   },
   "outputs": [],
   "source": [
   ]
  },
  {
   "cell_type": "code",
   "execution_count": 14,
   "id": "b537c244",
   "metadata": {
    "nbgrader": {
     "grade": true,
     "grade_id": "cell-cb5bfc8c177c9828",
     "locked": true,
     "points": 1,
     "schema_version": 3,
     "solution": false,
     "task": false
    }
   },
   "outputs": [],
   "source": [
    "import random\n",
    "\n",
    "liste1 = random.sample(range(10, 30), random.randint(5,15))\n",
    "assert(max_liste(liste1) == max(liste1))\n",
    "\n",
    "liste2 = [ -i for i in random.sample(range(10, 30), random.randint(5,15)) ]\n",
    "assert(max_liste(liste2) == max(liste2))"
   ]
  },
  {
   "cell_type": "markdown",
   "id": "35a11c63",
   "metadata": {
    "nbgrader": {
     "grade": false,
     "grade_id": "cell-2792016cb5e8cfc0",
     "locked": true,
     "schema_version": 3,
     "solution": false,
     "task": false
    }
   },
   "source": [
    "4. Écrire et documenter une fonction `tous_egaux` qui prend en argument une liste d'entiers non vide (sans avoir à le vérifier) et teste si tous les éléments de la liste sont égaux."
   ]
  },
  {
   "cell_type": "code",
   "execution_count": 15,
   "id": "38613372",
   "metadata": {
    "nbgrader": {
     "grade": false,
     "grade_id": "cell-534e947566c63765",
     "locked": false,
     "schema_version": 3,
     "solution": true,
     "task": false
    }
   },
   "outputs": [],
   "source": [
   ]
  },
  {
   "cell_type": "code",
   "execution_count": 16,
   "id": "8cec7092",
   "metadata": {
    "nbgrader": {
     "grade": true,
     "grade_id": "cell-13e6c6ac5bc66850",
     "locked": true,
     "points": 1,
     "schema_version": 3,
     "solution": false,
     "task": false
    }
   },
   "outputs": [],
   "source": [
    "import random\n",
    "\n",
    "liste1 = random.sample(range(10, 30), random.randint(5,15))\n",
    "assert(not tous_egaux(liste1))\n",
    "\n",
    "assert(not tous_egaux([1,1,1,1,4]))\n",
    "assert(not tous_egaux([4,1,1,1,1]))\n",
    "assert(not tous_egaux([1,4,1,1,1]))\n",
    "assert(tous_egaux([1,1,1,1]))\n",
    "assert(tous_egaux([1]))"
   ]
  },
  {
   "cell_type": "markdown",
   "id": "389ff7e1",
   "metadata": {
    "nbgrader": {
     "grade": false,
     "grade_id": "cell-88081cc03de1ea10",
     "locked": true,
     "schema_version": 3,
     "solution": false,
     "task": false
    }
   },
   "source": [
    "## Boucler sur des entiers\n",
    "\n",
    "On peut avoir besoin de parcourir le début des entiers. On peut bien sûr écrire\n",
    "\n",
    "```python\n",
    "for i in [0, 1, 2, 3, 4, 5] :\n",
    "    # code\n",
    "```\n",
    "mais si on veut parcourir les 500 premiers entiers, ce serait fastidieux et si on veut parcourir les `n` premiers entiers où `n` est un entier dont on ne connaît pas la valeur au moment où on écrit le programme, c'est carrément impossible.\n",
    "\n",
    "Pour cela, on utilise une fonction `range` qui renvoie un _itérateur_ (notion que vous n'avez pas besoin de comprendre pour utiliser cette fonction), et qui permet de faire une boucle sur des entiers de la manière suivante :"
   ]
  },
  {
   "cell_type": "code",
   "execution_count": 17,
   "id": "db8ea31b",
   "metadata": {
    "nbgrader": {
     "grade": false,
     "grade_id": "cell-88081cc03de1ea11",
     "locked": true,
     "schema_version": 3,
     "solution": false,
     "task": false
    }
   },
   "outputs": [
    {
     "name": "stdout",
     "output_type": "stream",
     "text": [
      "0\n",
      "1\n",
      "2\n",
      "3\n",
      "4\n",
      "5\n",
      "6\n",
      "7\n",
      "8\n",
      "9\n",
      "10\n",
      "11\n",
      "12\n",
      "13\n",
      "14\n",
      "15\n",
      "16\n",
      "17\n",
      "18\n",
      "19\n",
      "20\n",
      "21\n",
      "22\n",
      "23\n",
      "24\n",
      "25\n",
      "26\n",
      "27\n",
      "28\n",
      "29\n",
      "30\n",
      "31\n",
      "32\n",
      "33\n",
      "34\n",
      "35\n",
      "36\n",
      "37\n",
      "38\n",
      "39\n",
      "40\n",
      "41\n",
      "42\n",
      "43\n",
      "44\n",
      "45\n",
      "46\n",
      "47\n",
      "48\n",
      "49\n"
     ]
    }
   ],
   "source": [
    "for i in range(50):\n",
    "    print(i)"
   ]
  },
  {
   "cell_type": "markdown",
   "id": "dc4f1110",
   "metadata": {
    "nbgrader": {
     "grade": false,
     "grade_id": "cell-c558eac763455e82",
     "locked": true,
     "schema_version": 3,
     "solution": false,
     "task": false
    }
   },
   "source": [
    "Notez bien que dans la boucle précédente, la variable `i` prend successivement toutes les valeurs de 0 à 49."
   ]
  },
  {
   "cell_type": "markdown",
   "id": "0541417a",
   "metadata": {
    "nbgrader": {
     "grade": false,
     "grade_id": "cell-56736bac72d74536",
     "locked": true,
     "schema_version": 3,
     "solution": false,
     "task": false
    }
   },
   "source": [
    "### Exo 3 : parcourir les indices d'une liste\n",
    "\n",
    "1. Écrire et documenter une fonction `indice_max` qui prend en argument une liste de nombres supposée non vide (sans avoir à le vérifier) et renvoie l'indice de la première occurence du maximum de la liste. "
   ]
  },
  {
   "cell_type": "code",
   "execution_count": 18,
   "id": "dde2e695",
   "metadata": {
    "nbgrader": {
     "grade": false,
     "grade_id": "cell-677c1e889db4ef73",
     "locked": false,
     "schema_version": 3,
     "solution": true,
     "task": false
    }
   },
   "outputs": [],
   "source": [
   ]
  },
  {
   "cell_type": "code",
   "execution_count": 19,
   "id": "6491492a",
   "metadata": {
    "nbgrader": {
     "grade": true,
     "grade_id": "cell-9959d8e6732af605",
     "locked": true,
     "points": 1,
     "schema_version": 3,
     "solution": false,
     "task": false
    }
   },
   "outputs": [],
   "source": [
    "assert(indice_max([0]) == 0)\n",
    "assert(indice_max([-5, -7, -5, -10]) == 0)\n",
    "assert(indice_max([4, 10, 3, 9, 10, 5]) == 1)\n",
    "assert(indice_max(list(range(39))) == 38)"
   ]
  },
  {
   "cell_type": "markdown",
   "id": "767316de",
   "metadata": {
    "nbgrader": {
     "grade": false,
     "grade_id": "cell-409a10d6ee21ab63",
     "locked": true,
     "schema_version": 3,
     "solution": false,
     "task": false
    }
   },
   "source": [
    "2. Écrire et documenter une fonction `indice` qui prend en argument une liste éventuellement vide d'entiers (sans avoir à le vérifier) et une valeur et renvoie l'indice de première occurence de cette valeur si elle appartient à la liste, -1 sinon. (Sans utiliser la méthode `index` de la classe `list` en `python`.)"
   ]
  },
  {
   "cell_type": "code",
   "execution_count": 20,
   "id": "250a6b46",
   "metadata": {
    "nbgrader": {
     "grade": false,
     "grade_id": "cell-743c35c6d7414725",
     "locked": false,
     "schema_version": 3,
     "solution": true,
     "task": false
    }
   },
   "outputs": [],
   "source": [
   ]
  },
  {
   "cell_type": "code",
   "execution_count": 21,
   "id": "30337bc1",
   "metadata": {
    "nbgrader": {
     "grade": true,
     "grade_id": "cell-34dc38b6843b20bb",
     "locked": true,
     "points": 1,
     "schema_version": 3,
     "solution": false,
     "task": false
    }
   },
   "outputs": [],
   "source": [
    "import random\n",
    "\n",
    "liste1 = random.sample(range(10, 30), random.randint(5,15))\n",
    "n = random.randint(0, len(liste1)-1)\n",
    "assert(indice(liste1, liste1[n]) == n)\n",
    "assert(indice(liste1, 35) == -1)\n",
    "\n",
    "assert(indice(list(range(10)), 5) == 5)"
   ]
  },
  {
   "cell_type": "markdown",
   "id": "350bb8fa",
   "metadata": {
    "nbgrader": {
     "grade": false,
     "grade_id": "cell-7e2844dcb3d052d9",
     "locked": true,
     "schema_version": 3,
     "solution": false,
     "task": false
    }
   },
   "source": [
    "2. Écrire une fonction `croissante` qui prend en argument une liste de nombres éventuellement vide (sans avoir à le vérifier) et teste si les nombres apparaissent dans l'ordre croissant au sens large. (Il suffit de regarder les couples de nombres de gauche à droite pour le savoir.)"
   ]
  },
  {
   "cell_type": "code",
   "execution_count": 22,
   "id": "e36f5056",
   "metadata": {
    "nbgrader": {
     "grade": false,
     "grade_id": "cell-f0b20e3120ddd9aa",
     "locked": false,
     "schema_version": 3,
     "solution": true,
     "task": false
    }
   },
   "outputs": [],
   "source": [
   ]
  },
  {
   "cell_type": "code",
   "execution_count": null,
   "id": "962d9238",
   "metadata": {
    "nbgrader": {
     "grade": true,
     "grade_id": "cell-bb52c58d4a7601da",
     "locked": true,
     "points": 1,
     "schema_version": 3,
     "solution": false,
     "task": false
    }
   },
   "outputs": [],
   "source": [
    "assert(croissante([]))\n",
    "assert(croissante([2]))\n",
    "assert(croissante([1,2,3,4]))\n",
    "assert(croissante([-5,-4,-3,-2,-1,0]))\n",
    "assert(not croissante([2,1]))\n",
    "assert(not croissante([1,2,3,4,5,0]))"
   ]
  },
  {
   "cell_type": "markdown",
   "id": "6122a3b8",
   "metadata": {
    "nbgrader": {
     "grade": false,
     "grade_id": "cell-56736bac72d74537",
     "locked": true,
     "schema_version": 3,
     "solution": false,
     "task": false
    }
   },
   "source": [
    "3.[difficile] Écrire et documenter une fonction `max2` qui prend en argument une liste d'entiers supposée non vide (sans avoir à le vérifier) et renvoie son deuxième maximum s'il existe, ou son maximum sinon."
   ]
  },
  {
   "cell_type": "code",
   "execution_count": 2,
   "id": "d6401080",
   "metadata": {
    "nbgrader": {
     "grade": false,
     "grade_id": "cell-fa84f52f10e698f0",
     "locked": false,
     "schema_version": 3,
     "solution": true,
     "task": false
    }
   },
   "outputs": [],
   "source": [
   ]
  },
  {
   "cell_type": "code",
   "execution_count": 4,
   "id": "2e19e7f6",
   "metadata": {
    "nbgrader": {
     "grade": false,
     "grade_id": "cell-d699da297f1bf93d",
     "locked": true,
     "schema_version": 3,
     "solution": false,
     "task": false
    }
   },
   "outputs": [],
   "source": [
    "assert(max2([1,1,1,1]) == 1)\n",
    "assert(max2([1,2,1,1]) == 1)\n",
    "assert(max2([2,2,2,2,2,1]) == 1)"
   ]
  },
  {
   "cell_type": "markdown",
   "id": "cd28e64a",
   "metadata": {
    "nbgrader": {
     "grade": false,
     "grade_id": "cell-104ed3d1f33daffc",
     "locked": true,
     "schema_version": 3,
     "solution": false,
     "task": false
    }
   },
   "source": [
    "<div class=\"alert alert-success\">\n",
    "    <h2>Les points à retenir</h2>\n",
    "    \n",
    "* Une liste `python` s'écrit entre crochets `[ ]`.\n",
    "* Les indices d'une liste commencent à 0.\n",
    "* L'élément de la liste `L` situé dans la case `i` s'écrit `L[i]`.\n",
    "* `for` permet de boucler sur les élément\n",
    "    \n",
    "</div>"
   ]
  }
 ],
 "metadata": {
  "celltoolbar": "Create Assignment",
  "kernelspec": {
   "display_name": "Python 3 (ipykernel)",
   "language": "python",
   "name": "python3"
  },
  "language_info": {
   "codemirror_mode": {
    "name": "ipython",
    "version": 3
   },
   "file_extension": ".py",
   "mimetype": "text/x-python",
   "name": "python",
   "nbconvert_exporter": "python",
   "pygments_lexer": "ipython3",
   "version": "3.7.3"
  }
 },
 "nbformat": 4,
 "nbformat_minor": 5
}
