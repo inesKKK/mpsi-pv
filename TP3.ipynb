{
 "cells": [
  {
   "cell_type": "markdown",
   "id": "8be6d3b0",
   "metadata": {},
   "source": [
    "# ITC - MPSI\n",
    "---"
   ]
  },
  {
   "cell_type": "markdown",
   "id": "a8c65b30",
   "metadata": {
    "deletable": false,
    "editable": false,
    "nbgrader": {
     "cell_type": "markdown",
     "checksum": "b89f7b4eb6d9f706b3fc398ccdd709fe",
     "grade": false,
     "grade_id": "cell-4b7403adc80a5db7",
     "locked": true,
     "schema_version": 3,
     "solution": false,
     "task": false
    }
   },
   "source": [
    "# TP3 : manipulation de listes\n",
    "\n",
    "Dans ce TP, nous allons étudier quelques algorithmes élémentaires concernant les listes d'éléments. Ce sera également l'occasion de rappeler quelques instructions de `python` et de voir ou revoir les listes.\n",
    "\n",
    "## Listes en `python`\n",
    "\n",
    "En `python`, une _liste_ est une suite finie et ordonnée d'éléments. Ces éléments n'ont pas besoin d'être du même type :\n",
    "```python\n",
    "liste_entiers = [1, 4, 8, -2]\n",
    "pi = 3.14\n",
    "liste_quelconque = [-17, 'toto', 3.4, pi, True]\n",
    "```\n",
    "\n",
    "En fait une liste peut même posséder un élément qui est lui-même une liste :\n",
    "```python\n",
    "liste_compliquee = ['titi', ['a', 3, 1.2], 9.5]\n",
    "```\n",
    "mais pour ce TP nous éviterons de les utiliser.\n",
    "\n",
    "En `python`, les éléments d'une liste sont repérés par leurs _indices_ dans la liste, et ces indices commencent **toujours** par 0. On utilise des crochets pour accéder à un élément à partir de son indice. Par exemple :"
   ]
  },
  {
   "cell_type": "code",
   "execution_count": null,
   "id": "3df361cd",
   "metadata": {
    "deletable": false,
    "editable": false,
    "nbgrader": {
     "cell_type": "code",
     "checksum": "2dd0d749db0da1e539c7c35b7069bdc8",
     "grade": false,
     "grade_id": "cell-f47388750b5bc97d",
     "locked": true,
     "schema_version": 3,
     "solution": false,
     "task": false
    }
   },
   "outputs": [],
   "source": [
    "L = ['a', 'b', 'c', 'd']\n",
    "print(L[1])"
   ]
  },
  {
   "cell_type": "code",
   "execution_count": null,
   "id": "a066a4ae",
   "metadata": {
    "deletable": false,
    "editable": false,
    "nbgrader": {
     "cell_type": "code",
     "checksum": "c461d49181b1777519b8d0fcb5f025d1",
     "grade": false,
     "grade_id": "cell-779927bce27b8479",
     "locked": true,
     "schema_version": 3,
     "solution": false,
     "task": false
    }
   },
   "outputs": [],
   "source": [
    "L[0] = 'z'\n",
    "print(L)"
   ]
  },
  {
   "cell_type": "markdown",
   "id": "1a46008c",
   "metadata": {
    "deletable": false,
    "editable": false,
    "nbgrader": {
     "cell_type": "markdown",
     "checksum": "bc415ae5c30df789a61eb72d7fceeeca",
     "grade": false,
     "grade_id": "cell-35fdeed16da15716",
     "locked": true,
     "schema_version": 3,
     "solution": false,
     "task": false
    }
   },
   "source": [
    "On peut connaître la longueur d'une liste grâce à la fonction `len`:"
   ]
  },
  {
   "cell_type": "code",
   "execution_count": null,
   "id": "0b084c45",
   "metadata": {
    "deletable": false,
    "editable": false,
    "nbgrader": {
     "cell_type": "code",
     "checksum": "6a2af5cb92e06d2f7cb644971eb312fa",
     "grade": false,
     "grade_id": "cell-afcc23191a272cb0",
     "locked": true,
     "schema_version": 3,
     "solution": false,
     "task": false
    }
   },
   "outputs": [],
   "source": [
    "len(L)"
   ]
  },
  {
   "cell_type": "markdown",
   "id": "4620cb30",
   "metadata": {
    "deletable": false,
    "editable": false,
    "nbgrader": {
     "cell_type": "markdown",
     "checksum": "e6e45e64e6daa9be1da43165533cd789",
     "grade": false,
     "grade_id": "cell-232420dfcdc16957",
     "locked": true,
     "schema_version": 3,
     "solution": false,
     "task": false
    }
   },
   "source": [
    "### Exo 1 : accéder aux éléments\n",
    "\n",
    "1. Écrire et documenter une fonction `avant_dernier` qui prend en argument une liste supposée contenir au moins deux éléments (sans avoir à le vérifier) et renvoie son avant-dernier élément."
   ]
  },
  {
   "cell_type": "code",
   "execution_count": null,
   "id": "425d2dcc",
   "metadata": {
    "deletable": false,
    "nbgrader": {
     "cell_type": "code",
     "checksum": "2aced73835a38258e3fcc71a4af84b7a",
     "grade": false,
     "grade_id": "cell-fe0a24d825375171",
     "locked": false,
     "schema_version": 3,
     "solution": true,
     "task": false
    }
   },
   "outputs": [],
   "source": [
    "# Écrire votre code ici\n",
    "raise NotImplementedError # effacer cette ligne une fois le code écrit"
   ]
  },
  {
   "cell_type": "code",
   "execution_count": null,
   "id": "a1a55748",
   "metadata": {
    "deletable": false,
    "editable": false,
    "nbgrader": {
     "cell_type": "code",
     "checksum": "9f6f08b33cc824427cb8c5f22ec0e71b",
     "grade": true,
     "grade_id": "cell-1d0243295cabe404",
     "locked": true,
     "points": 1,
     "schema_version": 3,
     "solution": false,
     "task": false
    }
   },
   "outputs": [],
   "source": [
    "assert(avant_dernier([3, 4]) == 3)\n",
    "assert(avant_dernier([9, -3, 5, 17]) == 5)\n",
    "assert(avant_dernier([-1, -1, -1, -1, -1]) == -1)"
   ]
  },
  {
   "cell_type": "markdown",
   "id": "25ac07fd",
   "metadata": {
    "deletable": false,
    "editable": false,
    "nbgrader": {
     "cell_type": "markdown",
     "checksum": "1dacac7ce39cf896a27416e956c2f1c2",
     "grade": false,
     "grade_id": "cell-d897ffc407aecbe9",
     "locked": true,
     "schema_version": 3,
     "solution": false,
     "task": false
    }
   },
   "source": [
    "2. Écrire et documenter une fonction `ddebut` qui prend en argument une liste supposée de longueur au moins 2 et supposée contenir des entiers (sans avoir à le vérifier) et teste si ses deux premiers éléments sont égaux."
   ]
  },
  {
   "cell_type": "code",
   "execution_count": null,
   "id": "0644aca4",
   "metadata": {
    "deletable": false,
    "nbgrader": {
     "cell_type": "code",
     "checksum": "d9db4c864ac7a177547ceaffffa0369c",
     "grade": false,
     "grade_id": "cell-964f522edd16cb33",
     "locked": false,
     "schema_version": 3,
     "solution": true,
     "task": false
    }
   },
   "outputs": [],
   "source": [
    "# Écrire votre code ici\n",
    "raise NotImplementedError # effacer cette ligne une fois le code écrit"
   ]
  },
  {
   "cell_type": "code",
   "execution_count": null,
   "id": "74ad96be",
   "metadata": {
    "deletable": false,
    "editable": false,
    "nbgrader": {
     "cell_type": "code",
     "checksum": "9681f37b955b022115815082727043da",
     "grade": true,
     "grade_id": "cell-a713098df7f70a44",
     "locked": true,
     "points": 1,
     "schema_version": 3,
     "solution": false,
     "task": false
    }
   },
   "outputs": [],
   "source": [
    "assert(ddebut([4,4,2,-4]))\n",
    "assert(not ddebut([5,2,5]))"
   ]
  },
  {
   "cell_type": "markdown",
   "id": "7bcab860",
   "metadata": {
    "deletable": false,
    "editable": false,
    "nbgrader": {
     "cell_type": "markdown",
     "checksum": "5782ab08edcaef9a6cbbb864954457d0",
     "grade": false,
     "grade_id": "cell-da5d0686f541d5bc",
     "locked": true,
     "schema_version": 3,
     "solution": false,
     "task": false
    }
   },
   "source": [
    "## Boucles inconditionnelles\n",
    "\n",
    "On a vu dans le TP précédent l'instruction `while` qui permet d'exécuter un bloc d'instructions en boucle tant qu'une certaine condition est vraie. Il existe en `python` une instruction qui permet d'exécuter un bloc d'instructions pour chaque élément d'une liste : `for`.\n",
    "\n",
    "```python\n",
    "# liste est une liste\n",
    "for x in liste:\n",
    "    #code\n",
    "```\n",
    "Le bloc est alors réexécuté pour chaque élément de la liste.\n",
    "\n",
    "Exemple :"
   ]
  },
  {
   "cell_type": "code",
   "execution_count": null,
   "id": "7ae77ff7",
   "metadata": {
    "deletable": false,
    "editable": false,
    "nbgrader": {
     "cell_type": "code",
     "checksum": "fc5e3a672bdf2e6fad2fc5795d3889b7",
     "grade": false,
     "grade_id": "cell-14add1bcbe50450f",
     "locked": true,
     "schema_version": 3,
     "solution": false,
     "task": false
    }
   },
   "outputs": [],
   "source": [
    "L = [34, -15, 6, 27]\n",
    "for x in L :\n",
    "    if x%2 == 0 :\n",
    "        print(str(x) + \" pair\")  # str(i) permet d'obtenir une chaînes de caractères contenant x\n",
    "    else:\n",
    "        print(str(x) + \" impair\")"
   ]
  },
  {
   "cell_type": "markdown",
   "id": "f6a27ce3",
   "metadata": {
    "deletable": false,
    "editable": false,
    "nbgrader": {
     "cell_type": "markdown",
     "checksum": "bb422381018236b90d0f94d20eae7841",
     "grade": false,
     "grade_id": "cell-8529dc32f50fe63c",
     "locked": true,
     "schema_version": 3,
     "solution": false,
     "task": false
    }
   },
   "source": [
    "### Exo 2 : parcourir les éléments d'une liste\n",
    "\n",
    "1. Écrire et documenter une fonction `somme` qui prend en argument une liste de nombres éventuellement vide (sans avoir à le vérifier) et renvoie sa somme (sans utiliser la fonction `sum` de `python`)."
   ]
  },
  {
   "cell_type": "code",
   "execution_count": null,
   "id": "d37be167",
   "metadata": {
    "deletable": false,
    "nbgrader": {
     "cell_type": "code",
     "checksum": "e8aa924d4343554296c7102f5f3391bf",
     "grade": false,
     "grade_id": "cell-3f0bc28428fd40dc",
     "locked": false,
     "schema_version": 3,
     "solution": true,
     "task": false
    }
   },
   "outputs": [],
   "source": [
    "# Écrire votre code ici\n",
    "raise NotImplementedError # effacer cette ligne une fois le code écrit"
   ]
  },
  {
   "cell_type": "code",
   "execution_count": null,
   "id": "a0d68602",
   "metadata": {
    "deletable": false,
    "editable": false,
    "nbgrader": {
     "cell_type": "code",
     "checksum": "1f6998de6c9297c83d8ecb4bc29d13c4",
     "grade": true,
     "grade_id": "cell-a09100ba64c5218e",
     "locked": true,
     "points": 1,
     "schema_version": 3,
     "solution": false,
     "task": false
    }
   },
   "outputs": [],
   "source": [
    "import random\n",
    "\n",
    "assert(somme([]) == 0)\n",
    "\n",
    "liste1 = random.sample(range(10, 30), random.randint(5,15)) # liste aléatoire\n",
    "assert(somme(liste1) == sum(liste1))"
   ]
  },
  {
   "cell_type": "markdown",
   "id": "a3e2af01",
   "metadata": {
    "deletable": false,
    "editable": false,
    "nbgrader": {
     "cell_type": "markdown",
     "checksum": "b40f2489ad53001e11c74353cca47615",
     "grade": false,
     "grade_id": "cell-6f441297e8387734",
     "locked": true,
     "schema_version": 3,
     "solution": false,
     "task": false
    }
   },
   "source": [
    "2. Écrire et documenter une fonction `que_des_pairs` qui prend en argument une liste d'entiers éventuellement vide (sans avoir à le vérifier) et teste si elle ne contient que des entiers pairs (rappel : le reste de la dixision euclidienne de `x` par 2 s'écrit `x%2` en `python`)."
   ]
  },
  {
   "cell_type": "code",
   "execution_count": null,
   "id": "f3134f2c",
   "metadata": {
    "deletable": false,
    "nbgrader": {
     "cell_type": "code",
     "checksum": "c430ccfeac920a60c02087f6b9ebd305",
     "grade": false,
     "grade_id": "cell-11c98315c5f4aa46",
     "locked": false,
     "schema_version": 3,
     "solution": true,
     "task": false
    }
   },
   "outputs": [],
   "source": [
    "# Écrire votre code ici\n",
    "raise NotImplementedError # effacer cette ligne une fois le code écrit"
   ]
  },
  {
   "cell_type": "code",
   "execution_count": null,
   "id": "184014d6",
   "metadata": {
    "deletable": false,
    "editable": false,
    "nbgrader": {
     "cell_type": "code",
     "checksum": "95a24e424f6f2a661b7fb7f2cac3b9bf",
     "grade": true,
     "grade_id": "cell-0379d195f63b4732",
     "locked": true,
     "points": 1,
     "schema_version": 3,
     "solution": false,
     "task": false
    }
   },
   "outputs": [],
   "source": [
    "assert(que_des_pairs([]))\n",
    "assert(que_des_pairs([ 2*i-20 for i in random.sample(range(10, 30), random.randint(5,15))]))\n",
    "assert(not que_des_pairs([34, 22, 17, -12]))"
   ]
  },
  {
   "cell_type": "markdown",
   "id": "9a855799",
   "metadata": {
    "deletable": false,
    "editable": false,
    "nbgrader": {
     "cell_type": "markdown",
     "checksum": "54065427091d94abe31338c1fd8401d8",
     "grade": false,
     "grade_id": "cell-af513394e681d533",
     "locked": true,
     "schema_version": 3,
     "solution": false,
     "task": false
    }
   },
   "source": [
    "3. Écrire et documenter une fonction `max_liste` qui prend en argument une liste de nombres non vide (sans avoir à le vérifier) et renvoie son maximum (sans utiliser la fonction `max` de `python`)."
   ]
  },
  {
   "cell_type": "code",
   "execution_count": null,
   "id": "0a2e3d88",
   "metadata": {
    "deletable": false,
    "nbgrader": {
     "cell_type": "code",
     "checksum": "92577403220d2021d73520d9dd97ca48",
     "grade": false,
     "grade_id": "cell-6aaa6daf2938418a",
     "locked": false,
     "schema_version": 3,
     "solution": true,
     "task": false
    }
   },
   "outputs": [],
   "source": [
    "# Écrire votre code ici\n",
    "raise NotImplementedError # effacer cette ligne une fois le code écrit"
   ]
  },
  {
   "cell_type": "code",
   "execution_count": null,
   "id": "b537c244",
   "metadata": {
    "deletable": false,
    "editable": false,
    "nbgrader": {
     "cell_type": "code",
     "checksum": "68c4d71736b23fbd55b4c33e1b1eaa98",
     "grade": true,
     "grade_id": "cell-cb5bfc8c177c9828",
     "locked": true,
     "points": 1,
     "schema_version": 3,
     "solution": false,
     "task": false
    }
   },
   "outputs": [],
   "source": [
    "import random\n",
    "\n",
    "liste1 = random.sample(range(10, 30), random.randint(5,15))\n",
    "assert(max_liste(liste1) == max(liste1))\n",
    "\n",
    "liste2 = [ -i for i in random.sample(range(10, 30), random.randint(5,15)) ]\n",
    "assert(max_liste(liste2) == max(liste2))"
   ]
  },
  {
   "cell_type": "markdown",
   "id": "35a11c63",
   "metadata": {
    "deletable": false,
    "editable": false,
    "nbgrader": {
     "cell_type": "markdown",
     "checksum": "a4fbc17593d169c7e477d3696b955b5e",
     "grade": false,
     "grade_id": "cell-2792016cb5e8cfc0",
     "locked": true,
     "schema_version": 3,
     "solution": false,
     "task": false
    }
   },
   "source": [
    "4. Écrire et documenter une fonction `tous_egaux` qui prend en argument une liste d'entiers non vide (sans avoir à le vérifier) et teste si tous les éléments de la liste sont égaux."
   ]
  },
  {
   "cell_type": "code",
   "execution_count": null,
   "id": "38613372",
   "metadata": {
    "deletable": false,
    "nbgrader": {
     "cell_type": "code",
     "checksum": "63b4caec285cae004c4434c2042cfd46",
     "grade": false,
     "grade_id": "cell-534e947566c63765",
     "locked": false,
     "schema_version": 3,
     "solution": true,
     "task": false
    }
   },
   "outputs": [],
   "source": [
    "# Écrire votre code ici\n",
    "raise NotImplementedError # effacer cette ligne une fois le code écrit"
   ]
  },
  {
   "cell_type": "code",
   "execution_count": null,
   "id": "8cec7092",
   "metadata": {
    "deletable": false,
    "editable": false,
    "nbgrader": {
     "cell_type": "code",
     "checksum": "d87fc97a670d8e6ebb4f2c124ff0f4f8",
     "grade": true,
     "grade_id": "cell-13e6c6ac5bc66850",
     "locked": true,
     "points": 1,
     "schema_version": 3,
     "solution": false,
     "task": false
    }
   },
   "outputs": [],
   "source": [
    "import random\n",
    "\n",
    "liste1 = random.sample(range(10, 30), random.randint(5,15))\n",
    "assert(not tous_egaux(liste1))\n",
    "\n",
    "assert(not tous_egaux([1,1,1,1,4]))\n",
    "assert(not tous_egaux([4,1,1,1,1]))\n",
    "assert(not tous_egaux([1,4,1,1,1]))\n",
    "assert(tous_egaux([1,1,1,1]))\n",
    "assert(tous_egaux([1]))"
   ]
  },
  {
   "cell_type": "markdown",
   "id": "389ff7e1",
   "metadata": {
    "deletable": false,
    "editable": false,
    "nbgrader": {
     "cell_type": "markdown",
     "checksum": "e8184b83439b899a0d7343337ea6bc64",
     "grade": false,
     "grade_id": "cell-88081cc03de1ea10",
     "locked": true,
     "schema_version": 3,
     "solution": false,
     "task": false
    }
   },
   "source": [
    "## Boucler sur des entiers\n",
    "\n",
    "On peut avoir besoin de parcourir le début des entiers. On peut bien sûr écrire\n",
    "\n",
    "```python\n",
    "for i in [0, 1, 2, 3, 4, 5] :\n",
    "    # code\n",
    "```\n",
    "mais si on veut parcourir les 500 premiers entiers, ce serait fastidieux et si on veut parcourir les `n` premiers entiers où `n` est un entier dont on ne connaît pas la valeur au moment où on écrit le programme, c'est carrément impossible.\n",
    "\n",
    "Pour cela, on utilise une fonction `range` qui renvoie un _itérateur_ (notion que vous n'avez pas besoin de comprendre pour utiliser cette fonction), et qui permet de faire une boucle sur des entiers de la manière suivante :"
   ]
  },
  {
   "cell_type": "code",
   "execution_count": null,
   "id": "db8ea31b",
   "metadata": {
    "deletable": false,
    "editable": false,
    "nbgrader": {
     "cell_type": "code",
     "checksum": "bbee48389c68ebdf10b1ba41064ac0a3",
     "grade": false,
     "grade_id": "cell-88081cc03de1ea11",
     "locked": true,
     "schema_version": 3,
     "solution": false,
     "task": false
    }
   },
   "outputs": [],
   "source": [
    "for i in range(50):\n",
    "    print(i)"
   ]
  },
  {
   "cell_type": "markdown",
   "id": "dc4f1110",
   "metadata": {
    "deletable": false,
    "editable": false,
    "nbgrader": {
     "cell_type": "markdown",
     "checksum": "2ce02d17719abbc26279d2cfc7e2112e",
     "grade": false,
     "grade_id": "cell-c558eac763455e82",
     "locked": true,
     "schema_version": 3,
     "solution": false,
     "task": false
    }
   },
   "source": [
    "Notez bien que dans la boucle précédente, la variable `i` prend successivement toutes les valeurs de 0 à 49."
   ]
  },
  {
   "cell_type": "markdown",
   "id": "0541417a",
   "metadata": {
    "deletable": false,
    "editable": false,
    "nbgrader": {
     "cell_type": "markdown",
     "checksum": "2847092d74c18c5edb880d01ce34ede4",
     "grade": false,
     "grade_id": "cell-56736bac72d74536",
     "locked": true,
     "schema_version": 3,
     "solution": false,
     "task": false
    }
   },
   "source": [
    "### Exo 3 : parcourir les indices d'une liste\n",
    "\n",
    "1. Écrire et documenter une fonction `indice_max` qui prend en argument une liste de nombres supposée non vide (sans avoir à le vérifier) et renvoie l'indice de la première occurence du maximum de la liste. "
   ]
  },
  {
   "cell_type": "code",
   "execution_count": null,
   "id": "dde2e695",
   "metadata": {
    "deletable": false,
    "nbgrader": {
     "cell_type": "code",
     "checksum": "789c93b2f4d5fc4ac31a0886c4290a05",
     "grade": false,
     "grade_id": "cell-677c1e889db4ef73",
     "locked": false,
     "schema_version": 3,
     "solution": true,
     "task": false
    }
   },
   "outputs": [],
   "source": [
    "# Écrire votre code ici\n",
    "raise NotImplementedError # effacer cette ligne une fois le code écrit"
   ]
  },
  {
   "cell_type": "code",
   "execution_count": null,
   "id": "6491492a",
   "metadata": {
    "deletable": false,
    "editable": false,
    "nbgrader": {
     "cell_type": "code",
     "checksum": "7d5ee8dbaea5d5f0a93476f124d5cbae",
     "grade": true,
     "grade_id": "cell-9959d8e6732af605",
     "locked": true,
     "points": 1,
     "schema_version": 3,
     "solution": false,
     "task": false
    }
   },
   "outputs": [],
   "source": [
    "assert(indice_max([0]) == 0)\n",
    "assert(indice_max([-5, -7, -5, -10]) == 0)\n",
    "assert(indice_max([4, 10, 3, 9, 10, 5]) == 1)\n",
    "assert(indice_max(list(range(39))) == 38)"
   ]
  },
  {
   "cell_type": "markdown",
   "id": "767316de",
   "metadata": {
    "deletable": false,
    "editable": false,
    "nbgrader": {
     "cell_type": "markdown",
     "checksum": "34fd68c4fb03f0ebfb539994126c421b",
     "grade": false,
     "grade_id": "cell-409a10d6ee21ab63",
     "locked": true,
     "schema_version": 3,
     "solution": false,
     "task": false
    }
   },
   "source": [
    "2. Écrire et documenter une fonction `indice` qui prend en argument une liste éventuellement vide d'entiers (sans avoir à le vérifier) et une valeur et renvoie l'indice de première occurence de cette valeur si elle appartient à la liste, -1 sinon. (Sans utiliser la méthode `index` de la classe `list` en `python`.)"
   ]
  },
  {
   "cell_type": "code",
   "execution_count": null,
   "id": "250a6b46",
   "metadata": {
    "deletable": false,
    "nbgrader": {
     "cell_type": "code",
     "checksum": "7fed4ddc88349085e661b6df4bb4151b",
     "grade": false,
     "grade_id": "cell-743c35c6d7414725",
     "locked": false,
     "schema_version": 3,
     "solution": true,
     "task": false
    }
   },
   "outputs": [],
   "source": [
    "# Écrire votre code ici\n",
    "raise NotImplementedError # effacer cette ligne une fois le code écrit"
   ]
  },
  {
   "cell_type": "code",
   "execution_count": null,
   "id": "30337bc1",
   "metadata": {
    "deletable": false,
    "editable": false,
    "nbgrader": {
     "cell_type": "code",
     "checksum": "d7e2efa02e181abeb049c7ac6c5cf726",
     "grade": true,
     "grade_id": "cell-34dc38b6843b20bb",
     "locked": true,
     "points": 1,
     "schema_version": 3,
     "solution": false,
     "task": false
    }
   },
   "outputs": [],
   "source": [
    "import random\n",
    "\n",
    "liste1 = random.sample(range(10, 30), random.randint(5,15))\n",
    "n = random.randint(0, len(liste1)-1)\n",
    "assert(indice(liste1, liste1[n]) == n)\n",
    "assert(indice(liste1, 35) == -1)\n",
    "\n",
    "assert(indice(list(range(10)), 5) == 5)"
   ]
  },
  {
   "cell_type": "markdown",
   "id": "350bb8fa",
   "metadata": {
    "deletable": false,
    "editable": false,
    "nbgrader": {
     "cell_type": "markdown",
     "checksum": "76998e5651dc284a77afb9fe13c1a00c",
     "grade": false,
     "grade_id": "cell-7e2844dcb3d052d9",
     "locked": true,
     "schema_version": 3,
     "solution": false,
     "task": false
    }
   },
   "source": [
    "2. Écrire une fonction `croissante` qui prend en argument une liste de nombres éventuellement vide (sans avoir à le vérifier) et teste si les nombres apparaissent dans l'ordre croissant au sens large. (Il suffit de regarder les couples de nombres de gauche à droite pour le savoir.)"
   ]
  },
  {
   "cell_type": "code",
   "execution_count": null,
   "id": "e36f5056",
   "metadata": {
    "deletable": false,
    "nbgrader": {
     "cell_type": "code",
     "checksum": "92de29bb71859b742a6f408075cfc8c2",
     "grade": false,
     "grade_id": "cell-f0b20e3120ddd9aa",
     "locked": false,
     "schema_version": 3,
     "solution": true,
     "task": false
    }
   },
   "outputs": [],
   "source": [
    "# Écrire votre code ici\n",
    "raise NotImplementedError # effacer cette ligne une fois le code écrit"
   ]
  },
  {
   "cell_type": "code",
   "execution_count": null,
   "id": "31ceda70",
   "metadata": {
    "deletable": false,
    "editable": false,
    "nbgrader": {
     "cell_type": "code",
     "checksum": "cc93469a7bed76560cb545d8c9154eaa",
     "grade": true,
     "grade_id": "cell-bb52c58d4a7601da",
     "locked": true,
     "points": 1,
     "schema_version": 3,
     "solution": false,
     "task": false
    }
   },
   "outputs": [],
   "source": [
    "assert(croissante([]))\n",
    "assert(croissante([2]))\n",
    "assert(croissante([1,2,3,4]))\n",
    "assert(croissante([-5,-4,-3,-2,-1,0]))\n",
    "assert(not croissante([2,1]))\n",
    "assert(not croissante([1,2,3,4,5,0]))"
   ]
  },
  {
   "cell_type": "markdown",
   "id": "6122a3b8",
   "metadata": {
    "deletable": false,
    "editable": false,
    "nbgrader": {
     "cell_type": "markdown",
     "checksum": "fc224c31c389290481415d23088b8c05",
     "grade": false,
     "grade_id": "cell-56736bac72d74537",
     "locked": true,
     "schema_version": 3,
     "solution": false,
     "task": false
    }
   },
   "source": [
    "3.[difficile] Écrire et documenter une fonction `max2` qui prend en argument une liste d'entiers supposée non vide (sans avoir à le vérifier) et renvoie son deuxième maximum s'il existe, ou son maximum sinon."
   ]
  },
  {
   "cell_type": "code",
   "execution_count": null,
   "id": "d6401080",
   "metadata": {
    "deletable": false,
    "nbgrader": {
     "cell_type": "code",
     "checksum": "71f106f2f693013bd21294c900c952fc",
     "grade": false,
     "grade_id": "cell-fa84f52f10e698f0",
     "locked": false,
     "schema_version": 3,
     "solution": true,
     "task": false
    }
   },
   "outputs": [],
   "source": [
    "# Écrire votre code ici\n",
    "raise NotImplementedError # effacer cette ligne une fois le code écrit"
   ]
  },
  {
   "cell_type": "code",
   "execution_count": null,
   "id": "2e19e7f6",
   "metadata": {
    "deletable": false,
    "editable": false,
    "nbgrader": {
     "cell_type": "code",
     "checksum": "68a59773abb2b065dc7d902b7e7466dc",
     "grade": false,
     "grade_id": "cell-d699da297f1bf93d",
     "locked": true,
     "schema_version": 3,
     "solution": false,
     "task": false
    }
   },
   "outputs": [],
   "source": [
    "assert(max2([1,1,1,1]) == 1)\n",
    "assert(max2([1,2,1,1]) == 1)\n",
    "assert(max2([2,2,2,2,2,1]) == 1)"
   ]
  },
  {
   "cell_type": "markdown",
   "id": "cd28e64a",
   "metadata": {
    "deletable": false,
    "editable": false,
    "nbgrader": {
     "cell_type": "markdown",
     "checksum": "21623f4804c1efb18080f937c85e1ca0",
     "grade": false,
     "grade_id": "cell-104ed3d1f33daffc",
     "locked": true,
     "schema_version": 3,
     "solution": false,
     "task": false
    }
   },
   "source": [
    "<div class=\"alert alert-success\">\n",
    "    <h2>Les points à retenir</h2>\n",
    "    \n",
    "* Une liste `python` s'écrit entre crochets `[ ]`.\n",
    "* Les indices d'une liste commencent à 0.\n",
    "* L'élément de la liste `L` situé dans la case `i` s'écrit `L[i]`.\n",
    "* La longueur de la liste `L` s'obtient par `len(L)`.\n",
    "* `for` permet de boucler sur les éléments d'une liste.\n",
    "* Pour boucler sur les entiers de `0` à `n-1`, on écrit `for i in range(n):`\n",
    "    \n",
    "</div>"
   ]
  },
  {
   "cell_type": "code",
   "execution_count": null,
   "id": "32490114",
   "metadata": {},
   "outputs": [],
   "source": []
  }
 ],
 "metadata": {
  "kernelspec": {
   "display_name": "Python 3 (ipykernel)",
   "language": "python",
   "name": "python3"
  },
  "language_info": {
   "codemirror_mode": {
    "name": "ipython",
    "version": 3
   },
   "file_extension": ".py",
   "mimetype": "text/x-python",
   "name": "python",
   "nbconvert_exporter": "python",
   "pygments_lexer": "ipython3",
   "version": "3.7.3"
  }
 },
 "nbformat": 4,
 "nbformat_minor": 5
}
