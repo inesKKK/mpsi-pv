{
 "cells": [
  {
   "cell_type": "markdown",
   "metadata": {},
   "source": [
    "# ITC - MPSI\n",
    "---"
   ]
  },
  {
   "cell_type": "markdown",
   "metadata": {
    "deletable": false,
    "editable": false,
    "nbgrader": {
     "cell_type": "markdown",
     "checksum": "b0e305afcbcf20d4cba7be043fd4f8d5",
     "grade": false,
     "grade_id": "cell-83608a022f2b2439",
     "locked": true,
     "schema_version": 3,
     "solution": false,
     "task": false
    }
   },
   "source": [
    "# TP0 : apprendre à utiliser l'environnement de travail\n",
    "\n",
    "Le but de cet énoncé est de faire en sorte que vous puissiez utiliser l'environnement de travail des TP de cette année.\n",
    "\n",
    "Chaque semaine sera organisée de la manière suivante :\n",
    "* \\[au second semestre uniquement\\] cours le mercredi matin\n",
    "* TP le jeudi après-midi, à rendre _via le site_ à la fin du TP\n",
    "* TPbis en devoir à la maison mis sur le site le vendredi soir au plus tard (lendemain du TP) et à rendre pour le mardi suivant au plus tard\n",
    "\n",
    "Les corrections seront disponibles sur le site de TP.\n",
    "\n",
    "Vous pouvez travailler sur n'importe quel ordinateur qui possède une connection internet et un navigateur web, par exemple au CDI. Pensez à sauvegarder en local au cas où.\n",
    "\n",
    "Quand le traitement associé à une cellule est terminé (vous avez fini de la lire, vous avez fini d'écrire le code que vous aviez à écrire, vous voulez simplement exécuter le code sans le modifier), il faut utiliser la combinaison de touche `Shift-Enter` (ou `Maj-Entrée`): cela exécute ce qui doit être éventuellement exécuté, et passe à la cellule suivante."
   ]
  },
  {
   "cell_type": "markdown",
   "metadata": {
    "deletable": false,
    "editable": false,
    "nbgrader": {
     "cell_type": "markdown",
     "checksum": "c3ca41fcbf01cf4832d447cb080f5bae",
     "grade": false,
     "grade_id": "cell-fed51a05942ddbae",
     "locked": true,
     "schema_version": 3,
     "solution": false,
     "task": false
    }
   },
   "source": [
    "---\n",
    "## Quelques renseignements\n",
    "Pour commencer, vous allez me donner quelques renseignements vous concernant, sous forme de chaînes de caractères `python`. En `python`, une chaîne de caractères peut prendre plusieurs formes :\n",
    "* si elle est écrite sur une seule ligne, elle est encadrée de caractères `'` ou de caratères `\"`;\n",
    "* si elle est écrite sur plusieurs lignes (avec des retours à la ligne), elle est encadrée de caractères `'''` ou de caractères `\"\"\"`.\n",
    "\n",
    "Un exemple :\n",
    "\n",
    "```python\n",
    "\"Ceci est une chaîne sur une seule ligne\"\n",
    "'''Tandis que ceci est une chaîne\n",
    "sur deux lignes.'''\n",
    "```\n",
    "\n",
    "Afin de me transmettre des renseignements vous concernant, il vous faudra donner un nom à chacune des chaînes de caractères contenant un de ces renseignements, c'est-à-dire créer une variables qui l'identifiera. Pour faire cela en `python`, il suffit d'écrire le nom de la variable, l'opérateur d'affectation `=`, puis la valeur qu'on souhaite associer à la variable.\n",
    "\n",
    "Des exemples :\n",
    "```python\n",
    "pi = 3.14\n",
    "perimetre_cercle_unitaire = 2*pi\n",
    "prenom_Rousseau = \"Jean-Jacques\"\n",
    "```"
   ]
  },
  {
   "cell_type": "markdown",
   "metadata": {
    "deletable": false,
    "editable": false,
    "nbgrader": {
     "cell_type": "markdown",
     "checksum": "e36bdcef8e4f1077b3d65d9afbde6728",
     "grade": false,
     "grade_id": "cell-a6d65c3ca47ccefb",
     "locked": true,
     "schema_version": 3,
     "solution": false,
     "task": false
    }
   },
   "source": [
    "Créer une variable `nom` contenant votre nom."
   ]
  },
  {
   "cell_type": "code",
   "execution_count": null,
   "metadata": {
    "deletable": false,
    "nbgrader": {
     "cell_type": "code",
     "checksum": "3fa86f34613947ab022166a72027a2a9",
     "grade": false,
     "grade_id": "nom",
     "locked": false,
     "schema_version": 3,
     "solution": true
    }
   },
   "outputs": [],
   "source": [
    "# Écrire votre code ici\n",
    "raise NotImplementedError # effacer cette ligne une fois le code écrit"
   ]
  },
  {
   "cell_type": "code",
   "execution_count": null,
   "metadata": {
    "deletable": false,
    "editable": false,
    "nbgrader": {
     "cell_type": "code",
     "checksum": "fcb53d95fb151b1d9fb4b9201c4f9544",
     "grade": true,
     "grade_id": "cell-122674bbcf04ad42",
     "locked": true,
     "points": 1,
     "schema_version": 3,
     "solution": false,
     "task": false
    }
   },
   "outputs": [],
   "source": [
    "assert(len(nom)>0)"
   ]
  },
  {
   "cell_type": "markdown",
   "metadata": {
    "deletable": false,
    "editable": false,
    "nbgrader": {
     "cell_type": "markdown",
     "checksum": "7c844c2080f19aba3e880f2dc7dd31e6",
     "grade": false,
     "grade_id": "cell-574a4cb04e193181",
     "locked": true,
     "schema_version": 3,
     "solution": false,
     "task": false
    }
   },
   "source": [
    "Créer une variable `prenom` contenant votre nom."
   ]
  },
  {
   "cell_type": "code",
   "execution_count": null,
   "metadata": {
    "deletable": false,
    "nbgrader": {
     "cell_type": "code",
     "checksum": "b6ef1cafd291a26d1c3f15b28ec40626",
     "grade": false,
     "grade_id": "prenom",
     "locked": false,
     "schema_version": 3,
     "solution": true,
     "task": false
    }
   },
   "outputs": [],
   "source": [
    "# Écrire votre code ici\n",
    "raise NotImplementedError # effacer cette ligne une fois le code écrit"
   ]
  },
  {
   "cell_type": "code",
   "execution_count": null,
   "metadata": {
    "deletable": false,
    "editable": false,
    "nbgrader": {
     "cell_type": "code",
     "checksum": "e2636cb2ee79a482f536b640ec7d0d41",
     "grade": true,
     "grade_id": "cell-9918e670dbcc6dfa",
     "locked": true,
     "points": 1,
     "schema_version": 3,
     "solution": false,
     "task": false
    }
   },
   "outputs": [],
   "source": [
    "assert(len(prenom)>0)"
   ]
  },
  {
   "cell_type": "code",
   "execution_count": null,
   "metadata": {
    "deletable": false,
    "editable": false,
    "nbgrader": {
     "cell_type": "code",
     "checksum": "d017078accd9106d7838e2d5d952f0ce",
     "grade": false,
     "grade_id": "cell-1163e04c665089d7",
     "locked": true,
     "schema_version": 3,
     "solution": false,
     "task": false
    }
   },
   "outputs": [],
   "source": [
    "print(\"Bonjour, \" + prenom )"
   ]
  },
  {
   "cell_type": "markdown",
   "metadata": {
    "deletable": false,
    "editable": false,
    "nbgrader": {
     "cell_type": "markdown",
     "checksum": "ee8b0687b03c73aa34bc572dbfb4a60b",
     "grade": false,
     "grade_id": "cell-e645a04df740b623",
     "locked": true,
     "schema_version": 3,
     "solution": false,
     "task": false
    }
   },
   "source": [
    "---\n",
    "\n",
    "## Valider et soumettre sa réponse\n",
    "Si une erreur se produit à la validation d'une cellule par `Maj-Entrée`, elle sera affichée sur fond rose juste après la cellule, avec un message qui à terme vous aidera à identifier l'erreur.\n",
    "\n",
    "Quand vous êtes sûr de votre rendu, vous pourrez tout retester grâce au bouton `Validate` en haut vers le milieu.\n",
    "\n",
    "Enfin, pour rendre le devoir, vous devrez vous rendre à la page \"Assignments\" à partir de votre page d'accueil et cliquer sur `Submit`."
   ]
  },
  {
   "cell_type": "markdown",
   "metadata": {
    "deletable": false,
    "editable": false,
    "nbgrader": {
     "cell_type": "markdown",
     "checksum": "75c449d2756b6d1b6e9e9a5fda214514",
     "grade": false,
     "grade_id": "cell-78aef09dd57332d0",
     "locked": true,
     "schema_version": 3,
     "solution": false,
     "task": false
    }
   },
   "source": [
    "Créez maintenant une variable `info_points_positifs` qui contient une description (a priori sur plusieurs lignes, donc attention aux guillements utilisés) sur ce que vous aimez en informatique."
   ]
  },
  {
   "cell_type": "code",
   "execution_count": null,
   "metadata": {
    "deletable": false,
    "nbgrader": {
     "cell_type": "code",
     "checksum": "caeb4f4fe60f2ac3d5d93989d3783c00",
     "grade": false,
     "grade_id": "positifs",
     "locked": false,
     "schema_version": 3,
     "solution": true,
     "task": false
    }
   },
   "outputs": [],
   "source": [
    "# Écrire votre code ici\n",
    "raise NotImplementedError # effacer cette ligne une fois le code écrit"
   ]
  },
  {
   "cell_type": "code",
   "execution_count": null,
   "metadata": {
    "deletable": false,
    "editable": false,
    "nbgrader": {
     "cell_type": "code",
     "checksum": "730bcac47b53ecea4bb0b731840e3bba",
     "grade": true,
     "grade_id": "cell-8183883dc1c7a1e4",
     "locked": true,
     "points": 1,
     "schema_version": 3,
     "solution": false,
     "task": false
    }
   },
   "outputs": [],
   "source": [
    "assert(len(info_points_positifs)>0)"
   ]
  },
  {
   "cell_type": "markdown",
   "metadata": {
    "deletable": false,
    "editable": false,
    "nbgrader": {
     "cell_type": "markdown",
     "checksum": "2000df871722f290fb7fa40539b2462a",
     "grade": false,
     "grade_id": "cell-fdb68b6d9443819d",
     "locked": true,
     "schema_version": 3,
     "solution": false,
     "task": false
    }
   },
   "source": [
    "Enfin, créez une variable `info_points_negatifs` qui contient une description de ce que vous n'aimez pas en informatique. (Ne vous censurez pas, ça me permettra d'adapter mes énoncés à vos attentes.)"
   ]
  },
  {
   "cell_type": "code",
   "execution_count": null,
   "metadata": {
    "deletable": false,
    "nbgrader": {
     "cell_type": "code",
     "checksum": "37f3c0a9bc47668242c5f2258ca1838a",
     "grade": false,
     "grade_id": "negatifs",
     "locked": false,
     "schema_version": 3,
     "solution": true,
     "task": false
    }
   },
   "outputs": [],
   "source": [
    "# Écrire votre code ici\n",
    "raise NotImplementedError # effacer cette ligne une fois le code écrit"
   ]
  },
  {
   "cell_type": "code",
   "execution_count": null,
   "metadata": {
    "deletable": false,
    "editable": false,
    "nbgrader": {
     "cell_type": "code",
     "checksum": "3d3dc2fff99e4167aa393c9ec08d27a4",
     "grade": true,
     "grade_id": "cell-649e0b3167cb211e",
     "locked": true,
     "points": 1,
     "schema_version": 3,
     "solution": false,
     "task": false
    }
   },
   "outputs": [],
   "source": [
    "assert(len(info_points_negatifs)>0)"
   ]
  },
  {
   "cell_type": "markdown",
   "metadata": {
    "deletable": false,
    "editable": false,
    "nbgrader": {
     "cell_type": "markdown",
     "checksum": "c3dda67477d1953be3a889f39f8c41c3",
     "grade": false,
     "grade_id": "cell-7adaa7e03a6398bc",
     "locked": true,
     "schema_version": 3,
     "solution": false,
     "task": false
    }
   },
   "source": [
    "Créez une variable `mon_avenir` qui contient une description du ou des domaines dans lesquels vous auriez envie de travailler."
   ]
  },
  {
   "cell_type": "code",
   "execution_count": null,
   "metadata": {
    "deletable": false,
    "nbgrader": {
     "cell_type": "code",
     "checksum": "50d4698dc80c8cdaddf757d696c6d528",
     "grade": false,
     "grade_id": "cell-4ac5a6cdbdd5a38e",
     "locked": false,
     "schema_version": 3,
     "solution": true,
     "task": false
    }
   },
   "outputs": [],
   "source": [
    "# Écrire votre code ici\n",
    "raise NotImplementedError # effacer cette ligne une fois le code écrit"
   ]
  },
  {
   "cell_type": "code",
   "execution_count": null,
   "metadata": {
    "deletable": false,
    "editable": false,
    "nbgrader": {
     "cell_type": "code",
     "checksum": "be10785ceda5dda960061ffed56d5342",
     "grade": true,
     "grade_id": "cell-912e74effeca1018",
     "locked": true,
     "points": 1,
     "schema_version": 3,
     "solution": false,
     "task": false
    }
   },
   "outputs": [],
   "source": [
    "assert(len(mon_avenir)>0)"
   ]
  },
  {
   "cell_type": "markdown",
   "metadata": {
    "deletable": false,
    "editable": false,
    "nbgrader": {
     "cell_type": "markdown",
     "checksum": "2c545c57009527baa3a010934e034d24",
     "grade": false,
     "grade_id": "cell-2a9fa200aae5f537",
     "locked": true,
     "schema_version": 3,
     "solution": false,
     "task": false
    }
   },
   "source": [
    "<div class=\"alert alert-success\">\n",
    "    <h2>Les points à retenir</h2>\n",
    "\n",
    "* on peut écrire des chaînes de caractères sur une ou plusieurs lignes en `python`; dans le cas de plusieurs lignes, il faut les encadrer par `'''` ou `\"\"\"`;\n",
    "* une _variable_ est un nom qui permet d'identifier une valeur, l'action qui permet cette identification s'appelle un _affectation_, et on utilise l'opérateur `=` pour la faire;\n",
    "* l'opérateur d'affectation `=` n'est pas symétrique : à gauche on met le nom de la variable, à droite la valeur qu'elle doit identifier.\n",
    "    \n",
    "    </div>"
   ]
  }
 ],
 "metadata": {
  "kernelspec": {
   "display_name": "Python 3",
   "language": "python",
   "name": "python3"
  },
  "language_info": {
   "codemirror_mode": {
    "name": "ipython",
    "version": 3
   },
   "file_extension": ".py",
   "mimetype": "text/x-python",
   "name": "python",
   "nbconvert_exporter": "python",
   "pygments_lexer": "ipython3",
   "version": "3.7.3"
  }
 },
 "nbformat": 4,
 "nbformat_minor": 1
}
