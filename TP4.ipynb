{
 "cells": [
  {
   "cell_type": "markdown",
   "id": "dd26a693",
   "metadata": {},
   "source": [
    "# ITC - MPSI\n",
    "---"
   ]
  },
  {
   "cell_type": "markdown",
   "id": "2a2a54a5",
   "metadata": {
    "deletable": false,
    "editable": false,
    "nbgrader": {
     "cell_type": "markdown",
     "checksum": "5348ffe82462e2435c2b7373f2917de7",
     "grade": false,
     "grade_id": "cell-6c6e63e692cc0eca",
     "locked": true,
     "schema_version": 3,
     "solution": false,
     "task": false
    }
   },
   "source": [
    "# TP4 : Retour sur les paramètres des fonctions et boucles imbriquées\n",
    "Dans ce TP nous regardons de plus près ce que deviennent les paramètres dans les fonctions, et nous faisons des boucles dans les boucles."
   ]
  },
  {
   "cell_type": "markdown",
   "id": "a394c796",
   "metadata": {
    "deletable": false,
    "editable": false,
    "nbgrader": {
     "cell_type": "markdown",
     "checksum": "ed0b0cf3241cb9f6d8131a37f800bd2a",
     "grade": false,
     "grade_id": "cell-8ddb6e48a2832acf",
     "locked": true,
     "schema_version": 3,
     "solution": false,
     "task": false
    }
   },
   "source": [
    "Quand on transmet un paramètre _numérique_ (entier ou nombre à virgule flottante) à une fonction, celui-ci est recopié et la fonction travaille sur une copie de ce paramètre. Vous pouvez regarder l'exécution du code suivant :\n",
    "```python\n",
    "\"\"\"fonction qui prend en argument un entier n et renvoie le triple de son\n",
    "successeur, soit 3*(n+1) (fait de façon un peu tordue pour illustrer mon\n",
    "propos\"\"\"\n",
    "def triple_successeur(n) :\n",
    "    n = n+1\n",
    "    n = 3*n\n",
    "    return n\n",
    "    \n",
    "n = 5\n",
    "m = triple_successeur(n)\n",
    "```\n",
    "sur [python tutor](https://pythontutor.com/visualize.html#code=%22%22%22fonction%20qui%20prend%20en%20argument%20un%20entier%20n%20et%20renvoie%20le%20triple%20de%20son%0Asuccesseur,%20soit%203*%28n%2B1%29%20%28fait%20de%20fa%C3%A7on%20un%20peu%20tordue%20pour%20illustrer%20mon%0Apropos%22%22%22%0Adef%20triple_successeur%28n%29%20%3A%0A%20%20%20%20n%20%3D%20n%2B1%0A%20%20%20%20n%20%3D%203*n%0A%20%20%20%20return%20n%0A%20%20%20%20%0An%20%3D%205%0Am%20%3D%20triple_successeur%28n%29&cumulative=false&curInstr=0&heapPrimitives=nevernest&mode=display&origin=opt-frontend.js&py=3&rawInputLstJSON=%5B%5D&textReferences=false) : la variable `n` du contexte global (celle qui est initialisée à l'avant-dernière ligne du code, puis fournie en argument à `triple_successeur`) fournit uniquement sa _valeur_ au paramètre de `triple_successeur`. Ce paramètre vit ensuite sa propre vie et peut désigner une autre valeur, cela n'a pas d'impact sur la variable `n` du contexte global."
   ]
  },
  {
   "cell_type": "markdown",
   "id": "76fa63ea",
   "metadata": {
    "deletable": false,
    "editable": false,
    "nbgrader": {
     "cell_type": "markdown",
     "checksum": "bd0ec513091762bf2b9e651efc77586a",
     "grade": false,
     "grade_id": "cell-19bc39ca74f14871",
     "locked": true,
     "schema_version": 3,
     "solution": false,
     "task": false
    }
   },
   "source": [
    "Quand on transmet une liste comme paramètre à une fonction, c'est l'adresse de cette liste qui est recopiée (c'est-à-dire l'endroit où elle se trouve dans la mémoire) car la valeur d'une liste est l'adresse de sa première case (ou cellule). La fonction travaille donc sur une copie de cette adresse, et elle peut aller modifier le contenu des cases dans la mémoire. Cette modification est donc visible hors de la fonction. Observez la situation avec ce programme :\n",
    "```python\n",
    "\"\"\"fonction qui prend en argument une liste et recopie son premier\n",
    "élément dans toute ses cases\"\"\"\n",
    "def uniformisation(liste):\n",
    "    for i in range(1, len(liste)) : #boucle de 1 à len(liste)-1\n",
    "        liste[i] = liste[0]\n",
    "    liste = [3, 2] # ligne inutile, à portée uniquement pédagogique\n",
    "    \n",
    "L = [1, 2, 3, 4, 5]\n",
    "uniformisation(L)\n",
    "```\n",
    "sur [python tutor](https://pythontutor.com/visualize.html#code=%22%22%22fonction%20qui%20prend%20en%20argument%20une%20liste%20et%20recopie%20son%20premier%0A%C3%A9l%C3%A9ment%20dans%20toute%20ses%20cases%22%22%22%0Adef%20uniformisation%28liste%29%3A%0A%20%20%20%20for%20i%20in%20range%281,%20len%28liste%29%29%20%3A%20%23boucle%20de%201%20%C3%A0%20len%28liste%29-1%0A%20%20%20%20%20%20%20%20liste%5Bi%5D%20%3D%20liste%5B0%5D%0A%20%20%20%20liste%20%3D%20%5B3,%202%5D%20%23%20ligne%20inutile,%20%C3%A0%20port%C3%A9e%20uniquement%20p%C3%A9dagogique%0A%20%20%20%20%0AL%20%3D%20%5B1,%202,%203,%204,%205%5D%0Auniformisation%28L%29&cumulative=false&curInstr=0&heapPrimitives=nevernest&mode=display&origin=opt-frontend.js&py=3&rawInputLstJSON=%5B%5D&textReferences=false) : la variable `L` du contexte global et le paramètre `liste` de la fonction `uniformisation` désigne le même emplacement mémoire, leur _contenu_ (ce qui se trouve à cet emplacement mémoire) est donc le même; qu'on accède à cet emplacement par l'un ou l'autre est équivalent. En revanche on note que si on modifie la _valeur_ de `liste` (en écrivant `liste = ...`), cela n'a pas de conséquence sur `L`."
   ]
  },
  {
   "cell_type": "markdown",
   "id": "d2c3ae60",
   "metadata": {
    "deletable": false,
    "editable": false,
    "nbgrader": {
     "cell_type": "markdown",
     "checksum": "92977dfa293daf11372228cc68308d20",
     "grade": false,
     "grade_id": "cell-8d1db2874a831f83",
     "locked": true,
     "schema_version": 3,
     "solution": false,
     "task": false
    }
   },
   "source": [
    "Notez bien la différence entre la fonction `uniformisation` ci-dessus et la fonction `uniformisation_ratee` ci-dessous :\n",
    "```python\n",
    "\"\"\"tentative d'uniformisation qui ne fonctionne pas\"\"\"\n",
    "def uniformisation_ratee(liste):\n",
    "    for e in liste :\n",
    "        e = liste[0]\n",
    "    \n",
    "L = [1, 2, 3, 4, 5]\n",
    "uniformisation_ratee(L)\n",
    "```\n",
    "sur [python tutor](https://pythontutor.com/visualize.html#code=%22%22%22tentative%20d'uniformisation%20qui%20ne%20fonctionne%20pas%22%22%22%0Adef%20uniformisation_ratee%28liste%29%3A%0A%20%20%20%20for%20e%20in%20liste%20%3A%0A%20%20%20%20%20%20%20%20e%20%3D%20liste%5B0%5D%0A%20%20%20%20%0AL%20%3D%20%5B1,%202,%203,%204,%205%5D%0Auniformisation_ratee%28L%29&cumulative=false&curInstr=0&heapPrimitives=nevernest&mode=display&origin=opt-frontend.js&py=3&rawInputLstJSON=%5B%5D&textReferences=false). Ici la variable `e` désigne alternativement la valeur d'une case de la liste, puis la valeur de la première case de la liste, sans aucune conséquence sur le contenu de la liste elle-même."
   ]
  },
  {
   "cell_type": "markdown",
   "id": "0a1e3386",
   "metadata": {
    "deletable": false,
    "editable": false,
    "nbgrader": {
     "cell_type": "markdown",
     "checksum": "de005015635b86c3afe5dec80c06216b",
     "grade": false,
     "grade_id": "cell-0ce4bd8657b40c49",
     "locked": true,
     "schema_version": 3,
     "solution": false,
     "task": false
    }
   },
   "source": [
    "### Exo 1 : Translation\n",
    "Écrire et documenter une fonction `translate` qui prend en argument un point et un vecteur (dans cet ordre), chacun sous la forme d'une liste d'entiers à deux cases (sans avoir à vérifier les types) et transforme le point en lui faisant subir une translation du vecteur donné (cette fonction ne doit pas fabriquer une nouvelle liste pour un nouveau point, mais modifier le contenu de celle qui lui est transmise en argument)."
   ]
  },
  {
   "cell_type": "code",
   "execution_count": null,
   "id": "1543c6c5",
   "metadata": {
    "deletable": false,
    "nbgrader": {
     "cell_type": "code",
     "checksum": "0312df3fa6fb16283b7515fef3392b3f",
     "grade": false,
     "grade_id": "cell-a19867e9793ad84f",
     "locked": false,
     "schema_version": 3,
     "solution": true,
     "task": false
    }
   },
   "outputs": [],
   "source": [
    "# Écrire votre code ici\n",
    "raise NotImplementedError # effacer cette ligne une fois le code écrit"
   ]
  },
  {
   "cell_type": "code",
   "execution_count": null,
   "id": "ae925cee",
   "metadata": {
    "deletable": false,
    "editable": false,
    "nbgrader": {
     "cell_type": "code",
     "checksum": "ac87cf31017015b4ab8c78f3ea731550",
     "grade": true,
     "grade_id": "cell-da90a68ff83a607f",
     "locked": true,
     "points": 1,
     "schema_version": 3,
     "solution": false,
     "task": false
    }
   },
   "outputs": [],
   "source": [
    "P = [0, 0]\n",
    "translate(P, [1, -2])\n",
    "assert(P == [1, -2])\n",
    "\n",
    "translate(P, [-5, 6])\n",
    "assert(P == [-4, 4])"
   ]
  },
  {
   "cell_type": "markdown",
   "id": "19413cf5",
   "metadata": {
    "deletable": false,
    "editable": false,
    "nbgrader": {
     "cell_type": "markdown",
     "checksum": "15ae62022d19fdac1196585d43f63dcb",
     "grade": false,
     "grade_id": "cell-d6064059e19fb468",
     "locked": true,
     "schema_version": 3,
     "solution": false,
     "task": false
    }
   },
   "source": [
    "### Exo 2 : Annulation des impairs\n",
    "Écrire et documenter une fonction `annulation_impairs` qui prend en argument une liste supposés composés d'entiers (sans avoir à le vérifier) et met à 0 chaque case qui contient un nombre impair (cette fonction ne doit pas fabriquer une nouvelle liste, mais modifier le contenu de celle qui lui est transmise en argument)."
   ]
  },
  {
   "cell_type": "code",
   "execution_count": null,
   "id": "8e2b9929",
   "metadata": {
    "deletable": false,
    "nbgrader": {
     "cell_type": "code",
     "checksum": "bba7f398ae7269987322f93958bdb9da",
     "grade": false,
     "grade_id": "cell-a1d851d03345f16e",
     "locked": false,
     "schema_version": 3,
     "solution": true,
     "task": false
    }
   },
   "outputs": [],
   "source": [
    "# Écrire votre code ici\n",
    "raise NotImplementedError # effacer cette ligne une fois le code écrit"
   ]
  },
  {
   "cell_type": "code",
   "execution_count": null,
   "id": "64e3eb99",
   "metadata": {
    "deletable": false,
    "editable": false,
    "nbgrader": {
     "cell_type": "code",
     "checksum": "8f52b7e5d4224c83da5a91052669aea5",
     "grade": true,
     "grade_id": "cell-d5006c90811e2e8e",
     "locked": true,
     "points": 1,
     "schema_version": 3,
     "solution": false,
     "task": false
    }
   },
   "outputs": [],
   "source": [
    "L = []; annulation_impairs(L); assert(L == [])\n",
    "L = [1]; annulation_impairs(L); assert(L == [0])\n",
    "L = [2]; annulation_impairs(L); assert(L == [2])\n",
    "L = [2, -1, 5, 6, 8, 10, 13]; annulation_impairs(L); assert(L == [2, 0, 0, 6, 8, 10, 0])"
   ]
  },
  {
   "cell_type": "markdown",
   "id": "5d8f5ffc",
   "metadata": {
    "deletable": false,
    "editable": false,
    "nbgrader": {
     "cell_type": "markdown",
     "checksum": "031da72f6ad24544255c17e9c24916f6",
     "grade": false,
     "grade_id": "cell-84d03c73fcd18195",
     "locked": true,
     "schema_version": 3,
     "solution": false,
     "task": false
    }
   },
   "source": [
    "### Exo 3 : Permutation circulaire\n",
    "Écrire et documenter une fonction `permutation_circulaire` qui prend en argument une liste et lui applique _en place_ (c'est-à-dire sans créer de nouvelle liste) une permutation circulaire gauche, c'est-à-dire que chaque élément est déplacé dans la case immédiatement précédente, sauf le premier qui est déplacé dans la dernière case.\n",
    "\n",
    "Note pour désigner la dernière case d'une liste `L`, on a déjà vu qu'on peut écrire `L[len(L)-1]`, mais on peut aussi écrire `L[-1]`."
   ]
  },
  {
   "cell_type": "code",
   "execution_count": null,
   "id": "6cf94c96",
   "metadata": {
    "deletable": false,
    "nbgrader": {
     "cell_type": "code",
     "checksum": "6b0bb64f4876e152ecf3eb0ce9da9920",
     "grade": false,
     "grade_id": "cell-f23d09d5a0ab4d56",
     "locked": false,
     "schema_version": 3,
     "solution": true,
     "task": false
    }
   },
   "outputs": [],
   "source": [
    "# Écrire votre code ici\n",
    "raise NotImplementedError # effacer cette ligne une fois le code écrit"
   ]
  },
  {
   "cell_type": "code",
   "execution_count": null,
   "id": "e8af2de0",
   "metadata": {
    "deletable": false,
    "editable": false,
    "nbgrader": {
     "cell_type": "code",
     "checksum": "e2467034199e640183880211c5422a03",
     "grade": true,
     "grade_id": "cell-5052b0a04007b989",
     "locked": true,
     "points": 1,
     "schema_version": 3,
     "solution": false,
     "task": false
    }
   },
   "outputs": [],
   "source": [
    "L = []\n",
    "permutation_circulaire(L)\n",
    "assert(L == [])\n",
    "\n",
    "L = [1]\n",
    "permutation_circulaire(L)\n",
    "assert(L == [1])\n",
    "\n",
    "L = [1, 2]\n",
    "permutation_circulaire(L)\n",
    "assert(L == [2, 1])\n",
    "\n",
    "L = [5, 6, 7, 8]\n",
    "permutation_circulaire(L)\n",
    "assert(L == [6, 7, 8, 5])"
   ]
  },
  {
   "cell_type": "markdown",
   "id": "22cca6aa",
   "metadata": {
    "deletable": false,
    "editable": false,
    "nbgrader": {
     "cell_type": "markdown",
     "checksum": "e29357572ace268dd07d4436cf55a05b",
     "grade": false,
     "grade_id": "cell-7817284f63f0d26c",
     "locked": true,
     "schema_version": 3,
     "solution": false,
     "task": false
    }
   },
   "source": [
    "### Exo 4 : Tri bulle\n",
    "La problématique du tri est une problématique récurrente en informatique car bien des problèmes sont simplifiés si les données sont triées (pensez à ce que serait la recherche dans un dictionnaire si les mots apparaissaient dans un ordre quelconque). Il est donc souvent préférable de commencer par trier les données, et ensuite travailler sur ce nouvel objet que de travailler sur un ensemble non structuré de données.\n",
    "\n",
    "Il existe beaucoup d'algorithmes classiques de tri. Nous allons étudier le _tri bulle_ qui est un algorithme facile à mettre en œuvre, mais pas très efficace (il est lent), sauf si les données de départ sont peu désordonnées."
   ]
  },
  {
   "cell_type": "markdown",
   "id": "23acdbae",
   "metadata": {
    "deletable": false,
    "editable": false,
    "nbgrader": {
     "cell_type": "markdown",
     "checksum": "9a01abe1b624c57711770c892bba004d",
     "grade": false,
     "grade_id": "cell-1cb9c6b50ce01c79",
     "locked": true,
     "schema_version": 3,
     "solution": false,
     "task": false
    }
   },
   "source": [
    "Le principe de base du tri bulle est de parcourir les données de gauche à droite en comparant chaque donnée à sa voisine : si elle ne sont pas dans le bon ordre, on les permute et on continue, sinon on continue. À la fin de ce parcours (qu'on appelle un _passage_), les données ne sont a priori toujours pas triée, mais elles sont moins désordonnées, et en particulier le plus grand élément se trouve à la fin.\n",
    "\n",
    "Un exemple de **premier passage** :\n",
    "\n",
    "$\\begin{array}{|c|c|c|c|c|}\n",
    "\\hline\n",
    "\\stackrel{\\bullet}{4} & \\stackrel{\\bullet}{2} & 5 & 1 & 3\\\\ \\hline\n",
    "\\end{array}$ 4 et 2 ne sont pas dans le bon ordre $\\rightarrow$ on les permute et on continue\n",
    "\n",
    "$\\begin{array}{|c|c|c|c|c|}\n",
    "\\hline\n",
    "2 & \\stackrel{\\bullet}{4} & \\stackrel{\\bullet}{5} & 1 & 3\\\\ \\hline\n",
    "\\end{array}$ 4 et 5 sont dans le bon ordre $\\rightarrow$ on continue\n",
    "\n",
    "$\\begin{array}{|c|c|c|c|c|}\n",
    "\\hline\n",
    "2 & 4 & \\stackrel{\\bullet}{5} & \\stackrel{\\bullet}{1} & 3\\\\ \\hline\n",
    "\\end{array}$ 5 et 1 ne sont pas dans le bon ordre $\\rightarrow$ on les permute et on continue\n",
    "\n",
    "$\\begin{array}{|c|c|c|c|c|}\n",
    "\\hline\n",
    "2 & 4 & 1 & \\stackrel{\\bullet}{5} & \\stackrel{\\bullet}{3}\\\\ \\hline\n",
    "\\end{array}$ 5 et 3 ne sont pas dans le bon ordre $\\rightarrow$ on les permute et on a fini le passage\n",
    "\n",
    "$\\begin{array}{|c|c|c|c|c|}\n",
    "\\hline\n",
    "2 & 4 & 1 & 3 & 5\\\\ \\hline\n",
    "\\end{array}$"
   ]
  },
  {
   "cell_type": "markdown",
   "id": "062c49f7",
   "metadata": {
    "deletable": false,
    "editable": false,
    "nbgrader": {
     "cell_type": "markdown",
     "checksum": "a22ca9ff0711da0805bf41ca1b3e90bf",
     "grade": false,
     "grade_id": "cell-142b36489b7cbf54",
     "locked": true,
     "schema_version": 3,
     "solution": false,
     "task": false
    }
   },
   "source": [
    "On recommence ensuite ces opérations, mais sans traiter la dernière case, puisqu'elle contient déjà le plus grand élément :\n",
    "\n",
    "**Deuxième passage** :\n",
    "\n",
    "$\\begin{array}{|c|c|c|c|c|}\n",
    "\\hline\n",
    "\\stackrel{\\bullet}{2} & \\stackrel{\\bullet}{4} & 1 & 3 & {\\color{gray} 5}\\\\ \\hline\n",
    "\\end{array}$ 2 et 4 sont dans le bon ordre $\\rightarrow$ on continue\n",
    "\n",
    "$\\begin{array}{|c|c|c|c|c|}\n",
    "\\hline\n",
    "2 & \\stackrel{\\bullet}{4} & \\stackrel{\\bullet}{1} & 3 & {\\color{gray} 5}\\\\ \\hline\n",
    "\\end{array}$ 4 et 1 ne sont pas dans le bon ordre $\\rightarrow$ on les permute et on continue\n",
    "\n",
    "$\\begin{array}{|c|c|c|c|c|}\n",
    "\\hline\n",
    "2 & 1 & \\stackrel{\\bullet}{4} & \\stackrel{\\bullet}{3} & {\\color{gray} 5}\\\\ \\hline\n",
    "\\end{array}$ 4 et 3 ne sont pas dans le bon ordre $\\rightarrow$ on les permute et on a fini le passage\n",
    "\n",
    "$\\begin{array}{|c|c|c|c|c|}\n",
    "\\hline\n",
    "2 & 1 & 3 & 4 & {\\color{gray} 5}\\\\ \\hline\n",
    "\\end{array}$"
   ]
  },
  {
   "cell_type": "markdown",
   "id": "31d6f656",
   "metadata": {
    "deletable": false,
    "editable": false,
    "nbgrader": {
     "cell_type": "markdown",
     "checksum": "0732d3d47fdc66415816fc8ec8a10c12",
     "grade": false,
     "grade_id": "cell-142b36489b7cbf55",
     "locked": true,
     "schema_version": 3,
     "solution": false,
     "task": false
    }
   },
   "source": [
    "**Troisième passage** :\n",
    "\n",
    "$\\begin{array}{|c|c|c|c|c|}\n",
    "\\hline\n",
    "\\stackrel{\\bullet}{2} & \\stackrel{\\bullet}{1} & 3 & {\\color{gray} 4} & {\\color{gray} 5}\\\\ \\hline\n",
    "\\end{array}$ 2 et 1 ne sont pas dans le bon ordre $\\rightarrow$ on les permute et on continue\n",
    "\n",
    "$\\begin{array}{|c|c|c|c|c|}\n",
    "\\hline\n",
    "1 & \\stackrel{\\bullet}{2} & \\stackrel{\\bullet}{3} & {\\color{gray} 4} & {\\color{gray} 5}\\\\ \\hline\n",
    "\\end{array}$ 2 et 3 sont dans le bon ordre $\\rightarrow$ on a fini le passage\n",
    "\n",
    "$\\begin{array}{|c|c|c|c|c|}\n",
    "\\hline\n",
    "1 & 2 & 3 & {\\color{gray} 4} & {\\color{gray} 5}\\\\ \\hline\n",
    "\\end{array}$"
   ]
  },
  {
   "cell_type": "markdown",
   "id": "d8d9260c",
   "metadata": {
    "deletable": false,
    "editable": false,
    "nbgrader": {
     "cell_type": "markdown",
     "checksum": "813cd2ac3e7819db3e4e243a0e1b78cb",
     "grade": false,
     "grade_id": "cell-142b36489b7cbf56",
     "locked": true,
     "schema_version": 3,
     "solution": false,
     "task": false
    }
   },
   "source": [
    "**Quatrième passage** :\n",
    "\n",
    "$\\begin{array}{|c|c|c|c|c|}\n",
    "\\hline\n",
    "\\stackrel{\\bullet}{1} & \\stackrel{\\bullet}{2} & {\\color{gray} 3} & {\\color{gray} 4} & {\\color{gray} 5}\\\\ \\hline\n",
    "\\end{array}$ 1 et 2 sont dans le bon ordre $\\rightarrow$ on a fini le passage\n",
    "\n",
    "$\\begin{array}{|c|c|c|c|c|}\n",
    "\\hline\n",
    "1 & 2 & {\\color{gray} 3} & {\\color{gray} 4} & {\\color{gray} 5}\\\\ \\hline\n",
    "\\end{array}$\n",
    "\n",
    "Comme le dernier passage ne concernait que deux éléments, c'est fini, les données sont triées. À noter que si on avait fait un passage sans aucune permutation, on aurait pu s'arrêter avant (car alors tous les éléments auraient été dans le bon ordre)."
   ]
  },
  {
   "cell_type": "markdown",
   "id": "aa5824c8",
   "metadata": {
    "deletable": false,
    "editable": false,
    "nbgrader": {
     "cell_type": "markdown",
     "checksum": "00832d4f8c9820b1d6290c6dd40739e1",
     "grade": false,
     "grade_id": "cell-8723ee1748bb7be5",
     "locked": true,
     "schema_version": 3,
     "solution": false,
     "task": false
    }
   },
   "source": [
    "Écrire et commenter une fonction `tri_bulle` qui prend en argument une liste de nombres (sans avoir à le vérifier) et la trie en place en suivant l'algorithme de tri bulle.\n",
    "\n",
    "Notez que pour inverser les valeurs de deux variables `a` et `b` en python, il suffit d'écrire\n",
    "```python\n",
    "a, b = b, a\n",
    "```\n",
    "(Nous verrons plus tard une explication de cette notation.)"
   ]
  },
  {
   "cell_type": "code",
   "execution_count": null,
   "id": "4ba83307",
   "metadata": {
    "deletable": false,
    "nbgrader": {
     "cell_type": "code",
     "checksum": "00e8ddf816b7349ad4d38f4018a701ac",
     "grade": false,
     "grade_id": "cell-3878300614380675",
     "locked": false,
     "schema_version": 3,
     "solution": true,
     "task": false
    }
   },
   "outputs": [],
   "source": [
    "# Écrire votre code ici\n",
    "raise NotImplementedError # effacer cette ligne une fois le code écrit"
   ]
  },
  {
   "cell_type": "code",
   "execution_count": null,
   "id": "7c5b17a1",
   "metadata": {
    "deletable": false,
    "editable": false,
    "nbgrader": {
     "cell_type": "code",
     "checksum": "c4c70d9d906eb194fe5afc8d8c15f485",
     "grade": true,
     "grade_id": "cell-892d1486978beb14",
     "locked": true,
     "points": 1,
     "schema_version": 3,
     "solution": false,
     "task": false
    }
   },
   "outputs": [],
   "source": [
    "L = [4, 2, 5, 1, 3]; tri_bulle(L); assert(L == [1, 2, 3, 4, 5])\n",
    "L = []; tri_bulle(L); assert(L == [])\n",
    "L = [0]; tri_bulle(L); assert(L == [0])\n",
    "L = [-1, 0]; tri_bulle(L); assert(L == [-1, 0])\n",
    "L = [1, 0]; tri_bulle(L); assert(L == [0, 1])"
   ]
  },
  {
   "cell_type": "markdown",
   "id": "488cb835",
   "metadata": {
    "deletable": false,
    "editable": false,
    "nbgrader": {
     "cell_type": "markdown",
     "checksum": "8419b3e70db5f7f70707d5722d778f5d",
     "grade": false,
     "grade_id": "cell-d54b14af691284bb",
     "locked": true,
     "schema_version": 3,
     "solution": false,
     "task": false
    }
   },
   "source": [
    "<div class=\"alert alert-success\">\n",
    "    <h2>Les points à retenir</h2>\n",
    "    \n",
    "* Les passages des paramètres dans les fonctions se font par valeur : la valeur d'un nombre est le nombre lui-même, mais la valeur d'une liste est son adresse, on peut donc modifier le contenu d'une liste dans une fonction.\n",
    "* Retenir le principe de l'algorithme du tri bulle.\n",
    "* On peut inverser les valeurs de `a` et `b` avec `a, b = b, a`.\n",
    "* `for i in range(a, b) :` où `a` et `b` sont deux entiers permet de parcourir dans l'ordre croissant les entiers de `a` à `b`-1 (ensemble qui peut être vide suivant les valeurs de `a` et `b`).\n",
    "* Le dernier élément d'une liste `L` peut être désigné par `L[-1]`.\n",
    "</div>"
   ]
  }
 ],
 "metadata": {
  "kernelspec": {
   "display_name": "Python 3 (ipykernel)",
   "language": "python",
   "name": "python3"
  },
  "language_info": {
   "codemirror_mode": {
    "name": "ipython",
    "version": 3
   },
   "file_extension": ".py",
   "mimetype": "text/x-python",
   "name": "python",
   "nbconvert_exporter": "python",
   "pygments_lexer": "ipython3",
   "version": "3.7.3"
  }
 },
 "nbformat": 4,
 "nbformat_minor": 5
}
