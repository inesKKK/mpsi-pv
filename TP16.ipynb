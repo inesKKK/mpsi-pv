{
 "cells": [
  {
   "cell_type": "markdown",
   "id": "e7adcb36",
   "metadata": {},
   "source": [
    "# ITC - MPSI\n",
    "---"
   ]
  },
  {
   "cell_type": "markdown",
   "id": "1e4ffbb1",
   "metadata": {
    "deletable": false,
    "editable": false,
    "nbgrader": {
     "cell_type": "markdown",
     "checksum": "3c8bbc59ba9ddb375d976957feaea8d6",
     "grade": false,
     "grade_id": "cell-d5ccfc77c3926758",
     "locked": true,
     "schema_version": 3,
     "solution": false,
     "task": false
    }
   },
   "source": [
    "# TP16 : Tranches\n",
    "\n",
    "Dans ce TP, nous allons étudier une notation pour récupérer une partie contiguë (c'est-à-dire une _tranche_, _slice_ en anglais) d'une chaîne ou d'une liste (notation qui fonctionne également pour d'autres types que nous n'avons pas encore vus pour lesquels il y a un notion d'ordre des éléments, comme les tuples).\n",
    "\n",
    "On dispose d'une liste"
   ]
  },
  {
   "cell_type": "code",
   "execution_count": null,
   "id": "bc46cf76",
   "metadata": {
    "deletable": false,
    "editable": false,
    "nbgrader": {
     "cell_type": "code",
     "checksum": "9cdc1e1137bb916368f6307405ceb0b7",
     "grade": false,
     "grade_id": "cell-5161d8c2a9690023",
     "locked": true,
     "schema_version": 3,
     "solution": false,
     "task": false
    }
   },
   "outputs": [],
   "source": [
    "L = ['zero', 'un', 'deux', 'trois', 'quatre', 'cinq', 'six', 'sept']"
   ]
  },
  {
   "cell_type": "markdown",
   "id": "a46c5455",
   "metadata": {
    "deletable": false,
    "editable": false,
    "nbgrader": {
     "cell_type": "markdown",
     "checksum": "b23b1ed59194d0dea711808dad4de7d5",
     "grade": false,
     "grade_id": "cell-ae06cde5ad9c7e19",
     "locked": true,
     "schema_version": 3,
     "solution": false,
     "task": false
    }
   },
   "source": [
    "et nous voulons obtenir une liste qui contient les cases 2 à 5 de cette liste. Bien sûr nous pouvons créer une liste vide et faire un certain nombre d'appels à `append`, ou utiliser une compréhension de liste, mais `python` fournit une notation pour éviter d'écrire autant de code :"
   ]
  },
  {
   "cell_type": "code",
   "execution_count": null,
   "id": "ce5b595c",
   "metadata": {
    "deletable": false,
    "editable": false,
    "nbgrader": {
     "cell_type": "code",
     "checksum": "93811df0d12a959594891f70da87a533",
     "grade": false,
     "grade_id": "cell-184aa288329655a5",
     "locked": true,
     "schema_version": 3,
     "solution": false,
     "task": false
    }
   },
   "outputs": [],
   "source": [
    "L[2:6]"
   ]
  },
  {
   "cell_type": "markdown",
   "id": "95762c61",
   "metadata": {
    "deletable": false,
    "editable": false,
    "nbgrader": {
     "cell_type": "markdown",
     "checksum": "3f3d4fdfd62709225d31f3a5b5bd03b7",
     "grade": false,
     "grade_id": "cell-3a8698873f716ea4",
     "locked": true,
     "schema_version": 3,
     "solution": false,
     "task": false
    }
   },
   "source": [
    "Cette notation `L[i:j]` fournit une _nouvelle_ liste dont les éléments sont, dans l'ordre, les contenus des cases `i` à `j-1` de `L` (attention : le contenu de la case `i` est inclus, celui de la case `j` est exclu).\n",
    "\n",
    "La liste obtenue est bien une nouvelle liste :"
   ]
  },
  {
   "cell_type": "code",
   "execution_count": null,
   "id": "56d9c20e",
   "metadata": {
    "deletable": false,
    "editable": false,
    "nbgrader": {
     "cell_type": "code",
     "checksum": "d44b0eeab74080ab8f28bc076ddb5a60",
     "grade": false,
     "grade_id": "cell-7fc5cd4796d75aad",
     "locked": true,
     "schema_version": 3,
     "solution": false,
     "task": false
    }
   },
   "outputs": [],
   "source": [
    "L = ['zero', 'un', 'deux', 'trois', 'quatre', 'cinq', 'six', 'sept']\n",
    "M = L[2:6]\n",
    "M[0] = '2'\n",
    "print('M = ' + str(M))\n",
    "print('L = ' + str(L))"
   ]
  },
  {
   "cell_type": "markdown",
   "id": "bbef6411",
   "metadata": {
    "deletable": false,
    "editable": false,
    "nbgrader": {
     "cell_type": "markdown",
     "checksum": "fbb0dbb4344f849d7d80235ffc3822b3",
     "grade": false,
     "grade_id": "cell-040783da203885ac",
     "locked": true,
     "schema_version": 3,
     "solution": false,
     "task": false
    }
   },
   "source": [
    "Si on veut une tranche qui commence au début ou qui termine à la fin, on n'est pas obligé de mettre l'indicec correspondant (mais il faut laisser les `:`, sinon on n'accède qu'à une seule case):"
   ]
  },
  {
   "cell_type": "code",
   "execution_count": null,
   "id": "7387a570",
   "metadata": {
    "deletable": false,
    "editable": false,
    "nbgrader": {
     "cell_type": "code",
     "checksum": "9705a81316f5c1b01affca22fde20bb2",
     "grade": false,
     "grade_id": "cell-382fea246a1bf59e",
     "locked": true,
     "schema_version": 3,
     "solution": false,
     "task": false
    }
   },
   "outputs": [],
   "source": [
    "L[:6]"
   ]
  },
  {
   "cell_type": "code",
   "execution_count": null,
   "id": "af51725c",
   "metadata": {
    "deletable": false,
    "editable": false,
    "nbgrader": {
     "cell_type": "code",
     "checksum": "122cfc22ba255de1ba2695b6c7ab7ffd",
     "grade": false,
     "grade_id": "cell-de2b437b0ad3bb09",
     "locked": true,
     "schema_version": 3,
     "solution": false,
     "task": false
    }
   },
   "outputs": [],
   "source": [
    "L[2:]"
   ]
  },
  {
   "cell_type": "markdown",
   "id": "4522c8bb",
   "metadata": {
    "deletable": false,
    "editable": false,
    "nbgrader": {
     "cell_type": "markdown",
     "checksum": "0355f4e2b648f7c4b2bb709c2871a9a4",
     "grade": false,
     "grade_id": "cell-2a3ae9e125da63d8",
     "locked": true,
     "schema_version": 3,
     "solution": false,
     "task": false
    }
   },
   "source": [
    "Cela permet de faire une copie d'une liste à moindre effort:"
   ]
  },
  {
   "cell_type": "code",
   "execution_count": null,
   "id": "9775e025",
   "metadata": {
    "deletable": false,
    "editable": false,
    "nbgrader": {
     "cell_type": "code",
     "checksum": "622b0fc84e2f7bfa04ba8cd2b74d559f",
     "grade": false,
     "grade_id": "cell-5d2160b6daaf50fa",
     "locked": true,
     "schema_version": 3,
     "solution": false,
     "task": false
    }
   },
   "outputs": [],
   "source": [
    "L[:]"
   ]
  },
  {
   "cell_type": "markdown",
   "id": "a59d4abe",
   "metadata": {
    "deletable": false,
    "editable": false,
    "nbgrader": {
     "cell_type": "markdown",
     "checksum": "ac5546ede649c24249f06bdec45fed02",
     "grade": false,
     "grade_id": "cell-c23cebe321316443",
     "locked": true,
     "schema_version": 3,
     "solution": false,
     "task": false
    }
   },
   "source": [
    "Si on utilise des indices qui sortent des limites de la liste, seules les cases qui existent sont fournies:"
   ]
  },
  {
   "cell_type": "code",
   "execution_count": null,
   "id": "35ca7d1e",
   "metadata": {
    "deletable": false,
    "editable": false,
    "nbgrader": {
     "cell_type": "code",
     "checksum": "d8c9c91b87860633600610b55f0409b2",
     "grade": false,
     "grade_id": "cell-3f8413622c70a08f",
     "locked": true,
     "schema_version": 3,
     "solution": false,
     "task": false
    }
   },
   "outputs": [],
   "source": [
    "L[2:15]"
   ]
  },
  {
   "cell_type": "markdown",
   "id": "087e4596",
   "metadata": {
    "deletable": false,
    "editable": false,
    "nbgrader": {
     "cell_type": "markdown",
     "checksum": "19cbbffa787fdf52d4a454a4649e9e86",
     "grade": false,
     "grade_id": "cell-5a074a72a1bfbd92",
     "locked": true,
     "schema_version": 3,
     "solution": false,
     "task": false
    }
   },
   "source": [
    "Si on utilise des indices positifs avec un indice à gauche supérieur à l'indice à droite, on obtient une tranche vide:"
   ]
  },
  {
   "cell_type": "code",
   "execution_count": null,
   "id": "e08c8dd8",
   "metadata": {
    "deletable": false,
    "editable": false,
    "nbgrader": {
     "cell_type": "code",
     "checksum": "94691cfca65cc749442378adc89853df",
     "grade": false,
     "grade_id": "cell-22af043aafabe0b0",
     "locked": true,
     "schema_version": 3,
     "solution": false,
     "task": false
    }
   },
   "outputs": [],
   "source": [
    "L[6:2]"
   ]
  },
  {
   "cell_type": "markdown",
   "id": "97fa5ed9",
   "metadata": {
    "deletable": false,
    "editable": false,
    "nbgrader": {
     "cell_type": "markdown",
     "checksum": "7c20ddedbb6d77b00216e6439dde6c14",
     "grade": false,
     "grade_id": "cell-15fa8e638c4fafad",
     "locked": true,
     "schema_version": 3,
     "solution": false,
     "task": false
    }
   },
   "source": [
    "On peut utiliser des indices négatifs qui désignent alors une position à partir de la fin de la liste (comme lorsqu'on accède à une case à partir d'un indice négatif):"
   ]
  },
  {
   "cell_type": "code",
   "execution_count": null,
   "id": "1253b7ba",
   "metadata": {
    "deletable": false,
    "editable": false,
    "nbgrader": {
     "cell_type": "code",
     "checksum": "4621668378d13858a156627d6513f18f",
     "grade": false,
     "grade_id": "cell-62bd0e05ec5426e9",
     "locked": true,
     "schema_version": 3,
     "solution": false,
     "task": false
    }
   },
   "outputs": [],
   "source": [
    "L[2:-1]"
   ]
  },
  {
   "cell_type": "code",
   "execution_count": null,
   "id": "19e59629",
   "metadata": {
    "deletable": false,
    "editable": false,
    "nbgrader": {
     "cell_type": "code",
     "checksum": "aad05062b45985dc96700f4996e61e6f",
     "grade": false,
     "grade_id": "cell-6d29e121a483800a",
     "locked": true,
     "schema_version": 3,
     "solution": false,
     "task": false
    }
   },
   "outputs": [],
   "source": [
    "L[:-5]"
   ]
  },
  {
   "cell_type": "markdown",
   "id": "dbaac747",
   "metadata": {
    "deletable": false,
    "editable": false,
    "nbgrader": {
     "cell_type": "markdown",
     "checksum": "9bc3475ca7c3b00959322e9c274ba2a6",
     "grade": false,
     "grade_id": "cell-f4037205627afeab",
     "locked": true,
     "schema_version": 3,
     "solution": false,
     "task": false
    }
   },
   "source": [
    "Cette notation fonctionne de la même façon pour les chaînes de caractères :"
   ]
  },
  {
   "cell_type": "code",
   "execution_count": null,
   "id": "a52ced99",
   "metadata": {
    "deletable": false,
    "editable": false,
    "nbgrader": {
     "cell_type": "code",
     "checksum": "b6355cf39800d66c5c15222a4042dd74",
     "grade": false,
     "grade_id": "cell-367c176fd974a053",
     "locked": true,
     "schema_version": 3,
     "solution": false,
     "task": false
    }
   },
   "outputs": [],
   "source": [
    "s = 'abcdefg'\n",
    "s[2:6]"
   ]
  },
  {
   "cell_type": "markdown",
   "id": "1da1175a",
   "metadata": {
    "deletable": false,
    "editable": false,
    "nbgrader": {
     "cell_type": "markdown",
     "checksum": "a21ad73e4da0a4ca70daf502646dcb07",
     "grade": false,
     "grade_id": "cell-46515923d4397ebb",
     "locked": true,
     "schema_version": 3,
     "solution": false,
     "task": false
    }
   },
   "source": [
    "(Bien entendu, cette notation ne peut pas fonctionner pour un dictionnaire, car les éléments des dictionnaires ne sont pas ordonnés et cela n'a donc pas de sens de dire qu'on veut les éléments du deuxième au cinquième.)"
   ]
  },
  {
   "cell_type": "markdown",
   "id": "d892bcc8",
   "metadata": {
    "deletable": false,
    "editable": false,
    "nbgrader": {
     "cell_type": "markdown",
     "checksum": "fb1097a8dccfef2e82d6e26049eba6f2",
     "grade": false,
     "grade_id": "cell-5f4623740101d34f",
     "locked": true,
     "schema_version": 3,
     "solution": false,
     "task": false
    }
   },
   "source": [
    "## Exercice 1 : Préfixes\n",
    "Écrire et documenter une fonction `prefixes` qui prend en argument une liste d'éléments et renvoie la liste de ses préfixes, c'est-à-dire une liste de listes qui sont les début de la liste transmise en argument.\n",
    "\n",
    "**exemple :**\n",
    "```python\n",
    "print(prefixes(['a', 'b', 'c', 'd', 'e']))\n",
    "```\n",
    "affiche\n",
    "```\n",
    "[[], ['a'], ['a', 'b'], ['a', 'b', 'c'], ['a', 'b', 'c', 'd'], ['a', 'b', 'c', 'd', 'e']]\n",
    " ```"
   ]
  },
  {
   "cell_type": "code",
   "execution_count": null,
   "id": "770f57fb",
   "metadata": {
    "deletable": false,
    "nbgrader": {
     "cell_type": "code",
     "checksum": "644d8f021fdb29fcc0a78ec5a5bf8bcd",
     "grade": false,
     "grade_id": "cell-3fb7b59d5305d342",
     "locked": false,
     "schema_version": 3,
     "solution": true,
     "task": false
    }
   },
   "outputs": [],
   "source": [
    "# Écrire votre code ici\n",
    "raise NotImplementedError # effacer cette ligne une fois le code écrit"
   ]
  },
  {
   "cell_type": "code",
   "execution_count": null,
   "id": "9eab89e9",
   "metadata": {
    "deletable": false,
    "editable": false,
    "nbgrader": {
     "cell_type": "code",
     "checksum": "ff913987e4e28999d8cb82a49b50dc0d",
     "grade": true,
     "grade_id": "cell-abbb5afa991570aa",
     "locked": true,
     "points": 2,
     "schema_version": 3,
     "solution": false,
     "task": false
    }
   },
   "outputs": [],
   "source": [
    "assert(prefixes(['a', 'b', 'c', 'd', 'e']) \n",
    "       == [[], ['a'], ['a', 'b'], ['a', 'b', 'c'], ['a', 'b', 'c', 'd'], ['a', 'b', 'c', 'd', 'e']])\n",
    "assert(prefixes([]) == [[]])"
   ]
  },
  {
   "cell_type": "markdown",
   "id": "ed9ae674",
   "metadata": {
    "deletable": false,
    "editable": false,
    "nbgrader": {
     "cell_type": "markdown",
     "checksum": "d6cae1951d7c998e99435d87f940a4ff",
     "grade": false,
     "grade_id": "cell-33523da4b7d9ad18",
     "locked": true,
     "schema_version": 3,
     "solution": false,
     "task": false
    }
   },
   "source": [
    "## Exercice 2 : Extrait de matrice\n",
    "Écrire et documenter `triangle` une fonction qui prend en argument une liste de listes, supposée carrée, et renvoie le triangle inférieur.\n",
    "\n",
    "**exemple :**\n",
    "```\n",
    "print(triangle([[1,2,3,4], [5,6,7,8], [9,10,11,12], [13,14,15,16]]))\n",
    "```\n",
    "affiche\n",
    "```\n",
    "[[1], [5, 6], [9, 10, 11], [13, 14, 15, 16]]\n",
    "```"
   ]
  },
  {
   "cell_type": "code",
   "execution_count": null,
   "id": "6cad1d3f",
   "metadata": {
    "deletable": false,
    "nbgrader": {
     "cell_type": "code",
     "checksum": "98c6e4d6cff2da9945ac73e76d5d488d",
     "grade": false,
     "grade_id": "cell-8b024b717b9f6844",
     "locked": false,
     "schema_version": 3,
     "solution": true,
     "task": false
    }
   },
   "outputs": [],
   "source": [
    "# Écrire votre code ici\n",
    "raise NotImplementedError # effacer cette ligne une fois le code écrit"
   ]
  },
  {
   "cell_type": "code",
   "execution_count": null,
   "id": "d8fdaf0f",
   "metadata": {
    "deletable": false,
    "editable": false,
    "nbgrader": {
     "cell_type": "code",
     "checksum": "0c1c2b635946246681703786ccfdd5db",
     "grade": true,
     "grade_id": "cell-bf935c6b4fee7bd9",
     "locked": true,
     "points": 2,
     "schema_version": 3,
     "solution": false,
     "task": false
    }
   },
   "outputs": [],
   "source": [
    "assert(triangle([[1,2,3,4],[5,6,7,8],[9,10,11,12],[13,14,15,16]])\n",
    "      == [[1], [5, 6], [9, 10, 11], [13, 14, 15, 16]])\n",
    "assert(triangle([[]]) == [[]])"
   ]
  },
  {
   "cell_type": "markdown",
   "id": "53827ffe",
   "metadata": {
    "deletable": false,
    "editable": false,
    "nbgrader": {
     "cell_type": "markdown",
     "checksum": "d6355b17df61d6946526ec05ca027b22",
     "grade": false,
     "grade_id": "cell-252c3a5c09365c27",
     "locked": true,
     "schema_version": 3,
     "solution": false,
     "task": false
    }
   },
   "source": [
    "## Exercice 3 : Extraire des colonnes pour un tableur\n",
    "On dispose d'un document au format `csv` utilisant le séparateur `,` et qui possède ... colonnes. On souhaite créer un nouveau document qui ne contient que les premières colonnes.\n",
    "\n",
    "1. Écrire et documenter une fonction `ecrire_ligne` qui prend une liste d'éléments en argument et un descripteur de fichier tel qu'obtenu par `open` et écrit dans le fichier la liste de ces éléments, séparés par des `;` et suivie d'un retour à la ligne."
   ]
  },
  {
   "cell_type": "code",
   "execution_count": null,
   "id": "e70cb564",
   "metadata": {
    "deletable": false,
    "nbgrader": {
     "cell_type": "code",
     "checksum": "e9980cb37d76e70950da497ae17b3a30",
     "grade": false,
     "grade_id": "cell-4f07301780327119",
     "locked": false,
     "schema_version": 3,
     "solution": true,
     "task": false
    }
   },
   "outputs": [],
   "source": [
    "# Écrire votre code ici\n",
    "raise NotImplementedError # effacer cette ligne une fois le code écrit"
   ]
  },
  {
   "cell_type": "code",
   "execution_count": null,
   "id": "00c4c08a",
   "metadata": {
    "deletable": false,
    "editable": false,
    "nbgrader": {
     "cell_type": "code",
     "checksum": "8a27ad7c0431d4106dded91e98d1755a",
     "grade": true,
     "grade_id": "cell-40bae706d240958c",
     "locked": true,
     "points": 2,
     "schema_version": 3,
     "solution": false,
     "task": false
    }
   },
   "outputs": [],
   "source": [
    "f = open('titi0', 'w')\n",
    "ecrire_ligne([], f)\n",
    "f.close()\n",
    "\n",
    "!diff toto0 titi0 >/dev/null || echo -e '\\e[07;31merreur pour le fichier titi0\\e[0;m'   ## pas du python\n",
    "!rm titi0 2>/dev/null ## pas du python\n",
    "\n",
    "\n",
    "\n",
    "f = open('titi1', 'w')\n",
    "ecrire_ligne(['a', 'b', 'c', 'd'], f)\n",
    "f.close()\n",
    "\n",
    "!diff toto1 titi1 >/dev/null || echo -e '\\e[07;31merreur pour le fichier titi1\\e[0;m'   ## pas du python\n",
    "!rm titi1 2>/dev/null ## pas du python\n",
    "\n",
    "\n",
    "\n",
    "f = open('titi2', 'w')\n",
    "ecrire_ligne([1, 2, 3, 4, 5], f)\n",
    "f.close()\n",
    "\n",
    "!diff toto2 titi2 >/dev/null || echo -e '\\e[07;31merreur pour le fichier titi2\\e[0;m'   ## pas du python\n",
    "!rm titi2 2>/dev/null ## pas du python"
   ]
  },
  {
   "cell_type": "markdown",
   "id": "99ce0df0",
   "metadata": {
    "deletable": false,
    "editable": false,
    "nbgrader": {
     "cell_type": "markdown",
     "checksum": "5a9f7e52c728052ebebf070c21a8109e",
     "grade": false,
     "grade_id": "cell-252c3a5c09365c28",
     "locked": true,
     "schema_version": 3,
     "solution": false,
     "task": false
    }
   },
   "source": [
    "2. Écrire et documenter une fonction `colonnes` qui prend en argument le nom d'un fichier au format `csv` avec séparateur `;` et le nombre de colonnes à extraire et écrit le résultat dans le fichier `resultat.csv` (en utilisant la fonction `ecrire_ligne`)."
   ]
  },
  {
   "cell_type": "code",
   "execution_count": null,
   "id": "c18b07dc",
   "metadata": {
    "deletable": false,
    "nbgrader": {
     "cell_type": "code",
     "checksum": "29d2df4bdf81f6cb458fdea85c4d7c1b",
     "grade": false,
     "grade_id": "cell-235cf063e91f3f8e",
     "locked": false,
     "schema_version": 3,
     "solution": true,
     "task": false
    }
   },
   "outputs": [],
   "source": [
    "# Écrire votre code ici\n",
    "raise NotImplementedError # effacer cette ligne une fois le code écrit"
   ]
  },
  {
   "cell_type": "code",
   "execution_count": null,
   "id": "c53bb10c",
   "metadata": {
    "deletable": false,
    "editable": false,
    "nbgrader": {
     "cell_type": "code",
     "checksum": "26dbd17784f343f3868e51e1fae7ef00",
     "grade": true,
     "grade_id": "cell-894d850dd71b6c7b",
     "locked": true,
     "points": 2,
     "schema_version": 3,
     "solution": false,
     "task": false
    }
   },
   "outputs": [],
   "source": [
    "colonnes('voitures.csv', 3)\n",
    "\n",
    "!diff resultat.csv resultat3.csv || echo -e '\\e[07;31merreur pour le paramètre 3\\e[0;m'   ## pas du python\n",
    "!rm resultat.csv 2>/dev/null ## pas du python\n",
    "\n",
    "\n",
    "\n",
    "colonnes('voitures.csv', 0)\n",
    "\n",
    "!diff resultat.csv resultat0.csv || echo -e '\\e[07;31merreur pour le paramètre 0\\e[0;m'   ## pas du python\n",
    "!rm resultat.csv 2>/dev/null ## pas du python"
   ]
  },
  {
   "cell_type": "markdown",
   "id": "274b3521",
   "metadata": {
    "deletable": false,
    "editable": false,
    "nbgrader": {
     "cell_type": "markdown",
     "checksum": "37cd2b93ec9203f407dfa35c4c07addc",
     "grade": false,
     "grade_id": "cell-24267fef318176f8",
     "locked": true,
     "schema_version": 3,
     "solution": false,
     "task": false
    }
   },
   "source": [
    "3. Écrire et documenter une fonction `gruyere` qui prend en argument le nom d'un fichier au format `csv` avec séparateur `;` et deux entiers `debut` et `fin` positifs ou nuls, et écrit dans le fichier `resultat.csv` les données, avec suppression des colonnes entre `debut` compris et `fin` non compris (en utilisant la fonction `ecrire_ligne`)."
   ]
  },
  {
   "cell_type": "code",
   "execution_count": null,
   "id": "f6f1c164",
   "metadata": {
    "deletable": false,
    "nbgrader": {
     "cell_type": "code",
     "checksum": "9cd79a1d7ccee8a9e3273a9c3809b927",
     "grade": false,
     "grade_id": "cell-5d0c5e5a94f95b45",
     "locked": false,
     "schema_version": 3,
     "solution": true,
     "task": false
    }
   },
   "outputs": [],
   "source": [
    "# Écrire votre code ici\n",
    "raise NotImplementedError # effacer cette ligne une fois le code écrit"
   ]
  },
  {
   "cell_type": "code",
   "execution_count": null,
   "id": "5b1d5ae0",
   "metadata": {
    "deletable": false,
    "editable": false,
    "nbgrader": {
     "cell_type": "code",
     "checksum": "f8a0f8a64d5774d8b1c35e93a1429dd9",
     "grade": true,
     "grade_id": "cell-f57b8dbc9b8d8d52",
     "locked": true,
     "points": 2,
     "schema_version": 3,
     "solution": false,
     "task": false
    }
   },
   "outputs": [],
   "source": [
    "gruyere('voitures.csv', 3, 7)\n",
    "\n",
    "!diff resultat.csv gruyere37.csv || echo -e '\\e[07;31merreur pour les paramètres 3 et 7\\e[0;m'   ## pas du python\n",
    "!rm resultat.csv 2>/dev/null ## pas du python\n",
    "\n",
    "\n",
    "gruyere('voitures.csv', 5, 5)\n",
    "\n",
    "!diff resultat.csv gruyere55.csv || echo -e '\\e[07;31merreur pour les paramètres 5 et 5\\e[0;m'   ## pas du python\n",
    "!rm resultat.csv 2>/dev/null ## pas du python"
   ]
  },
  {
   "cell_type": "markdown",
   "id": "7bfaff49",
   "metadata": {
    "deletable": false,
    "editable": false,
    "nbgrader": {
     "cell_type": "markdown",
     "checksum": "8271cd95d68257ec2d0a19cb3ad01b4d",
     "grade": false,
     "grade_id": "cell-721392a5fd741199",
     "locked": true,
     "schema_version": 3,
     "solution": false,
     "task": false
    }
   },
   "source": [
    "## Copie superficielle\n",
    "On a vu que prendre une tranche revient à recopier des données. **Attention** : cette copie est superficielle:"
   ]
  },
  {
   "cell_type": "code",
   "execution_count": null,
   "id": "ddadde13",
   "metadata": {
    "deletable": false,
    "editable": false,
    "nbgrader": {
     "cell_type": "code",
     "checksum": "6dc8bee2ff6fe5b1be39662b1dab5816",
     "grade": false,
     "grade_id": "cell-292ef4afa48b3fff",
     "locked": true,
     "schema_version": 3,
     "solution": false,
     "task": false
    }
   },
   "outputs": [],
   "source": [
    "L = [ [1, 2, 3], [4, 5, 6], [7, 8, 9], [10, 11, 12]]\n",
    "M = L[2:]\n",
    "M[0][1] = 'pouet!!!'\n",
    "L"
   ]
  },
  {
   "cell_type": "markdown",
   "id": "8e2abbb1",
   "metadata": {
    "deletable": false,
    "editable": false,
    "nbgrader": {
     "cell_type": "markdown",
     "checksum": "9fe00b409dac64d8b18d192905c1c4d3",
     "grade": false,
     "grade_id": "cell-4d485a8183269365",
     "locked": true,
     "schema_version": 3,
     "solution": false,
     "task": false
    }
   },
   "source": [
    "Le schéma suivant illustre la situation et permet de comprendre ce qui se passe :\n",
    "![](copie_superficielle.png)"
   ]
  },
  {
   "cell_type": "markdown",
   "id": "4dd67463",
   "metadata": {
    "deletable": false,
    "editable": false,
    "nbgrader": {
     "cell_type": "markdown",
     "checksum": "de619ec0f49fe9924b045c5f3ad85d70",
     "grade": false,
     "grade_id": "cell-80d8e97a59a96956",
     "locked": true,
     "schema_version": 3,
     "solution": false,
     "task": false
    }
   },
   "source": [
    "Pour faire une copie profonde, il faut utiliser la fonction `deepcopy` du module `copy`. (Nous reviendrons dessus dans un autre TP.)"
   ]
  },
  {
   "cell_type": "markdown",
   "id": "192b9a6e",
   "metadata": {
    "deletable": false,
    "editable": false,
    "nbgrader": {
     "cell_type": "markdown",
     "checksum": "a3869f5bfcde2f1b2b52a634675d80ff",
     "grade": false,
     "grade_id": "cell-d52ab95b5e9bd2e7",
     "locked": true,
     "schema_version": 3,
     "solution": false,
     "task": false
    }
   },
   "source": [
    "<div class=\"alert alert-success\">\n",
    "    <h2>Les points à retenir</h2>\n",
    "    \n",
    "* syntaxe pour une tranche : `L[i:j]`, `L[i:]`, `L[:j]`, `L[:]`\n",
    "* caractère superficiel des copies par tranches\n",
    "</div>"
   ]
  }
 ],
 "metadata": {
  "kernelspec": {
   "display_name": "Python 3 (ipykernel)",
   "language": "python",
   "name": "python3"
  },
  "language_info": {
   "codemirror_mode": {
    "name": "ipython",
    "version": 3
   },
   "file_extension": ".py",
   "mimetype": "text/x-python",
   "name": "python",
   "nbconvert_exporter": "python",
   "pygments_lexer": "ipython3",
   "version": "3.7.3"
  }
 },
 "nbformat": 4,
 "nbformat_minor": 5
}
