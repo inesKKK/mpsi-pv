{
 "cells": [
  {
   "cell_type": "markdown",
   "id": "9088955a",
   "metadata": {},
   "source": [
    "# ITC - MPSI\n",
    "---"
   ]
  },
  {
   "cell_type": "markdown",
   "id": "c90fbf25",
   "metadata": {
    "deletable": false,
    "editable": false,
    "nbgrader": {
     "cell_type": "markdown",
     "checksum": "2c9c789ebeea458aa2b4fde7b5fba3e9",
     "grade": false,
     "grade_id": "cell-ed60e61bd0d35483",
     "locked": true,
     "schema_version": 3,
     "solution": false,
     "task": false
    }
   },
   "source": [
    "# TP15 : 🚗 🚙 🚕\n",
    "Dans ce TP, nous allons récupérer et traiter des données réelles concernant les voitures commercialisées en France en mars 2014 (données récupérées sur https://www.data.gouv.fr/fr/datasets/emissions-de-co2-et-de-polluants-des-vehicules-commercialises-en-france/, j'ai juste supprimé la première ligne qui donne les significations des colonnes pour simplifier le traitement)."
   ]
  },
  {
   "cell_type": "markdown",
   "id": "5e65b00d",
   "metadata": {
    "deletable": false,
    "editable": false,
    "nbgrader": {
     "cell_type": "markdown",
     "checksum": "6c74862181a2c64a2f6e85c06caf8805",
     "grade": false,
     "grade_id": "cell-eacd03388e1617e8",
     "locked": true,
     "schema_version": 3,
     "solution": false,
     "task": false
    }
   },
   "source": [
    "## Format `csv`\n",
    "Le format `csv` est un des formats utilisés par les tableurs. C'est un format texte très simple:\n",
    "* une ligne du tableau, c'est une ligne dans le fichier `csv`,\n",
    "* dans chaque ligne, les contenus des cases apparaissent dans l'ordre (sans formules, uniquement des valeurs), séparés par un caractère appelé séparateur de champs, et éventuellement encadrés par des caractères appelés séparateurs de chaînes de caractères.\n",
    "\n",
    "Dans ce TP, le séparateur de champs est le caractère `;` et il n'y a pas de séparateur de chaînes de caractères.\n",
    "\n",
    "Pour découper une chaîne en fonction d'un séparateur, on peut utiliser la méthode `split`:"
   ]
  },
  {
   "cell_type": "code",
   "execution_count": null,
   "id": "198123e5",
   "metadata": {
    "deletable": false,
    "editable": false,
    "nbgrader": {
     "cell_type": "code",
     "checksum": "04ad9c77e19d3986637a75837c432b4f",
     "grade": false,
     "grade_id": "cell-360a658ce199f1a7",
     "locked": true,
     "schema_version": 3,
     "solution": false,
     "task": false
    }
   },
   "outputs": [],
   "source": [
    "'ceci est un exemple'.split(' ')   ## le séparateur est le caractère espace"
   ]
  },
  {
   "cell_type": "code",
   "execution_count": null,
   "id": "e84b3f56",
   "metadata": {
    "deletable": false,
    "editable": false,
    "nbgrader": {
     "cell_type": "code",
     "checksum": "462fc27bce08a43ec43642d14fb9b8a5",
     "grade": false,
     "grade_id": "cell-b952857749468f66",
     "locked": true,
     "schema_version": 3,
     "solution": false,
     "task": false
    }
   },
   "outputs": [],
   "source": [
    "'ceci est un exemple'.split('e')   ## le séparateur est le caractère 'e'"
   ]
  },
  {
   "cell_type": "code",
   "execution_count": null,
   "id": "c73c42ed",
   "metadata": {
    "deletable": false,
    "editable": false,
    "nbgrader": {
     "cell_type": "code",
     "checksum": "6db28352bf742d437ff570f80b166ab2",
     "grade": false,
     "grade_id": "cell-0a6ef8c399b5d6af",
     "locked": true,
     "schema_version": 3,
     "solution": false,
     "task": false
    }
   },
   "outputs": [],
   "source": [
    "'ceci est un exemple'.split(' e')  ## le séparateur est la chaîne de caractères ' e'"
   ]
  },
  {
   "cell_type": "markdown",
   "id": "46771106",
   "metadata": {
    "deletable": false,
    "editable": false,
    "nbgrader": {
     "cell_type": "markdown",
     "checksum": "e0b4c7ea6cc452ac6e6864384cdedc13",
     "grade": false,
     "grade_id": "cell-2f535485a2f329c3",
     "locked": true,
     "schema_version": 3,
     "solution": false,
     "task": false
    }
   },
   "source": [
    "Si on connaît à l'avance le nombre de morceaux obtenus, on peut dépaqueter directement:"
   ]
  },
  {
   "cell_type": "code",
   "execution_count": null,
   "id": "bc741a49",
   "metadata": {
    "deletable": false,
    "editable": false,
    "nbgrader": {
     "cell_type": "code",
     "checksum": "502d31b736647df948802a2219ee1629",
     "grade": false,
     "grade_id": "cell-b78b4fb97523f55a",
     "locked": true,
     "schema_version": 3,
     "solution": false,
     "task": false
    }
   },
   "outputs": [],
   "source": [
    "debut, fin = 'aaaaa-bbb'.split('-')\n",
    "print('debut : ' + debut)\n",
    "print('fin : ' + fin)"
   ]
  },
  {
   "cell_type": "markdown",
   "id": "901a6c2e",
   "metadata": {
    "deletable": false,
    "editable": false,
    "nbgrader": {
     "cell_type": "markdown",
     "checksum": "00ba03992347e5c9fa0ce75d5a6d852f",
     "grade": false,
     "grade_id": "cell-21b1c9683724bbd7",
     "locked": true,
     "schema_version": 3,
     "solution": false,
     "task": false
    }
   },
   "source": [
    "## Exercice 1 : les marques\n",
    "Le fichier 'voitures.csv' donne des renseignements sur les voitures commercialisées en France en mars 2014.\n",
    "La première colonne contient les marques des voitures.\n",
    "\n",
    "1. Écrire et documenter une fonction `marques` qui prend en argument le nom d'un fichier supposé au format `csv` et renvoie la liste des valeurs de la première colonne."
   ]
  },
  {
   "cell_type": "code",
   "execution_count": null,
   "id": "fafbb45e",
   "metadata": {
    "deletable": false,
    "nbgrader": {
     "cell_type": "code",
     "checksum": "acfb11ed9789a7447c9f41d79b2f5575",
     "grade": false,
     "grade_id": "cell-41ff53652926bef6",
     "locked": false,
     "schema_version": 3,
     "solution": true,
     "task": false
    }
   },
   "outputs": [],
   "source": [
    "# Écrire votre code ici\n",
    "raise NotImplementedError # effacer cette ligne une fois le code écrit"
   ]
  },
  {
   "cell_type": "code",
   "execution_count": null,
   "id": "75f96558",
   "metadata": {
    "deletable": false,
    "editable": false,
    "nbgrader": {
     "cell_type": "code",
     "checksum": "5de5f0bc4665ee24e82a81fffd9b09a1",
     "grade": true,
     "grade_id": "cell-f82f1e8bf48b2a51",
     "locked": true,
     "points": 2,
     "schema_version": 3,
     "solution": false,
     "task": false
    }
   },
   "outputs": [],
   "source": [
    "marq = marques('voitures.csv')\n",
    "assert(len(marq) == 55044)\n",
    "assert(marq[4322] == 'MERCEDES')\n",
    "assert(marq[51017] == 'VOLKSWAGEN')"
   ]
  },
  {
   "cell_type": "markdown",
   "id": "23af2155",
   "metadata": {
    "deletable": false,
    "editable": false,
    "nbgrader": {
     "cell_type": "markdown",
     "checksum": "7bb95287edfb054398da419511eb39f1",
     "grade": false,
     "grade_id": "cell-9f36a6468162e3e6",
     "locked": true,
     "schema_version": 3,
     "solution": false,
     "task": false
    }
   },
   "source": [
    "2. Écrire une fonction `uniq` qui prend en argument une liste d'éléments comparables supposée triée et renvoie une liste avec ces éléments sans répétition. Cette fonction ne doit parcourir qu'une seule fois la liste passée en argument."
   ]
  },
  {
   "cell_type": "code",
   "execution_count": null,
   "id": "80a31658",
   "metadata": {
    "deletable": false,
    "nbgrader": {
     "cell_type": "code",
     "checksum": "eb5544d9d1654ac80665f25623eb8523",
     "grade": false,
     "grade_id": "cell-f276d82049923c94",
     "locked": false,
     "schema_version": 3,
     "solution": true,
     "task": false
    }
   },
   "outputs": [],
   "source": [
    "# Écrire votre code ici\n",
    "raise NotImplementedError # effacer cette ligne une fois le code écrit"
   ]
  },
  {
   "cell_type": "code",
   "execution_count": null,
   "id": "1587b11c",
   "metadata": {
    "deletable": false,
    "editable": false,
    "nbgrader": {
     "cell_type": "code",
     "checksum": "024a810d42ec78099352289dbc6bdc7e",
     "grade": true,
     "grade_id": "cell-b28bc41e968dd78a",
     "locked": true,
     "points": 2,
     "schema_version": 3,
     "solution": false,
     "task": false
    }
   },
   "outputs": [],
   "source": [
    "marq = uniq(marques('voitures.csv'))\n",
    "assert(len(marq) == 46)\n",
    "assert(marq[26] == 'MERCEDES')\n",
    "assert(marq[44] == 'VOLKSWAGEN')"
   ]
  },
  {
   "cell_type": "markdown",
   "id": "c7e73ae6",
   "metadata": {
    "deletable": false,
    "editable": false,
    "nbgrader": {
     "cell_type": "markdown",
     "checksum": "ec515aa424ee13cf5a34064073042d52",
     "grade": false,
     "grade_id": "cell-02f82d014dcf8e38",
     "locked": true,
     "schema_version": 3,
     "solution": false,
     "task": false
    }
   },
   "source": [
    "## Exercice 2 : les modèles\n",
    "On veut maintenant obtenir tous les modèles d'une marque donnée, toujours à partir du fichier 'voitures.csv'. Dans ce fichier, le nom d'un modèle apparaît dans la deuxième colonne, juste après la marque.\n",
    "\n",
    "1. Écrire et documenter une fonction `modeles` qui prend en argument un nom de fichier supposé au format `csv` et avec le format précédemment décrit et renvoie un dictionnaire où les clefs sont des marques de voitures et les valeurs les listes de modèles de la marque, sans doublon (le fichier `csv` fourni est supposé être trié par marque puis pas modèle). Votre fonction ne doit parcourir les données qu'une fois."
   ]
  },
  {
   "cell_type": "code",
   "execution_count": null,
   "id": "3f71d2e8",
   "metadata": {
    "deletable": false,
    "nbgrader": {
     "cell_type": "code",
     "checksum": "38f813fa5787ac1466d084b1301ddfc9",
     "grade": false,
     "grade_id": "cell-ac75274ceaa7cfd4",
     "locked": false,
     "schema_version": 3,
     "solution": true,
     "task": false
    }
   },
   "outputs": [],
   "source": [
    "# Écrire votre code ici\n",
    "raise NotImplementedError # effacer cette ligne une fois le code écrit"
   ]
  },
  {
   "cell_type": "code",
   "execution_count": null,
   "id": "26ec48d3",
   "metadata": {
    "deletable": false,
    "editable": false,
    "nbgrader": {
     "cell_type": "code",
     "checksum": "b4924a530f44ba8cc90edcbee74af1c4",
     "grade": true,
     "grade_id": "cell-04d48a69b4e8022b",
     "locked": true,
     "points": 2,
     "schema_version": 3,
     "solution": false,
     "task": false
    }
   },
   "outputs": [],
   "source": [
    "mm = modeles('voitures.csv')\n",
    "assert(len(mm['MERCEDES']) == 23)\n",
    "assert(len(mm['VOLKSWAGEN']) == 21)"
   ]
  },
  {
   "cell_type": "markdown",
   "id": "641a5e3c",
   "metadata": {
    "deletable": false,
    "editable": false,
    "nbgrader": {
     "cell_type": "markdown",
     "checksum": "7c5ff7b89dc24126e5c9704f8c285acc",
     "grade": false,
     "grade_id": "cell-f827085e78084ad3",
     "locked": true,
     "schema_version": 3,
     "solution": false,
     "task": false
    }
   },
   "source": [
    "2. Écrire et documenter une fonction `la_plus_variee` qui prend en argument le nom d'un fichier au format `csv` comme décrit précédemment et renvoie le nom de la marque qui possède le plus de modèles différents."
   ]
  },
  {
   "cell_type": "code",
   "execution_count": null,
   "id": "e558ba43",
   "metadata": {
    "deletable": false,
    "nbgrader": {
     "cell_type": "code",
     "checksum": "236ed26bad271442d97621e007ce88b8",
     "grade": false,
     "grade_id": "cell-9de817f2de610360",
     "locked": false,
     "schema_version": 3,
     "solution": true,
     "task": false
    }
   },
   "outputs": [],
   "source": [
    "# Écrire votre code ici\n",
    "raise NotImplementedError # effacer cette ligne une fois le code écrit"
   ]
  },
  {
   "cell_type": "code",
   "execution_count": null,
   "id": "a5816d4c",
   "metadata": {
    "deletable": false,
    "editable": false,
    "nbgrader": {
     "cell_type": "code",
     "checksum": "4197488e982300290143bc3438b11237",
     "grade": true,
     "grade_id": "cell-28d31a59e08db27d",
     "locked": true,
     "points": 2,
     "schema_version": 3,
     "solution": false,
     "task": false
    }
   },
   "outputs": [],
   "source": [
    "assert(la_plus_variee('voitures.csv') == 'AUDI')"
   ]
  },
  {
   "cell_type": "markdown",
   "id": "69d2ad25",
   "metadata": {
    "deletable": false,
    "editable": false,
    "nbgrader": {
     "cell_type": "markdown",
     "checksum": "13ac1c73a5810f0453fdcf7e02a0dc12",
     "grade": false,
     "grade_id": "cell-b2925c6907f3b47e",
     "locked": true,
     "schema_version": 3,
     "solution": false,
     "task": false
    }
   },
   "source": [
    "On a vu qu'on peut construire une liste à partir d'une autre liste grâce à une compréhension de liste. On peut utiliser le même genre d'opérations pour construire un nouveau dictionnaire.\n",
    "\n",
    "3. Écrire et documenter une fonction `nb_de_modeles` qui prend en argument un dictionnaire tel que renvoyé par la fonction `modeles` et renvoie un nouveau dictionnaire où les clefs sont des marques de voitures et les valeurs le nombre de modeles associes."
   ]
  },
  {
   "cell_type": "code",
   "execution_count": null,
   "id": "9881e05d",
   "metadata": {
    "deletable": false,
    "nbgrader": {
     "cell_type": "code",
     "checksum": "6787cbc1010c4a6ac96e121f9c57e189",
     "grade": false,
     "grade_id": "cell-3e20ded391e9bfbd",
     "locked": false,
     "schema_version": 3,
     "solution": true,
     "task": false
    }
   },
   "outputs": [],
   "source": [
    "# Écrire votre code ici\n",
    "raise NotImplementedError # effacer cette ligne une fois le code écrit"
   ]
  },
  {
   "cell_type": "code",
   "execution_count": null,
   "id": "e5dc3cf4",
   "metadata": {
    "deletable": false,
    "editable": false,
    "nbgrader": {
     "cell_type": "code",
     "checksum": "6f4ba2247e3bc4dbc27d6436ae534ada",
     "grade": true,
     "grade_id": "cell-7ee46910b8f8c5b2",
     "locked": true,
     "points": 2,
     "schema_version": 3,
     "solution": false,
     "task": false
    }
   },
   "outputs": [],
   "source": [
    "N = nb_de_modeles(modeles('voitures.csv'))\n",
    "assert(N['HYUNDAI'] == 8)\n",
    "assert(N['PORSCHE'] == 27)"
   ]
  },
  {
   "cell_type": "markdown",
   "id": "fbb22eb8",
   "metadata": {
    "deletable": false,
    "editable": false,
    "nbgrader": {
     "cell_type": "markdown",
     "checksum": "4c784be61e5236c34b2d65419ccec44c",
     "grade": false,
     "grade_id": "cell-dd768254e202fb7f",
     "locked": true,
     "schema_version": 3,
     "solution": false,
     "task": false
    }
   },
   "source": [
    "## Exercice 3 : émission de $CO_2$ en fonction du type de moteur\n",
    "Dans le fichier 'voitures.csv', la colonne n°6 (en commençant la numéroration à 0) fournit le type de carburant utilisé et la colonne n°14 l'émission de $CO_2$.\n",
    "\n",
    "1. Écrire et documenter une fonction `carburants` qui renvoie la liste des divers types de carburant sans doublon (pensez à la fonction `sorted` que nous avons déjà rencontrée).\n"
   ]
  },
  {
   "cell_type": "code",
   "execution_count": null,
   "id": "355cef33",
   "metadata": {
    "deletable": false,
    "nbgrader": {
     "cell_type": "code",
     "checksum": "f7243e06d026acd7e681cea67dcd7d6c",
     "grade": false,
     "grade_id": "cell-179b18c212aa0917",
     "locked": false,
     "schema_version": 3,
     "solution": true,
     "task": false
    }
   },
   "outputs": [],
   "source": [
    "# Écrire votre code ici\n",
    "raise NotImplementedError # effacer cette ligne une fois le code écrit"
   ]
  },
  {
   "cell_type": "code",
   "execution_count": null,
   "id": "50e5c172",
   "metadata": {
    "deletable": false,
    "editable": false,
    "nbgrader": {
     "cell_type": "code",
     "checksum": "03fc20cb475a1da09bd50111cde7a127",
     "grade": true,
     "grade_id": "cell-2267b5de5bdb80fc",
     "locked": true,
     "points": 2,
     "schema_version": 3,
     "solution": false,
     "task": false
    }
   },
   "outputs": [],
   "source": [
    "assert(len(carburants('voitures.csv')) == 13)"
   ]
  },
  {
   "cell_type": "markdown",
   "id": "518a4460",
   "metadata": {
    "deletable": false,
    "editable": false,
    "nbgrader": {
     "cell_type": "markdown",
     "checksum": "45c939d8d15b87f68c7ccbaf1ffe5360",
     "grade": false,
     "grade_id": "cell-d4f806899889fbd4",
     "locked": true,
     "schema_version": 3,
     "solution": false,
     "task": false
    }
   },
   "source": [
    "2. Écrire et documenter une fonction `emission` qui renvoie un dictionnaire dont les clefs sont les différents types de carburant utilisés et les valeur la moyenne de $CO_2$ émis pour ce type de carburant. Vous pouvez utiliser les fonctions:\n",
    "* `int` qui prend une chaîne de caractères supposée représenter un entier en argument et renvoie l'entier correspondant,\n",
    "* `sum` qui avec une liste en argument renvoie la somme des éléments de la liste. "
   ]
  },
  {
   "cell_type": "code",
   "execution_count": null,
   "id": "d73510b4",
   "metadata": {
    "deletable": false,
    "nbgrader": {
     "cell_type": "code",
     "checksum": "1dd8d6cad5ed71ddb044fde28406969b",
     "grade": false,
     "grade_id": "cell-f906ce341fa511c1",
     "locked": false,
     "schema_version": 3,
     "solution": true,
     "task": false
    }
   },
   "outputs": [],
   "source": [
    "# Écrire votre code ici\n",
    "raise NotImplementedError # effacer cette ligne une fois le code écrit"
   ]
  },
  {
   "cell_type": "code",
   "execution_count": null,
   "id": "947310b6",
   "metadata": {
    "deletable": false,
    "editable": false,
    "nbgrader": {
     "cell_type": "code",
     "checksum": "b65120bd9ef1f09a54f485ca1be8155c",
     "grade": true,
     "grade_id": "cell-eaaae3d5f017a85f",
     "locked": true,
     "points": 2,
     "schema_version": 3,
     "solution": false,
     "task": false
    }
   },
   "outputs": [],
   "source": [
    "e = emission('voitures.csv')\n",
    "assert(abs(e['FE'] - 191.1) < 0.00001)"
   ]
  },
  {
   "cell_type": "markdown",
   "id": "e9d91445",
   "metadata": {
    "deletable": false,
    "editable": false,
    "nbgrader": {
     "cell_type": "markdown",
     "checksum": "4917cfb69185724f27e87a5886136ef1",
     "grade": false,
     "grade_id": "cell-26e8905eddb4f6b0",
     "locked": true,
     "schema_version": 3,
     "solution": false,
     "task": false
    }
   },
   "source": [
    "<div class=\"alert alert-success\">\n",
    "    <h2>Les points à retenir</h2>\n",
    "    \n",
    "* méthode `split` sur une chaîne de caractères\n",
    "* fonction `sum` sur une liste\n",
    "* fonction `int` pour transformer une chaîne en entier\n",
    "* compréhensions pour créer un nouveau dictionnaire\n",
    "</div>"
   ]
  }
 ],
 "metadata": {
  "kernelspec": {
   "display_name": "Python 3 (ipykernel)",
   "language": "python",
   "name": "python3"
  },
  "language_info": {
   "codemirror_mode": {
    "name": "ipython",
    "version": 3
   },
   "file_extension": ".py",
   "mimetype": "text/x-python",
   "name": "python",
   "nbconvert_exporter": "python",
   "pygments_lexer": "ipython3",
   "version": "3.7.3"
  }
 },
 "nbformat": 4,
 "nbformat_minor": 5
}
