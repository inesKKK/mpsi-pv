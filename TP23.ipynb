{
 "cells": [
  {
   "cell_type": "markdown",
   "id": "ea5d42da",
   "metadata": {},
   "source": [
    "# ITC - MPSI\n",
    "---"
   ]
  },
  {
   "cell_type": "markdown",
   "id": "4723b14d",
   "metadata": {
    "deletable": false,
    "editable": false,
    "nbgrader": {
     "cell_type": "markdown",
     "checksum": "f4b3bf507c2a0860c89137de5e7bbae8",
     "grade": false,
     "grade_id": "cell-a07903ddaa233c95",
     "locked": true,
     "schema_version": 3,
     "solution": false,
     "task": false
    }
   },
   "source": [
    "# TP23 : Parcours de graphe non orienté\n",
    "\n",
    "On a vu en cours le code d'un parcours générique:"
   ]
  },
  {
   "cell_type": "code",
   "execution_count": null,
   "id": "84b99d14",
   "metadata": {
    "deletable": false,
    "editable": false,
    "nbgrader": {
     "cell_type": "code",
     "checksum": "3effc11b9d7003617d3f97ab38863dd0",
     "grade": false,
     "grade_id": "cell-747df5a4f07c82f0",
     "locked": true,
     "schema_version": 3,
     "solution": false,
     "task": false
    }
   },
   "outputs": [],
   "source": [
    "def parcours(ladj, s0):\n",
    "    decouverts = sac_vide()\n",
    "    ajoute_dans_sac(decouverts, s0)\n",
    "    marques = [ False ] * len(ladj)\n",
    "    while not est_vide(decouverts):\n",
    "        s = prends_dans_sac(decouverts)\n",
    "        if not marques[s]:\n",
    "            marques[s] = True\n",
    "            for t in ladj[s] :\n",
    "                ajoute_dans_sac(decouverts, t)"
   ]
  },
  {
   "cell_type": "markdown",
   "id": "a3744c59",
   "metadata": {
    "deletable": false,
    "editable": false,
    "nbgrader": {
     "cell_type": "markdown",
     "checksum": "ee5dfdcc9ef3f410c0d94f23f6c79a3d",
     "grade": false,
     "grade_id": "cell-10cb353ae1002fe9",
     "locked": true,
     "schema_version": 3,
     "solution": false,
     "task": false
    }
   },
   "source": [
    "Je donne une première implémentation de `sac` avec des ensembles (notion hors programme, c'est uniquement pour que vous puissiez exécuter les tests graphiques qui suivent)."
   ]
  },
  {
   "cell_type": "code",
   "execution_count": null,
   "id": "58c63a5e",
   "metadata": {
    "deletable": false,
    "editable": false,
    "nbgrader": {
     "cell_type": "code",
     "checksum": "eb0d7b71b8280db07fb767b4f10530bd",
     "grade": false,
     "grade_id": "cell-4018a49e3943d21d",
     "locked": true,
     "schema_version": 3,
     "solution": false,
     "task": false
    }
   },
   "outputs": [],
   "source": [
    "def sac_vide():\n",
    "    return set()\n",
    "\n",
    "def ajoute_dans_sac(sac, e):\n",
    "    sac.add(e)\n",
    "\n",
    "def prends_dans_sac(sac):\n",
    "    return sac.pop()\n",
    "\n",
    "def est_vide(sac):\n",
    "    return len(sac) == 0"
   ]
  },
  {
   "cell_type": "markdown",
   "id": "49924b35",
   "metadata": {
    "deletable": false,
    "editable": false,
    "nbgrader": {
     "cell_type": "markdown",
     "checksum": "079b681c5d9c253f9eb8589ce5532034",
     "grade": false,
     "grade_id": "cell-511661c83591f29b",
     "locked": true,
     "schema_version": 3,
     "solution": false,
     "task": false
    }
   },
   "source": [
    "Le but de ce TP est d'implémenter plusieurs structures de données possibles pour un sac et de regarder de plus près le parcours ainsi effectué. Pour tracer le parcours, on utilise la fonction `dessin_graphe` que vous deviez écrire au TP21 adaptée aux graphes non orientés:\n"
   ]
  },
  {
   "cell_type": "code",
   "execution_count": null,
   "id": "dec5dde9",
   "metadata": {
    "deletable": false,
    "editable": false,
    "nbgrader": {
     "cell_type": "code",
     "checksum": "b13df94b45ba18a4fc293d46bbbdbf7c",
     "grade": false,
     "grade_id": "cell-643a7cc04e647754",
     "locked": true,
     "schema_version": 3,
     "solution": false,
     "task": false
    }
   },
   "outputs": [],
   "source": [
    "from graphviz import Graph\n",
    "\n",
    "def dessin_graphe(L):\n",
    "    graphe = Graph(strict=True)  ## pour ne pas avoir d'arête multiple\n",
    "    arcs = []\n",
    "    for i in range(len(L)):\n",
    "        graphe.node(str(i))\n",
    "        arcs.extend([(str(i), str(j)) for j in L[i]])\n",
    "    graphe.edges(arcs)\n",
    "    return graphe"
   ]
  },
  {
   "cell_type": "markdown",
   "id": "eabae489",
   "metadata": {
    "deletable": false,
    "editable": false,
    "nbgrader": {
     "cell_type": "markdown",
     "checksum": "2dd98ece89b856580890ab2b119be176",
     "grade": false,
     "grade_id": "cell-ca87244a22ed4bcb",
     "locked": true,
     "schema_version": 3,
     "solution": false,
     "task": false
    }
   },
   "source": [
    "Exemple d'utilisation avec un graphe qui est une grille:"
   ]
  },
  {
   "cell_type": "code",
   "execution_count": null,
   "id": "0ce4f460",
   "metadata": {
    "deletable": false,
    "editable": false,
    "nbgrader": {
     "cell_type": "code",
     "checksum": "df16bf46b542ba5772c49db564578ca6",
     "grade": false,
     "grade_id": "cell-05ceae32b221209c",
     "locked": true,
     "schema_version": 3,
     "solution": false,
     "task": false
    }
   },
   "outputs": [],
   "source": [
    "def grille(d):\n",
    "    \"\"\"Construction d'un graphe qui est un réseau carré de taille dxd\"\"\"\n",
    "    ladj = [ [] for _ in range(d*d) ]\n",
    "\n",
    "    for i in range(d):\n",
    "        for j in range(d):\n",
    "            n = d*i + j\n",
    "            if n % d != 0:\n",
    "                ladj[n-1].append(n)\n",
    "                ladj[n].append(n-1)\n",
    "            if n // d != 0:\n",
    "                ladj[n-d].append(n)\n",
    "                ladj[n].append(n-d)\n",
    "    return ladj"
   ]
  },
  {
   "cell_type": "code",
   "execution_count": null,
   "id": "99e9e713",
   "metadata": {
    "deletable": false,
    "editable": false,
    "nbgrader": {
     "cell_type": "code",
     "checksum": "390192861ad4fe7251332556404ccb48",
     "grade": false,
     "grade_id": "cell-1832145ac245836d",
     "locked": true,
     "schema_version": 3,
     "solution": false,
     "task": false
    }
   },
   "outputs": [],
   "source": [
    "from IPython import display\n",
    "\n",
    "gr = dessin_graphe(grille(3))\n",
    "display.display(gr)"
   ]
  },
  {
   "cell_type": "markdown",
   "id": "310eb049",
   "metadata": {
    "deletable": false,
    "editable": false,
    "nbgrader": {
     "cell_type": "markdown",
     "checksum": "5a77426fe8bfd88b6e8143cb0b56ff22",
     "grade": false,
     "grade_id": "cell-09ce39c72c13aa76",
     "locked": true,
     "schema_version": 3,
     "solution": false,
     "task": false
    }
   },
   "source": [
    "et on complète un peu la fonction parcours pour voir le parcours au fur et à mesure:"
   ]
  },
  {
   "cell_type": "code",
   "execution_count": null,
   "id": "b0309fec",
   "metadata": {
    "deletable": false,
    "editable": false,
    "nbgrader": {
     "cell_type": "code",
     "checksum": "3e5f61a5a49453ecd1a9bf913bc3a429",
     "grade": false,
     "grade_id": "cell-fd9d63907fa42456",
     "locked": true,
     "schema_version": 3,
     "solution": false,
     "task": false
    }
   },
   "outputs": [],
   "source": [
    "from time import sleep\n",
    "\n",
    "def parcours(ladj, s0, pas_a_pas=False):\n",
    "    gr = dessin_graphe(ladj)\n",
    "    dis = display.display(gr, display_id='gr'+str(s0))   ## dessin du graphe initial\n",
    "    decouverts = sac_vide()\n",
    "    ajoute_dans_sac(decouverts, s0)\n",
    "    marques = [ False ] * len(ladj)\n",
    "    parent = {}\n",
    "    while not est_vide(decouverts):\n",
    "        s = prends_dans_sac(decouverts)\n",
    "        if not marques[s]:\n",
    "            marques[s] = True\n",
    "            gr.node(str(s), style='filled') ## on marque le sommet pour le dessin\n",
    "            if s in parent: ## si on sait d'où on vient pour s\n",
    "                gr.edge(str(parent[s]), str(s), color='red', penwidth='3')  ## on colore l'arête par laquelle\n",
    "                                                                            ## on est passé\n",
    "            else:\n",
    "                gr.node(str(s), style='filled', fillcolor='pink')  ## on modifie la couleur du sommet initial\n",
    "            for t in ladj[s] :\n",
    "                ajoute_dans_sac(decouverts, t)\n",
    "                parent[t] = s\n",
    "            if pas_a_pas:        \n",
    "                sleep(.3)\n",
    "            display.update_display(gr, display_id='gr'+str(s0))   ## dessin du graphe à la fin d'une itération"
   ]
  },
  {
   "cell_type": "markdown",
   "id": "0295da77",
   "metadata": {
    "deletable": false,
    "editable": false,
    "nbgrader": {
     "cell_type": "markdown",
     "checksum": "03c0d462bb37877388e52a46c9a66aa5",
     "grade": false,
     "grade_id": "cell-a535d223d030612e",
     "locked": true,
     "schema_version": 3,
     "solution": false,
     "task": false
    }
   },
   "source": [
    "Vous pouvez tester sur des graphes de tailles diverses en modifiant le code suivant:"
   ]
  },
  {
   "cell_type": "code",
   "execution_count": null,
   "id": "da85c418",
   "metadata": {},
   "outputs": [],
   "source": [
    "d = 5\n",
    "s0 = (d*d)//2\n",
    "lentement = True\n",
    "\n",
    "parcours(grille(d), s0, lentement)"
   ]
  },
  {
   "cell_type": "markdown",
   "id": "7a49e301",
   "metadata": {
    "deletable": false,
    "editable": false,
    "nbgrader": {
     "cell_type": "markdown",
     "checksum": "01db6aed9b54bf6b507a13896b63f37f",
     "grade": false,
     "grade_id": "cell-3f4f05bfe1f5d87f",
     "locked": true,
     "schema_version": 3,
     "solution": false,
     "task": false
    }
   },
   "source": [
    "### Exercice 1 : Parcours en profondeur\n",
    "Réécrivez les fonctions de manipulation d'un sac pour qu'il soit gérer comme une file et regardez comment évolue le parcours du graphe en forme de grille pour une taille 5x5."
   ]
  },
  {
   "cell_type": "code",
   "execution_count": null,
   "id": "1915c2cd",
   "metadata": {},
   "outputs": [],
   "source": [
    "#sac géré comme une pile"
   ]
  },
  {
   "cell_type": "markdown",
   "id": "22b9318f",
   "metadata": {
    "deletable": false,
    "editable": false,
    "nbgrader": {
     "cell_type": "markdown",
     "checksum": "2288d1003f71f2e31280108267467596",
     "grade": false,
     "grade_id": "cell-a11acbe020cd5f89",
     "locked": true,
     "schema_version": 3,
     "solution": false,
     "task": false
    }
   },
   "source": [
    "Testez votre code sur plusieurs tailles de grilles: en principe vous devez remarquer de longues branches et pas beaucoup de bifurcations."
   ]
  },
  {
   "cell_type": "code",
   "execution_count": null,
   "id": "5a4ea5d8",
   "metadata": {},
   "outputs": [],
   "source": [
    "d = 5\n",
    "s0 = (d*d)//2\n",
    "lentement = True\n",
    "\n",
    "parcours(grille(d), s0, lentement)"
   ]
  },
  {
   "cell_type": "markdown",
   "id": "ee9878c7",
   "metadata": {
    "deletable": false,
    "editable": false,
    "nbgrader": {
     "cell_type": "markdown",
     "checksum": "007b5572ad542712461758eb90b1587f",
     "grade": false,
     "grade_id": "cell-58dd9c36e6a6ab1d",
     "locked": true,
     "schema_version": 3,
     "solution": false,
     "task": false
    }
   },
   "source": [
    "### Exercice : Graphe complet\n",
    "Un graphe complet est un graphe tel que deux sommets quelconques de ce graphe sont toujours reliés par une arête.\n",
    "\n",
    "Écrire une fonction `complet` qui prend en argument un nombre $n$ de sommets et fabrique la représentation par liste d'adjacence du graphe non orienté complet à $n$ sommets numérotés de 0 à $n-1$. Tester ensuite le pracours en profondeur sur ce graphe pour vérifier sa forme globale."
   ]
  },
  {
   "cell_type": "code",
   "execution_count": null,
   "id": "3e00d74a",
   "metadata": {},
   "outputs": [],
   "source": [
    "#fonction"
   ]
  },
  {
   "cell_type": "code",
   "execution_count": null,
   "id": "dd54da25",
   "metadata": {},
   "outputs": [],
   "source": [
    "#test"
   ]
  },
  {
   "cell_type": "markdown",
   "id": "1b17ad5f",
   "metadata": {
    "deletable": false,
    "editable": false,
    "nbgrader": {
     "cell_type": "markdown",
     "checksum": "f15ab8c79aea0188f139223256b37a21",
     "grade": false,
     "grade_id": "cell-959d2a20398c953c",
     "locked": true,
     "schema_version": 3,
     "solution": false,
     "task": false
    }
   },
   "source": [
    "### Exercice 3 : Parcours en largeur\n",
    "Dans un parcours en largeur, un sac est gérer comme une file: l'élément qu'on récupère est le plus ancien qui s'y trouve. Pour celà, on utilise la classe `deque` du module `collections` de `python`, qui permet d'ajouter un élément à gauche et de récupérer un élément à droite:"
   ]
  },
  {
   "cell_type": "code",
   "execution_count": null,
   "id": "09af3c2b",
   "metadata": {
    "deletable": false,
    "editable": false,
    "nbgrader": {
     "cell_type": "code",
     "checksum": "9f3c98b5118601e82f21385c923241f5",
     "grade": false,
     "grade_id": "cell-82ed0d69332feb93",
     "locked": true,
     "schema_version": 3,
     "solution": false,
     "task": false
    }
   },
   "outputs": [],
   "source": [
    "from collections import deque\n",
    "\n",
    "file = deque()\n",
    "file.appendleft(1)\n",
    "file.appendleft(2)\n",
    "file.appendleft(3)\n",
    "print('contenu de la file : ' + str(file))\n",
    "print('recuperation d\\'un element : ' + str(file.pop()))\n",
    "print('nouveau contenu de la file : ' + str(file))"
   ]
  },
  {
   "cell_type": "markdown",
   "id": "bc38d47d",
   "metadata": {
    "deletable": false,
    "editable": false,
    "nbgrader": {
     "cell_type": "markdown",
     "checksum": "164cb073fcd74012290ea4fd4fbd04b6",
     "grade": false,
     "grade_id": "cell-19f1b350273d3d9e",
     "locked": true,
     "schema_version": 3,
     "solution": false,
     "task": false
    }
   },
   "source": [
    "Testez votre code sur plusieurs tailles de grilles: en principe vous devez remarquer des branches courtes et beaucoup de bifurcations."
   ]
  },
  {
   "cell_type": "code",
   "execution_count": null,
   "id": "929223f4",
   "metadata": {},
   "outputs": [],
   "source": [
    "#sac géré comme une file"
   ]
  },
  {
   "cell_type": "code",
   "execution_count": null,
   "id": "ac5a9b91",
   "metadata": {},
   "outputs": [],
   "source": [
    "d = 5\n",
    "s0 = (d*d)//2\n",
    "lentement = True\n",
    "\n",
    "parcours(grille(d), s0, lentement)"
   ]
  },
  {
   "cell_type": "markdown",
   "id": "be668dfa",
   "metadata": {
    "deletable": false,
    "editable": false,
    "nbgrader": {
     "cell_type": "markdown",
     "checksum": "5c28c15cbdd17c3280e4a93dd1c879bb",
     "grade": false,
     "grade_id": "cell-92a04d507a2d4da5",
     "locked": true,
     "schema_version": 3,
     "solution": false,
     "task": false
    }
   },
   "source": [
    "### Exercice 4 : Test sur un graphe complet\n",
    "Tester le parcours en largeur sur un graphe complet pour voir la forme du parcours."
   ]
  },
  {
   "cell_type": "code",
   "execution_count": null,
   "id": "144c61a9",
   "metadata": {},
   "outputs": [],
   "source": [
    "# test"
   ]
  },
  {
   "cell_type": "markdown",
   "id": "96a9ad79",
   "metadata": {
    "deletable": false,
    "editable": false,
    "nbgrader": {
     "cell_type": "markdown",
     "checksum": "20c0e665d3b3bf37797e8b385a4e22fe",
     "grade": false,
     "grade_id": "cell-3f676a73ea422779",
     "locked": true,
     "schema_version": 3,
     "solution": false,
     "task": false
    }
   },
   "source": [
    "### Exercice 5 : Et les graphes orientés ?\n",
    "Adapter tout (y compris l'affichage avec `Digraph` à la place de `Graph`) au graphes orientés."
   ]
  },
  {
   "cell_type": "code",
   "execution_count": null,
   "id": "9aa34eaa",
   "metadata": {},
   "outputs": [],
   "source": []
  },
  {
   "cell_type": "code",
   "execution_count": null,
   "id": "974e269f",
   "metadata": {},
   "outputs": [],
   "source": []
  },
  {
   "cell_type": "code",
   "execution_count": null,
   "id": "71eb5159",
   "metadata": {},
   "outputs": [],
   "source": []
  },
  {
   "cell_type": "code",
   "execution_count": null,
   "id": "ab8890c5",
   "metadata": {},
   "outputs": [],
   "source": []
  }
 ],
 "metadata": {
  "kernelspec": {
   "display_name": "Python 3 (ipykernel)",
   "language": "python",
   "name": "python3"
  },
  "language_info": {
   "codemirror_mode": {
    "name": "ipython",
    "version": 3
   },
   "file_extension": ".py",
   "mimetype": "text/x-python",
   "name": "python",
   "nbconvert_exporter": "python",
   "pygments_lexer": "ipython3",
   "version": "3.7.3"
  }
 },
 "nbformat": 4,
 "nbformat_minor": 5
}
