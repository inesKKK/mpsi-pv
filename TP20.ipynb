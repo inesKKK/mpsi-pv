{
 "cells": [
  {
   "cell_type": "markdown",
   "id": "d13fabb9",
   "metadata": {},
   "source": [
    "# ITC - MPSI\n",
    "---"
   ]
  },
  {
   "cell_type": "markdown",
   "id": "6f5c3c03",
   "metadata": {
    "deletable": false,
    "editable": false,
    "nbgrader": {
     "cell_type": "markdown",
     "checksum": "1c4831adb135fd5a7516da2d90c7e1c4",
     "grade": false,
     "grade_id": "cell-d6c1e75fba112bde",
     "locked": true,
     "schema_version": 3,
     "solution": false,
     "task": false
    }
   },
   "source": [
    "# TP20 : Matrices d'adjacence\n",
    "Le but de ce TP est de manipuler des graphes sous forme de matrices d'adjacence.\n",
    "\n",
    "Une _matrice_ sera donnée sous forme de liste de listes. "
   ]
  },
  {
   "cell_type": "markdown",
   "id": "058ff8e8",
   "metadata": {
    "deletable": false,
    "editable": false,
    "nbgrader": {
     "cell_type": "markdown",
     "checksum": "35caf1a87e0d060596357380be7fd02f",
     "grade": false,
     "grade_id": "cell-15c04f33371fce0d",
     "locked": true,
     "schema_version": 3,
     "solution": false,
     "task": false
    }
   },
   "source": [
    "### Exercice 1: comptages divers\n",
    "1. Écrire et docmenter une fonction `degre_sortant` qui prend en argument la matrice d'adjacence d'un graphe et le numéro d'un sommet et renvoie le degré sortant de ce sommet."
   ]
  },
  {
   "cell_type": "code",
   "execution_count": null,
   "id": "89615ea3",
   "metadata": {
    "deletable": false,
    "nbgrader": {
     "cell_type": "code",
     "checksum": "237a555a67565c9bd6a89d6ebd9d24b1",
     "grade": false,
     "grade_id": "cell-577393c33a9791cb",
     "locked": false,
     "schema_version": 3,
     "solution": true,
     "task": false
    }
   },
   "outputs": [],
   "source": [
    "# Écrire votre code ici\n",
    "raise NotImplementedError # effacer cette ligne une fois le code écrit"
   ]
  },
  {
   "cell_type": "code",
   "execution_count": null,
   "id": "97b380ef",
   "metadata": {
    "deletable": false,
    "editable": false,
    "nbgrader": {
     "cell_type": "code",
     "checksum": "ce86bf12e5d0cc79ebd04c4e6e79f0ab",
     "grade": true,
     "grade_id": "cell-c4a53afeb017c209",
     "locked": true,
     "points": 2,
     "schema_version": 3,
     "solution": false,
     "task": false
    }
   },
   "outputs": [],
   "source": [
    "M = [ \n",
    "    [1, 0, 1, 0],\n",
    "    [1, 1, 0, 0],\n",
    "    [0, 0, 0, 0],\n",
    "    [0, 1, 0, 0]\n",
    "]\n",
    "assert (degre_sortant(M, 0) == 2)\n",
    "assert (degre_sortant(M, 1) == 2)\n",
    "assert (degre_sortant(M, 2) == 0)\n",
    "assert (degre_sortant(M, 3) == 1)"
   ]
  },
  {
   "cell_type": "markdown",
   "id": "053156ae",
   "metadata": {
    "deletable": false,
    "editable": false,
    "nbgrader": {
     "cell_type": "markdown",
     "checksum": "2cbb3bfd597f89eda4de92ef5e33aa90",
     "grade": false,
     "grade_id": "cell-24b96d9ccac283a9",
     "locked": true,
     "schema_version": 3,
     "solution": false,
     "task": false
    }
   },
   "source": [
    "2. Écrire et docmenter une fonction `degre_entrant` qui prend en argument la matrice d'adjacence d'un graphe et le numéro d'un sommet et renvoie le degré entrant de ce sommet."
   ]
  },
  {
   "cell_type": "code",
   "execution_count": null,
   "id": "fc9f5776",
   "metadata": {
    "deletable": false,
    "nbgrader": {
     "cell_type": "code",
     "checksum": "05fbd32a775e1859b893a7d4e4cd86df",
     "grade": false,
     "grade_id": "cell-c4eb08eeda3abcbc",
     "locked": false,
     "schema_version": 3,
     "solution": true,
     "task": false
    }
   },
   "outputs": [],
   "source": [
    "# Écrire votre code ici\n",
    "raise NotImplementedError # effacer cette ligne une fois le code écrit"
   ]
  },
  {
   "cell_type": "code",
   "execution_count": null,
   "id": "4baf6506",
   "metadata": {
    "deletable": false,
    "editable": false,
    "nbgrader": {
     "cell_type": "code",
     "checksum": "5af4b25231183166c7226feb233eaf82",
     "grade": true,
     "grade_id": "cell-c4494e7a196ebbb3",
     "locked": true,
     "points": 2,
     "schema_version": 3,
     "solution": false,
     "task": false
    }
   },
   "outputs": [],
   "source": [
    "M = [ \n",
    "    [1, 0, 1, 0],\n",
    "    [1, 1, 0, 0],\n",
    "    [0, 1, 0, 0],\n",
    "    [0, 1, 0, 0]\n",
    "]\n",
    "assert (degre_entrant(M, 0) == 2)\n",
    "assert (degre_entrant(M, 1) == 3)\n",
    "assert (degre_entrant(M, 2) == 1)\n",
    "assert (degre_entrant(M, 3) == 0)"
   ]
  },
  {
   "cell_type": "markdown",
   "id": "17b6038f",
   "metadata": {
    "deletable": false,
    "editable": false,
    "nbgrader": {
     "cell_type": "markdown",
     "checksum": "095218211115d0871dcece09f5e70675",
     "grade": false,
     "grade_id": "cell-6df4650cc17de41a",
     "locked": true,
     "schema_version": 3,
     "solution": false,
     "task": false
    }
   },
   "source": [
    "3. Écrire et documenter une fonction `boucles` qui prend en argument la matrice d'adjacence d'un graphe et renvoie le nombre de boucles de ce graphe."
   ]
  },
  {
   "cell_type": "code",
   "execution_count": null,
   "id": "a103eb74",
   "metadata": {
    "deletable": false,
    "nbgrader": {
     "cell_type": "code",
     "checksum": "af7ae06cfa4a8b4f46cf7dc684ddf624",
     "grade": false,
     "grade_id": "cell-15f22478368a4e6b",
     "locked": false,
     "schema_version": 3,
     "solution": true,
     "task": false
    }
   },
   "outputs": [],
   "source": [
    "# Écrire votre code ici\n",
    "raise NotImplementedError # effacer cette ligne une fois le code écrit"
   ]
  },
  {
   "cell_type": "code",
   "execution_count": null,
   "id": "b7c16c73",
   "metadata": {
    "deletable": false,
    "editable": false,
    "nbgrader": {
     "cell_type": "code",
     "checksum": "1a98a7e25c48f217be4d88a1c8754e65",
     "grade": true,
     "grade_id": "cell-075adc6de00bb29e",
     "locked": true,
     "points": 2,
     "schema_version": 3,
     "solution": false,
     "task": false
    }
   },
   "outputs": [],
   "source": [
    "M = [ \n",
    "    [1, 0, 1, 0],\n",
    "    [1, 1, 0, 0],\n",
    "    [0, 1, 0, 0],\n",
    "    [0, 1, 0, 1]\n",
    "]\n",
    "assert (boucles(M) == 3)\n",
    "\n",
    "t = 10\n",
    "M = [ [0]*t for _ in range(t) ]\n",
    "for i in range(t):\n",
    "    M[i][i] = 1\n",
    "assert (boucles(M) == t)\n",
    "\n",
    "M = [ [1]*t for _ in range(t) ]\n",
    "for i in range(t):\n",
    "    M[i][i] = 0\n",
    "assert (boucles(M) == 0)"
   ]
  },
  {
   "cell_type": "markdown",
   "id": "a5d4867e",
   "metadata": {
    "deletable": false,
    "editable": false,
    "nbgrader": {
     "cell_type": "markdown",
     "checksum": "e8cd086266d437c94c3f3a65d0fa1db1",
     "grade": false,
     "grade_id": "cell-512ec8da41edc96c",
     "locked": true,
     "schema_version": 3,
     "solution": false,
     "task": false
    }
   },
   "source": [
    "4. Écrire et documenter une fonction `arcs` qui prend en argument la matrice d'adjacence d'un graphe et renvoie le nombre d'arcs de ce graphe."
   ]
  },
  {
   "cell_type": "code",
   "execution_count": null,
   "id": "dacda3c2",
   "metadata": {
    "deletable": false,
    "nbgrader": {
     "cell_type": "code",
     "checksum": "7198465e2e0997dde0c48204a0f4c97e",
     "grade": false,
     "grade_id": "cell-583fbead88cec0ae",
     "locked": false,
     "schema_version": 3,
     "solution": true,
     "task": false
    }
   },
   "outputs": [],
   "source": [
    "# Écrire votre code ici\n",
    "raise NotImplementedError # effacer cette ligne une fois le code écrit"
   ]
  },
  {
   "cell_type": "code",
   "execution_count": null,
   "id": "0e8ea8c2",
   "metadata": {
    "deletable": false,
    "editable": false,
    "nbgrader": {
     "cell_type": "code",
     "checksum": "ad8886054bfa8e867768d21493ac68da",
     "grade": true,
     "grade_id": "cell-39bfbf2a1200a1a6",
     "locked": true,
     "points": 2,
     "schema_version": 3,
     "solution": false,
     "task": false
    }
   },
   "outputs": [],
   "source": [
    "M = [ \n",
    "    [1, 0, 1, 0],\n",
    "    [1, 1, 0, 0],\n",
    "    [0, 1, 0, 0],\n",
    "    [0, 1, 0, 1]\n",
    "]\n",
    "assert (arcs(M) == 7)\n",
    "\n",
    "t = 10\n",
    "M = [ [0]*t for _ in range(t) ]\n",
    "assert (arcs(M) == 0)\n",
    "\n",
    "M = [ [1]*t for _ in range(t) ]\n",
    "assert (arcs(M) == t*t)"
   ]
  },
  {
   "cell_type": "markdown",
   "id": "3d0750dc",
   "metadata": {
    "deletable": false,
    "editable": false,
    "nbgrader": {
     "cell_type": "markdown",
     "checksum": "8eae406582eef12c2706da0beca5807b",
     "grade": false,
     "grade_id": "cell-878aaadab05ea7bd",
     "locked": true,
     "schema_version": 3,
     "solution": false,
     "task": false
    }
   },
   "source": [
    "### Exercice 2 : distance\n",
    "On définit la _distance_ d'un sommet $i$ vers un sommet $j$ comme la longueur du plus court chemin allant de $i$ à $j$. On la note $d(i,j)$.\n",
    "\n",
    "1. Si un graphe possède $n$ sommets, quelle est a la longueur maximale d'un chemin qui ne passe pas deux fois par le même sommet (sauf éventuellement ses extrêmités qui peuvent être égales) ?"
   ]
  },
  {
   "cell_type": "code",
   "execution_count": null,
   "id": "6c0c5848",
   "metadata": {
    "deletable": false,
    "nbgrader": {
     "cell_type": "code",
     "checksum": "2c44c56e71aad6162244f09a4aaf4536",
     "grade": true,
     "grade_id": "cell-1ae6c57e486b6503",
     "locked": false,
     "points": 1,
     "schema_version": 3,
     "solution": true,
     "task": false
    }
   },
   "outputs": [],
   "source": [
    "# Écrire votre code ici\n",
    "raise NotImplementedError # effacer cette ligne une fois le code écrit"
   ]
  },
  {
   "cell_type": "markdown",
   "id": "9949c209",
   "metadata": {
    "deletable": false,
    "editable": false,
    "nbgrader": {
     "cell_type": "markdown",
     "checksum": "a6cca354ea4e967b064fc30ae4fb12b8",
     "grade": false,
     "grade_id": "cell-f9d822de12fccb5b",
     "locked": true,
     "schema_version": 3,
     "solution": false,
     "task": false
    }
   },
   "source": [
    "S'il existe un chemin de $i$ vers $j$ dans un graphe $G=(S,A)$, on a la relation de récurrence suivante:\n",
    "\n",
    "$$d(i,j) = 1 + \\min\\limits_{k\\in S\\mid (i,k)\\in A} d(k,j).$$\n",
    "\n",
    "Il n'est pourtant pas aisé d'écrire une fonction donnant la distance entre deux sommets, car il n'est pas évident de poser un cas initial, et on tombe vite dans un cycle qui entraîne un débordement de pile:\n",
    "* pour savoir si on peut aller de 1 à 3, on vérifie si on peut aller de 1 à 2 et de 2 à 3,\n",
    "* pour savoir si on peut aller de 2 à 3, on vérifie si on peut aller de 2 à 1 et de 1 à 3,\n",
    "* pour savoir si on peut aller de 1 à 3, on vérifie si on peut aller de 1 à 2 et de 2 à 3,\n",
    "* pour savoir si on peut aller de 2 à 3, on vérifie si on peut aller de 2 à 1 et de 1 à 3,\n",
    "* pour savoir si on peut aller de 1 à 3, on vérifie si on peut aller de 1 à 2 et de 2 à 3,\n",
    "* etc.\n",
    "\n",
    "Pour s'en sortir, on va ajouter à notre fonction un marqueur qui sera en quelque sorte le témoin du nombre de sommets qu'on a déjà visités. Si ce marqueur est supérieur au nombre de sommets du graphe, c'est qu'on s'est embarqué dans un cycle, et on arrête le parcours.\n",
    "\n",
    "Ainsi on peut définir\n",
    "$$d'(i, j, \\mu) = \\begin{cases} d(i, j)\\text{ si }\\mu <= |S|\\\\\n",
    "|S|\\text{ sinon}\n",
    "\\end{cases}$$\n",
    "\n",
    "Et on a la relation de récurrence:\n",
    "$$d'(i,j,\\mu) = 1 + \\min\\limits_{k\\in S\\mid (i,k)\\in A} d'(k,j,\\mu+1).$$\n"
   ]
  },
  {
   "cell_type": "markdown",
   "id": "a4fd5f61",
   "metadata": {
    "deletable": false,
    "editable": false,
    "nbgrader": {
     "cell_type": "markdown",
     "checksum": "7b08ae31286912559ca1989e2e9d13e6",
     "grade": false,
     "grade_id": "cell-878aaadab05ea7be",
     "locked": true,
     "schema_version": 3,
     "solution": false,
     "task": false
    }
   },
   "source": [
    "2. Écrire et documenter une fonction `distance` qui prend en argument la matrice d'adjacence d'un graphe, deux sommets de ce graphe (donnés sous la forme de leurs indices dans cette matrice) **tels qu'il existe au moins un chemin du premier vers le deuxième** et un marqueur jouant le rôle qu'on vient de décrire et renvoie la distance du premier sommet vers le deuxième."
   ]
  },
  {
   "cell_type": "code",
   "execution_count": null,
   "id": "f3edbece",
   "metadata": {
    "deletable": false,
    "nbgrader": {
     "cell_type": "code",
     "checksum": "bdb7c612341cb07c5feb1ea669703f87",
     "grade": false,
     "grade_id": "cell-f4deb0bf9f6fc510",
     "locked": false,
     "schema_version": 3,
     "solution": true,
     "task": false
    }
   },
   "outputs": [],
   "source": [
    "# Écrire votre code ici\n",
    "raise NotImplementedError # effacer cette ligne une fois le code écrit"
   ]
  },
  {
   "cell_type": "code",
   "execution_count": null,
   "id": "6c542fbc",
   "metadata": {
    "deletable": false,
    "editable": false,
    "nbgrader": {
     "cell_type": "code",
     "checksum": "8f9dad390ad3b8bee563a81b48cfa2cb",
     "grade": true,
     "grade_id": "cell-2f22d4a60f5c0dc5",
     "locked": true,
     "points": 2,
     "schema_version": 3,
     "solution": false,
     "task": false
    }
   },
   "outputs": [],
   "source": [
    "M = [ \n",
    "    [1, 0, 1, 0],\n",
    "    [1, 1, 0, 0],\n",
    "    [0, 1, 0, 0],\n",
    "    [0, 1, 0, 1]\n",
    "]\n",
    "assert (distance(M, 1, 1, 0) == 0)\n",
    "assert (distance(M, 0, 2, 0) == 1)\n",
    "assert (distance(M, 0, 1, 0) == 2)\n",
    "assert (distance(M, 3, 2, 0) == 3)"
   ]
  },
  {
   "cell_type": "markdown",
   "id": "4e577eba",
   "metadata": {
    "deletable": false,
    "editable": false,
    "nbgrader": {
     "cell_type": "markdown",
     "checksum": "686d0ed57f47f82a078872aba9e3a7eb",
     "grade": false,
     "grade_id": "cell-686a62769749af52",
     "locked": true,
     "schema_version": 3,
     "solution": false,
     "task": false
    }
   },
   "source": [
    "3. Quelle sera la valeur renvoyée par votre fonction s'il n'existe pas de chemin entre les deux sommets fournis en entrée?"
   ]
  },
  {
   "cell_type": "code",
   "execution_count": null,
   "id": "d4d4f9db",
   "metadata": {
    "deletable": false,
    "nbgrader": {
     "cell_type": "code",
     "checksum": "563ecf70d13b83d43ddbc5e9fdc63cc1",
     "grade": true,
     "grade_id": "cell-db7ea525e414e068",
     "locked": false,
     "points": 1,
     "schema_version": 3,
     "solution": true,
     "task": false
    }
   },
   "outputs": [],
   "source": [
    "# Écrire votre code ici\n",
    "raise NotImplementedError # effacer cette ligne une fois le code écrit"
   ]
  },
  {
   "cell_type": "markdown",
   "id": "de3e4291",
   "metadata": {
    "deletable": false,
    "editable": false,
    "nbgrader": {
     "cell_type": "markdown",
     "checksum": "17d4cfbb43ab57b456685f3a5f9b0166",
     "grade": false,
     "grade_id": "cell-6c4b66a9752694dc",
     "locked": true,
     "schema_version": 3,
     "solution": false,
     "task": false
    }
   },
   "source": [
    "### Exercice 3 : sommets atteignables\n",
    "En s'insispirant de la mise en œuvre de la fonction `distance` précédente, écrire et documenter une fonction `atteignables` qui prend en argument la matrice d'adjacence d'un graphe, un sommet de ce graphe, et une liste de sommets et renvoie la liste des sommets atteignables à partir du sommet fourni."
   ]
  },
  {
   "cell_type": "code",
   "execution_count": null,
   "id": "ccc42b15",
   "metadata": {
    "deletable": false,
    "nbgrader": {
     "cell_type": "code",
     "checksum": "1e8271573fab83aa71a69513eed4c9f2",
     "grade": false,
     "grade_id": "cell-76c73ad08488d037",
     "locked": false,
     "schema_version": 3,
     "solution": true,
     "task": false
    }
   },
   "outputs": [],
   "source": [
    "# Écrire votre code ici\n",
    "raise NotImplementedError # effacer cette ligne une fois le code écrit"
   ]
  },
  {
   "cell_type": "code",
   "execution_count": null,
   "id": "bedefbd8",
   "metadata": {
    "deletable": false,
    "editable": false,
    "nbgrader": {
     "cell_type": "code",
     "checksum": "aafad6cd9c27a44a2f9a17e6cd51f4b2",
     "grade": true,
     "grade_id": "cell-9573495c0fbd52db",
     "locked": true,
     "points": 2,
     "schema_version": 3,
     "solution": false,
     "task": false
    }
   },
   "outputs": [],
   "source": [
    "M = [ \n",
    "    [1, 0, 1, 0, 0],\n",
    "    [1, 1, 0, 0, 0],\n",
    "    [0, 1, 0, 0, 0],\n",
    "    [0, 1, 0, 1, 0],\n",
    "    [0, 0, 0, 0, 0]\n",
    "]\n",
    "\n",
    "assert (atteignables(M, 4, []) == [4])\n",
    "assert (sorted(atteignables(M, 0, [])) == [0, 1, 2])\n",
    "assert (sorted(atteignables(M, 3, [])) == [0, 1, 2, 3])"
   ]
  },
  {
   "cell_type": "markdown",
   "id": "372dd631",
   "metadata": {
    "deletable": false,
    "editable": false,
    "nbgrader": {
     "cell_type": "markdown",
     "checksum": "0cf1560a6bd0e64d769624df4e0ca5ed",
     "grade": false,
     "grade_id": "cell-ac2ed2a0d5113962",
     "locked": true,
     "schema_version": 3,
     "solution": false,
     "task": false
    }
   },
   "source": [
    "### Exercice 4 : retournement de situation\n",
    "Écrire et documenter une fonction `miroir` qui prend en argument la matrice d'adjacence d'un graphe et renvoie la matrice d'adjacence du graphe obtenu en retournant les arcs."
   ]
  },
  {
   "cell_type": "code",
   "execution_count": null,
   "id": "87f54f3c",
   "metadata": {
    "deletable": false,
    "nbgrader": {
     "cell_type": "code",
     "checksum": "f7e83080cb1d16da3603ffda5e85c5fc",
     "grade": false,
     "grade_id": "cell-c1475746a13f0aeb",
     "locked": false,
     "schema_version": 3,
     "solution": true,
     "task": false
    }
   },
   "outputs": [],
   "source": [
    "# Écrire votre code ici\n",
    "raise NotImplementedError # effacer cette ligne une fois le code écrit"
   ]
  },
  {
   "cell_type": "code",
   "execution_count": null,
   "id": "217941bf",
   "metadata": {
    "deletable": false,
    "editable": false,
    "nbgrader": {
     "cell_type": "code",
     "checksum": "58dcfefff5dfef933d3c4442a4f44a99",
     "grade": true,
     "grade_id": "cell-68ff9a8944ef1ed2",
     "locked": true,
     "points": 2,
     "schema_version": 3,
     "solution": false,
     "task": false
    }
   },
   "outputs": [],
   "source": [
    "M = miroir ([ \n",
    "    [1, 0, 1, 0],\n",
    "    [1, 1, 0, 0],\n",
    "    [0, 1, 0, 0],\n",
    "    [0, 1, 0, 1]\n",
    "])\n",
    "assert( M == [[1, 1, 0, 0], [0, 1, 1, 1], [1, 0, 0, 0], [0, 0, 0, 1]])"
   ]
  },
  {
   "cell_type": "markdown",
   "id": "8c22e69c",
   "metadata": {
    "deletable": false,
    "editable": false,
    "nbgrader": {
     "cell_type": "markdown",
     "checksum": "2f54d06ce32ac932344769e6b347c91d",
     "grade": false,
     "grade_id": "cell-4fd36d732a3600ff",
     "locked": true,
     "schema_version": 3,
     "solution": false,
     "task": false
    }
   },
   "source": [
    "<div class=\"alert alert-success\">\n",
    "    <h2>Les points à retenir</h2>\n",
    "    \n",
    "* On peut représenter un graphe orienté par une matrice appelée _matrice d'adjacence_ du graphe.\n",
    "</div>"
   ]
  }
 ],
 "metadata": {
  "kernelspec": {
   "display_name": "Python 3 (ipykernel)",
   "language": "python",
   "name": "python3"
  },
  "language_info": {
   "codemirror_mode": {
    "name": "ipython",
    "version": 3
   },
   "file_extension": ".py",
   "mimetype": "text/x-python",
   "name": "python",
   "nbconvert_exporter": "python",
   "pygments_lexer": "ipython3",
   "version": "3.7.3"
  }
 },
 "nbformat": 4,
 "nbformat_minor": 5
}
