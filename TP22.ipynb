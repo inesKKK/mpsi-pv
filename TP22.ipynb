{
 "cells": [
  {
   "cell_type": "markdown",
   "id": "3af7554b",
   "metadata": {},
   "source": [
    "# ITC - MPSI\n",
    "---"
   ]
  },
  {
   "cell_type": "markdown",
   "id": "2d1b4dea",
   "metadata": {
    "deletable": false,
    "editable": false,
    "nbgrader": {
     "cell_type": "markdown",
     "checksum": "1dbabfa880f9c071c75af8d6323a9e64",
     "grade": false,
     "grade_id": "cell-0e6b1bfd916fa0c4",
     "locked": true,
     "schema_version": 3,
     "solution": false,
     "task": false
    }
   },
   "source": [
    "# TP22 : Exploration d'un vrai graphe\n",
    "Le but de ce TP est d'explorer un graphe provenant de données réelles. Il s'agit ici d'explorer les followers à partir du compte [@ENSdeLyon](https://twitter.com/ENSdeLyon). (J'ai emprunté le fichier à un collègue.)\n",
    "\n",
    "Les données se trouvent dans le fichier `ENSdeLyon.graph`.\n",
    "\n",
    "Elles ont le format suivant:\n",
    "* la première ligne contient le nombre de comptes répertoriés, soit $n$;\n",
    "* les $n$ lignes suivantes contiennent les noms des comptes;\n",
    "* la ligne suivante contient le nombre de liens de type `followers`, soit $f$;\n",
    "* les $f$ lignes suivantes contiennent chacune deux entiers : l'indice du compte qui suit et l'indice du compte qui est suivi (les comptes sont numérotés à partir de 0)."
   ]
  },
  {
   "cell_type": "markdown",
   "id": "abddeca6",
   "metadata": {
    "deletable": false,
    "editable": false,
    "nbgrader": {
     "cell_type": "markdown",
     "checksum": "f588373755f4dd7af59ed4d7724cd09d",
     "grade": false,
     "grade_id": "cell-79e4e97b67dc52ce",
     "locked": true,
     "schema_version": 3,
     "solution": false,
     "task": false
    }
   },
   "source": [
    "### Exercice 1 : Taille\n",
    "En allant chercher les informations dans le fichier (avec du code), combien y a-t-il de comptes répertoriés dans le fichier `ENSdeLyon.graph`(n'oubliez pas le chemin d'accès complet si vous êtes sur le serveur de TP) ? Combien y a-t-il de liens ?   \n",
    "\n",
    "Si on considère le graphe orienté dont les sommets sont les comptes et les arcs les relations suiveur/suivi, quelle est la proportion d'arcs dans le graphe par rapport au plus grand nombre d'arcs possibles?\n",
    "\n",
    "(Laissez le code que vous écrivez pour avoir la réponse dans la cellule suivante, en plus de compléter les valeurs.)"
   ]
  },
  {
   "cell_type": "code",
   "execution_count": null,
   "id": "069ba42a",
   "metadata": {
    "deletable": false,
    "nbgrader": {
     "cell_type": "code",
     "checksum": "4f36a5d169afb7d6d9d47a9cb151b219",
     "grade": false,
     "grade_id": "cell-dc5d90f19e5a0fee",
     "locked": false,
     "schema_version": 3,
     "solution": true,
     "task": false
    }
   },
   "outputs": [],
   "source": [
    "nb_accounts = 0    #à modifier\n",
    "nb_follows  = 0    #à modifier\n",
    "proportion  = 0    #à modifier\n",
    "# Écrire votre code ici\n",
    "raise NotImplementedError # effacer cette ligne une fois le code écrit"
   ]
  },
  {
   "cell_type": "code",
   "execution_count": null,
   "id": "c416acac",
   "metadata": {
    "deletable": false,
    "editable": false,
    "nbgrader": {
     "cell_type": "code",
     "checksum": "5d18e9dbf231a14212c00b2e35532e90",
     "grade": true,
     "grade_id": "cell-f0e94fa47f0a4c20",
     "locked": true,
     "points": 1,
     "schema_version": 3,
     "solution": false,
     "task": false
    }
   },
   "outputs": [],
   "source": []
  },
  {
   "cell_type": "markdown",
   "id": "eca46b35",
   "metadata": {
    "deletable": false,
    "editable": false,
    "nbgrader": {
     "cell_type": "markdown",
     "checksum": "adfee05d5b55f9b4d527e3b5fd0b41e0",
     "grade": false,
     "grade_id": "cell-d73e92400348a104",
     "locked": true,
     "schema_version": 3,
     "solution": false,
     "task": false
    }
   },
   "source": [
    "### Exercice 2 : Coder le graphe\n",
    "En principe, la réponse à l'exercice précédent a dû vous convaincre que ce n'est pas une bonne idée de représenter ce graphe avec une matrice d'adjacence. On va donc représenter le graphe avec une liste d'adjacence.\n",
    "\n",
    "Écrire et documenter une fonction `graphe_twitter` qui prend en argument un nom de fichier au même format que `ENSdeLyon.graph` et renvoie un couple dont le premier argument est la liste des comptes dans leur ordre d'apparition dans le fichier, et le deuxième argument la liste d'adjacence correspondante."
   ]
  },
  {
   "cell_type": "code",
   "execution_count": null,
   "id": "37d35b80",
   "metadata": {
    "deletable": false,
    "nbgrader": {
     "cell_type": "code",
     "checksum": "c078e79d5fa83b9a2f2d7c8bfb1ebee9",
     "grade": false,
     "grade_id": "cell-26d2a14ba5a0d9a4",
     "locked": false,
     "schema_version": 3,
     "solution": true,
     "task": false
    }
   },
   "outputs": [],
   "source": [
    "# Écrire votre code ici\n",
    "raise NotImplementedError # effacer cette ligne une fois le code écrit"
   ]
  },
  {
   "cell_type": "code",
   "execution_count": null,
   "id": "8602305e",
   "metadata": {
    "deletable": false,
    "editable": false,
    "nbgrader": {
     "cell_type": "code",
     "checksum": "7893a511ba9a1254578e851f92bb2ca3",
     "grade": true,
     "grade_id": "cell-87abb7313c9bb8ce",
     "locked": true,
     "points": 2,
     "schema_version": 3,
     "solution": false,
     "task": false
    }
   },
   "outputs": [],
   "source": [
    "sommets, adj = graphe_twitter('ENSdeLyon.graph')\n",
    "assert(sommets[17] == 'MarioGhossoub')\n",
    "assert(adj[17] == [5443,1113,5720,8305,821,8370,5658,1327,3680,5875,7258,3783,2956,4812,3541,1214])\n",
    "assert(sommets[2022] == 'cosyeli')\n",
    "assert(adj[2022] == [])"
   ]
  },
  {
   "cell_type": "markdown",
   "id": "89c3c8ae",
   "metadata": {
    "deletable": false,
    "editable": false,
    "nbgrader": {
     "cell_type": "markdown",
     "checksum": "802e420545cb2bb033665b9ffcaa3df0",
     "grade": false,
     "grade_id": "cell-d27089bed57b5626",
     "locked": true,
     "schema_version": 3,
     "solution": false,
     "task": false
    }
   },
   "source": [
    "### Exercice 3 : Sous-graphe induit\n",
    "Si $G=(S,A)$ est un graphe et $S'\\subseteq S$ un ensemble de sommets de $G$, alors le sous-graphe de $G$ induit par $S'$ est le graphe $G'=(S',A')$ où $$A'=\\{(s,t)\\in A\\mid s\\in S'\\text{ et }t\\in S'\\}\\:.$$\n",
    "\n",
    "Écrire et documenter une fonction `sous_graphe_induit` qui prend en argument une liste d'adjacence telle que récupérée par la fonction `graphe_twitter` et un entier $n$ et extrait le sous-graphe induit par les sommets $\\{0,1,\\dots,n-1\\}$."
   ]
  },
  {
   "cell_type": "code",
   "execution_count": null,
   "id": "9936a68e",
   "metadata": {
    "deletable": false,
    "nbgrader": {
     "cell_type": "code",
     "checksum": "f42b1c1d22f68f8f4e4739fe76f24eff",
     "grade": false,
     "grade_id": "cell-06d80a465d8b4749",
     "locked": false,
     "schema_version": 3,
     "solution": true,
     "task": false
    }
   },
   "outputs": [],
   "source": [
    "# Écrire votre code ici\n",
    "raise NotImplementedError # effacer cette ligne une fois le code écrit"
   ]
  },
  {
   "cell_type": "code",
   "execution_count": null,
   "id": "0d13c286",
   "metadata": {
    "deletable": false,
    "editable": false,
    "nbgrader": {
     "cell_type": "code",
     "checksum": "dc5c21be9c691592aec2264ad9f9615a",
     "grade": true,
     "grade_id": "cell-3cc79141b7a6a74f",
     "locked": true,
     "points": 2,
     "schema_version": 3,
     "solution": false,
     "task": false
    }
   },
   "outputs": [],
   "source": [
    "sommets, adj = graphe_twitter('ENSdeLyon.graph')\n",
    "adj2 = sous_graphe_induit(adj, 2500)\n",
    "assert(adj2[17] == [1113, 821, 1327, 1214])\n",
    "assert(adj2[2022] == [])"
   ]
  },
  {
   "cell_type": "markdown",
   "id": "8f419ab5",
   "metadata": {
    "deletable": false,
    "editable": false,
    "nbgrader": {
     "cell_type": "markdown",
     "checksum": "fd8a32d93c708cb38a4bdcf405a84519",
     "grade": false,
     "grade_id": "cell-b6c411714174db5f",
     "locked": true,
     "schema_version": 3,
     "solution": false,
     "task": false
    }
   },
   "source": [
    "### Exercice 4 : Degrés sortants\n",
    "1. Écrire et documenter une fonction `degre_sortant_moyen` qui prend en argument une liste d'adjacences comme récupérée de la fonction `graphe_twitter`, et renvoie le degré sortant moyen d'un sommet dans le graphe correspondant."
   ]
  },
  {
   "cell_type": "code",
   "execution_count": null,
   "id": "39141bae",
   "metadata": {
    "deletable": false,
    "nbgrader": {
     "cell_type": "code",
     "checksum": "a5ea1b9f0465673603af65123570d8d6",
     "grade": false,
     "grade_id": "cell-d75e904380f37757",
     "locked": false,
     "schema_version": 3,
     "solution": true,
     "task": false
    }
   },
   "outputs": [],
   "source": [
    "# Écrire votre code ici\n",
    "raise NotImplementedError # effacer cette ligne une fois le code écrit"
   ]
  },
  {
   "cell_type": "code",
   "execution_count": null,
   "id": "61521712",
   "metadata": {},
   "outputs": [],
   "source": [
    "sommets, adj = graphe_twitter('ENSdeLyon.graph')\n",
    "degre_sortant_moyen(adj)"
   ]
  },
  {
   "cell_type": "markdown",
   "id": "a353d08c",
   "metadata": {
    "deletable": false,
    "editable": false,
    "nbgrader": {
     "cell_type": "markdown",
     "checksum": "b9fcc8b90d2b1e057baf700e64a4e61b",
     "grade": false,
     "grade_id": "cell-07478a75123b4cf0",
     "locked": true,
     "schema_version": 3,
     "solution": false,
     "task": false
    }
   },
   "source": [
    "2. Écrire et documenter une fonction `degre_sortant_max` qui prend en argument une liste de sommets et une liste d'adjacences comme récupérées de la fonction `graphe_twitter`, et renvoie le nom du sommet ayant le degré sortant maximal (si ce sommet n'est pas unique, le nom du premier ayant cette propriété dans la liste des sommets)."
   ]
  },
  {
   "cell_type": "code",
   "execution_count": null,
   "id": "b961d5bb",
   "metadata": {
    "deletable": false,
    "nbgrader": {
     "cell_type": "code",
     "checksum": "42b2d13fbd81301d0140b74d0d3916ef",
     "grade": false,
     "grade_id": "cell-5b15e574e25f0dc1",
     "locked": false,
     "schema_version": 3,
     "solution": true,
     "task": false
    }
   },
   "outputs": [],
   "source": [
    "# Écrire votre code ici\n",
    "raise NotImplementedError # effacer cette ligne une fois le code écrit"
   ]
  },
  {
   "cell_type": "code",
   "execution_count": null,
   "id": "b343bfb6",
   "metadata": {
    "deletable": false,
    "editable": false,
    "nbgrader": {
     "cell_type": "code",
     "checksum": "a37d41995ca655be8f266cd57ef9f3e0",
     "grade": true,
     "grade_id": "cell-cd34df32029c4448",
     "locked": true,
     "points": 2,
     "schema_version": 3,
     "solution": false,
     "task": false
    }
   },
   "outputs": [],
   "source": [
    "sommets, adj = graphe_twitter('ENSdeLyon.graph')\n",
    "assert(degre_sortant_max(sommets, adj) == 'EditionsScpo')\n",
    "sommets800 = sommets[:800]\n",
    "adj800 = sous_graphe_induit(adj, 800)\n",
    "assert(degre_sortant_max(sommets800, adj800) == 'CbdLes')"
   ]
  },
  {
   "cell_type": "markdown",
   "id": "50c71af8",
   "metadata": {
    "deletable": false,
    "editable": false,
    "nbgrader": {
     "cell_type": "markdown",
     "checksum": "b8190b18f494a4a46322c1b0072faad2",
     "grade": false,
     "grade_id": "cell-c02e9749d2d86410",
     "locked": true,
     "schema_version": 3,
     "solution": false,
     "task": false
    }
   },
   "source": [
    "### Exercice 5 : Degré entrant moyen\n",
    "Écrire et documenter une fonction `degre_entrant_moyen` qui prend en argument une liste d'adjacences comme récupérée de la fonction `graphe_twitter`, et renvoie le degré entrant moyen d'un sommet dans le graphe correspondant. Faites en sorte que l'exécution de votre fonction ne soit pas trop longue."
   ]
  },
  {
   "cell_type": "code",
   "execution_count": null,
   "id": "fd1fdf1a",
   "metadata": {
    "deletable": false,
    "nbgrader": {
     "cell_type": "code",
     "checksum": "33f7c02f949a5dfa492d8f256294786b",
     "grade": false,
     "grade_id": "cell-4d9233b2ca2d4148",
     "locked": false,
     "schema_version": 3,
     "solution": true,
     "task": false
    }
   },
   "outputs": [],
   "source": [
    "# Écrire votre code ici\n",
    "raise NotImplementedError # effacer cette ligne une fois le code écrit"
   ]
  },
  {
   "cell_type": "markdown",
   "id": "f99c3be0",
   "metadata": {
    "deletable": false,
    "editable": false,
    "nbgrader": {
     "cell_type": "markdown",
     "checksum": "ca9de9dac1e406dc46ec00116c9421bf",
     "grade": false,
     "grade_id": "cell-03c932db4a948857",
     "locked": true,
     "schema_version": 3,
     "solution": false,
     "task": false
    }
   },
   "source": [
    "Tester le temps d'exécution sur un sous-graphe de taille 200, puis de taille 1000 avant de lancer les tests sur des sous-graphes plus grands (chez moi c'est respectivement moins de 100 micro-secondes et moins de 300 micro-secondes, sur le serveur de TP):"
   ]
  },
  {
   "cell_type": "code",
   "execution_count": null,
   "id": "b2804f1f",
   "metadata": {
    "deletable": false,
    "editable": false,
    "nbgrader": {
     "cell_type": "code",
     "checksum": "2e254752c46e702c57b4915fb632e70c",
     "grade": false,
     "grade_id": "cell-c878a582a6745ab5",
     "locked": true,
     "schema_version": 3,
     "solution": false,
     "task": false
    }
   },
   "outputs": [],
   "source": [
    "sommets, adj = graphe_twitter('ENSdeLyon.graph')\n",
    "\n",
    "sommets200 = sommets[:200]\n",
    "adj200 = sous_graphe_induit(adj, 200)\n",
    "\n",
    "sommets1000 = sommets[:1000]\n",
    "adj1000 = sous_graphe_induit(adj, 1000)"
   ]
  },
  {
   "cell_type": "code",
   "execution_count": null,
   "id": "4ae7c6e5",
   "metadata": {
    "deletable": false,
    "editable": false,
    "nbgrader": {
     "cell_type": "code",
     "checksum": "2662a351900c48a345c969b37f24ae7c",
     "grade": false,
     "grade_id": "cell-b500820b54b5e552",
     "locked": true,
     "schema_version": 3,
     "solution": false,
     "task": false
    }
   },
   "outputs": [],
   "source": [
    "%%time\n",
    "from math import fabs\n",
    "\n",
    "assert(fabs(degre_entrant_moyen(adj200) - 0.23) < 0.00001)"
   ]
  },
  {
   "cell_type": "code",
   "execution_count": null,
   "id": "d887a6db",
   "metadata": {
    "deletable": false,
    "editable": false,
    "nbgrader": {
     "cell_type": "code",
     "checksum": "3868935f3aad40e59156b745572ed171",
     "grade": false,
     "grade_id": "cell-0c6a79248565de73",
     "locked": true,
     "schema_version": 3,
     "solution": false,
     "task": false
    }
   },
   "outputs": [],
   "source": [
    "%%time\n",
    "from math import fabs\n",
    "\n",
    "assert(fabs(degre_entrant_moyen(adj1000) - 1.275) < 0.00001)"
   ]
  },
  {
   "cell_type": "code",
   "execution_count": null,
   "id": "e698fb72",
   "metadata": {
    "deletable": false,
    "editable": false,
    "nbgrader": {
     "cell_type": "code",
     "checksum": "03ad10e791d6b9e8afc9d52806bb6fa9",
     "grade": true,
     "grade_id": "cell-084c11eed0af4ed7",
     "locked": true,
     "points": 2,
     "schema_version": 3,
     "solution": false,
     "task": false
    }
   },
   "outputs": [],
   "source": [
    "sommets, adj = graphe_twitter('ENSdeLyon.graph')"
   ]
  },
  {
   "cell_type": "markdown",
   "id": "f83c9f64",
   "metadata": {
    "deletable": false,
    "editable": false,
    "nbgrader": {
     "cell_type": "markdown",
     "checksum": "8f66808af351ca9597d77850ffad685c",
     "grade": false,
     "grade_id": "cell-7450a407b7af041f",
     "locked": true,
     "schema_version": 3,
     "solution": false,
     "task": false
    }
   },
   "source": [
    "<div class=\"alert alert-success\">\n",
    "    <h2>Les points à retenir</h2>\n",
    "    \n",
    "* définition du sous-graphe induit par un ensemble de sommets\n",
    "* la somme des degrés entrants est égale à la somme des degrés sortants\n",
    "</div>"
   ]
  }
 ],
 "metadata": {
  "kernelspec": {
   "display_name": "Python 3 (ipykernel)",
   "language": "python",
   "name": "python3"
  },
  "language_info": {
   "codemirror_mode": {
    "name": "ipython",
    "version": 3
   },
   "file_extension": ".py",
   "mimetype": "text/x-python",
   "name": "python",
   "nbconvert_exporter": "python",
   "pygments_lexer": "ipython3",
   "version": "3.7.3"
  }
 },
 "nbformat": 4,
 "nbformat_minor": 5
}
