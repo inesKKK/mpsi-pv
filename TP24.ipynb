{
 "cells": [
  {
   "cell_type": "markdown",
   "id": "0e2411bf",
   "metadata": {},
   "source": [
    "# ITC - MPSI\n",
    "---"
   ]
  },
  {
   "cell_type": "markdown",
   "id": "c3fbdf9d",
   "metadata": {
    "deletable": false,
    "editable": false,
    "nbgrader": {
     "cell_type": "markdown",
     "checksum": "827d30a85b8ef9dae140f6702c1c6520",
     "grade": false,
     "grade_id": "cell-446a35d37dcdab07",
     "locked": true,
     "schema_version": 3,
     "solution": false,
     "task": false
    }
   },
   "source": [
    "# TP24  Détection de cycles dans un graphe orienté\n",
    "Dans ce TP, on va adapter l'algorithme de parcours de graphe en profondeur pour détecter des cycles dans un graphe."
   ]
  },
  {
   "cell_type": "markdown",
   "id": "ec979846",
   "metadata": {
    "deletable": false,
    "editable": false,
    "nbgrader": {
     "cell_type": "markdown",
     "checksum": "c50883703dfddf66ba87c55ec1b743fe",
     "grade": false,
     "grade_id": "cell-50a9ad684188fd78",
     "locked": true,
     "schema_version": 3,
     "solution": false,
     "task": false
    }
   },
   "source": [
    "Je redonne ici le code pour le parcours en profondeur lorsque le graphe est représenté par une liste d'adjacence:"
   ]
  },
  {
   "cell_type": "code",
   "execution_count": null,
   "id": "e7bf68a6",
   "metadata": {
    "deletable": false,
    "editable": false,
    "nbgrader": {
     "cell_type": "code",
     "checksum": "98db5ee29346bb8eeb616796e1e04163",
     "grade": false,
     "grade_id": "cell-9e10c32c7d65baa3",
     "locked": true,
     "schema_version": 3,
     "solution": false,
     "task": false
    }
   },
   "outputs": [],
   "source": [
    "from graphviz import Digraph\n",
    "from IPython import display\n",
    "from time import sleep\n",
    "import random, string\n",
    "\n",
    "#sac géré comme une pile\n",
    "def sac_vide():\n",
    "    return []\n",
    "\n",
    "def ajoute_dans_sac(sac, e):\n",
    "    sac.append(e)\n",
    "\n",
    "def prends_dans_sac(sac):\n",
    "    return sac.pop()\n",
    "\n",
    "def est_vide(sac):\n",
    "    return len(sac) == 0\n",
    "\n",
    "def dessin_graphe(L):\n",
    "    \"\"\"L : représentation d'un graphe par liste d'adjacence\n",
    "    renvoit un objet graphique représentant ce graphe\"\"\"\n",
    "    graphe = Digraph(strict=True)  ## pour ne pas avoir d'arête multiple\n",
    "    arcs = []\n",
    "    for i in range(len(L)):\n",
    "        graphe.node(str(i))\n",
    "        arcs.extend([(str(i), str(j)) for j in L[i]])\n",
    "    graphe.edges(arcs)\n",
    "    return graphe\n",
    "\n",
    "def colore_arc(s, t, couleur, gr, nom, pas_a_pas):\n",
    "    \"\"\"Colore l'arc s->t dans l'objet graphique gr d'identifiant nom\"\"\"\n",
    "    gr.edge(str(s), str(t), color=couleur, penwidth='2')\n",
    "    if pas_a_pas:        \n",
    "        sleep(.5)\n",
    "    display.update_display(gr, display_id=nom)\n",
    "\n",
    "def colore_sommet(s, couleur, gr, nom, pas_a_pas):\n",
    "    \"\"\"Colore le sommet s dans l'objet graphique gr d'identifiant nom\"\"\"\n",
    "    gr.node(str(s), style='filled', fillcolor=couleur)\n",
    "    if pas_a_pas:        \n",
    "        sleep(.5)\n",
    "    display.update_display(gr, display_id=nom)  ## mise à jour du dessin\n",
    "    \n",
    "def parcours(ladj, s0, pas_a_pas=False):\n",
    "    \"\"\"Parccours en profondeur du graphe donné par la liste d'adjacence ladj, à partir du sommet s0\n",
    "    pas_a_pas : si True l'affichage est plus lent\"\"\"\n",
    "    gr = dessin_graphe(ladj)\n",
    "    nom = ''.join(random.choice(string.ascii_letters) for x in range(15))  ## identifiant pour le graphe\n",
    "    dis = display.display(gr, display_id=nom)   ## dessin du graphe initial\n",
    "    decouverts = sac_vide()\n",
    "    ajoute_dans_sac(decouverts, (s0, None))\n",
    "    marques = [ False ] * len(ladj)\n",
    "    while not est_vide(decouverts):\n",
    "        s, p = prends_dans_sac(decouverts)\n",
    "        if not marques[s]:\n",
    "            marques[s] = True\n",
    "            if p != None: ## si on sait d'où on vient pour s, on colore l'arc d'arrivée\n",
    "                colore_arc(p, s,'#00A000', gr, nom, pas_a_pas)\n",
    "                colore_sommet(s, 'grey', gr, nom, pas_a_pas) ## on marque le sommet pour le dessin\n",
    "            else:\n",
    "                colore_sommet(s, 'pink', gr, nom, pas_a_pas)  ## on modifie la couleur du sommet initial\n",
    "            for t in ladj[s] :\n",
    "                ajoute_dans_sac(decouverts, (t, s))\n",
    "                colore_arc(s, t, 'red', gr, nom, pas_a_pas)"
   ]
  },
  {
   "cell_type": "markdown",
   "id": "fc817504",
   "metadata": {
    "deletable": false,
    "editable": false,
    "nbgrader": {
     "cell_type": "markdown",
     "checksum": "5d05df9e6edf30757d0ff4ef44258543",
     "grade": false,
     "grade_id": "cell-7ccffc508bbe4779",
     "locked": true,
     "schema_version": 3,
     "solution": false,
     "task": false
    }
   },
   "source": [
    "La fonction de parcours a été légèrement modifiée:\n",
    "* en rouge les arcs qu'on ajoute dans le sac,\n",
    "* en vert les arcs qu'on suit effectivement.\n",
    "\n",
    "Il s'agit maintenant de détecter un cycle. Dans le cas orienté, il ne suffit pas de détecter deux façons distinctes d'atetindre un même sommet, car on pourrait se retrouver dans le cas du graphe suivant qui contient deux chemins du sommet 0 vers le somme 3, mais aucun cycle:"
   ]
  },
  {
   "cell_type": "code",
   "execution_count": null,
   "id": "78cfd172",
   "metadata": {
    "deletable": false,
    "editable": false,
    "nbgrader": {
     "cell_type": "code",
     "checksum": "223b56e2190065ba267cfc7a3407d3b8",
     "grade": false,
     "grade_id": "cell-dfd4c51d14ff9f18",
     "locked": true,
     "schema_version": 3,
     "solution": false,
     "task": false
    }
   },
   "outputs": [],
   "source": [
    "parcours([[1,2],[3],[3],[]], 0, True)"
   ]
  },
  {
   "cell_type": "markdown",
   "id": "fdf61b2d",
   "metadata": {
    "deletable": false,
    "editable": false,
    "nbgrader": {
     "cell_type": "markdown",
     "checksum": "5e6fcfedf400fc5da8332d7b20973dc6",
     "grade": false,
     "grade_id": "cell-71bba5a2c314ed01",
     "locked": true,
     "schema_version": 3,
     "solution": false,
     "task": false
    }
   },
   "source": [
    "Au contraire, dans le parcours du graphe suivant, à partir du sommet 3, on atteint le sommet 1 et il y a un cycle:"
   ]
  },
  {
   "cell_type": "code",
   "execution_count": null,
   "id": "8eb8f30c",
   "metadata": {
    "deletable": false,
    "editable": false,
    "nbgrader": {
     "cell_type": "code",
     "checksum": "1754c16e53a2e32caad9832cf9f672a7",
     "grade": false,
     "grade_id": "cell-35addb7169108b60",
     "locked": true,
     "schema_version": 3,
     "solution": false,
     "task": false
    }
   },
   "outputs": [],
   "source": [
    "parcours([[1],[2],[3],[1]], 0, True)"
   ]
  },
  {
   "cell_type": "markdown",
   "id": "492c4ee3",
   "metadata": {
    "deletable": false,
    "editable": false,
    "nbgrader": {
     "cell_type": "markdown",
     "checksum": "50fa34b83b35ec803641d9982135bcf0",
     "grade": false,
     "grade_id": "cell-656a6da9044035c8",
     "locked": true,
     "schema_version": 3,
     "solution": false,
     "task": false
    }
   },
   "source": [
    "La différence entre les deux vient du fait que dans le premier cas, quand on considère l'arc $1\\to 3$, on n'est pas dans un chemin qui est déjà passé par 3, alors que dans le deuxième cas, quand on considère l'arc $3\\to 1$, on est dans un chemin qui est déjà passé par 1.\n",
    "\n",
    "Pour tenir compte de cette remarque et mettre en place la détection de cycle à partir du parcours en profondeur, on a besoin de plus de renseignement que juste de savoir si le sommet a déjà été traité: on a besoin de savoir s'il a fini d'être traité (c'est-à-dire si on a explorés tous les chemines qui partent de lui) ou pas. Il faut donc avoir trois valeurs possibles pour les cases de la liste `marques`:\n",
    "* `0` qui est la valeur initiale et signifie qu'on n'a encore jamais atteint le sommet,\n",
    "* `1` qui est la valeur signifiant qu'on a commencé à traiter les chemins partant du sommet, mais qu'il en reste,\n",
    "* `2` qui est la valeur signifiant qu'on a fini de traiter les chemins partant du sommet.\n",
    "\n",
    "Ainsi, si on récupère une arête qui arrive dans un somme qui est en cours de traitement, c'est qu'on a une boucle.\n",
    "\n",
    "Réécrivez le code pour détecter les cycles en partant d'un sommet donné (le cycle n'appartiendra pas nécessairement au cycle détecté, voir le deuxième exemple ci-dessus)."
   ]
  },
  {
   "cell_type": "code",
   "execution_count": null,
   "id": "333fe846",
   "metadata": {},
   "outputs": [],
   "source": [
    "#code"
   ]
  },
  {
   "cell_type": "code",
   "execution_count": null,
   "id": "738db2fe",
   "metadata": {},
   "outputs": [],
   "source": [
    "#test1 : pas de cycle\n",
    "ladj = [ [2*i+1, 2*i+2] for i in range (7) ]\n",
    "ladj.extend([ [] for _ in range(8) ])\n",
    "ladj[13] = [1]\n",
    "parcours(ladj, 0, True)"
   ]
  },
  {
   "cell_type": "code",
   "execution_count": null,
   "id": "a4b7e7ae",
   "metadata": {},
   "outputs": [],
   "source": [
    "#test1 : un cycle\n",
    "ladj = [ [2*i+1, 2*i+2] for i in range (7) ]\n",
    "ladj.extend([ [] for _ in range(8) ])\n",
    "ladj[13] = [1]\n",
    "ladj[3].append(0)\n",
    "parcours(ladj, 0, True)"
   ]
  },
  {
   "cell_type": "markdown",
   "id": "d9cf99f0",
   "metadata": {
    "deletable": false,
    "editable": false,
    "nbgrader": {
     "cell_type": "markdown",
     "checksum": "b31a00ca0cc2c913cb32d0835b20b7e9",
     "grade": false,
     "grade_id": "cell-8804bca532ea17dd",
     "locked": true,
     "schema_version": 3,
     "solution": false,
     "task": false
    }
   },
   "source": [
    "On veut maintenant étendre à la recherche de cycle dans tout le graphe. Un fois l'algorithme déroulé à partir d'un sommet, on souhaite donc recommencer à partir d'un autre sommet si tous les sommets n'ont pas été atteints. Écrivez la fonction associée à cet algorithme."
   ]
  },
  {
   "cell_type": "markdown",
   "id": "bbe18b1c",
   "metadata": {
    "deletable": false,
    "editable": false,
    "nbgrader": {
     "cell_type": "markdown",
     "checksum": "b2158d1d16d0f808bd2891aac0d3bf61",
     "grade": false,
     "grade_id": "cell-ab1cd313f5e5bb60",
     "locked": true,
     "schema_version": 3,
     "solution": false,
     "task": false
    }
   },
   "source": [
    "## Une application\n",
    "Le fichier [tarifs.txt](tarifs.txt) contient:\n",
    "* une première ligne avec une liste de noms de villes séparés par des virgules (on considère dans la suite que chaque ville est indicée par sa place dans cette liste, en commençant par l'indice 0);\n",
    "* sur les lignes suivantes, une liste de tarifs de péages présentée de la manière suivante sur chaque ligne (les valeurs étant séparées par des virgules):\n",
    "  * ville de départ\n",
    "  * ville d'arrivée\n",
    "  * montant du péage\n",
    "  \n",
    "Certaines lignes contienne un montant de péage nul. On cherche à savoir s'il est possible de faire un circuit touristique sans passer par un péage et en retournant à son point de départ. (Bien sûr, si c'est le cas on voudrait connaître ce circuit.\n",
    "\n",
    "À vous de jouer !"
   ]
  },
  {
   "cell_type": "code",
   "execution_count": null,
   "id": "ee2e8cf6",
   "metadata": {},
   "outputs": [],
   "source": []
  }
 ],
 "metadata": {
  "kernelspec": {
   "display_name": "Python 3 (ipykernel)",
   "language": "python",
   "name": "python3"
  },
  "language_info": {
   "codemirror_mode": {
    "name": "ipython",
    "version": 3
   },
   "file_extension": ".py",
   "mimetype": "text/x-python",
   "name": "python",
   "nbconvert_exporter": "python",
   "pygments_lexer": "ipython3",
   "version": "3.7.3"
  }
 },
 "nbformat": 4,
 "nbformat_minor": 5
}
