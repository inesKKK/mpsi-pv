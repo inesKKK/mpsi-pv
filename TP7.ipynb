{
 "cells": [
  {
   "cell_type": "markdown",
   "id": "fda3aa7f",
   "metadata": {},
   "source": [
    "# ITC - MPSI\n",
    "---"
   ]
  },
  {
   "cell_type": "markdown",
   "id": "dc71e126",
   "metadata": {
    "deletable": false,
    "editable": false,
    "nbgrader": {
     "cell_type": "markdown",
     "checksum": "5a88277df33e126fabcc8768cfc351c6",
     "grade": false,
     "grade_id": "cell-0ac6bb0132804fb1",
     "locked": true,
     "schema_version": 3,
     "solution": false,
     "task": false
    }
   },
   "source": [
    "# TP7 : Retour sur la récursion"
   ]
  },
  {
   "cell_type": "markdown",
   "id": "38ae4fee",
   "metadata": {
    "deletable": false,
    "editable": false,
    "nbgrader": {
     "cell_type": "markdown",
     "checksum": "9e6c6c88db09354c146433dcb3333741",
     "grade": false,
     "grade_id": "cell-a7e53467f97f587f",
     "locked": true,
     "schema_version": 3,
     "solution": false,
     "task": false
    }
   },
   "source": [
    "Faisons un parallèle (encore) entre fonctions récursives et démonstration par récurrence :\n",
    "\n",
    "|| démonstration par récurrence|fonctions récursives|\n",
    "|--|--|--|\n",
    "|but| montrer que $P(n)$ est vrai pour tout $n\\geq 0$ | calculer $f(n)$ pour tout $n\\geq 0$|\n",
    "|initialisation | montrer que $P(0)$ est vrai | savoir calculer $f(0)$|\n",
    "|hypothèse| $P(k)$ vrai pour (ou jusqu'à) un certain rang $n-1$ | on sait calculer $f(k)$ jusqu'à un certain rang $n-1$|\n",
    "|soit hérédité 1| montrer que $P(n-1)\\Rightarrow P(n)$ | exprimer $f(n)$ en fonction de $f(n-1)$|\n",
    "|soit hérédité 2| montrer que $\\left(\\forall k<n, P(n-1)\\right)\\Rightarrow P(n)$ | exprimer $f(n)$ en fonction de certains $f(k)$ pour $k<n$|\n",
    "|conclusion | $P(n)$ vrai pour tout $n$ | on a une méthode effective pour calculer $f(n)$ tout $n$|"
   ]
  },
  {
   "cell_type": "markdown",
   "id": "12dfeb8e",
   "metadata": {
    "deletable": false,
    "editable": false,
    "nbgrader": {
     "cell_type": "markdown",
     "checksum": "724c0408d814a34c00470ec2f9e5feb7",
     "grade": false,
     "grade_id": "cell-2a107f72b335b97a",
     "locked": true,
     "schema_version": 3,
     "solution": false,
     "task": false
    }
   },
   "source": [
    "Une fonction récursive suit donc le schéma suivant :\n",
    "* si on est dans le cas de base (=l'initialisation), on renvoie le résultat\n",
    "* sinon on calcule récursivement (c'est-à-dire en faisant appel à la fonction qu'on est en train d'écrire) les valeurs pour les paramètres plus petits qui sont nécessaires pour trouver le résultat, on les combine et on renvoie le résultat."
   ]
  },
  {
   "cell_type": "markdown",
   "id": "0b2b647a",
   "metadata": {
    "deletable": false,
    "editable": false,
    "nbgrader": {
     "cell_type": "markdown",
     "checksum": "6b65783465e75868046aa290977123f3",
     "grade": false,
     "grade_id": "cell-058be32afe7b4f32",
     "locked": true,
     "schema_version": 3,
     "solution": false,
     "task": false
    }
   },
   "source": [
    "#### Mais comment ça marche ?\n",
    "Ça marche comme pour la récurrence. Pourquoi la conclusion de la récurrence est-elle vraie ? Supposons $N\\in{\\mathbb N}$. $P(0)$ est vraie et pour tout $n>0$, $P(n-1)\\Rightarrow P(n)$, donc $P(1)$ est vraie. De la même façon, $P(2)$ est vraie, etc. jusqu'à arriver à $P(N)$.\n",
    "\n",
    "Dans le cas des fonctions récursives: on sait calculer $f(0)$ et on sait exprimer $f(n)$ en fonction de $f(n-1)$ pour tout $n>0$, donc on sait calculer $f(1)$. De la même façon on sait calculer $f(2)$, etc. jusqu'à savoir calculer $f(N)$."
   ]
  },
  {
   "cell_type": "markdown",
   "id": "f33c94d6",
   "metadata": {
    "deletable": false,
    "editable": false,
    "nbgrader": {
     "cell_type": "markdown",
     "checksum": "2e342741523ca67fdd3e1c20bfd36d59",
     "grade": false,
     "grade_id": "cell-858862cd7621c68e",
     "locked": true,
     "schema_version": 3,
     "solution": false,
     "task": false
    }
   },
   "source": [
    "#### Oui mais comment la machine sait ce qu'il faut faire ?\n",
    "Si on appelle $f$ avec le paramètre $N$, le code de $f$ va contenir un appel à $f$ avec un paramètre strictement plus petit, $N-1$. Cet appel va être lancé et il appellera lui-même $f$ avec un paramètre encore plus petit, $N-2$, etc. jusqu'à un appel avec le paramètre 0. Cet appel-là renvoie une réponse sans faire de nouvel appel. Réponse qui est transmise à l'appel qui avait le paramètre 1 et qui sera donc capable de construire la réponse pour 1 et de la transmettre à l'appel qui cherche à calculer la réponse pour 2, etc. et on finit par revenir à l'appel qui cherche à construire la réponse pour $N$ après avoir récupéré la réponse pour $N-1$.\n",
    "\n",
    "Regardez ce qui se passe avec la fonction `factorielle` :"
   ]
  },
  {
   "cell_type": "code",
   "execution_count": null,
   "id": "cc1d790c",
   "metadata": {
    "deletable": false,
    "editable": false,
    "nbgrader": {
     "cell_type": "code",
     "checksum": "6269699546d5a28f8173b2be580250ef",
     "grade": false,
     "grade_id": "cell-729af244240000fa",
     "locked": true,
     "schema_version": 3,
     "solution": false,
     "task": false
    }
   },
   "outputs": [],
   "source": [
    "from IPython.display import IFrame\n",
    "IFrame(\"https://pythontutor.com/visualize.html#code=def%20factorielle%28n%29%3A%0A%20%20%20%20%22%22%22renvoie%20la%20factorielle%20de%20n,%20entier%20positif%20ou%20nul%22%22%22%0A%20%20%20%20assert%28n%20%3E%3D%200%29%0A%20%20%20%20if%20n%20%3D%3D%200%3A%0A%20%20%20%20%20%20%20%20return%201%0A%20%20%20%20return%20n%20*%20factorielle%28n-1%29%0A%20%20%20%20%0Afactorielle%283%29&cumulative=false&curInstr=0&heapPrimitives=nevernest&mode=display&origin=opt-frontend.js&py=3&rawInputLstJSON=%5B%5D&textReferences=false\", width=980, height=500)"
   ]
  },
  {
   "cell_type": "markdown",
   "id": "b189d1a9",
   "metadata": {
    "deletable": false,
    "editable": false,
    "nbgrader": {
     "cell_type": "markdown",
     "checksum": "5bc7d2bb0e6de22e7cc004096b148484",
     "grade": false,
     "grade_id": "cell-a048809902bcd705",
     "locked": true,
     "schema_version": 3,
     "solution": false,
     "task": false
    }
   },
   "source": [
    "### Exo 1 : Horloge\n",
    "La fonction suivante permet d'afficher l'heure si $n$ a une valeur entre 1 et 12. Modifiez-la en ajoutant un appel récursif pour qu'elle donne l'heure pour $n$ entre 1 et 24:\n",
    "```python\n",
    "def horloge(n):\n",
    "    \"\"\"affiche l'horloge correspondant à l'heure n, pour n entre 1 et 12\"\"\"\n",
    "    assert(n>=1 and n<=12)\n",
    "    print(chr(128335+n))\n",
    "```"
   ]
  },
  {
   "cell_type": "code",
   "execution_count": null,
   "id": "4585e202",
   "metadata": {
    "deletable": false,
    "nbgrader": {
     "cell_type": "code",
     "checksum": "7b856978f80695ebe4b9af75abda4406",
     "grade": true,
     "grade_id": "cell-17c3e7bf70539aba",
     "locked": false,
     "points": 1,
     "schema_version": 3,
     "solution": true,
     "task": false
    }
   },
   "outputs": [],
   "source": [
    "# Écrire votre code ici\n",
    "raise NotImplementedError # effacer cette ligne une fois le code écrit"
   ]
  },
  {
   "cell_type": "markdown",
   "id": "280f566c",
   "metadata": {
    "deletable": false,
    "editable": false,
    "nbgrader": {
     "cell_type": "markdown",
     "checksum": "ce6a4d1e5e79fe02c7c95c649d5bd547",
     "grade": false,
     "grade_id": "cell-0a65bc020fdde0a8",
     "locked": true,
     "schema_version": 3,
     "solution": false,
     "task": false
    }
   },
   "source": [
    "### Exo 2 : pgcd\n",
    "On se propose de calculer le pgcd de deux entiers positifs. Pour cela, on part de la remarque suivante : soit deux entiers strictement positifs $m$ et $n$, avec $m>n$, un entier $d$ divise $m$ et $n$ si et seulement s'il divise $n$ et $m-n$. D'un autre côté, le pgcd d'un nombre $n>0$ et de 0 est $n$.\n",
    "\n",
    "Écrire et documenter une fonction **récursive** `pgcd` qui prend en argument deux entiers positifs et renvoie leur pgcd.\n",
    "\n",
    "Vous pouvez obtenir le maximum entre deux nombres avec la fonction `max` et le minimum avec la fonction `min` (qui sont toutes les deux disponibles de base en `python`)."
   ]
  },
  {
   "cell_type": "code",
   "execution_count": null,
   "id": "99d410b4",
   "metadata": {
    "deletable": false,
    "nbgrader": {
     "cell_type": "code",
     "checksum": "5b147c3fcf1a7958f540ddb1cf15bd25",
     "grade": false,
     "grade_id": "cell-3aac13437eb5e0f2",
     "locked": false,
     "schema_version": 3,
     "solution": true,
     "task": false
    }
   },
   "outputs": [],
   "source": [
    "# Écrire votre code ici\n",
    "raise NotImplementedError # effacer cette ligne une fois le code écrit"
   ]
  },
  {
   "cell_type": "code",
   "execution_count": null,
   "id": "414b770b",
   "metadata": {
    "deletable": false,
    "editable": false,
    "nbgrader": {
     "cell_type": "code",
     "checksum": "4355c8e00967b59234fbd10964d19e7f",
     "grade": true,
     "grade_id": "cell-328a048065315abe",
     "locked": true,
     "points": 2,
     "schema_version": 3,
     "solution": false,
     "task": false
    }
   },
   "outputs": [],
   "source": [
    "assert(pgcd(6, 4) == 2)\n",
    "assert(pgcd(42, 42) == 42)\n",
    "assert(pgcd(60, 12) == 12)\n",
    "assert(pgcd(60, 70) == 10)"
   ]
  },
  {
   "cell_type": "markdown",
   "id": "b182ba42",
   "metadata": {
    "deletable": false,
    "editable": false,
    "nbgrader": {
     "cell_type": "markdown",
     "checksum": "6403e98c5cfc0ddb0fbeb9cc0250d829",
     "grade": false,
     "grade_id": "cell-25adeef364f15596",
     "locked": true,
     "schema_version": 3,
     "solution": false,
     "task": false
    }
   },
   "source": [
    "### Exo 3 : Triangle de Pascal\n",
    "Le triangle de pascal est une technique qui permet d'obtenir une généralisation de l'identité remarquable $(a+b)^2 = a^2 + 2ab + b^2$, en donnant les coefficients de $(a+b)^n$. Pour rappel, ces coefficients sont les coefficients binomiaux :\n",
    "$$(a+b)^n = \\sum\\limits_{k=0}^{n} \\left(\\begin{array}{c}n\\\\k\\end{array}\\right) a^kb^{n-k}\\:.$$\n",
    "\n",
    "Le principe est le suivant : on part de la liste $L_0=\\begin{array}{|c|}\\hline  1 \\\\\\hline\\end{array}$ et on crée une nouvelle liste $L_1$ contenant une case de plus que $L_0$ telle que la première et la dernière case de cette liste valent toutes les deux 1, et la $i^e$ case de $L_1$ , pour toute autre valeur de $i$, vaut $L_0[i-1]+L_0[i]$. Et ainsi de suite.\n",
    "\n",
    "On obtient ainsi : $L_1 = \\begin{array}{|c|c|}\\hline  1 & 1\\\\\\hline\\end{array}$, $L_2= \\begin{array}{|c|c|c|}\\hline  1 & 2 & 1\\\\\\hline\\end{array}$ et $L_3 = \\begin{array}{|c|c|c|c|}\\hline  1 & 3 & 3 & 1\\\\\\hline\\end{array}$."
   ]
  },
  {
   "cell_type": "markdown",
   "id": "454f5c49",
   "metadata": {
    "deletable": false,
    "editable": false,
    "nbgrader": {
     "cell_type": "markdown",
     "checksum": "13ccb7d20d8a18d202746c6c63a0f853",
     "grade": false,
     "grade_id": "cell-fc9524008ccf0b9c",
     "locked": true,
     "schema_version": 3,
     "solution": false,
     "task": false
    }
   },
   "source": [
    "1. Écrire et documenter une fonction récursive `ligne_suivante` qui prend en argument une liste d'entiers supposée être une ligne dans le triangle de Pascal (sans avoir à le vérifier) et renvoie la ligne suivante sous la forme d'une nouvelle liste."
   ]
  },
  {
   "cell_type": "code",
   "execution_count": null,
   "id": "c8ef970e",
   "metadata": {
    "deletable": false,
    "nbgrader": {
     "cell_type": "code",
     "checksum": "1f8c725350d55220d960b1af97b2fe43",
     "grade": false,
     "grade_id": "cell-1e3b288494f16417",
     "locked": false,
     "schema_version": 3,
     "solution": true,
     "task": false
    }
   },
   "outputs": [],
   "source": [
    "# Écrire votre code ici\n",
    "raise NotImplementedError # effacer cette ligne une fois le code écrit"
   ]
  },
  {
   "cell_type": "code",
   "execution_count": null,
   "id": "a7eea742",
   "metadata": {
    "deletable": false,
    "editable": false,
    "nbgrader": {
     "cell_type": "code",
     "checksum": "97c6b121f7988483e41d5769c070a514",
     "grade": true,
     "grade_id": "cell-05e13316b36a4903",
     "locked": true,
     "points": 2,
     "schema_version": 3,
     "solution": false,
     "task": false
    }
   },
   "outputs": [],
   "source": [
    "L0 = [1]\n",
    "L1 = ligne_suivante(L0)\n",
    "assert(L1 == [1, 1])\n",
    "\n",
    "L2 = ligne_suivante(L1)\n",
    "assert(L2 == [1, 2, 1])\n",
    "\n",
    "L3 = ligne_suivante(L2)\n",
    "assert(L3 == [1, 3, 3, 1])\n",
    "\n",
    "L5 = ligne_suivante(ligne_suivante(L3))\n",
    "assert(L5 == [1, 5, 10, 10, 5, 1])"
   ]
  },
  {
   "cell_type": "markdown",
   "id": "9e72dd21",
   "metadata": {
    "deletable": false,
    "editable": false,
    "nbgrader": {
     "cell_type": "markdown",
     "checksum": "61ccf37131f5ba04efe975062d4fe0b9",
     "grade": false,
     "grade_id": "cell-e7f0120222fc2dcd",
     "locked": true,
     "schema_version": 3,
     "solution": false,
     "task": false
    }
   },
   "source": [
    "2. Écrire et documenter une fonction récursive `triangle_de_Pascal` qui prend en argument un entier $n\\geq 0$ et renvoie une liste qui contient, sous forme de $n+1$ sous-listes, les $n+1$ premiers niveaux du triangle de Pascal. Si $n$ vaut 4, on s'attend à\n",
    "```\n",
    "print(triangle_de_Pascal(5))\n",
    "[[1], [1, 1], [1, 2, 1], [1, 3, 3, 1], [1, 4, 6, 4, 1], [1, 5, 10, 10, 5, 1]]\n",
    "```"
   ]
  },
  {
   "cell_type": "code",
   "execution_count": null,
   "id": "db974996",
   "metadata": {
    "deletable": false,
    "nbgrader": {
     "cell_type": "code",
     "checksum": "7cda8b010ebe841b2efb6daf916840b3",
     "grade": false,
     "grade_id": "cell-6c5a30f762a2c59d",
     "locked": false,
     "schema_version": 3,
     "solution": true,
     "task": false
    }
   },
   "outputs": [],
   "source": [
    "# Écrire votre code ici\n",
    "raise NotImplementedError # effacer cette ligne une fois le code écrit"
   ]
  },
  {
   "cell_type": "code",
   "execution_count": null,
   "id": "ae31e442",
   "metadata": {
    "deletable": false,
    "editable": false,
    "nbgrader": {
     "cell_type": "code",
     "checksum": "c902f1f2163f75087f3a6fa77d6b56a7",
     "grade": true,
     "grade_id": "cell-3ebd8d4bc118dcac",
     "locked": true,
     "points": 2,
     "schema_version": 3,
     "solution": false,
     "task": false
    }
   },
   "outputs": [],
   "source": [
    "assert(triangle_de_Pascal(5) == [[1], [1, 1], [1, 2, 1], [1, 3, 3, 1], [1, 4, 6, 4, 1], [1, 5, 10, 10, 5, 1]])\n",
    "assert(triangle_de_Pascal(0) == [[1]])"
   ]
  },
  {
   "cell_type": "markdown",
   "id": "e8348b45",
   "metadata": {
    "deletable": false,
    "editable": false,
    "nbgrader": {
     "cell_type": "markdown",
     "checksum": "bb8bbb59be426e0395a005c80b7f7a95",
     "grade": false,
     "grade_id": "cell-e8d5ede5594caa71",
     "locked": true,
     "schema_version": 3,
     "solution": false,
     "task": false
    }
   },
   "source": [
    "### Exo 4 : Tours de Hanoï\n",
    "![](https://upload.wikimedia.org/wikipedia/commons/6/60/Tower_of_Hanoi_4.gif)\n",
    "\n",
    "Les _tours de Hanoï_ est un jeu mathématique classique. On dispose de trois emplacements et de disques de diamètres deux à deux distincts qui sont empilés du plus grand au plus petit sur un des emplacements. Il faut déplacer ces disques sur un autre des emplacements, en respectant les règles suivantes :\n",
    "* on ne peut pas poser un disque hors d'un emplacement,\n",
    "* on ne peut déplacer qu'un seul disque à la fois,\n",
    "* on ne peut pas poser un disque sur un disque plus petit.\n",
    "\n",
    "Ce jeu possède une solution récursive naturelle, car si on sait déplacer une tour de hauteur $n-1$ en suivant les règles, il est très simple de déplacer une tour de hauteur $n$. Qui plus est, il est immédiat de déplacer une tour de hauteur 1."
   ]
  },
  {
   "cell_type": "markdown",
   "id": "2bb15bac",
   "metadata": {
    "deletable": false,
    "editable": false,
    "nbgrader": {
     "cell_type": "markdown",
     "checksum": "4e5f48c28f596303cae4890a30d8211e",
     "grade": false,
     "grade_id": "cell-a5936335494e2bea",
     "locked": true,
     "schema_version": 3,
     "solution": false,
     "task": false
    }
   },
   "source": [
    "Je vous fournis une fonction qui permet de visualiser l'état des tours :"
   ]
  },
  {
   "cell_type": "code",
   "execution_count": null,
   "id": "7fdd1994",
   "metadata": {
    "deletable": false,
    "editable": false,
    "nbgrader": {
     "cell_type": "code",
     "checksum": "f1794708e07c9f68d111d9e2b69de7aa",
     "grade": false,
     "grade_id": "cell-2c8de0c10bcec961",
     "locked": true,
     "schema_version": 3,
     "solution": false,
     "task": false
    }
   },
   "outputs": [],
   "source": [
    "def plateau(n, total, symbole='__'):\n",
    "    return ' '*(total-n) + symbole*n + ' '*(total-n)\n",
    "\n",
    "def affichage(hanoi):\n",
    "    \"\"\"hanoi : liste de trois sous-listes d'entiers;\n",
    "    chaque sous-liste représente les disques empilés, du plus grand au plus petit\n",
    "    sortie : affichage graphique des tours\"\"\"\n",
    "    h = max([ len(tour) for tour in hanoi ])-1\n",
    "    lg = max([ max(tour) for tour in hanoi if len(tour)>0 ])\n",
    "    while h >= 0:\n",
    "        for tour in hanoi:\n",
    "            if len(tour) > h:\n",
    "                print(plateau(tour[h], lg), end='\\t')\n",
    "            else:\n",
    "                print(plateau(0, lg), end='\\t')\n",
    "        print()\n",
    "        h = h-1\n",
    "    for tour in hanoi:\n",
    "        print(plateau(1, lg, '[]'), end='\\t')\n",
    "    print('\\n\\n')\n",
    "\n",
    "print('1er exemple :')\n",
    "affichage([[5,3,1], [2], [8,7,6,4]])\n",
    "\n",
    "print('2eme exemple :')\n",
    "affichage([[5,3,1], [], [8,7,6,4,2]])"
   ]
  },
  {
   "cell_type": "markdown",
   "id": "d05d9b4b",
   "metadata": {
    "deletable": false,
    "editable": false,
    "nbgrader": {
     "cell_type": "markdown",
     "checksum": "c101e1b0273d401ba95d92cd670869d9",
     "grade": false,
     "grade_id": "cell-4bf6d19cec37af43",
     "locked": true,
     "schema_version": 3,
     "solution": false,
     "task": false
    }
   },
   "source": [
    "Écrire et documenter une fonction récursive `hanoi` qui prend en paramètre :\n",
    "* l'état des tours sous forme d'une liste de trois sous-listes; chaque sous-liste contenant les tailles des disques de celui situé le plus bas vers celui situé le plus haut,\n",
    "* le nombre de disques à déplacer,\n",
    "* le numéro de l'emplacement (0, 1 ou 2) où se trouvent ces disques,\n",
    "* le numéro de l'emplacement (0, 1 ou 2) où ces disques doivent aller.\n",
    "\n",
    "Cette fonction doit modifier le contenu de son paramètre (donc aucune création de liste) et afficher l'état des tours à chaque déplacement.\n",
    "\n",
    "On ne demande pas que la fonction vérifie que les règles de déplacement sont respectées, mais on demande qu'en cas de configuration initiale avec tous les disques correctement placés sur une seule tour, les mouvements de votre fonction se fassent effectivement selon les règles de déplacement."
   ]
  },
  {
   "cell_type": "code",
   "execution_count": null,
   "id": "44f83aca",
   "metadata": {
    "deletable": false,
    "nbgrader": {
     "cell_type": "code",
     "checksum": "648a4869fcf1072947b22fd4948262e8",
     "grade": false,
     "grade_id": "cell-81b6bf6325ef7818",
     "locked": false,
     "schema_version": 3,
     "solution": true,
     "task": false
    }
   },
   "outputs": [],
   "source": [
    "# Écrire votre code ici\n",
    "raise NotImplementedError # effacer cette ligne une fois le code écrit"
   ]
  },
  {
   "cell_type": "code",
   "execution_count": null,
   "id": "0f3d2977",
   "metadata": {
    "deletable": false,
    "editable": false,
    "nbgrader": {
     "cell_type": "code",
     "checksum": "b2b826f24132575d12fac2027d2005e2",
     "grade": true,
     "grade_id": "cell-2404320fdef58b44",
     "locked": true,
     "points": 2,
     "schema_version": 3,
     "solution": false,
     "task": false
    }
   },
   "outputs": [],
   "source": [
    "H = [[4,3,2,1],[],[]]\n",
    "hanoi(H, 2, 0, 2)\n",
    "assert(H == [[4, 3], [], [2, 1]])"
   ]
  },
  {
   "cell_type": "code",
   "execution_count": null,
   "id": "8a646703",
   "metadata": {
    "deletable": false,
    "editable": false,
    "nbgrader": {
     "cell_type": "code",
     "checksum": "85a2c1c42f263a8230ba5f016c5d3765",
     "grade": true,
     "grade_id": "cell-3e65cc65b2b8c01a",
     "locked": true,
     "points": 1,
     "schema_version": 3,
     "solution": false,
     "task": false
    }
   },
   "outputs": [],
   "source": [
    "H = [[], [4,3,2,1],[]]\n",
    "hanoi(H, 4, 1, 0)\n",
    "assert(H == [[4, 3, 2, 1], [], []])"
   ]
  },
  {
   "cell_type": "markdown",
   "id": "d262d823",
   "metadata": {
    "deletable": false,
    "editable": false,
    "nbgrader": {
     "cell_type": "markdown",
     "checksum": "d7701ead99a4fdfe6781bbcaae093ce4",
     "grade": false,
     "grade_id": "cell-81ee8a160a7d10cf",
     "locked": true,
     "schema_version": 3,
     "solution": false,
     "task": false
    }
   },
   "source": [
    "<div class=\"alert alert-success\">\n",
    "    <h2>Les points à retenir</h2>\n",
    "    \n",
    "* structure d'une fonction récursive\n",
    "* `python` fournit des fonctions `max`et `min`\n",
    "</div>"
   ]
  }
 ],
 "metadata": {
  "kernelspec": {
   "display_name": "Python 3 (ipykernel)",
   "language": "python",
   "name": "python3"
  },
  "language_info": {
   "codemirror_mode": {
    "name": "ipython",
    "version": 3
   },
   "file_extension": ".py",
   "mimetype": "text/x-python",
   "name": "python",
   "nbconvert_exporter": "python",
   "pygments_lexer": "ipython3",
   "version": "3.7.3"
  }
 },
 "nbformat": 4,
 "nbformat_minor": 5
}
