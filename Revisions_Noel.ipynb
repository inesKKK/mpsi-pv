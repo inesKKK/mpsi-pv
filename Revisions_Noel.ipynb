{
 "cells": [
  {
   "cell_type": "markdown",
   "id": "a27f6baf",
   "metadata": {},
   "source": [
    "# ITC - MPSI\n",
    "---"
   ]
  },
  {
   "cell_type": "markdown",
   "id": "6258b76d",
   "metadata": {
    "deletable": false,
    "editable": false,
    "nbgrader": {
     "cell_type": "markdown",
     "checksum": "f8da6636654c6b5de9625012cddce0c5",
     "grade": false,
     "grade_id": "cell-e00139a65f8f8689",
     "locked": true,
     "schema_version": 3,
     "solution": false,
     "task": false
    }
   },
   "source": [
    "# Exercices de révision -- vacances de Noël\n",
    "\n",
    "* Commencez par vérifier que vous avez fait les TP du semestre en entier. Si ce n'est pas le cas, terminez-les.\n",
    "* Relisez bien la partie en vert en bas des TP (\"Les points à retenir\") : si un point est flou ou ne vous évoque rien, allez relire la partie cours du TP.\n",
    "* Je ne corrigerai pas ces exercices : il y a des tests automatiques pour la plupart, et pour les exercices graphiques vous pouvez regarder si ça a l'air bien.\n",
    "* En général, n'essayez pas de vérifier la nature des arguments, sauf si c'est explicitement demandé dans l'énoncé."
   ]
  },
  {
   "cell_type": "markdown",
   "id": "7d77a727",
   "metadata": {
    "deletable": false,
    "editable": false,
    "nbgrader": {
     "cell_type": "markdown",
     "checksum": "43805ae1dc66ff834614f7843696ba51",
     "grade": false,
     "grade_id": "cell-0de50d27037e9eb8",
     "locked": true,
     "schema_version": 3,
     "solution": false,
     "task": false
    }
   },
   "source": [
    "Dans chaque thème, la difficulté est croissante (enfin j'essaie...). À vous de voir où commencer et quoi faire en fonction de vos difficultés. Je reste disponible par mail et sur discord pour toute question.\n",
    "\n",
    "Les énoncés qui demandent un peu de réflexion (et donc possiblement un papier et un crayon) sont précédés d'étoiles : (*), (\\**) ou (\\***)."
   ]
  },
  {
   "cell_type": "markdown",
   "id": "033104f3",
   "metadata": {
    "deletable": false,
    "editable": false,
    "nbgrader": {
     "cell_type": "markdown",
     "checksum": "d23ef970ab7456476b73d83680361c7c",
     "grade": false,
     "grade_id": "cell-9fae737053408c1a",
     "locked": true,
     "schema_version": 3,
     "solution": false,
     "task": false
    }
   },
   "source": [
    "## Fonctions simples et conditionnelles\n",
    "\n",
    "Écrire une fonction `somme` qui prend en argument deux entiers et renvoie leur somme."
   ]
  },
  {
   "cell_type": "code",
   "execution_count": null,
   "id": "ab2c689e",
   "metadata": {
    "deletable": false,
    "nbgrader": {
     "cell_type": "code",
     "checksum": "70c53bc7174596407088debf2cb11687",
     "grade": false,
     "grade_id": "cell-ae86e16a00a83e17",
     "locked": false,
     "schema_version": 3,
     "solution": true,
     "task": false
    }
   },
   "outputs": [],
   "source": [
    "# Écrire votre code ici\n",
    "raise NotImplementedError # effacer cette ligne une fois le code écrit"
   ]
  },
  {
   "cell_type": "code",
   "execution_count": null,
   "id": "9079346b",
   "metadata": {
    "deletable": false,
    "editable": false,
    "nbgrader": {
     "cell_type": "code",
     "checksum": "5154f41e9a58901e624de4a57282d807",
     "grade": true,
     "grade_id": "cell-15ceb8d3856effc8",
     "locked": true,
     "points": 1,
     "schema_version": 3,
     "solution": false,
     "task": false
    }
   },
   "outputs": [],
   "source": [
    "assert(somme(13, -4) == 9)"
   ]
  },
  {
   "cell_type": "markdown",
   "id": "cbaff593",
   "metadata": {
    "deletable": false,
    "editable": false,
    "nbgrader": {
     "cell_type": "markdown",
     "checksum": "949bd68aab7ba9f5707182f7a5f70673",
     "grade": false,
     "grade_id": "cell-86220888e718c146",
     "locked": true,
     "schema_version": 3,
     "solution": false,
     "task": false
    }
   },
   "source": [
    "Écrire une fonction `egaux` qui prend en argument deux entiers et teste s'ils sont égaux."
   ]
  },
  {
   "cell_type": "code",
   "execution_count": null,
   "id": "2c60d42f",
   "metadata": {
    "deletable": false,
    "nbgrader": {
     "cell_type": "code",
     "checksum": "3ee8f807781a522b76014de2e29fa7d0",
     "grade": false,
     "grade_id": "cell-fb4382e7c5e63095",
     "locked": false,
     "schema_version": 3,
     "solution": true,
     "task": false
    }
   },
   "outputs": [],
   "source": [
    "# Écrire votre code ici\n",
    "raise NotImplementedError # effacer cette ligne une fois le code écrit"
   ]
  },
  {
   "cell_type": "code",
   "execution_count": null,
   "id": "e9094463",
   "metadata": {
    "deletable": false,
    "editable": false,
    "nbgrader": {
     "cell_type": "code",
     "checksum": "7e527b00969f49f789d782afab63800e",
     "grade": true,
     "grade_id": "cell-9b61c83ed53838ab",
     "locked": true,
     "points": 1,
     "schema_version": 3,
     "solution": false,
     "task": false
    }
   },
   "outputs": [],
   "source": [
    "assert(egaux(2, 2) == True)\n",
    "assert(egaux(2, 3) == False)"
   ]
  },
  {
   "cell_type": "markdown",
   "id": "70d24cef",
   "metadata": {
    "deletable": false,
    "editable": false,
    "nbgrader": {
     "cell_type": "markdown",
     "checksum": "c2a10cb277fd73f7bae892cde034ecce",
     "grade": false,
     "grade_id": "cell-4732f07e526a33a0",
     "locked": true,
     "schema_version": 3,
     "solution": false,
     "task": false
    }
   },
   "source": [
    "Écrire une fonction `surface` qui prend en argument un nombre et renvoie la surface du cercle de rayon ce nombre s'il est positif ou nul, et 0 sinon (prenez `3.14` comme valeur de $\\pi$)."
   ]
  },
  {
   "cell_type": "code",
   "execution_count": null,
   "id": "e9185e52",
   "metadata": {
    "deletable": false,
    "nbgrader": {
     "cell_type": "code",
     "checksum": "1d379e356314486b9e8b1c3eff53dbbb",
     "grade": false,
     "grade_id": "cell-cb418dfaa47faace",
     "locked": false,
     "schema_version": 3,
     "solution": true,
     "task": false
    }
   },
   "outputs": [],
   "source": [
    "# Écrire votre code ici\n",
    "raise NotImplementedError # effacer cette ligne une fois le code écrit"
   ]
  },
  {
   "cell_type": "code",
   "execution_count": null,
   "id": "2e5e41d3",
   "metadata": {
    "deletable": false,
    "editable": false,
    "nbgrader": {
     "cell_type": "code",
     "checksum": "b561ab452fcfa8e35af609dbbb3280a9",
     "grade": true,
     "grade_id": "cell-6f57a7595a7416fd",
     "locked": true,
     "points": 1,
     "schema_version": 3,
     "solution": false,
     "task": false
    }
   },
   "outputs": [],
   "source": [
    "assert(surface(-1) == 0)\n",
    "assert(surface(0) == 0)\n",
    "assert(surface(2) == 12.56)"
   ]
  },
  {
   "cell_type": "markdown",
   "id": "0043e71b",
   "metadata": {
    "deletable": false,
    "editable": false,
    "nbgrader": {
     "cell_type": "markdown",
     "checksum": "1247715d54ef07f30dbe31be5ef9a343",
     "grade": false,
     "grade_id": "cell-0c86e4af5fadce5e",
     "locked": true,
     "schema_version": 3,
     "solution": false,
     "task": false
    }
   },
   "source": [
    "Écrire une fonction `identite` qui prend en argument un entier et renvoie une chaîne de caractères \"M.\" si l'entier vaut 1, \"Mme\" si l'entier vaut 2 et \"Mx\" sinon."
   ]
  },
  {
   "cell_type": "code",
   "execution_count": null,
   "id": "634d212a",
   "metadata": {
    "deletable": false,
    "nbgrader": {
     "cell_type": "code",
     "checksum": "30247b86aa7915cf8142ae2ff3eb5f16",
     "grade": false,
     "grade_id": "cell-d0d20ea637201475",
     "locked": false,
     "schema_version": 3,
     "solution": true,
     "task": false
    }
   },
   "outputs": [],
   "source": [
    "# Écrire votre code ici\n",
    "raise NotImplementedError # effacer cette ligne une fois le code écrit"
   ]
  },
  {
   "cell_type": "code",
   "execution_count": null,
   "id": "2f044185",
   "metadata": {
    "deletable": false,
    "editable": false,
    "nbgrader": {
     "cell_type": "code",
     "checksum": "20dcc00d089b79f2a5077bebdbe58023",
     "grade": true,
     "grade_id": "cell-34a489ea3d6372aa",
     "locked": true,
     "points": 1,
     "schema_version": 3,
     "solution": false,
     "task": false
    }
   },
   "outputs": [],
   "source": [
    "assert(identite(1) == \"M.\")\n",
    "assert(identite(2) == \"Mme\")\n",
    "assert(identite(7) == \"Mx\")"
   ]
  },
  {
   "cell_type": "markdown",
   "id": "9bf9540e",
   "metadata": {
    "deletable": false,
    "editable": false,
    "nbgrader": {
     "cell_type": "markdown",
     "checksum": "51d6ef2d6d69b69abc780b1f96897fb8",
     "grade": false,
     "grade_id": "cell-c57fc9123d05ecf6",
     "locked": true,
     "schema_version": 3,
     "solution": false,
     "task": false
    }
   },
   "source": [
    "## Boucles et chaînes de caractères\n",
    "Écrire une fonction `eternuement` qui prend en argument un entier `n` et affiche `ahahah...tchoum!!!` (`n` fois `ah` au début). Pour afficher `'toto'` sans retour à la ligne, on peut utiliser `print('toto', end='')`., pour afficher `'toto'` avec un retour à ligne, on utilise `print('toto')`."
   ]
  },
  {
   "cell_type": "code",
   "execution_count": null,
   "id": "893216a1",
   "metadata": {
    "deletable": false,
    "nbgrader": {
     "cell_type": "code",
     "checksum": "6cbdd09a9c434f26e28d05494ddad028",
     "grade": false,
     "grade_id": "cell-2e40a97392cf764b",
     "locked": false,
     "schema_version": 3,
     "solution": true,
     "task": false
    }
   },
   "outputs": [],
   "source": [
    "# Écrire votre code ici\n",
    "raise NotImplementedError # effacer cette ligne une fois le code écrit"
   ]
  },
  {
   "cell_type": "markdown",
   "id": "0623ef06",
   "metadata": {
    "deletable": false,
    "editable": false,
    "nbgrader": {
     "cell_type": "markdown",
     "checksum": "9fae5f21fc89977de5d06fd680f6fad6",
     "grade": false,
     "grade_id": "cell-430b5a0412a2f3ab",
     "locked": true,
     "schema_version": 3,
     "solution": false,
     "task": false
    }
   },
   "source": [
    "Vérifiez que vous avez l'affichage suivant :\n",
    "    \n",
    "```python\n",
    "eternuement(5)\n",
    "ahahahahah...tchoum!!!\n",
    "```"
   ]
  },
  {
   "cell_type": "code",
   "execution_count": null,
   "id": "4647725b",
   "metadata": {
    "deletable": false,
    "editable": false,
    "nbgrader": {
     "cell_type": "code",
     "checksum": "728b465292409f508d5daa073115905a",
     "grade": false,
     "grade_id": "cell-a9c35beb3ac10e10",
     "locked": true,
     "schema_version": 3,
     "solution": false,
     "task": false
    }
   },
   "outputs": [],
   "source": [
    "eternuement(5)"
   ]
  },
  {
   "cell_type": "markdown",
   "id": "22fd7fdf",
   "metadata": {
    "deletable": false,
    "editable": false,
    "nbgrader": {
     "cell_type": "markdown",
     "checksum": "0b0b03cc8c50bfca70ac871f41f2dd28",
     "grade": false,
     "grade_id": "cell-8840aca138037f54",
     "locked": true,
     "schema_version": 3,
     "solution": false,
     "task": false
    }
   },
   "source": [
    "Écrire une fonction `epeler` qui prend en argument une chaîne de caractères et affiche ses caractères, un par ligne. (Rappel: on parcourt une chaîne de caractères comme une liste.)"
   ]
  },
  {
   "cell_type": "code",
   "execution_count": null,
   "id": "68677f56",
   "metadata": {
    "deletable": false,
    "nbgrader": {
     "cell_type": "code",
     "checksum": "230f2619c5563d00dfd5814c6458472b",
     "grade": false,
     "grade_id": "cell-22786418a677af66",
     "locked": false,
     "schema_version": 3,
     "solution": true,
     "task": false
    }
   },
   "outputs": [],
   "source": [
    "# Écrire votre code ici\n",
    "raise NotImplementedError # effacer cette ligne une fois le code écrit"
   ]
  },
  {
   "cell_type": "markdown",
   "id": "eef9cd3f",
   "metadata": {
    "deletable": false,
    "editable": false,
    "nbgrader": {
     "cell_type": "markdown",
     "checksum": "09c0ea124edf046b885ebecd22a4addb",
     "grade": false,
     "grade_id": "cell-c0625a77bd1860a2",
     "locked": true,
     "schema_version": 3,
     "solution": false,
     "task": false
    }
   },
   "source": [
    "Vérifiez que vous avez l'affichage suivant :\n",
    "\n",
    "```python\n",
    "epeler('abracadabra')\n",
    "a\n",
    "b\n",
    "r\n",
    "a\n",
    "c\n",
    "a\n",
    "d\n",
    "a\n",
    "b\n",
    "r\n",
    "a\n",
    "```"
   ]
  },
  {
   "cell_type": "code",
   "execution_count": null,
   "id": "0360fa07",
   "metadata": {
    "deletable": false,
    "editable": false,
    "nbgrader": {
     "cell_type": "code",
     "checksum": "730f68d6d7de9c436ec406a55695cf12",
     "grade": false,
     "grade_id": "cell-c35bbccf236d862f",
     "locked": true,
     "schema_version": 3,
     "solution": false,
     "task": false
    }
   },
   "outputs": [],
   "source": [
    "epeler('abracadabra')"
   ]
  },
  {
   "cell_type": "markdown",
   "id": "9525b81b",
   "metadata": {
    "deletable": false,
    "editable": false,
    "nbgrader": {
     "cell_type": "markdown",
     "checksum": "7eac74dd6c52c548a9b2e82c7954f777",
     "grade": false,
     "grade_id": "cell-c5766482ccbb49a2",
     "locked": true,
     "schema_version": 3,
     "solution": false,
     "task": false
    }
   },
   "source": [
    "Écrire une fonction `aeiouy` qui prend en argument une chaîne de caractères et renvoie le nombre de voyelles qu'elle contient."
   ]
  },
  {
   "cell_type": "code",
   "execution_count": null,
   "id": "9b788e8f",
   "metadata": {
    "deletable": false,
    "nbgrader": {
     "cell_type": "code",
     "checksum": "dedcc60b068bf694f80af3c89b74ee3b",
     "grade": false,
     "grade_id": "cell-5ba70242356927eb",
     "locked": false,
     "schema_version": 3,
     "solution": true,
     "task": false
    }
   },
   "outputs": [],
   "source": [
    "# Écrire votre code ici\n",
    "raise NotImplementedError # effacer cette ligne une fois le code écrit"
   ]
  },
  {
   "cell_type": "code",
   "execution_count": null,
   "id": "aaf3b09a",
   "metadata": {
    "deletable": false,
    "editable": false,
    "nbgrader": {
     "cell_type": "code",
     "checksum": "f6c0bb6584dd692c57d569620c3d4035",
     "grade": true,
     "grade_id": "cell-f794c6e056a6a4d0",
     "locked": true,
     "points": 1,
     "schema_version": 3,
     "solution": false,
     "task": false
    }
   },
   "outputs": [],
   "source": [
    "assert(aeiouy('shfjdsfdsh') == 0)\n",
    "assert(aeiouy('ahfdsjfhd') == 1)\n",
    "assert(aeiouy('ghdfgfdafjsdkfd') == 1)\n",
    "assert(aeiouy('ghdfhgfa') == 1)\n",
    "assert(aeiouy('a') == 1)\n",
    "assert(aeiouy('') == 0)\n",
    "assert(aeiouy('vdwhfnvdkhvwiowfewfndsjfh') == 3)"
   ]
  },
  {
   "cell_type": "markdown",
   "id": "2cda1a2f",
   "metadata": {
    "deletable": false,
    "editable": false,
    "nbgrader": {
     "cell_type": "markdown",
     "checksum": "357fe9cebcb8cd83b9cd097b56db6adf",
     "grade": false,
     "grade_id": "cell-b745de389f5b9f72",
     "locked": true,
     "schema_version": 3,
     "solution": false,
     "task": false
    }
   },
   "source": [
    "(*) En Français, on peut couper les mots en fin de ligne avec un trait d'union, mais pas n'imorte où. Écrire une fonction `cesure_simplifiee` qui prend en argument une chaîne de caractères et la découpe en sous-chaînes (avec affichage de ces sous-chaînes) en suivant cet algorithme simplifié:\n",
    "* on ne coupe pas avant la dernière lettre du mot,\n",
    "* on ne coupe pas après la première lettre du mot si c'est une consonne,\n",
    "* sinon:\n",
    "    * on coupe entre deux consonnes,\n",
    "    * on coupe après une voyelle si elle est suivie d'une consonne."
   ]
  },
  {
   "cell_type": "code",
   "execution_count": null,
   "id": "3bb522c2",
   "metadata": {
    "deletable": false,
    "nbgrader": {
     "cell_type": "code",
     "checksum": "6043b9e48a3cc77376858e8e68530483",
     "grade": false,
     "grade_id": "cell-7d9e394e1f9f5237",
     "locked": false,
     "schema_version": 3,
     "solution": true,
     "task": false
    }
   },
   "outputs": [],
   "source": [
    "# Écrire votre code ici\n",
    "raise NotImplementedError # effacer cette ligne une fois le code écrit"
   ]
  },
  {
   "cell_type": "markdown",
   "id": "ea04017c",
   "metadata": {
    "deletable": false,
    "editable": false,
    "nbgrader": {
     "cell_type": "markdown",
     "checksum": "4730a82e4d585361b8b237ed82869675",
     "grade": false,
     "grade_id": "cell-ecb5f453c7a25dcc",
     "locked": true,
     "schema_version": 3,
     "solution": false,
     "task": false
    }
   },
   "source": [
    "Vérifiez que vous obtenez :\n",
    "    \n",
    "```python\n",
    "cesure_simplifiee('proposition')\n",
    "pro-\n",
    "po-\n",
    "si-\n",
    "tion\n",
    "```\n",
    "\n",
    "et :\n",
    "\n",
    "```python\n",
    "cesure_simplifiee('vacances')\n",
    "va-\n",
    "ca-\n",
    "n-\n",
    "ces\n",
    "```"
   ]
  },
  {
   "cell_type": "code",
   "execution_count": null,
   "id": "de31b6cb",
   "metadata": {
    "deletable": false,
    "editable": false,
    "nbgrader": {
     "cell_type": "code",
     "checksum": "4662db6ffb3aae0138a74d08d01cec2c",
     "grade": false,
     "grade_id": "cell-fe03ead731828331",
     "locked": true,
     "schema_version": 3,
     "solution": false,
     "task": false
    }
   },
   "outputs": [],
   "source": [
    "cesure_simplifiee('proposition')"
   ]
  },
  {
   "cell_type": "code",
   "execution_count": null,
   "id": "9ded3759",
   "metadata": {
    "deletable": false,
    "editable": false,
    "nbgrader": {
     "cell_type": "code",
     "checksum": "6e28fdd5eea36ea15ff014f4218d297e",
     "grade": false,
     "grade_id": "cell-2e15e3617dee0766",
     "locked": true,
     "schema_version": 3,
     "solution": false,
     "task": false
    }
   },
   "outputs": [],
   "source": [
    "cesure_simplifiee('vacances')"
   ]
  },
  {
   "cell_type": "markdown",
   "id": "ee10e2a3",
   "metadata": {
    "deletable": false,
    "editable": false,
    "nbgrader": {
     "cell_type": "markdown",
     "checksum": "61779fd8898dd9c23ea4a3254a4596b1",
     "grade": false,
     "grade_id": "cell-027b583601a19fac",
     "locked": true,
     "schema_version": 3,
     "solution": false,
     "task": false
    }
   },
   "source": [
    "(\\**) Écrire une fonction `sapin` qui prend en argument un entier et affiche un sapin sous la forme suivante :\n",
    "\n",
    "```\n",
    "sapin(4)\n",
    "   **\n",
    "  *  *\n",
    " *    *\n",
    "*      *\n",
    "********\n",
    "   ||\n",
    "\n",
    "sapin(3)\n",
    "  **\n",
    " *  *\n",
    "*    *\n",
    "******\n",
    "  ||\n",
    "```"
   ]
  },
  {
   "cell_type": "code",
   "execution_count": null,
   "id": "fea58621",
   "metadata": {
    "deletable": false,
    "nbgrader": {
     "cell_type": "code",
     "checksum": "a0acdea3d208fdf832c3e8a7ca50c4c3",
     "grade": false,
     "grade_id": "cell-5e33dce45b42bae4",
     "locked": false,
     "schema_version": 3,
     "solution": true,
     "task": false
    }
   },
   "outputs": [],
   "source": [
    "# Écrire votre code ici\n",
    "raise NotImplementedError # effacer cette ligne une fois le code écrit"
   ]
  },
  {
   "cell_type": "markdown",
   "id": "f7da6110",
   "metadata": {
    "deletable": false,
    "editable": false,
    "nbgrader": {
     "cell_type": "markdown",
     "checksum": "7e098dd7d31106d5f3e1acda2b3c4f94",
     "grade": false,
     "grade_id": "cell-5e88d837093a9407",
     "locked": true,
     "schema_version": 3,
     "solution": false,
     "task": false
    }
   },
   "source": [
    "Vérifiez vos sapins:"
   ]
  },
  {
   "cell_type": "code",
   "execution_count": null,
   "id": "0621d58c",
   "metadata": {
    "deletable": false,
    "editable": false,
    "nbgrader": {
     "cell_type": "code",
     "checksum": "3300448e761162d75c0c4bf87b13682e",
     "grade": false,
     "grade_id": "cell-e3741ea593ab376c",
     "locked": true,
     "schema_version": 3,
     "solution": false,
     "task": false
    }
   },
   "outputs": [],
   "source": [
    "sapin(3)"
   ]
  },
  {
   "cell_type": "code",
   "execution_count": null,
   "id": "4a60b563",
   "metadata": {
    "deletable": false,
    "editable": false,
    "nbgrader": {
     "cell_type": "code",
     "checksum": "c37474cd2549f5223eabbf36e2ea83f9",
     "grade": false,
     "grade_id": "cell-deda4b0467d65dcf",
     "locked": true,
     "schema_version": 3,
     "solution": false,
     "task": false
    }
   },
   "outputs": [],
   "source": [
    "sapin(4)"
   ]
  },
  {
   "cell_type": "markdown",
   "id": "c163ece8",
   "metadata": {
    "deletable": false,
    "editable": false,
    "nbgrader": {
     "cell_type": "markdown",
     "checksum": "14518977aeb33b488e5f7e33c2ee336e",
     "grade": false,
     "grade_id": "cell-a9aacdbb66107163",
     "locked": true,
     "schema_version": 3,
     "solution": false,
     "task": false
    }
   },
   "source": [
    "## Listes\n",
    "Écrire une fonction `est_isocele` qui prend en argument trois listes supposées chacune représenter un point du plan (chaque liste contient deux nombres, l'abscisse et l'ordonnée du point) et teste si le triangle formé par ces trois points est isocèle ou pas. N'oubliez pas qu'on ne doit jamais tester l'égalité de deux nombres flottants."
   ]
  },
  {
   "cell_type": "code",
   "execution_count": null,
   "id": "c6fc5cd9",
   "metadata": {
    "deletable": false,
    "nbgrader": {
     "cell_type": "code",
     "checksum": "fb28dbb56a206fcf11a52a8c216440e4",
     "grade": false,
     "grade_id": "cell-32a277f38f3c0dc6",
     "locked": false,
     "schema_version": 3,
     "solution": true,
     "task": false
    }
   },
   "outputs": [],
   "source": [
    "# Écrire votre code ici\n",
    "raise NotImplementedError # effacer cette ligne une fois le code écrit"
   ]
  },
  {
   "cell_type": "code",
   "execution_count": null,
   "id": "a975195e",
   "metadata": {
    "deletable": false,
    "editable": false,
    "nbgrader": {
     "cell_type": "code",
     "checksum": "9c24cd8157c6ed4cfe83b9651c8e3dd4",
     "grade": true,
     "grade_id": "cell-0734dd5b07851a32",
     "locked": true,
     "points": 1,
     "schema_version": 3,
     "solution": false,
     "task": false
    }
   },
   "outputs": [],
   "source": [
    "assert(est_isocele([0, 0], [10, 0], [0, 10]) == True)\n",
    "assert(est_isocele([2, 3], [6, 6], [-1, 7]) == True)\n",
    "assert(est_isocele([4.3, -2.8], [5.1, -6.2], [0.9, -2]) == True)\n",
    "assert(est_isocele([2, 6], [9.4, 1], [-1.2, 5]) == False)"
   ]
  },
  {
   "cell_type": "markdown",
   "id": "7c5920aa",
   "metadata": {
    "deletable": false,
    "editable": false,
    "nbgrader": {
     "cell_type": "markdown",
     "checksum": "c0d65660a4567398eed65199544e3910",
     "grade": false,
     "grade_id": "cell-a9aacdbb66107164",
     "locked": true,
     "schema_version": 3,
     "solution": false,
     "task": false
    }
   },
   "source": [
    "Écrire une fonction `nb_vides` qui prend une liste de chaînes de caractères et renvoie le nombre de chaînes vides de cette liste."
   ]
  },
  {
   "cell_type": "code",
   "execution_count": null,
   "id": "f15e131c",
   "metadata": {
    "deletable": false,
    "nbgrader": {
     "cell_type": "code",
     "checksum": "1840b7ab480550819fb36d1edb94114b",
     "grade": false,
     "grade_id": "cell-f2486c2d7887d253",
     "locked": false,
     "schema_version": 3,
     "solution": true,
     "task": false
    }
   },
   "outputs": [],
   "source": [
    "# Écrire votre code ici\n",
    "raise NotImplementedError # effacer cette ligne une fois le code écrit"
   ]
  },
  {
   "cell_type": "code",
   "execution_count": null,
   "id": "f7423dd3",
   "metadata": {
    "deletable": false,
    "editable": false,
    "nbgrader": {
     "cell_type": "code",
     "checksum": "b6f0fd5795bfb8ec294353f527d40144",
     "grade": true,
     "grade_id": "cell-9332763caf14d35a",
     "locked": true,
     "points": 1,
     "schema_version": 3,
     "solution": false,
     "task": false
    }
   },
   "outputs": [],
   "source": [
    "assert(nb_vides([]) == 0)\n",
    "assert(nb_vides(['']) == 1)\n",
    "assert(nb_vides(['toto']) == 0)\n",
    "assert(nb_vides(['', 'toto', 'titi', '', '', 'lulu', '']) == 4)"
   ]
  },
  {
   "cell_type": "markdown",
   "id": "85e5f6ae",
   "metadata": {
    "deletable": false,
    "editable": false,
    "nbgrader": {
     "cell_type": "markdown",
     "checksum": "48df580a73ac26fe56e2c79093fd0d8b",
     "grade": false,
     "grade_id": "cell-c7339a44fd806e02",
     "locked": true,
     "schema_version": 3,
     "solution": false,
     "task": false
    }
   },
   "source": [
    "Écrire une fonction `zip` qui prend en argument deux listes et renvoie une liste de même longueur que la plus courte liste passée en argument et dont la case `i` contient une liste de longueur 2 contenant les éléments des cases `i` des deux listes passées en argument.\n",
    "\n",
    "exemple :\n",
    "\n",
    "```python\n",
    "zip([1, 2, 3, 4], ['a', 'b', 'c'])\n",
    "[[1, 'a'], [2, 'b'], [3, 'c']]\n",
    "```"
   ]
  },
  {
   "cell_type": "code",
   "execution_count": null,
   "id": "eacabd2d",
   "metadata": {
    "deletable": false,
    "nbgrader": {
     "cell_type": "code",
     "checksum": "7be8dc7a38d8165385a080d83df236dc",
     "grade": false,
     "grade_id": "cell-f46186e1e3c8cb6b",
     "locked": false,
     "schema_version": 3,
     "solution": true,
     "task": false
    }
   },
   "outputs": [],
   "source": [
    "# Écrire votre code ici\n",
    "raise NotImplementedError # effacer cette ligne une fois le code écrit"
   ]
  },
  {
   "cell_type": "code",
   "execution_count": null,
   "id": "f6d3e40a",
   "metadata": {
    "deletable": false,
    "editable": false,
    "nbgrader": {
     "cell_type": "code",
     "checksum": "32a1da48d7588f2e80c16aa8317fd425",
     "grade": true,
     "grade_id": "cell-e55420d64bfab7f4",
     "locked": true,
     "points": 1,
     "schema_version": 3,
     "solution": false,
     "task": false
    }
   },
   "outputs": [],
   "source": [
    "assert(zip([], []) == [])\n",
    "assert(zip([3, 2, 1], []) == [])\n",
    "assert(zip([], ['toto', 'titi']) == [])\n",
    "assert(zip([1, 2, 3, 4], ['a', 'b', 'c']) == [[1, 'a'], [2, 'b'], [3, 'c']])"
   ]
  },
  {
   "cell_type": "markdown",
   "id": "6acad0a3",
   "metadata": {
    "deletable": false,
    "editable": false,
    "nbgrader": {
     "cell_type": "markdown",
     "checksum": "4a8a14130acbfaf997c7aa90f492175c",
     "grade": false,
     "grade_id": "cell-9a363ff15d7e23a5",
     "locked": true,
     "schema_version": 3,
     "solution": false,
     "task": false
    }
   },
   "source": [
    "Écrire une fonction `mesurer` qui prend en argument une liste de listes et renvoie une liste de même longueur dont la case `i` vaut la longueur de la liste dans la `i`e case de l'argument."
   ]
  },
  {
   "cell_type": "code",
   "execution_count": null,
   "id": "8698000f",
   "metadata": {
    "deletable": false,
    "nbgrader": {
     "cell_type": "code",
     "checksum": "ebcdce71e3b82af9c32ffde2e9ab4a62",
     "grade": false,
     "grade_id": "cell-2b227f2285faee11",
     "locked": false,
     "schema_version": 3,
     "solution": true,
     "task": false
    }
   },
   "outputs": [],
   "source": [
    "# Écrire votre code ici\n",
    "raise NotImplementedError # effacer cette ligne une fois le code écrit"
   ]
  },
  {
   "cell_type": "code",
   "execution_count": null,
   "id": "4a8a57cd",
   "metadata": {
    "deletable": false,
    "editable": false,
    "nbgrader": {
     "cell_type": "code",
     "checksum": "2a9af41c89f4aefc4021be731929a13c",
     "grade": true,
     "grade_id": "cell-190a3d0696213b93",
     "locked": true,
     "points": 1,
     "schema_version": 3,
     "solution": false,
     "task": false
    }
   },
   "outputs": [],
   "source": [
    "assert(mesurer([]) == [])\n",
    "assert(mesurer([[]]) == [0])\n",
    "assert(mesurer([[], [1, 2, 3], ['a'], [], [[1, 2, 3], [4, 5]]]) == [0, 3, 1, 0, 2])"
   ]
  },
  {
   "cell_type": "markdown",
   "id": "ff6f4887",
   "metadata": {
    "deletable": false,
    "editable": false,
    "nbgrader": {
     "cell_type": "markdown",
     "checksum": "1e74ef31c0946aaeae7db82187e41e73",
     "grade": false,
     "grade_id": "cell-016058726ed5ba6f",
     "locked": true,
     "schema_version": 3,
     "solution": false,
     "task": false
    }
   },
   "source": [
    "(\\**) Écrire une fonction `consecutifs` qui prend en argument une liste d'éléments et renvoie le nombre maximal d'éléments consécutifs identiques."
   ]
  },
  {
   "cell_type": "code",
   "execution_count": null,
   "id": "e818aff5",
   "metadata": {
    "deletable": false,
    "nbgrader": {
     "cell_type": "code",
     "checksum": "c30432d6900a7f42d716af5ac62dbdc1",
     "grade": false,
     "grade_id": "cell-6a4cee303f542441",
     "locked": false,
     "schema_version": 3,
     "solution": true,
     "task": false
    }
   },
   "outputs": [],
   "source": [
    "# Écrire votre code ici\n",
    "raise NotImplementedError # effacer cette ligne une fois le code écrit"
   ]
  },
  {
   "cell_type": "code",
   "execution_count": null,
   "id": "07a3f20b",
   "metadata": {
    "deletable": false,
    "editable": false,
    "nbgrader": {
     "cell_type": "code",
     "checksum": "66f813bb9f8c18fe02525f5283e7a295",
     "grade": true,
     "grade_id": "cell-d6169ce616b7f4b0",
     "locked": true,
     "points": 1,
     "schema_version": 3,
     "solution": false,
     "task": false
    }
   },
   "outputs": [],
   "source": [
    "assert(consecutifs([]) == 0)\n",
    "assert(consecutifs(['', '', 'a']) == 2)\n",
    "assert(consecutifs([1, 1, 2, 3, 3, 3, 3, 4, 4, 2, 2, 2]) == 4)"
   ]
  },
  {
   "cell_type": "markdown",
   "id": "3bafd4d2",
   "metadata": {
    "deletable": false,
    "editable": false,
    "nbgrader": {
     "cell_type": "markdown",
     "checksum": "ca3df7cc513750e6df5248bb70ee22b8",
     "grade": false,
     "grade_id": "cell-0dca181eca6e5210",
     "locked": true,
     "schema_version": 3,
     "solution": false,
     "task": false
    }
   },
   "source": [
    "## Utilisation de modules\n",
    "Pour faire cet exercice, vous devez installer le module `matplotlib` sur votre compte avec la commande suivante (c'est un peu long, c'est normal) :"
   ]
  },
  {
   "cell_type": "code",
   "execution_count": null,
   "id": "fd0a9320",
   "metadata": {
    "deletable": false,
    "editable": false,
    "nbgrader": {
     "cell_type": "code",
     "checksum": "be45b4a4fc268d8b4b6915c28e5723e9",
     "grade": false,
     "grade_id": "cell-b5c3abe49034aab4",
     "locked": true,
     "schema_version": 3,
     "solution": false,
     "task": false
    }
   },
   "outputs": [],
   "source": [
    "!pip install --user matplotlib  ##ceci n'est pas du python"
   ]
  },
  {
   "cell_type": "markdown",
   "id": "a4d85f45",
   "metadata": {
    "deletable": false,
    "editable": false,
    "nbgrader": {
     "cell_type": "markdown",
     "checksum": "c20497f1ffaad80afa49dc052fdaf3b5",
     "grade": false,
     "grade_id": "cell-0dca181eca6e5211",
     "locked": true,
     "schema_version": 3,
     "solution": false,
     "task": false
    }
   },
   "source": [
    "Le module `matplotlib` contient un sous-module pyplot, importez-le de façon à pouvoir utiliser la commande qui suit (c'est un peu long la première fois, c'est normal):"
   ]
  },
  {
   "cell_type": "code",
   "execution_count": null,
   "id": "2affc756",
   "metadata": {
    "deletable": false,
    "nbgrader": {
     "cell_type": "code",
     "checksum": "525e3dd317df3a6320f5cdd113a0cfc8",
     "grade": false,
     "grade_id": "cell-ed12c83667748f71",
     "locked": false,
     "schema_version": 3,
     "solution": true,
     "task": false
    }
   },
   "outputs": [],
   "source": [
    "# Écrire votre code ici\n",
    "raise NotImplementedError # effacer cette ligne une fois le code écrit\n",
    "\n",
    "weights = [30, 50, 45, 80, 76, 55, 45, 47, 50, 65]\n",
    "pyplot.hist(weights)\n",
    "pyplot.show()"
   ]
  },
  {
   "cell_type": "markdown",
   "id": "0e15c900",
   "metadata": {
    "deletable": false,
    "editable": false,
    "nbgrader": {
     "cell_type": "markdown",
     "checksum": "81aac8b09b0f03ddf8f2b70bd3891ff6",
     "grade": false,
     "grade_id": "cell-52ce427491bbe459",
     "locked": true,
     "schema_version": 3,
     "solution": false,
     "task": false
    }
   },
   "source": [
    "Pour dessiner des points, on peut donner en argument à la fonction `plot` du sous-module `pyplot` deux listes en argument, la première contenant les abscisses des points, la deuxième leurs ordonnées.\n",
    "\n",
    "Écrire une fonction `representation` qui prend en argument une autre fonction et une liste de nombres et dessine les valeurs de la fonction passée en argument en les points d'abscisses fournies dans la liste.\n",
    "\n",
    "exemple : le code\n",
    "```python\n",
    "import math\n",
    "\n",
    "representation(math.cos, [.2*n for n in range(-40, 40)])\n",
    "```\n",
    "doit aboutir à l'affichage\n",
    "![](plot_cos.png)"
   ]
  },
  {
   "cell_type": "code",
   "execution_count": null,
   "id": "e3b56326",
   "metadata": {
    "deletable": false,
    "nbgrader": {
     "cell_type": "code",
     "checksum": "a0e3ca1d6080fe854c146c54a28ca53b",
     "grade": false,
     "grade_id": "cell-4a302edf954cb3f1",
     "locked": false,
     "schema_version": 3,
     "solution": true,
     "task": false
    }
   },
   "outputs": [],
   "source": [
    "# Écrire votre code ici\n",
    "raise NotImplementedError # effacer cette ligne une fois le code écrit"
   ]
  },
  {
   "cell_type": "code",
   "execution_count": null,
   "id": "70227071",
   "metadata": {
    "deletable": false,
    "editable": false,
    "nbgrader": {
     "cell_type": "code",
     "checksum": "dc6592844dc331bd2fe84c7d0a8eb29e",
     "grade": false,
     "grade_id": "cell-51da2e92c0c3b227",
     "locked": true,
     "schema_version": 3,
     "solution": false,
     "task": false
    }
   },
   "outputs": [],
   "source": [
    "Testez votre code :"
   ]
  },
  {
   "cell_type": "code",
   "execution_count": null,
   "id": "1dec05cf",
   "metadata": {
    "deletable": false,
    "editable": false,
    "nbgrader": {
     "cell_type": "code",
     "checksum": "f1b76a2b9fc69cd3a2650d6c29570c15",
     "grade": false,
     "grade_id": "cell-629f46ec3f98788b",
     "locked": true,
     "schema_version": 3,
     "solution": false,
     "task": false
    }
   },
   "outputs": [],
   "source": [
    "import math\n",
    "\n",
    "representation(math.cos, [.2*n for n in range(-40, 40)])"
   ]
  }
 ],
 "metadata": {
  "kernelspec": {
   "display_name": "Python 3 (ipykernel)",
   "language": "python",
   "name": "python3"
  },
  "language_info": {
   "codemirror_mode": {
    "name": "ipython",
    "version": 3
   },
   "file_extension": ".py",
   "mimetype": "text/x-python",
   "name": "python",
   "nbconvert_exporter": "python",
   "pygments_lexer": "ipython3",
   "version": "3.7.3"
  }
 },
 "nbformat": 4,
 "nbformat_minor": 5
}
