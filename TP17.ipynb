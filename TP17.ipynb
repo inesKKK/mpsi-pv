{
 "cells": [
  {
   "cell_type": "markdown",
   "id": "eedb5c29",
   "metadata": {},
   "source": [
    "# ITC - MPSI\n",
    "---"
   ]
  },
  {
   "cell_type": "markdown",
   "id": "f2aac486",
   "metadata": {
    "deletable": false,
    "editable": false,
    "nbgrader": {
     "cell_type": "markdown",
     "checksum": "aed4f1d5bc6576cdcf477d3a1a8a0d9b",
     "grade": false,
     "grade_id": "cell-bdf0e80d0e76fe98",
     "locked": true,
     "schema_version": 3,
     "solution": false,
     "task": false
    }
   },
   "source": [
    "# TP17 : Tests fonctionnels\n",
    "Il s'agit dans ce TP de trouver des erreurs faites par des fonctions déjà écrites au code desquelles vous n'avez pas accès. Vous avez accès à un module `erreurs` qui contient un certain nombre de fonctions documentées. À vous de créer des tests pour traquer les problèmes de ces fonctions."
   ]
  },
  {
   "cell_type": "markdown",
   "id": "411c34b6",
   "metadata": {
    "deletable": false,
    "editable": false,
    "nbgrader": {
     "cell_type": "markdown",
     "checksum": "d78d3ab504aa770a3d2a6c63ff63b4fa",
     "grade": false,
     "grade_id": "cell-7504e45f368a7b44",
     "locked": true,
     "schema_version": 3,
     "solution": false,
     "task": false
    }
   },
   "source": [
    "**Rappel :** pour utiliser une fonction d'un module, vous avez deux possibilités :\n",
    "* importer le module complet (`import nom_module`), puis invoquer une fonction en passant par le nom du module (`nom_module.nom_fonction(parametre)`),\n",
    "* importer la fonction qui vous intéresse (`from nom_module import nom_fonction`) et l'utiliser directement (`nom_fonction(parametre)`).\n",
    "\n",
    "Pour utiliser plusieurs fonctions d'un même module, vous pouvez bien entendu utiliser les méthodes ci-dessus, mais vous avez aussi la possibilité d'importer plusieurs fonctions en même temps, voire toutes les fonctions d'un module d'un coup:\n",
    "* `from nom_module import nom_fonction1, nom_fonction2`\n",
    "* `from nom_module import *`"
   ]
  },
  {
   "cell_type": "markdown",
   "id": "46b01118",
   "metadata": {
    "deletable": false,
    "editable": false,
    "nbgrader": {
     "cell_type": "markdown",
     "checksum": "038c02aeee30faedf1ac5c36098f4a88",
     "grade": false,
     "grade_id": "cell-3ecfcbd9fda28b41",
     "locked": true,
     "schema_version": 3,
     "solution": false,
     "task": false
    }
   },
   "source": [
    "Pour tester une fonction `f` sur un couple (`entree`, `sortie`), utilisez des `assert`: `assert(f(entree == sortie))` par exemple."
   ]
  },
  {
   "cell_type": "markdown",
   "id": "f11d6e31",
   "metadata": {
    "deletable": false,
    "editable": false,
    "nbgrader": {
     "cell_type": "markdown",
     "checksum": "f926d211443f0ea188a6b18aa90356f9",
     "grade": false,
     "grade_id": "cell-8016e16c611a2401",
     "locked": true,
     "schema_version": 3,
     "solution": false,
     "task": false
    }
   },
   "source": [
    "Ce qui est attendu de vous dans ce TP: pour chaque fonction du module `erreurs`, vous devez fournir des tests permettant de trouver des cas erreurs (il y en a souvent plusieurs). Vous ajouterez en commentaire à chaque fois la situation que vous avez voulu tester (par exemple tester l'entier 2 comme entrée pourrait être un test sur les entiers positifs, sur les entiers pairs ou sur les entiers premiers, selon la situation).\n",
    "\n",
    "Vous devez créer (au moins) une cellule pour écrire les tests d'une fonction donnée. "
   ]
  },
  {
   "cell_type": "code",
   "execution_count": null,
   "id": "f71c7ae5",
   "metadata": {
    "deletable": false,
    "nbgrader": {
     "cell_type": "code",
     "checksum": "fdc85d9dfe8985b1b54880c876565fb6",
     "grade": true,
     "grade_id": "cell-308ca9a48ea18573",
     "locked": false,
     "points": 6,
     "schema_version": 3,
     "solution": true,
     "task": false
    }
   },
   "outputs": [],
   "source": [
    "# Écrire votre code ici\n",
    "raise NotImplementedError # effacer cette ligne une fois le code écrit"
   ]
  },
  {
   "cell_type": "markdown",
   "id": "dde18195",
   "metadata": {
    "deletable": false,
    "editable": false,
    "nbgrader": {
     "cell_type": "markdown",
     "checksum": "3e82a02e3d6681fbac11b60de13b8659",
     "grade": false,
     "grade_id": "cell-9abf5575121503c2",
     "locked": true,
     "schema_version": 3,
     "solution": false,
     "task": false
    }
   },
   "source": [
    "Pour ceux qui auraient fini: réfléchissez au problème [https://vjudge.net/contest/480135#problem](https://vjudge.net/contest/480135#problem).\n",
    "\n",
    "Pour participer, il faut se créer un compte et me donner le nom d'utilisateur pour que je vous ajoute au groupe.\n",
    "\n",
    "Pour lire des données sur l'entrée standard, il suffit de faire\n",
    "```python\n",
    "from sys import stdin\n",
    "```\n",
    "Puis `stdin` se comporte comme le résultat d'un `open` (on peut donc utiliser `read()`, `readline()` et `readlines()` dessus), mais il n'y a pas besoin de faire un `close()` (puisqu'il n'y a pas eu de `open`."
   ]
  },
  {
   "cell_type": "markdown",
   "id": "734a9784",
   "metadata": {
    "deletable": false,
    "editable": false,
    "nbgrader": {
     "cell_type": "markdown",
     "checksum": "31216c62b8361a1a54a3c42fd622baad",
     "grade": false,
     "grade_id": "cell-44332fcc89337804",
     "locked": true,
     "schema_version": 3,
     "solution": false,
     "task": false
    }
   },
   "source": [
    "<div class=\"alert alert-success\">\n",
    "    <h2>Les points à retenir</h2>\n",
    "    \n",
    "* on utilise (en tout cas dans le contexte du cours) `assert` pour faire des tests,\n",
    "* le cours sur les tests fonctionnels.\n",
    "</div>"
   ]
  }
 ],
 "metadata": {
  "kernelspec": {
   "display_name": "Python 3 (ipykernel)",
   "language": "python",
   "name": "python3"
  },
  "language_info": {
   "codemirror_mode": {
    "name": "ipython",
    "version": 3
   },
   "file_extension": ".py",
   "mimetype": "text/x-python",
   "name": "python",
   "nbconvert_exporter": "python",
   "pygments_lexer": "ipython3",
   "version": "3.7.3"
  }
 },
 "nbformat": 4,
 "nbformat_minor": 5
}
