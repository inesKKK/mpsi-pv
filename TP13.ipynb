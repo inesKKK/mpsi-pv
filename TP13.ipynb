{
 "cells": [
  {
   "cell_type": "markdown",
   "id": "facbd5b5",
   "metadata": {
    "nbgrader": {
     "grade": false,
     "grade_id": "cell-c8cf4f90e635e93f",
     "locked": true,
     "schema_version": 3,
     "solution": false,
     "task": false
    }
   },
   "source": [
    "# TP13 : Fichiers\n",
    "Dans ce TP nous allons apprendre à lire et écrire\"dans un fichier qui se trouve sur le disque.\n",
    "\n",
    "Quand un programme doit accéder au contenu d'un fichier, le système vérifie que cette lecture est autorisée, puis il met en place toute une structure de données pour permettre cette lecture. L'ensemble de ces opérations est désigné par le terme _ouverture d'un fichier en lecture ou en écriture_. Une fois ces opérations faites, le programme peut accéder au contenu du fichier. Quand il a terminé ses manipulations (lecture et/ou écriture), il doit signaler qu'il n'a plus besoin de ces ressources, afin qu'elles puissent être mises à jour si besoin sur le disque.\n",
    "\n",
    "L'ouverture en lecture et/ou en écriture d'un fichier qui s'appelle `toto` se fait en `python` grâce à la fonction `open` à laquelle on fournit comme argument une chaîne de caractères qui contient le nom du fichier. Cette fonction renvoie un flux. Nous ne rentrerons pas dans les détails de ce qu'est un flux, le seul point important est que nous pourrons utiliser cette valeur de retour pour effectuer des lectures et des écritures dans le fichier ainsi ouvert."
   ]
  },
  {
   "cell_type": "code",
   "execution_count": 1,
   "id": "42c23629",
   "metadata": {
    "nbgrader": {
     "grade": false,
     "grade_id": "cell-8208654a064a3bb8",
     "locked": true,
     "schema_version": 3,
     "solution": false,
     "task": false
    }
   },
   "outputs": [
    {
     "ename": "FileNotFoundError",
     "evalue": "[Errno 2] No such file or directory: 'toto'",
     "output_type": "error",
     "traceback": [
      "\u001b[0;31m---------------------------------------------------------------------------\u001b[0m",
      "\u001b[0;31mFileNotFoundError\u001b[0m                         Traceback (most recent call last)",
      "\u001b[0;32m/tmp/ipykernel_14234/1239679143.py\u001b[0m in \u001b[0;36m<module>\u001b[0;34m\u001b[0m\n\u001b[0;32m----> 1\u001b[0;31m \u001b[0mf\u001b[0m \u001b[0;34m=\u001b[0m \u001b[0mopen\u001b[0m\u001b[0;34m(\u001b[0m\u001b[0;34m\"toto\"\u001b[0m\u001b[0;34m)\u001b[0m\u001b[0;34m\u001b[0m\u001b[0;34m\u001b[0m\u001b[0m\n\u001b[0m",
      "\u001b[0;31mFileNotFoundError\u001b[0m: [Errno 2] No such file or directory: 'toto'"
     ]
    }
   ],
   "source": [
    "f = open(\"toto\")"
   ]
  },
  {
   "cell_type": "markdown",
   "id": "a55bd0c8",
   "metadata": {
    "nbgrader": {
     "grade": false,
     "grade_id": "cell-386c3eac15773349",
     "locked": true,
     "schema_version": 3,
     "solution": false,
     "task": false
    }
   },
   "source": [
    "Dans l'exemple précédent, le message d'erreur vient du fait qu'il n'y a aucun fichier qui s'appelle `toto`. Recommençons avec le nom d'un fichier existant (vous pouvez voir le contenu de ce fichier : [fichier_0](Fichiers/fichier_0)) :"
   ]
  },
  {
   "cell_type": "code",
   "execution_count": 2,
   "id": "7d4821a9",
   "metadata": {
    "nbgrader": {
     "grade": false,
     "grade_id": "cell-4b85768b263463db",
     "locked": true,
     "schema_version": 3,
     "solution": false,
     "task": false
    }
   },
   "outputs": [],
   "source": [
    "f = open('Fichiers/fichier_0')"
   ]
  },
  {
   "cell_type": "markdown",
   "id": "f26b4575",
   "metadata": {
    "nbgrader": {
     "grade": false,
     "grade_id": "cell-38467e122d987f5e",
     "locked": true,
     "schema_version": 3,
     "solution": false,
     "task": false
    }
   },
   "source": [
    "Quand on termine d'utiliser les ressources associées au fichier, il faut les libérer, ce qui se fait par la méthode `close` (attention à la syntaxe) :"
   ]
  },
  {
   "cell_type": "code",
   "execution_count": 3,
   "id": "d03ea56b",
   "metadata": {
    "nbgrader": {
     "grade": false,
     "grade_id": "cell-dd092a57b203dbb1",
     "locked": true,
     "schema_version": 3,
     "solution": false,
     "task": false
    }
   },
   "outputs": [],
   "source": [
    "f.close()"
   ]
  },
  {
   "cell_type": "markdown",
   "id": "6852b566",
   "metadata": {
    "nbgrader": {
     "grade": false,
     "grade_id": "cell-a49220dcb2b1b5c1",
     "locked": true,
     "schema_version": 3,
     "solution": false,
     "task": false
    }
   },
   "source": [
    "# Lecture d'un fichier\n",
    "On peut lire d'un coup toutes les lignes d'un fichier (pas recommandé si le fichier est long), avec la méthode `read` :"
   ]
  },
  {
   "cell_type": "code",
   "execution_count": 1,
   "id": "93bcee36",
   "metadata": {
    "nbgrader": {
     "grade": false,
     "grade_id": "cell-114e4d381ce7d0b5",
     "locked": true,
     "schema_version": 3,
     "solution": false,
     "task": false
    }
   },
   "outputs": [
    {
     "data": {
      "text/plain": [
       "'Ceci est un exemple de fichier\\nà lire\\nsur plusieurs lignes.\\n'"
      ]
     },
     "execution_count": 1,
     "metadata": {},
     "output_type": "execute_result"
    }
   ],
   "source": [
    "f = open('Fichiers/fichier_0')\n",
    "f.read()"
   ]
  },
  {
   "cell_type": "markdown",
   "id": "db77a93c",
   "metadata": {
    "nbgrader": {
     "grade": false,
     "grade_id": "cell-75418cd1fca9c81f",
     "locked": true,
     "schema_version": 3,
     "solution": false,
     "task": false
    }
   },
   "source": [
    "Vous remarquez que les retours à ligne apparaissent sous la forme du caractère `'\\n'`. Si on affiche cette chaîne à l'aide de la fonction `print`, on a effectivement des retours à la ligne.\n",
    "\n",
    "La pointe de lecture se déplace de gauche à droite au fur et à mesure, une fois la lecture de tout le fichier faite, il n'y a donc plus rien à lire :"
   ]
  },
  {
   "cell_type": "code",
   "execution_count": 4,
   "id": "743abfcb",
   "metadata": {
    "nbgrader": {
     "grade": false,
     "grade_id": "cell-6f042f04c548ff88",
     "locked": true,
     "schema_version": 3,
     "solution": false,
     "task": false
    }
   },
   "outputs": [
    {
     "ename": "ValueError",
     "evalue": "I/O operation on closed file.",
     "output_type": "error",
     "traceback": [
      "\u001b[0;31m---------------------------------------------------------------------------\u001b[0m",
      "\u001b[0;31mValueError\u001b[0m                                Traceback (most recent call last)",
      "\u001b[0;32m/tmp/ipykernel_14580/3059900045.py\u001b[0m in \u001b[0;36m<module>\u001b[0;34m\u001b[0m\n\u001b[0;32m----> 1\u001b[0;31m \u001b[0mf\u001b[0m\u001b[0;34m.\u001b[0m\u001b[0mread\u001b[0m\u001b[0;34m(\u001b[0m\u001b[0;34m)\u001b[0m\u001b[0;34m\u001b[0m\u001b[0;34m\u001b[0m\u001b[0m\n\u001b[0m",
      "\u001b[0;31mValueError\u001b[0m: I/O operation on closed file."
     ]
    }
   ],
   "source": [
    "f.read()"
   ]
  },
  {
   "cell_type": "code",
   "execution_count": 3,
   "id": "552f6705",
   "metadata": {
    "nbgrader": {
     "grade": false,
     "grade_id": "cell-cf20cacff4889ec1",
     "locked": true,
     "schema_version": 3,
     "solution": false,
     "task": false
    }
   },
   "outputs": [],
   "source": [
    "f.close()"
   ]
  },
  {
   "cell_type": "markdown",
   "id": "11985b0f",
   "metadata": {
    "nbgrader": {
     "grade": false,
     "grade_id": "cell-81cdf3ea5ca521a2",
     "locked": true,
     "schema_version": 3,
     "solution": false,
     "task": false
    }
   },
   "source": [
    "On peut également obtenir toutes les lignes d'un fichier sous la forme d'une liste de lignes (la coupure se fait alors à chaque changement de ligne) grâce à la méthode `readlines` :"
   ]
  },
  {
   "cell_type": "code",
   "execution_count": 7,
   "id": "f7f82efe",
   "metadata": {
    "nbgrader": {
     "grade": false,
     "grade_id": "cell-d74ca70112b96fe6",
     "locked": true,
     "schema_version": 3,
     "solution": false,
     "task": false
    }
   },
   "outputs": [
    {
     "data": {
      "text/plain": [
       "['Ceci est un exemple de fichier\\n', 'à lire\\n', 'sur plusieurs lignes.\\n']"
      ]
     },
     "execution_count": 7,
     "metadata": {},
     "output_type": "execute_result"
    }
   ],
   "source": [
    "f = open('Fichiers/fichier_0')\n",
    "lignes = f.readlines()\n",
    "f.close()\n",
    "\n",
    "lignes"
   ]
  },
  {
   "cell_type": "markdown",
   "id": "9627db2b",
   "metadata": {
    "nbgrader": {
     "grade": false,
     "grade_id": "cell-38ac8a5534253a9f",
     "locked": true,
     "schema_version": 3,
     "solution": false,
     "task": false
    }
   },
   "source": [
    "On peut aussi demander lire ligne à ligne :"
   ]
  },
  {
   "cell_type": "code",
   "execution_count": 11,
   "id": "23181ff4",
   "metadata": {
    "nbgrader": {
     "grade": false,
     "grade_id": "cell-cdd7bd9382c157cb",
     "locked": true,
     "schema_version": 3,
     "solution": false,
     "task": false
    }
   },
   "outputs": [
    {
     "data": {
      "text/plain": [
       "'à lire\\n'"
      ]
     },
     "execution_count": 11,
     "metadata": {},
     "output_type": "execute_result"
    }
   ],
   "source": [
    "f = open('Fichiers/fichier_0')\n",
    "ligne1 = f.readline()\n",
    "ligne2 = f.readline()\n",
    "f.close()\n",
    "\n",
    "ligne2"
   ]
  },
  {
   "cell_type": "markdown",
   "id": "2c3a6228",
   "metadata": {
    "nbgrader": {
     "grade": false,
     "grade_id": "cell-8314a773dfb0c164",
     "locked": true,
     "schema_version": 3,
     "solution": false,
     "task": false
    }
   },
   "source": [
    "`readline` renvoie une chaîne vide (`''`) en fin de fichier."
   ]
  },
  {
   "cell_type": "code",
   "execution_count": 12,
   "id": "483ec913",
   "metadata": {
    "nbgrader": {
     "grade": false,
     "grade_id": "cell-664c98567b803ce2",
     "locked": true,
     "schema_version": 3,
     "solution": false,
     "task": false
    }
   },
   "outputs": [
    {
     "data": {
      "text/plain": [
       "'Ceci est un exemple de fichier\\nà lire\\nsur plusieurs lignes.\\n'"
      ]
     },
     "execution_count": 12,
     "metadata": {},
     "output_type": "execute_result"
    }
   ],
   "source": [
    "f = open('Fichiers/fichier_0')\n",
    "f.read()"
   ]
  },
  {
   "cell_type": "markdown",
   "id": "dc5b48ad",
   "metadata": {
    "nbgrader": {
     "grade": false,
     "grade_id": "cell-240d12a015d80299",
     "locked": true,
     "schema_version": 3,
     "solution": false,
     "task": false
    }
   },
   "source": [
    "## Exercice 1 : compter les lignes\n",
    "Écrire et documenter une fonction `wcl` qui prend en argument un nom de fichier et renvoie le nombre de lignes de ce fichier. Ne pas oublier de fermer le fichier."
   ]
  },
  {
   "cell_type": "code",
   "execution_count": 2,
   "id": "29892697",
   "metadata": {
    "nbgrader": {
     "grade": false,
     "grade_id": "cell-92b9a462c3b9957e",
     "locked": false,
     "schema_version": 3,
     "solution": true,
     "task": false
    }
   },
   "outputs": [],
   "source": [
    "###BEGIN SOLUTION\n",
    "def wcl(fichier):\n",
    "    f = open(fichier)\n",
    "    res = len(f.readlines())\n",
    "    f.close()\n",
    "    return res\n",
    "###END SOLUTION"
   ]
  },
  {
   "cell_type": "code",
   "execution_count": 13,
   "id": "83cac3ef",
   "metadata": {
    "nbgrader": {
     "grade": true,
     "grade_id": "cell-fbd6efee6b39eb22",
     "locked": true,
     "points": 2,
     "schema_version": 3,
     "solution": false,
     "task": false
    }
   },
   "outputs": [],
   "source": [
    "assert(wcl('Fichiers/fichier_1') == 0)\n",
    "assert(wcl('Fichiers/fichier_2') == 1)\n",
    "assert(wcl('Fichiers/fichier_3') == 3)\n",
    "assert(wcl('Fichiers/fichier_4') == 10)\n",
    "assert(wcl('Fichiers/fichier_5') == 10)\n",
    "assert(wcl('Fichiers/fichier_6') == 2862)"
   ]
  },
  {
   "cell_type": "markdown",
   "id": "935109f3",
   "metadata": {
    "nbgrader": {
     "grade": false,
     "grade_id": "cell-dcd25ea116d3b84a",
     "locked": true,
     "schema_version": 3,
     "solution": false,
     "task": false
    }
   },
   "source": [
    "## Exercice 2 : numéroter les lignes\n",
    "Le but de cet exercice est d'écrire une fonction qui affiche les lignes d'un fichier les unes après les autres, en les numérotant. Pour cela, il faut pouvoir afficher du texte: on utilise la fonction `print` avec comme argument la chaîne de caractères à afficher :\n",
    "```python\n",
    "print('texte à afficher')\n",
    "```\n",
    "\n",
    "Quand on veut afficher un entier, on peut donner directement l'entier à `print`, qui se charge de la conversion :\n",
    "```python\n",
    "print(5)\n",
    "n = 3\n",
    "print(n)\n",
    "```\n",
    "\n",
    "En revanche si on veut combiner un entier et une chaîne, il faut explicitement convertir l'entier en utilisant la fonction `str` :\n",
    "```python\n",
    "n = 3\n",
    "print('n vaut ' + str(n))\n",
    "```\n",
    "\n",
    "Écrire et documenter une fonction `catn` qui prend en argument un nom de fichier et affiche son contenu avec le numéro de chaque ligne en début de ligne."
   ]
  },
  {
   "cell_type": "code",
   "execution_count": 22,
   "id": "12a5e267",
   "metadata": {
    "nbgrader": {
     "grade": true,
     "grade_id": "cell-fda9fe42b1180eb6",
     "locked": false,
     "points": 2,
     "schema_version": 3,
     "solution": true,
     "task": false
    }
   },
   "outputs": [],
   "source": [
    "###BEGIN SOLUTION\n",
    "def catn(fichier):\n",
    "    f = open(fichier)\n",
    "    i = 1\n",
    "    for ligne in f.readlines():\n",
    "        print(str(i) + ' ' + ligne)\n",
    "        i = i + 1\n",
    "###END SOLUTION"
   ]
  },
  {
   "cell_type": "markdown",
   "id": "9fa527bb",
   "metadata": {
    "nbgrader": {
     "grade": false,
     "grade_id": "cell-95f40889be8b26e3",
     "locked": true,
     "schema_version": 3,
     "solution": false,
     "task": false
    }
   },
   "source": [
    "À vous de tester visuellement votre réponse. Voici les sorties attendues sur deux exemples:\n",
    "```\n",
    "catn('Fichiers/fichier_1')\n",
    "```\n",
    "\n",
    "```\n",
    "catn('Fichiers/fichier_7')\n",
    "1 ligne 1\n",
    "\n",
    "2 ligne 2\n",
    "\n",
    "3 \n",
    "\n",
    "4 ligne 4\n",
    "```\n"
   ]
  },
  {
   "cell_type": "code",
   "execution_count": 25,
   "id": "607175f5",
   "metadata": {
    "nbgrader": {
     "grade": false,
     "grade_id": "cell-a5f59b0ab61452ae",
     "locked": true,
     "schema_version": 3,
     "solution": false,
     "task": false
    }
   },
   "outputs": [],
   "source": [
    "catn('Fichiers/fichier_1')"
   ]
  },
  {
   "cell_type": "code",
   "execution_count": 23,
   "id": "9b0da3a7",
   "metadata": {
    "nbgrader": {
     "grade": false,
     "grade_id": "cell-26441d5de796eee7",
     "locked": true,
     "schema_version": 3,
     "solution": false,
     "task": false
    }
   },
   "outputs": [
    {
     "name": "stdout",
     "output_type": "stream",
     "text": [
      "1 ligne 1\n",
      "\n",
      "2 ligne 2\n",
      "\n",
      "3 \n",
      "\n",
      "4 ligne 4\n",
      "\n"
     ]
    }
   ],
   "source": [
    "catn('Fichiers/fichier_7')"
   ]
  },
  {
   "cell_type": "markdown",
   "id": "1c357d91",
   "metadata": {
    "nbgrader": {
     "grade": false,
     "grade_id": "cell-39280a1230916a8e",
     "locked": true,
     "schema_version": 3,
     "solution": false,
     "task": false
    }
   },
   "source": [
    "## Exercice 3 : lignes vides\n",
    "Écrire et documenter une fonction `lignes_vides` qui prend en argument un nom de fichier et renvoie le nombre de lignes vides qu'il contient (c'est-à-dire le nombre de lignes qui contiennent uniquement le caractère `'\\n'`)."
   ]
  },
  {
   "cell_type": "code",
   "execution_count": 5,
   "id": "58b6441d",
   "metadata": {
    "nbgrader": {
     "grade": false,
     "grade_id": "cell-737a8df8b57f9696",
     "locked": false,
     "schema_version": 3,
     "solution": true,
     "task": false
    }
   },
   "outputs": [],
   "source": [
    "###BEGIN SOLUTION\n",
    "def lignes_vides(fichier):\n",
    "    f = open(fichier)\n",
    "    res = len([ ligne for ligne in f.readlines() if ligne=='\\n' ])\n",
    "    f.close()\n",
    "    return res\n",
    "###END SOLUTION"
   ]
  },
  {
   "cell_type": "code",
   "execution_count": 6,
   "id": "dd2f0eb5",
   "metadata": {
    "nbgrader": {
     "grade": true,
     "grade_id": "cell-dc98bdefaba9fd7a",
     "locked": true,
     "points": 2,
     "schema_version": 3,
     "solution": false,
     "task": false
    }
   },
   "outputs": [],
   "source": [
    "assert(lignes_vides('Fichiers/fichier_1') == 0)\n",
    "assert(lignes_vides('Fichiers/fichier_2') == 1)\n",
    "assert(lignes_vides('Fichiers/fichier_3') == 0)\n",
    "assert(lignes_vides('Fichiers/fichier_4') == 7)\n",
    "assert(lignes_vides('Fichiers/fichier_5') == 3)\n",
    "assert(lignes_vides('Fichiers/fichier_6') == 113)"
   ]
  },
  {
   "cell_type": "markdown",
   "id": "75698b57",
   "metadata": {
    "nbgrader": {
     "grade": false,
     "grade_id": "cell-98fb0b2264e28657",
     "locked": true,
     "schema_version": 3,
     "solution": false,
     "task": false
    }
   },
   "source": [
    "## Exercice  : Tester si deux fichiers sont identiques\n",
    "Écrire et documenter une fonction `diff` qui prend en argument les noms de deux fichiers et teste si les deux fichiers sont identiques."
   ]
  },
  {
   "cell_type": "code",
   "execution_count": 16,
   "id": "25497146",
   "metadata": {
    "nbgrader": {
     "grade": false,
     "grade_id": "cell-34082345e1699b69",
     "locked": false,
     "schema_version": 3,
     "solution": true,
     "task": false
    }
   },
   "outputs": [],
   "source": [
    "###BEGIN SOLUTION\n",
    "def diff(fic1, fic2):\n",
    "    f1 = open(fic1)\n",
    "    f2 = open(fic2)\n",
    "    l1 = f1.readlines()\n",
    "    l2 = f2.readlines()\n",
    "    return l1 == l2\n",
    "##END SOLUTION"
   ]
  },
  {
   "cell_type": "code",
   "execution_count": 17,
   "id": "936b10c9",
   "metadata": {
    "nbgrader": {
     "grade": true,
     "grade_id": "cell-6e4695b857b34c55",
     "locked": true,
     "points": 2,
     "schema_version": 3,
     "solution": false,
     "task": false
    }
   },
   "outputs": [],
   "source": [
    "assert(diff('Fichiers/fichier_6', 'Fichiers/fichier_6') == True)\n",
    "assert(diff('Fichiers/fichier_6', 'Fichiers/fichier_8') == True)\n",
    "assert(diff('Fichiers/fichier_6', 'Fichiers/fichier_7') == False)\n",
    "assert(diff('Fichiers/fichier_6', 'Fichiers/fichier_1') == False)"
   ]
  },
  {
   "cell_type": "markdown",
   "id": "5e990d87",
   "metadata": {
    "nbgrader": {
     "grade": false,
     "grade_id": "cell-c7ba2cf71d5e0c96",
     "locked": true,
     "schema_version": 3,
     "solution": false,
     "task": false
    }
   },
   "source": [
    "# Écriture dans un fichier\n",
    "Pour écrire dans un fichier, il faut spécifier au moment de l'ouverture (`open`) qu'on veut écrire dans le fichier. Pour cela, on donne un deuxième argument à `open` sous forme d'une chaîne de caractères de longueur 1 qui explicite le type d'écriture:\n",
    "* `'a'` pour écrire à la fin du fichier (a pour _append_)\n",
    "* `'w'` pour écrire à la place du contenu du fichier qui est alors perdu (w pour _write_)\n",
    "\n",
    "Pour écrire dans le fichier, on utilise alors la méthode `write` :\n",
    "```python\n",
    "f = open(fichier, 'w')\n",
    "f.write('le texte à écrire')\n",
    "f.close()\n",
    "```\n",
    "\n",
    "Contrairement à `print`, la méthode `write` n'ajoute pas de retour à la ligne en fin de chaîne. Si on veut un retour à la ligne, il faut l'ajouter explicitement, avec le caractère `'\\n'`:\n",
    "```python\n",
    "f = open(fichier, 'w')\n",
    "f.write('un texte avec retour à la ligne à la fin\\n')\n",
    "f.close()\n",
    "```\n",
    "\n",
    "Contrairement à `print`, la méthode `write` ne convertit pas toute seule son argument en chaîne de caractères."
   ]
  },
  {
   "cell_type": "markdown",
   "id": "f833377c",
   "metadata": {
    "nbgrader": {
     "grade": false,
     "grade_id": "cell-baad358da2d3e45a",
     "locked": true,
     "schema_version": 3,
     "solution": false,
     "task": false
    }
   },
   "source": [
    "## Exercice 4 : Écrire des nombres\n",
    "Écrire et documenter une fonction `denombrer` qui prend en argument un entier positif ou nul et le nom d'un fichier et écrit dans ce fichier tous les entiers compris entre 0 et le premier argument (compris), avec un retour à la ligne après chaque entier."
   ]
  },
  {
   "cell_type": "code",
   "execution_count": 3,
   "id": "25087ab4",
   "metadata": {
    "nbgrader": {
     "grade": false,
     "grade_id": "cell-5013620503297331",
     "locked": false,
     "schema_version": 3,
     "solution": true,
     "task": false
    }
   },
   "outputs": [],
   "source": [
    "###BEGiN SOLUTION\n",
    "def denombrer(n, fic):\n",
    "    f = open(fic, 'w')\n",
    "    for i in range(n):\n",
    "        f.write(str(i) + '\\n')\n",
    "    f.close()\n",
    "###END SOLUTION"
   ]
  },
  {
   "cell_type": "code",
   "execution_count": 11,
   "id": "3df38e86",
   "metadata": {
    "nbgrader": {
     "grade": true,
     "grade_id": "cell-65814ca4b8ecc2cf",
     "locked": true,
     "points": 2,
     "schema_version": 3,
     "solution": false,
     "task": false
    }
   },
   "outputs": [],
   "source": [
    "fic = 'Fichiers/test1'\n",
    "n = 5\n",
    "denombrer(n, fic)\n",
    "with open(fic) as f:\n",
    "    assert(f.readlines() == [ str(i)+'\\n' for i in range(n) ])\n",
    "    f.close()\n",
    "    \n",
    "!rm Fichiers/test1  #pas du python"
   ]
  },
  {
   "cell_type": "markdown",
   "id": "fbd7501b",
   "metadata": {
    "nbgrader": {
     "grade": false,
     "grade_id": "cell-5b1e0f77de549a15",
     "locked": true,
     "schema_version": 3,
     "solution": false,
     "task": false
    }
   },
   "source": [
    "## Exercice 5 : Copier un fichier\n",
    "Écrire et documenter une fonction `copie` qui prend en argument deux noms de fichiers et copie le contenu du premier dans le deuxième (en écrasant le contenu existant éventuel)."
   ]
  },
  {
   "cell_type": "code",
   "execution_count": 12,
   "id": "7274c5fc",
   "metadata": {
    "nbgrader": {
     "grade": false,
     "grade_id": "cell-541384f63490d26e",
     "locked": false,
     "schema_version": 3,
     "solution": true,
     "task": false
    }
   },
   "outputs": [],
   "source": [
    "###BEGIN SOLUTION\n",
    "def copie(src, dest):\n",
    "    s = open(src)\n",
    "    d = open(dest, 'w')\n",
    "    for ligne in s.read():\n",
    "        d.write(ligne)\n",
    "    s.close()\n",
    "    d.close()\n",
    "###END SOLUTION"
   ]
  },
  {
   "cell_type": "code",
   "execution_count": 13,
   "id": "f9d9bfdc",
   "metadata": {
    "nbgrader": {
     "grade": true,
     "grade_id": "cell-510231615b1ad552",
     "locked": true,
     "points": 2,
     "schema_version": 3,
     "solution": false,
     "task": false
    }
   },
   "outputs": [],
   "source": [
    "copie('Fichiers/fichier_3', 'Fichiers/copie')\n",
    "assert(diff('Fichirs/fichier_3', 'Fichiers/copie') == True)"
   ]
  }
 ],
 "metadata": {
  "celltoolbar": "Create Assignment",
  "kernelspec": {
   "display_name": "Python 3 (ipykernel)",
   "language": "python",
   "name": "python3"
  },
  "language_info": {
   "codemirror_mode": {
    "name": "ipython",
    "version": 3
   },
   "file_extension": ".py",
   "mimetype": "text/x-python",
   "name": "python",
   "nbconvert_exporter": "python",
   "pygments_lexer": "ipython3",
   "version": "3.7.3"
  }
 },
 "nbformat": 4,
 "nbformat_minor": 5
}
