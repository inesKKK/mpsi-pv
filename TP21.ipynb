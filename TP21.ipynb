{
 "cells": [
  {
   "cell_type": "markdown",
   "id": "4b3c67dd",
   "metadata": {},
   "source": [
    "# ITC - MPSI\n",
    "---"
   ]
  },
  {
   "cell_type": "markdown",
   "id": "c255a733",
   "metadata": {
    "deletable": false,
    "editable": false,
    "nbgrader": {
     "cell_type": "markdown",
     "checksum": "8fff4f930d30a16e47a7c39312631015",
     "grade": false,
     "grade_id": "cell-e03ef9526d278235",
     "locked": true,
     "schema_version": 3,
     "solution": false,
     "task": false
    }
   },
   "source": [
    "# TP21 : Listes d'adjacence"
   ]
  },
  {
   "cell_type": "markdown",
   "id": "c2e2c2d6",
   "metadata": {
    "deletable": false,
    "editable": false,
    "nbgrader": {
     "cell_type": "markdown",
     "checksum": "707d8bae87b7364e168fa0cecd2ecbb6",
     "grade": false,
     "grade_id": "cell-60e6cb62f008a99a",
     "locked": true,
     "schema_version": 3,
     "solution": false,
     "task": false
    }
   },
   "source": [
    "### Exercice : des matrices aux listes\n",
    "Écrire et documenter une fonction `mat_to_list` qui prend en argument une matrice d'adjacence d'un graphe orienté et renvoie une liste contenant les listes d'adjacence représentant le même graphe (avec les numéros de sommets correspondants)."
   ]
  },
  {
   "cell_type": "code",
   "execution_count": null,
   "id": "4fd2984c",
   "metadata": {
    "deletable": false,
    "nbgrader": {
     "cell_type": "code",
     "checksum": "fbb627ce66b7c2eccca767377cc8d7af",
     "grade": false,
     "grade_id": "cell-5ee2537ceefd1221",
     "locked": false,
     "schema_version": 3,
     "solution": true,
     "task": false
    }
   },
   "outputs": [],
   "source": [
    "# Écrire votre code ici\n",
    "raise NotImplementedError # effacer cette ligne une fois le code écrit"
   ]
  },
  {
   "cell_type": "code",
   "execution_count": null,
   "id": "b3d15aae",
   "metadata": {
    "deletable": false,
    "editable": false,
    "nbgrader": {
     "cell_type": "code",
     "checksum": "33ffb0ce0a600798c541ec9bb09baaa6",
     "grade": true,
     "grade_id": "cell-184f2479fb748552",
     "locked": true,
     "points": 2,
     "schema_version": 3,
     "solution": false,
     "task": false
    }
   },
   "outputs": [],
   "source": [
    "assert ( mat_to_list([[0, 0, 0, 0, 0, 0, 0, 0, 0, 0, 0],\n",
    " [0, 0, 1, 0, 1, 0, 0, 0, 0, 0, 0],\n",
    " [0, 0, 1, 1, 0, 0, 0, 0, 1, 0, 0],\n",
    " [0, 1, 0, 0, 0, 0, 0, 0, 0, 0, 0],\n",
    " [0, 0, 0, 0, 0, 1, 0, 0, 0, 0, 0],\n",
    " [0, 0, 1, 0, 0, 0, 0, 0, 0, 0, 0],\n",
    " [0, 0, 0, 0, 0, 0, 0, 1, 0, 0, 0],\n",
    " [0, 0, 0, 0, 0, 0, 1, 0, 0, 0, 0],\n",
    " [0, 0, 0, 0, 0, 0, 0, 0, 0, 1, 0],\n",
    " [0, 0, 0, 0, 0, 0, 0, 0, 0, 0, 0],\n",
    " [0, 0, 0, 1, 0, 0, 0, 0, 0, 0, 0]]) == [[], [2, 4], [2, 3, 8], [1], [5], [2], [7], [6], [9], [], [3]] )"
   ]
  },
  {
   "cell_type": "markdown",
   "id": "19e60adf",
   "metadata": {
    "deletable": false,
    "editable": false,
    "nbgrader": {
     "cell_type": "markdown",
     "checksum": "5f6953b49244c27d6537921372bf0802",
     "grade": false,
     "grade_id": "cell-0e1ee460abd6c520",
     "locked": true,
     "schema_version": 3,
     "solution": false,
     "task": false
    }
   },
   "source": [
    "### Exercice : des listes aux matrices\n",
    "Écrire et documenter une fonction `list_to_mat` qui prend en argument une liste contenant les listes d'adjacence représentant un graphe orienté et renvoie la matrice d'adjacence du même graphe (avec les numéros de sommets correspondants)."
   ]
  },
  {
   "cell_type": "code",
   "execution_count": null,
   "id": "82a2d765",
   "metadata": {
    "deletable": false,
    "nbgrader": {
     "cell_type": "code",
     "checksum": "0d768d447e2685428b4e4b4e0e3804c5",
     "grade": false,
     "grade_id": "cell-149152dc7a23c5f6",
     "locked": false,
     "schema_version": 3,
     "solution": true,
     "task": false
    }
   },
   "outputs": [],
   "source": [
    "# Écrire votre code ici\n",
    "raise NotImplementedError # effacer cette ligne une fois le code écrit"
   ]
  },
  {
   "cell_type": "code",
   "execution_count": null,
   "id": "0ad60c98",
   "metadata": {
    "deletable": false,
    "editable": false,
    "nbgrader": {
     "cell_type": "code",
     "checksum": "210d0197812b6d7e08b1c77daf668b2a",
     "grade": true,
     "grade_id": "cell-627b791871f21dd6",
     "locked": true,
     "points": 2,
     "schema_version": 3,
     "solution": false,
     "task": false
    }
   },
   "outputs": [],
   "source": [
    "assert ( list_to_mat([ [], [2, 4], [2, 3, 8], [1], [5], [2], [7], [6], [9], [], [3]])\n",
    "        == [[0, 0, 0, 0, 0, 0, 0, 0, 0, 0, 0],\n",
    " [0, 0, 1, 0, 1, 0, 0, 0, 0, 0, 0],\n",
    " [0, 0, 1, 1, 0, 0, 0, 0, 1, 0, 0],\n",
    " [0, 1, 0, 0, 0, 0, 0, 0, 0, 0, 0],\n",
    " [0, 0, 0, 0, 0, 1, 0, 0, 0, 0, 0],\n",
    " [0, 0, 1, 0, 0, 0, 0, 0, 0, 0, 0],\n",
    " [0, 0, 0, 0, 0, 0, 0, 1, 0, 0, 0],\n",
    " [0, 0, 0, 0, 0, 0, 1, 0, 0, 0, 0],\n",
    " [0, 0, 0, 0, 0, 0, 0, 0, 0, 1, 0],\n",
    " [0, 0, 0, 0, 0, 0, 0, 0, 0, 0, 0],\n",
    " [0, 0, 0, 1, 0, 0, 0, 0, 0, 0, 0]] )"
   ]
  },
  {
   "cell_type": "markdown",
   "id": "44dbc3cf",
   "metadata": {
    "deletable": false,
    "editable": false,
    "nbgrader": {
     "cell_type": "markdown",
     "checksum": "b0cd5d66d5cc30ab59d7eb984cc9b9c2",
     "grade": false,
     "grade_id": "cell-59d341b1642f7708",
     "locked": true,
     "schema_version": 3,
     "solution": false,
     "task": false
    }
   },
   "source": [
    "### Exercice : Représentation graphique\n",
    "On peut utiliser la classe `Digraph` du module `graphviz` pour obtenir un dessin d'un graphe orienté.\n",
    "\n",
    "Commencez par installer le paquet graphviz en exécutant la cellule suivante. Et pensez à redémarrez le noyau de votre notebook."
   ]
  },
  {
   "cell_type": "code",
   "execution_count": null,
   "id": "d3df9360",
   "metadata": {
    "deletable": false,
    "editable": false,
    "nbgrader": {
     "cell_type": "code",
     "checksum": "338fbaf09beb6e7219db378741303997",
     "grade": false,
     "grade_id": "cell-bc88c29d8808d096",
     "locked": true,
     "schema_version": 3,
     "solution": false,
     "task": false
    }
   },
   "outputs": [],
   "source": [
    "!pip install --user graphviz"
   ]
  },
  {
   "cell_type": "markdown",
   "id": "2bd2834b",
   "metadata": {
    "deletable": false,
    "editable": false,
    "nbgrader": {
     "cell_type": "markdown",
     "checksum": "8f86bf3baa05fd08cb07143c720d9c2c",
     "grade": false,
     "grade_id": "cell-f081740b8f27d0d8",
     "locked": true,
     "schema_version": 3,
     "solution": false,
     "task": false
    }
   },
   "source": [
    "On peut alors dessiner un graphe orienté de la façon suivante:"
   ]
  },
  {
   "cell_type": "code",
   "execution_count": null,
   "id": "e9e1f686",
   "metadata": {
    "deletable": false,
    "editable": false,
    "nbgrader": {
     "cell_type": "code",
     "checksum": "a56e8fd2b1371c43c0a016cfcf3e558f",
     "grade": false,
     "grade_id": "cell-07672d3c5f9da8bf",
     "locked": true,
     "schema_version": 3,
     "solution": false,
     "task": false
    }
   },
   "outputs": [],
   "source": [
    "from graphviz import Digraph\n",
    "\n",
    "graphe = Digraph()   ## construction de l'objet\n",
    "# ajout des noeuds avec des étiquettes\n",
    "graphe.node('1')\n",
    "graphe.node('2')\n",
    "graphe.node('toto')\n",
    "\n",
    "# ajout d'arcs\n",
    "graphe.edges([('1','2'), ('toto', '1'), ('2', '2')])\n",
    "\n",
    "# affichage de l'objet\n",
    "graphe"
   ]
  },
  {
   "cell_type": "markdown",
   "id": "f76346f9",
   "metadata": {
    "deletable": false,
    "editable": false,
    "nbgrader": {
     "cell_type": "markdown",
     "checksum": "986705abf2f977cff5c5ff1d3f98c0ce",
     "grade": false,
     "grade_id": "cell-24f743a5c64d68fe",
     "locked": true,
     "schema_version": 3,
     "solution": false,
     "task": false
    }
   },
   "source": [
    "Écrire et documenter une fonction `dessin_graphe` qui prend en argument un graphe donné sous forme de listes d'adjacence et renvoie l'objet qui représente graphiquement le graphe. Le sommet numéroté $i$ devra porter l'étiquette `si`."
   ]
  },
  {
   "cell_type": "code",
   "execution_count": null,
   "id": "3037fbfb",
   "metadata": {
    "deletable": false,
    "nbgrader": {
     "cell_type": "code",
     "checksum": "4a2cef8cc5e926f9751e928bc885ded6",
     "grade": false,
     "grade_id": "cell-2d058f7dee6ca9c0",
     "locked": false,
     "schema_version": 3,
     "solution": true,
     "task": false
    }
   },
   "outputs": [],
   "source": [
    "# Écrire votre code ici\n",
    "raise NotImplementedError # effacer cette ligne une fois le code écrit"
   ]
  },
  {
   "cell_type": "code",
   "execution_count": null,
   "id": "3d69a13c",
   "metadata": {
    "deletable": false,
    "editable": false,
    "nbgrader": {
     "cell_type": "code",
     "checksum": "22118b33ac03cb3ed58278528d618ba1",
     "grade": true,
     "grade_id": "cell-01b76c79b3e8f37c",
     "locked": true,
     "points": 2,
     "schema_version": 3,
     "solution": false,
     "task": false
    }
   },
   "outputs": [],
   "source": [
    "dessin_graphe([ [], [2, 4], [2, 3, 8], [1], [5], [2], [7], [6], [9], [], [3]])"
   ]
  },
  {
   "cell_type": "markdown",
   "id": "2f7037a8",
   "metadata": {
    "deletable": false,
    "editable": false,
    "nbgrader": {
     "cell_type": "markdown",
     "checksum": "4fa581331c156d1f93742ea648a54ad1",
     "grade": false,
     "grade_id": "cell-962fc9c6027319f3",
     "locked": true,
     "schema_version": 3,
     "solution": false,
     "task": false
    }
   },
   "source": [
    "### Exercice 4 : Retournement de situation\n",
    "Écrire et documenter une fonction `miroir` qui prend en argument les listes d'adjacence d'un graphe orienté et renvoie les listes d'adjacence du graphe obtenu en retournant les arcs.\n",
    "\n",
    "À vous de faire des tests avec des dessins !"
   ]
  },
  {
   "cell_type": "markdown",
   "id": "20160691",
   "metadata": {
    "deletable": false,
    "editable": false,
    "nbgrader": {
     "cell_type": "markdown",
     "checksum": "591d00930a3ee211dfd7d5734c7ee38f",
     "grade": false,
     "grade_id": "cell-88f08db87af46f92",
     "locked": true,
     "points": 2,
     "schema_version": 3,
     "solution": false,
     "task": true
    }
   },
   "source": [
    "Describe the task here!"
   ]
  }
 ],
 "metadata": {
  "kernelspec": {
   "display_name": "Python 3 (ipykernel)",
   "language": "python",
   "name": "python3"
  },
  "language_info": {
   "codemirror_mode": {
    "name": "ipython",
    "version": 3
   },
   "file_extension": ".py",
   "mimetype": "text/x-python",
   "name": "python",
   "nbconvert_exporter": "python",
   "pygments_lexer": "ipython3",
   "version": "3.7.3"
  }
 },
 "nbformat": 4,
 "nbformat_minor": 5
}
