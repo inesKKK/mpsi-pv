{
 "cells": [
  {
   "cell_type": "markdown",
   "id": "4a7b738a",
   "metadata": {
    "nbgrader": {
     "grade": false,
     "grade_id": "cell-d420baa4f6ded613",
     "locked": true,
     "schema_version": 3,
     "solution": false,
     "task": false
    }
   },
   "source": [
    "# TP14 : Dictionnaires\n",
    "\n",
    "Un _dictionnaire_ est une structure de données `python` qui permet d'associer une clef à une valeur (comme une fonction mathématique qui serait définie sur un domaine fini en quelque sorte).\n",
    "\n",
    "Les valeurs peuvent être d'un type quelconque, mais il y a des restrictions sur les ensembles possibles de clefs: les clefs peuvent prendre leurs valeurs dans tous les types que nous avons déjà croisés, sauf les listes et les dictionnaires. Les symboles de délimitation d'un dictionnaire sont des accolades `{` `}`. Par ailleurs une clef ne peut apparaître plusieurs fois (de même qu'une fonction mathématique ne peut associer plusieurs valeurs à une valeur donnée).\n",
    "\n",
    "Pour obtenir un dictionnaire vide:"
   ]
  },
  {
   "cell_type": "code",
   "execution_count": 6,
   "id": "84324067",
   "metadata": {
    "nbgrader": {
     "grade": false,
     "grade_id": "cell-e7d8589ae78c6e98",
     "locked": true,
     "schema_version": 3,
     "solution": false,
     "task": false
    }
   },
   "outputs": [
    {
     "data": {
      "text/plain": [
       "{}"
      ]
     },
     "execution_count": 6,
     "metadata": {},
     "output_type": "execute_result"
    }
   ],
   "source": [
    "{ }"
   ]
  },
  {
   "cell_type": "markdown",
   "id": "0df37472",
   "metadata": {
    "nbgrader": {
     "grade": false,
     "grade_id": "cell-0fb2df3f71d01545",
     "locked": true,
     "schema_version": 3,
     "solution": false,
     "task": false
    }
   },
   "source": [
    "En première approximation, on peut imaginer les dictionnaires comme des structures permettant de stocker des données nommées plutôt que numérotées (à comparer avec les listes):"
   ]
  },
  {
   "cell_type": "code",
   "execution_count": 7,
   "id": "c3f16592",
   "metadata": {
    "nbgrader": {
     "grade": false,
     "grade_id": "cell-79fad15886e453e6",
     "locked": true,
     "schema_version": 3,
     "solution": false,
     "task": false
    }
   },
   "outputs": [],
   "source": [
    "d = { 'a' : 1, 'e' : 2, 'i' : 3, 'o' : 4, 'u' : 5}"
   ]
  },
  {
   "cell_type": "code",
   "execution_count": 8,
   "id": "9e50635a",
   "metadata": {
    "nbgrader": {
     "grade": false,
     "grade_id": "cell-518fb697fd64b0ec",
     "locked": true,
     "schema_version": 3,
     "solution": false,
     "task": false
    }
   },
   "outputs": [
    {
     "data": {
      "text/plain": [
       "1"
      ]
     },
     "execution_count": 8,
     "metadata": {},
     "output_type": "execute_result"
    }
   ],
   "source": [
    "d['a']"
   ]
  },
  {
   "cell_type": "code",
   "execution_count": 9,
   "id": "87e1604f",
   "metadata": {
    "nbgrader": {
     "grade": false,
     "grade_id": "cell-ef701b23faa27779",
     "locked": true,
     "schema_version": 3,
     "solution": false,
     "task": false
    }
   },
   "outputs": [
    {
     "data": {
      "text/plain": [
       "5"
      ]
     },
     "execution_count": 9,
     "metadata": {},
     "output_type": "execute_result"
    }
   ],
   "source": [
    "d['u']"
   ]
  },
  {
   "cell_type": "markdown",
   "id": "331c5fa0",
   "metadata": {
    "nbgrader": {
     "grade": false,
     "grade_id": "cell-c6f5ecf3c209b9d2",
     "locked": true,
     "schema_version": 3,
     "solution": false,
     "task": false
    }
   },
   "source": [
    "Si on essaie d'accéder à la valeur associée à une clef inexistante, on a un message d'erreur:"
   ]
  },
  {
   "cell_type": "code",
   "execution_count": 10,
   "id": "a9d95517",
   "metadata": {
    "nbgrader": {
     "grade": false,
     "grade_id": "cell-bb359144ba3bc803",
     "locked": true,
     "schema_version": 3,
     "solution": false,
     "task": false
    }
   },
   "outputs": [
    {
     "ename": "KeyError",
     "evalue": "'b'",
     "output_type": "error",
     "traceback": [
      "\u001b[0;31m---------------------------------------------------------------------------\u001b[0m",
      "\u001b[0;31mKeyError\u001b[0m                                  Traceback (most recent call last)",
      "\u001b[0;32m/tmp/ipykernel_15262/4280578593.py\u001b[0m in \u001b[0;36m<module>\u001b[0;34m\u001b[0m\n\u001b[0;32m----> 1\u001b[0;31m \u001b[0md\u001b[0m\u001b[0;34m[\u001b[0m\u001b[0;34m'b'\u001b[0m\u001b[0;34m]\u001b[0m\u001b[0;34m\u001b[0m\u001b[0;34m\u001b[0m\u001b[0m\n\u001b[0m",
      "\u001b[0;31mKeyError\u001b[0m: 'b'"
     ]
    }
   ],
   "source": [
    "d['b']"
   ]
  },
  {
   "cell_type": "markdown",
   "id": "64ed9502",
   "metadata": {
    "nbgrader": {
     "grade": false,
     "grade_id": "cell-949c3280867064cf",
     "locked": true,
     "schema_version": 3,
     "solution": false,
     "task": false
    }
   },
   "source": [
    "On peut savoir si une clef appartient au dictionnaire avec le mot-clef `in`:"
   ]
  },
  {
   "cell_type": "code",
   "execution_count": 11,
   "id": "29c5e05d",
   "metadata": {
    "nbgrader": {
     "grade": false,
     "grade_id": "cell-b3a71feb628f7771",
     "locked": true,
     "schema_version": 3,
     "solution": false,
     "task": false
    }
   },
   "outputs": [
    {
     "data": {
      "text/plain": [
       "False"
      ]
     },
     "execution_count": 11,
     "metadata": {},
     "output_type": "execute_result"
    }
   ],
   "source": [
    "'b' in d   # notez les quote : la clef à tester est la chaîne 'b', pas la variable b"
   ]
  },
  {
   "cell_type": "markdown",
   "id": "6c8a172c",
   "metadata": {
    "nbgrader": {
     "grade": false,
     "grade_id": "cell-1b8734128c57f70a",
     "locked": true,
     "schema_version": 3,
     "solution": false,
     "task": false
    }
   },
   "source": [
    "Ce qui permet de ne récupérer une valeur que si la clef existe :"
   ]
  },
  {
   "cell_type": "code",
   "execution_count": 12,
   "id": "5d9baf7c",
   "metadata": {
    "nbgrader": {
     "grade": false,
     "grade_id": "cell-e4d8182bec449b5c",
     "locked": true,
     "schema_version": 3,
     "solution": false,
     "task": false
    }
   },
   "outputs": [],
   "source": [
    "if 'b' in d:\n",
    "    pass # action à faire si 'b' est un clef de d\n",
    "else:\n",
    "    pass # action à faire sinon"
   ]
  },
  {
   "cell_type": "markdown",
   "id": "36386ad8",
   "metadata": {
    "nbgrader": {
     "grade": false,
     "grade_id": "cell-8110fea71c9684ed",
     "locked": true,
     "schema_version": 3,
     "solution": false,
     "task": false
    }
   },
   "source": [
    "En fait rien n'oblige à ce que les clefs d'un dictionnaire soient toutes du même type (mais je ne suis pas sûre que ce soit souvent justifié d'utiliser des clefs de types différents):"
   ]
  },
  {
   "cell_type": "code",
   "execution_count": 13,
   "id": "7b6c6c89",
   "metadata": {
    "nbgrader": {
     "grade": false,
     "grade_id": "cell-37b3f87d615223d8",
     "locked": true,
     "schema_version": 3,
     "solution": false,
     "task": false
    }
   },
   "outputs": [
    {
     "data": {
      "text/plain": [
       "{'a': 'chaine', -1: 'entier', 3.2: 'flottant', True: 'booleen'}"
      ]
     },
     "execution_count": 13,
     "metadata": {},
     "output_type": "execute_result"
    }
   ],
   "source": [
    "{'a' : 'chaine', -1 : 'entier', 3.2 : 'flottant', True : 'booleen'}"
   ]
  },
  {
   "cell_type": "markdown",
   "id": "310226cf",
   "metadata": {
    "nbgrader": {
     "grade": false,
     "grade_id": "cell-37d453cd2e38a9f2",
     "locked": true,
     "schema_version": 3,
     "solution": false,
     "task": false
    }
   },
   "source": [
    "Rien n'oblige non plus à ce que toutes les valeurs soient du même type :"
   ]
  },
  {
   "cell_type": "code",
   "execution_count": 14,
   "id": "8ecd6b1c",
   "metadata": {
    "nbgrader": {
     "grade": false,
     "grade_id": "cell-441b96aa5252021d",
     "locked": true,
     "schema_version": 3,
     "solution": false,
     "task": false
    }
   },
   "outputs": [
    {
     "data": {
      "text/plain": [
       "{'a': 'p', 'b': 1, 'c': True, 3: [1, 2, 3]}"
      ]
     },
     "execution_count": 14,
     "metadata": {},
     "output_type": "execute_result"
    }
   ],
   "source": [
    "{'a' : 'p', 'b' : 1, 'c' : True, 3 : [1, 2, 3]}"
   ]
  },
  {
   "cell_type": "markdown",
   "id": "6b370d93",
   "metadata": {
    "nbgrader": {
     "grade": false,
     "grade_id": "cell-33ad6630dbb61d61",
     "locked": true,
     "schema_version": 3,
     "solution": false,
     "task": false
    }
   },
   "source": [
    "On peut itérer sur les clefs d'un dictionnaires grâce à la méthode `keys` :"
   ]
  },
  {
   "cell_type": "code",
   "execution_count": 15,
   "id": "4f2ead36",
   "metadata": {
    "nbgrader": {
     "grade": false,
     "grade_id": "cell-0eea3ffc2bffa341",
     "locked": true,
     "schema_version": 3,
     "solution": false,
     "task": false
    }
   },
   "outputs": [
    {
     "name": "stdout",
     "output_type": "stream",
     "text": [
      "a\n",
      "e\n",
      "i\n",
      "o\n",
      "u\n"
     ]
    }
   ],
   "source": [
    "for clef in d.keys():\n",
    "    print(clef)"
   ]
  },
  {
   "cell_type": "markdown",
   "id": "b4267c75",
   "metadata": {
    "nbgrader": {
     "grade": false,
     "grade_id": "cell-40b4683fe23f7c99",
     "locked": true,
     "schema_version": 3,
     "solution": false,
     "task": false
    }
   },
   "source": [
    "Mais on peut aussi itérer sur les couples (clef, valeur) grâce à la méthode `items`:"
   ]
  },
  {
   "cell_type": "code",
   "execution_count": 16,
   "id": "792ef28a",
   "metadata": {
    "nbgrader": {
     "grade": false,
     "grade_id": "cell-03cc9597616dd80d",
     "locked": true,
     "schema_version": 3,
     "solution": false,
     "task": false
    }
   },
   "outputs": [
    {
     "name": "stdout",
     "output_type": "stream",
     "text": [
      "couple : ('a', 1)\n",
      "couple : ('e', 2)\n",
      "couple : ('i', 3)\n",
      "couple : ('o', 4)\n",
      "couple : ('u', 5)\n",
      "\n",
      "clef : a / valeur : 1\n",
      "clef : e / valeur : 2\n",
      "clef : i / valeur : 3\n",
      "clef : o / valeur : 4\n",
      "clef : u / valeur : 5\n"
     ]
    }
   ],
   "source": [
    "for couple in d.items():  # on récupère le couple dans un tuple (on reviendra sur ce type)\n",
    "    print('couple : ' + str(couple))\n",
    "    \n",
    "print()\n",
    "    \n",
    "for clef, valeur in d.items():  # on dépaquète directement le tuple\n",
    "    print('clef : ' + str(clef) + ' / valeur : ' + str(valeur))"
   ]
  },
  {
   "cell_type": "markdown",
   "id": "3b9e2287",
   "metadata": {
    "nbgrader": {
     "grade": false,
     "grade_id": "cell-7ae8db508429a9bc",
     "locked": true,
     "schema_version": 3,
     "solution": false,
     "task": false
    }
   },
   "source": [
    "On obtient le nombre d'éléments d'un dictionnaire avec la fonction `len` :"
   ]
  },
  {
   "cell_type": "code",
   "execution_count": 17,
   "id": "277ee2c4",
   "metadata": {
    "nbgrader": {
     "grade": false,
     "grade_id": "cell-f99922279c8ec2f5",
     "locked": true,
     "schema_version": 3,
     "solution": false,
     "task": false
    }
   },
   "outputs": [
    {
     "data": {
      "text/plain": [
       "5"
      ]
     },
     "execution_count": 17,
     "metadata": {},
     "output_type": "execute_result"
    }
   ],
   "source": [
    "len(d)"
   ]
  },
  {
   "cell_type": "markdown",
   "id": "80e888e1",
   "metadata": {
    "nbgrader": {
     "grade": false,
     "grade_id": "cell-a7e6767d23093104",
     "locked": true,
     "schema_version": 3,
     "solution": false,
     "task": false
    }
   },
   "source": [
    "Quand un dictionnaire existe déjà, on peut modifier la valeur associée à une de ses clefs ou ajouter une nouvelle association de la manière suivante:"
   ]
  },
  {
   "cell_type": "code",
   "execution_count": 18,
   "id": "38955d30",
   "metadata": {
    "nbgrader": {
     "grade": false,
     "grade_id": "cell-067ef074f2098523",
     "locked": true,
     "schema_version": 3,
     "solution": false,
     "task": false
    }
   },
   "outputs": [
    {
     "data": {
      "text/plain": [
       "{'a': 0, 'e': 2, 'i': 3, 'o': 4, 'u': 5, 'y': 6}"
      ]
     },
     "execution_count": 18,
     "metadata": {},
     "output_type": "execute_result"
    }
   ],
   "source": [
    "d['a'] = 0\n",
    "d['y'] = 6\n",
    "d"
   ]
  },
  {
   "cell_type": "markdown",
   "id": "f98a32b9",
   "metadata": {
    "nbgrader": {
     "grade": false,
     "grade_id": "cell-8433289321af5779",
     "locked": true,
     "schema_version": 3,
     "solution": false,
     "task": false
    }
   },
   "source": [
    "## Exercice 1 : tri\n",
    "On souhaite trier un tableau d'entiers positifs en comptant les occurences de chaque valeur qui y apparaît.\n",
    "\n",
    "1. Écrire et documenter une fonction `denombre` qui prend une liste d'entiers en argument et renvoie un dictionnaire qui permet d'avoir le nombre d'occurence de chacun de ses arguments."
   ]
  },
  {
   "cell_type": "code",
   "execution_count": 19,
   "id": "479dd24c",
   "metadata": {
    "nbgrader": {
     "grade": false,
     "grade_id": "cell-15410ddead6d5449",
     "locked": false,
     "schema_version": 3,
     "solution": true,
     "task": false
    }
   },
   "outputs": [],
   "source": [
    "###BEGIN SOLUTION\n",
    "def denombre(L):\n",
    "    nb = {}\n",
    "    for i in L:\n",
    "        if i in nb:\n",
    "            nb[i] = nb[i] + 1\n",
    "        else:\n",
    "            nb[i] = 1\n",
    "    return nb\n",
    "###END SOLUTION"
   ]
  },
  {
   "cell_type": "code",
   "execution_count": 20,
   "id": "d2726761",
   "metadata": {
    "nbgrader": {
     "grade": true,
     "grade_id": "cell-602b43aceca6e272",
     "locked": true,
     "points": 2,
     "schema_version": 3,
     "solution": false,
     "task": false
    }
   },
   "outputs": [],
   "source": [
    "assert(denombre([]) == {})\n",
    "assert(denombre([15356]) == {15356: 1})\n",
    "assert(denombre([0,0,0,0]) == {0: 4})\n",
    "assert(denombre([0,0,0,1,1,1,1,1,3,3,3]) == {0: 3, 1: 5, 3: 3})\n",
    "assert(denombre([3,7,2,9,1,0,3]) == {3: 2, 7: 1, 2: 1, 9: 1, 1: 1, 0: 1})"
   ]
  },
  {
   "cell_type": "markdown",
   "id": "f7fad96d",
   "metadata": {
    "nbgrader": {
     "grade": false,
     "grade_id": "cell-d6ef8918ff3185fc",
     "locked": true,
     "schema_version": 3,
     "solution": false,
     "task": false
    }
   },
   "source": [
    "2. Écrire et documenter une fonction `tri` qui prend en argument une liste d'entiers positifs et renvoie une nouvelle liste triée composée des mêmes valeurs, en utilisant la fonction `denombre` et la fonction `max` (qui renvoie le maximum d'une liste, mais aussi le maximum des clefs d'un dictionnaire)."
   ]
  },
  {
   "cell_type": "code",
   "execution_count": 21,
   "id": "d7cda228",
   "metadata": {
    "nbgrader": {
     "grade": false,
     "grade_id": "cell-fd066c063b4ebc63",
     "locked": false,
     "schema_version": 3,
     "solution": true,
     "task": false
    }
   },
   "outputs": [],
   "source": [
    "###BEGIN SOLUTION\n",
    "def tri(L):\n",
    "    if len(L) == 0:\n",
    "        return []\n",
    "    d = denombre(L)\n",
    "    L2 = []\n",
    "    for i in range(max(d) + 1):\n",
    "        if i in d:\n",
    "            L2.extend([i] * d[i])\n",
    "    return L2\n",
    "###END SOLUTION"
   ]
  },
  {
   "cell_type": "code",
   "execution_count": 22,
   "id": "0f386c9f",
   "metadata": {
    "nbgrader": {
     "grade": true,
     "grade_id": "cell-06d4f4872d968fc5",
     "locked": true,
     "points": 2,
     "schema_version": 3,
     "solution": false,
     "task": false
    }
   },
   "outputs": [],
   "source": [
    "assert(tri([]) == [])\n",
    "assert(([15356]) == [15356])\n",
    "assert(tri([0,0,0,0]) == [0,0,0,0])\n",
    "assert(tri([0,0,0,1,1,1,1,1,3,3,3]) == [0,0,0,1,1,1,1,1,3,3,3])\n",
    "assert(tri([3,3,3,1,1,1,1,1,0,0,0]) == [0,0,0,1,1,1,1,1,3,3,3])\n",
    "assert(tri([3,7,2,9,1,0,3]) == [0, 1, 2, 3, 3, 7, 9])"
   ]
  },
  {
   "cell_type": "markdown",
   "id": "825c5f5c",
   "metadata": {
    "nbgrader": {
     "grade": false,
     "grade_id": "cell-19e47ca2a5125c43",
     "locked": true,
     "schema_version": 3,
     "solution": false,
     "task": false
    }
   },
   "source": [
    "## Exercice 2 : fréquence des lettres en Français\n",
    "Pour cet exercice, on se base sur le texte [Emile.txt](Emile.txt) (texte de _Emile_ de Rousseau que vous connaissez bien). On désire connaître la fréquence de chaque lettre dans ce texte."
   ]
  },
  {
   "cell_type": "markdown",
   "id": "e62db974",
   "metadata": {
    "nbgrader": {
     "grade": false,
     "grade_id": "cell-6181576418676182",
     "locked": true,
     "schema_version": 3,
     "solution": false,
     "task": false
    }
   },
   "source": [
    "1. Écrire et documenter une fonction `occurences` qui prend en argument un nom de fichier et renvoie un dictionnaire avec le nombre d'apparition de chaque caractère (lettre ou autre, sans distinction) dans ce texte."
   ]
  },
  {
   "cell_type": "code",
   "execution_count": 23,
   "id": "09cf4eff",
   "metadata": {
    "nbgrader": {
     "grade": false,
     "grade_id": "cell-424541fe3e546232",
     "locked": false,
     "schema_version": 3,
     "solution": true,
     "task": false
    }
   },
   "outputs": [],
   "source": [
    "###BEGIN SOLUTION\n",
    "def occurences(fichier):\n",
    "    file = open(fichier)\n",
    "    d = denombre(file.read())\n",
    "    file.close()\n",
    "    return d\n",
    "###END SOLUTION"
   ]
  },
  {
   "cell_type": "code",
   "execution_count": 24,
   "id": "640abf40",
   "metadata": {
    "nbgrader": {
     "grade": true,
     "grade_id": "cell-b6a164d547e7c1c9",
     "locked": true,
     "points": 2,
     "schema_version": 3,
     "solution": false,
     "task": false
    }
   },
   "outputs": [],
   "source": [
    "assert(occurences('vide') == {})\n",
    "\n",
    "d = occurences('Emile.txt')\n",
    "assert(d['T'] == 357 and d['u'] == 75714 and d['J'] == 841)"
   ]
  },
  {
   "cell_type": "markdown",
   "id": "9435ceef",
   "metadata": {
    "nbgrader": {
     "grade": false,
     "grade_id": "cell-33f666639799d86c",
     "locked": true,
     "schema_version": 3,
     "solution": false,
     "task": false
    }
   },
   "source": [
    "2. Écrire et documenter une fonction `frequences` qui prend en argument un dictionnaire dont on suppose (sans avoir à le vérifier) que les valeurs sont des nombres et renvoie la liste des couples (clef,valeur) dans l'ordre décroissants des valeurs. Pour accéder aux composantes des couples, on utilise la même notation que pour accéder aux cases des listes : `c[0]` par exemple."
   ]
  },
  {
   "cell_type": "code",
   "execution_count": 25,
   "id": "9bb5c358",
   "metadata": {
    "nbgrader": {
     "grade": false,
     "grade_id": "cell-0699b53af2b3306d",
     "locked": false,
     "schema_version": 3,
     "solution": true,
     "task": false
    }
   },
   "outputs": [],
   "source": [
    "###BEGIN SOLUTION\n",
    "def frequences(d):\n",
    "    return [ couple for couple in sorted([item for item in d.items()], key=lambda c: c[1], reverse = True) ]\n",
    "###END SOLUTION"
   ]
  },
  {
   "cell_type": "code",
   "execution_count": 26,
   "id": "45d5cf5b",
   "metadata": {
    "nbgrader": {
     "grade": true,
     "grade_id": "cell-b238b1a2d5bdd68e",
     "locked": true,
     "points": 2,
     "schema_version": 3,
     "solution": false,
     "task": false
    }
   },
   "outputs": [],
   "source": [
    "assert(frequences({}) == [])\n",
    "assert(frequences({0: 1}) == [(0, 1)])\n",
    "assert(frequences({3: 6, 7: 5, 2: 4, 9: 3, 1: 2, 0: 1}) == [(3, 6), (7, 5), (2, 4), (9, 3), (1, 2), (0, 1)])\n",
    "assert(frequences({'a':23, 'e':12, 'i':7423, 'o':32112, 'y':2}) == \n",
    "       [('o', 32112), ('i', 7423), ('a', 23), ('e', 12), ('y', 2)])\n",
    "d = occurences('Emile.txt')\n",
    "assert(frequences(d)[1] == ('e', 172160) and frequences(d)[42] == ('J', 841))"
   ]
  },
  {
   "cell_type": "markdown",
   "id": "522d5944",
   "metadata": {
    "nbgrader": {
     "grade": false,
     "grade_id": "cell-553f64041b784a64",
     "locked": true,
     "schema_version": 3,
     "solution": false,
     "task": false
    }
   },
   "source": [
    "3. On veut maintenant se restreindre à regarder les lettres d'un texte et pas tous les caractères. La méthode `isalpha` sur les chaînes de caractères permet de déterminer si une chaîne ne contient que des lettres ou pas :"
   ]
  },
  {
   "cell_type": "code",
   "execution_count": 27,
   "id": "a647e180",
   "metadata": {
    "nbgrader": {
     "grade": false,
     "grade_id": "cell-83f17e6cf388d469",
     "locked": true,
     "schema_version": 3,
     "solution": false,
     "task": false
    }
   },
   "outputs": [
    {
     "data": {
      "text/plain": [
       "True"
      ]
     },
     "execution_count": 27,
     "metadata": {},
     "output_type": "execute_result"
    }
   ],
   "source": [
    "'abcde'.isalpha()"
   ]
  },
  {
   "cell_type": "code",
   "execution_count": 28,
   "id": "f0ecedc8",
   "metadata": {
    "nbgrader": {
     "grade": false,
     "grade_id": "cell-5a37d2202b4ed496",
     "locked": true,
     "schema_version": 3,
     "solution": false,
     "task": false
    }
   },
   "outputs": [
    {
     "data": {
      "text/plain": [
       "False"
      ]
     },
     "execution_count": 28,
     "metadata": {},
     "output_type": "execute_result"
    }
   ],
   "source": [
    "'abcd5'.isalpha()"
   ]
  },
  {
   "cell_type": "markdown",
   "id": "8005d393",
   "metadata": {
    "nbgrader": {
     "grade": false,
     "grade_id": "cell-9329e6cdecfee1c3",
     "locked": true,
     "schema_version": 3,
     "solution": false,
     "task": false
    }
   },
   "source": [
    "Écrire et documenter une fonction `que_lettres` qui prend en argument une liste de couple comme renvoyée par `frequence` et renvoie la liste des seuls couples dont la première composante est une lettre (en conservant l'ordre d'apparition)."
   ]
  },
  {
   "cell_type": "code",
   "execution_count": 29,
   "id": "59580e01",
   "metadata": {
    "nbgrader": {
     "grade": false,
     "grade_id": "cell-ef3e7544c4497c6e",
     "locked": false,
     "schema_version": 3,
     "solution": true,
     "task": false
    }
   },
   "outputs": [],
   "source": [
    "###BEGIN SOLUTION\n",
    "def que_lettres(L):\n",
    "    return [(c, f) for (c, f) in L if c.isalpha() ]\n",
    "###END SOLUTION"
   ]
  },
  {
   "cell_type": "code",
   "execution_count": 30,
   "id": "c23c48f4",
   "metadata": {
    "nbgrader": {
     "grade": true,
     "grade_id": "cell-c1fd2405b030ebd9",
     "locked": true,
     "points": 2,
     "schema_version": 3,
     "solution": false,
     "task": false
    }
   },
   "outputs": [],
   "source": [
    "L = que_lettres(frequences(occurences('Emile.txt')))\n",
    "assert(L[17] == ('f', 12495) and L[42] == ('A', 552))"
   ]
  },
  {
   "cell_type": "markdown",
   "id": "560690f3",
   "metadata": {
    "nbgrader": {
     "grade": false,
     "grade_id": "cell-e901593df619a3d0",
     "locked": true,
     "schema_version": 3,
     "solution": false,
     "task": false
    }
   },
   "source": [
    "4. On souhaite représenter tout cela sous forme  d'un diagramme camembert. Voici un exemple d'utilisation d'un tel diagramme :"
   ]
  },
  {
   "cell_type": "code",
   "execution_count": 31,
   "id": "e1e80934",
   "metadata": {
    "nbgrader": {
     "grade": false,
     "grade_id": "cell-8db659f4d328459a",
     "locked": true,
     "schema_version": 3,
     "solution": false,
     "task": false
    }
   },
   "outputs": [
    {
     "data": {
      "image/png": "[encoded data removed]",
      "text/plain": [
       "<Figure size 432x288 with 1 Axes>"
      ]
     },
     "metadata": {},
     "output_type": "display_data"
    }
   ],
   "source": [
    "from matplotlib import pyplot  # si ça ne fonctionne pas, retournez au TP de Noel pour installer ce qu'il faut\n",
    "\n",
    "donnees = [23, 17, 35, 29, 12, 41]\n",
    "legende = ['a', 'b', 'c', 'd', 'e', 'f']\n",
    "\n",
    "pyplot.pie(data, labels=legende)\n",
    "pyplot.show()"
   ]
  },
  {
   "cell_type": "markdown",
   "id": "977433c5",
   "metadata": {
    "nbgrader": {
     "grade": false,
     "grade_id": "cell-fa8eeaba7688015b",
     "locked": true,
     "schema_version": 3,
     "solution": false,
     "task": false
    }
   },
   "source": [
    "Écrire et documenter une fonction `statistiques` qui prend en argument une liste de couples comme renvoyés par la fonction `frequences` et affiche le diagramme camembert correspondant, dans l'ordre des fréquences."
   ]
  },
  {
   "cell_type": "code",
   "execution_count": 33,
   "id": "daf9bf30",
   "metadata": {
    "nbgrader": {
     "grade": false,
     "grade_id": "cell-61ddfef306d964f7",
     "locked": false,
     "schema_version": 3,
     "solution": true,
     "task": false
    }
   },
   "outputs": [
    {
     "data": {
      "image/png": "[encoded data removed]",
      "text/plain": [
       "<Figure size 432x288 with 1 Axes>"
      ]
     },
     "metadata": {},
     "output_type": "display_data"
    }
   ],
   "source": [
    "###BEGIN SOLUTION\n",
    "from matplotlib import pyplot\n",
    "\n",
    "L = que_lettres(frequences(occurences('Emile.txt')))\n",
    "pyplot.pie([ f for (ll, f) in L ], labels = [ ll for (ll, f) in L ] ) \n",
    "pyplot.show()\n",
    "###END SOLUTION"
   ]
  },
  {
   "cell_type": "markdown",
   "id": "e6c45b37",
   "metadata": {
    "nbgrader": {
     "grade": false,
     "grade_id": "cell-18f12780ef6587ad",
     "locked": true,
     "schema_version": 3,
     "solution": false,
     "task": false
    }
   },
   "source": [
    "Pour vous aidez à vérifier, voici mes propres statistiques sur ce texte :\n",
    "    ![](mes_stats.png)"
   ]
  },
  {
   "cell_type": "markdown",
   "id": "5006165c",
   "metadata": {
    "nbgrader": {
     "grade": false,
     "grade_id": "cell-1297d5572258e1c5",
     "locked": true,
     "points": 2,
     "schema_version": 3,
     "solution": false,
     "task": true
    }
   },
   "source": [
    "Describe the task here!"
   ]
  },
  {
   "cell_type": "markdown",
   "id": "4e27075f",
   "metadata": {
    "nbgrader": {
     "grade": false,
     "grade_id": "cell-bfc5351bdc90a44b",
     "locked": true,
     "schema_version": 3,
     "solution": false,
     "task": false
    }
   },
   "source": [
    "## Exercice 3 : déchiffre un texte mystère\n",
    "En combinant ce qui a été fait dans l'exercice précédent, trouver le texte [mystere.txt](mystere.txt) où les lettre ont été modifiée : seules les lettres non accentuées ont été modifiées, chaque occurence d'une lettre a été remplacée par la même lettre, ce remplacement est injectif."
   ]
  },
  {
   "cell_type": "markdown",
   "id": "af34d0f6",
   "metadata": {
    "nbgrader": {
     "grade": false,
     "grade_id": "cell-e0e5f7c281f2d306",
     "locked": true,
     "points": 2,
     "schema_version": 3,
     "solution": false,
     "task": true
    }
   },
   "source": [
    "Describe the task here!"
   ]
  },
  {
   "cell_type": "markdown",
   "id": "0335c9ce",
   "metadata": {
    "nbgrader": {
     "grade": false,
     "grade_id": "cell-8a364d4969e6cbf6",
     "locked": true,
     "schema_version": 3,
     "solution": false,
     "task": false
    }
   },
   "source": [
    "<div class=\"alert alert-success\">\n",
    "    <h2>Les points à retenir</h2>\n",
    "    \n",
    "* principe du dictionnaire : création, accès, ajout d'élément\n",
    "* présence d'une clef dans un dictionnaire avec le mot-clef `in`\n",
    "* couples `(x, y)`: accès aux composantes séparément\n",
    "</div>"
   ]
  }
 ],
 "metadata": {
  "celltoolbar": "Create Assignment",
  "kernelspec": {
   "display_name": "Python 3 (ipykernel)",
   "language": "python",
   "name": "python3"
  },
  "language_info": {
   "codemirror_mode": {
    "name": "ipython",
    "version": 3
   },
   "file_extension": ".py",
   "mimetype": "text/x-python",
   "name": "python",
   "nbconvert_exporter": "python",
   "pygments_lexer": "ipython3",
   "version": "3.7.3"
  }
 },
 "nbformat": 4,
 "nbformat_minor": 5
}
