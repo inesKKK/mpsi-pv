{
 "cells": [
  {
   "cell_type": "markdown",
   "id": "2cd3daed",
   "metadata": {},
   "source": [
    "# ITC - MPSI\n",
    "---"
   ]
  },
  {
   "cell_type": "markdown",
   "id": "8015cef5",
   "metadata": {
    "deletable": false,
    "editable": false,
    "nbgrader": {
     "cell_type": "markdown",
     "checksum": "960c7bb806a1dae2596d0cf7a7537c21",
     "grade": false,
     "grade_id": "cell-64089582af06faea",
     "locked": true,
     "schema_version": 3,
     "solution": false,
     "task": false
    }
   },
   "source": [
    "# TP2 : conditionnelles et boucles conditionnelles\n",
    "\n",
    "Rappel: ce TP est à rendre à la fin de la séance. Un autre énoncé sera mis en ligne au plus tard vendredi soir, à rendre pour le mardi soir."
   ]
  },
  {
   "cell_type": "markdown",
   "id": "a87ed0ed",
   "metadata": {
    "deletable": false,
    "editable": false,
    "nbgrader": {
     "cell_type": "markdown",
     "checksum": "3d2d792445b91add16e812cbb7093554",
     "grade": false,
     "grade_id": "cell-661ae4a88913aa4c",
     "locked": true,
     "schema_version": 3,
     "solution": false,
     "task": false
    }
   },
   "source": [
    "## Exo 1 : nombre de chiffres\n",
    "\n",
    "En `python`, le quotient de la division euclidienne entre entiers s'obtient grâce à l'opérateur `//`. Comparer les résultats des cellules suivantes.\n",
    "\n",
    "(Un _flottant_ est le type de données qui permet de représenter les réels. Rappel : les calculs sur les flottants entraînent des erreurs d'arrondi, on ne teste donc **jamais** l'égalité (ou la non égalité) entre deux flottants.)"
   ]
  },
  {
   "cell_type": "code",
   "execution_count": null,
   "id": "853ab301",
   "metadata": {
    "deletable": false,
    "editable": false,
    "nbgrader": {
     "cell_type": "code",
     "checksum": "cca977acc75bf9522891e68ad7c13c88",
     "grade": false,
     "grade_id": "cell-ee45d422ec15b60e",
     "locked": true,
     "schema_version": 3,
     "solution": false,
     "task": false
    }
   },
   "outputs": [],
   "source": [
    "1 / 2   ## est un flottant"
   ]
  },
  {
   "cell_type": "code",
   "execution_count": null,
   "id": "a05a03b3",
   "metadata": {
    "deletable": false,
    "editable": false,
    "nbgrader": {
     "cell_type": "code",
     "checksum": "f385ba26427a78a39e21c3e61d923b75",
     "grade": false,
     "grade_id": "cell-b5e9198e9ad518e3",
     "locked": true,
     "schema_version": 3,
     "solution": false,
     "task": false
    }
   },
   "outputs": [],
   "source": [
    "1 // 2  ## est un entier"
   ]
  },
  {
   "cell_type": "code",
   "execution_count": null,
   "id": "28206492",
   "metadata": {
    "deletable": false,
    "editable": false,
    "nbgrader": {
     "cell_type": "code",
     "checksum": "39a8eed0a7eb8fbbcf8b573522347c71",
     "grade": false,
     "grade_id": "cell-06853cf68b865ca3",
     "locked": true,
     "schema_version": 3,
     "solution": false,
     "task": false
    }
   },
   "outputs": [],
   "source": [
    "4 / 2   ## est un flottant"
   ]
  },
  {
   "cell_type": "code",
   "execution_count": null,
   "id": "050892cf",
   "metadata": {
    "deletable": false,
    "editable": false,
    "nbgrader": {
     "cell_type": "code",
     "checksum": "9317c28eaba8f3c3e05ea2622dcc92c9",
     "grade": false,
     "grade_id": "cell-0daf95019cfee7bb",
     "locked": true,
     "schema_version": 3,
     "solution": false,
     "task": false
    }
   },
   "outputs": [],
   "source": [
    "4 // 2  ## est un entier"
   ]
  },
  {
   "cell_type": "markdown",
   "id": "e4509b9b",
   "metadata": {
    "deletable": false,
    "editable": false,
    "nbgrader": {
     "cell_type": "markdown",
     "checksum": "cf5f2118a2478bd6c49bea9e5c0662b5",
     "grade": false,
     "grade_id": "cell-e724dc7b04dd2ccf",
     "locked": true,
     "schema_version": 3,
     "solution": false,
     "task": false
    }
   },
   "source": [
    "À partir d'un entier `n`, on peut donc construire l'entier obtenu en effaçant le dernier chiffre de `n` comme le quotient entier de `n` par 10.\n",
    "\n",
    "Documentez et écrivez une fonction `nb_de_chiffres` qui prend en argument un entier supposé positif (sans avoir à le vérifier) et renvoie son nombre de chiffres (par convention on considèrera que le nombre de chiffres de l'entier 0 est 0)."
   ]
  },
  {
   "cell_type": "code",
   "execution_count": null,
   "id": "3cf29589",
   "metadata": {
    "deletable": false,
    "nbgrader": {
     "cell_type": "code",
     "checksum": "485a778c9e86a519d75675899dec3362",
     "grade": false,
     "grade_id": "cell-70f5365b378885ec",
     "locked": false,
     "schema_version": 3,
     "solution": true,
     "task": false
    }
   },
   "outputs": [],
   "source": [
    "# Écrire votre code ici\n",
    "raise NotImplementedError # effacer cette ligne une fois le code écrit"
   ]
  },
  {
   "cell_type": "code",
   "execution_count": null,
   "id": "ee6e2994",
   "metadata": {
    "deletable": false,
    "editable": false,
    "nbgrader": {
     "cell_type": "code",
     "checksum": "83692e00328f2ad9886936062a073653",
     "grade": true,
     "grade_id": "cell-17dd89ab61455287",
     "locked": true,
     "points": 1,
     "schema_version": 3,
     "solution": false,
     "task": false
    }
   },
   "outputs": [],
   "source": [
    "assert(nb_de_chiffres(0) == 0)\n",
    "assert(nb_de_chiffres(1) == 1)\n",
    "assert(nb_de_chiffres(9) == 1)\n",
    "assert(nb_de_chiffres(10) == 2)\n",
    "assert(nb_de_chiffres(99) == 2)\n",
    "assert(nb_de_chiffres(100) == 3)\n",
    "assert(nb_de_chiffres(865462) == 6)"
   ]
  },
  {
   "cell_type": "markdown",
   "id": "a2c7d40e",
   "metadata": {
    "deletable": false,
    "editable": false,
    "nbgrader": {
     "cell_type": "markdown",
     "checksum": "2d12e302dad040a4e12cde0cac1f712d",
     "grade": false,
     "grade_id": "cell-58f0e396a239bf68",
     "locked": true,
     "schema_version": 3,
     "solution": false,
     "task": false
    }
   },
   "source": [
    "## Exo 2 : nombre miroir\n",
    "\n",
    "Un nombre est le miroir d'un autre si ses chiffres sont dans l'ordre inverse. Exemple : 5 est son propre miroir, 721 est le miroir de 127. Les miroirs des multiples de 10 apparaîtront bien entendu sans les 0 initiaux, ainsi le miroir de 120 est 21.\n",
    "\n",
    "Notez que si on veut reconstituer un nombre à trois chiffres dont on connaît le chiffre des centaines $c$, le chiffre des dizaines $d$ et le chiffre des unités $u$, il suffit d'exécuter les étapes suivantes pour récupérer le nombre :\n",
    "$$c\\xrightarrow{\\times 10} 10c\\xrightarrow{+d}10c+d\\xrightarrow{\\times 10}100c+10d\\xrightarrow{+u}100c+10d+u$$\n",
    "\n",
    "Le chiffre des unités d'un entier est le reste de la division euclidienne de cet entier par 10 et s'obtient en `python`grâce à l'opérateur `%`: ainsi `37 % 10` s'évalue à `7`.\n",
    "\n",
    "a. Documentez et écrivez une fonction `miroir` qui prend en argument un entier supposé positif ou nul (sans avoir à le vérifier) et renvoie son miroir."
   ]
  },
  {
   "cell_type": "code",
   "execution_count": null,
   "id": "23ce0b58",
   "metadata": {
    "deletable": false,
    "nbgrader": {
     "cell_type": "code",
     "checksum": "82acd3836c901241a8f73b9527927ace",
     "grade": false,
     "grade_id": "cell-4d14ca67f6a12f2e",
     "locked": false,
     "schema_version": 3,
     "solution": true,
     "task": false
    }
   },
   "outputs": [],
   "source": [
    "# Écrire votre code ici\n",
    "raise NotImplementedError # effacer cette ligne une fois le code écrit"
   ]
  },
  {
   "cell_type": "code",
   "execution_count": null,
   "id": "22c739ef",
   "metadata": {
    "deletable": false,
    "editable": false,
    "nbgrader": {
     "cell_type": "code",
     "checksum": "0cc3f0e536cd542669b99ede4c2a5af9",
     "grade": true,
     "grade_id": "cell-741babbf4127c2c9",
     "locked": true,
     "points": 1,
     "schema_version": 3,
     "solution": false,
     "task": false
    }
   },
   "outputs": [],
   "source": [
    "assert(miroir(0) == 0)\n",
    "assert(miroir(1) == 1)\n",
    "assert(miroir(10) == 1)\n",
    "assert(miroir(127) == 721)\n",
    "assert(miroir(1200) == 21)\n",
    "assert(miroir(943742) == 247349)"
   ]
  },
  {
   "cell_type": "markdown",
   "id": "748a362a",
   "metadata": {
    "deletable": false,
    "editable": false,
    "nbgrader": {
     "cell_type": "markdown",
     "checksum": "290ecf436595792aa400003246bbeae5",
     "grade": false,
     "grade_id": "cell-e9f65f36c7e418f9",
     "locked": true,
     "schema_version": 3,
     "solution": false,
     "task": false
    }
   },
   "source": [
    "b. Un nombre est un _palindrome_ si on peut le lire dans les deux sens (et qu'on obtient le même nombre). Exemple : 5, 12721 et 127721 sont des palindromes, 12723 et 1210 n'en sont pas.\n",
    "\n",
    "Documentez et écrivez une fonction `est_palindrome` qui prend en argument un entier supposé positif ou nul (sans avoir à le vérifier) et teste si c'est un palindrome (c'est-à-dire renvoie un booléen: `True` si l'entier est un palindrome et `False` sinon). N'oubliez pas de traiter le cas où `n` est divisible par `0` mais non nul."
   ]
  },
  {
   "cell_type": "code",
   "execution_count": null,
   "id": "a3466ecf",
   "metadata": {
    "deletable": false,
    "nbgrader": {
     "cell_type": "code",
     "checksum": "04f3798b7d794f5c7573e5ad597a7d2e",
     "grade": false,
     "grade_id": "cell-37a37f463f0dab95",
     "locked": false,
     "schema_version": 3,
     "solution": true,
     "task": false
    }
   },
   "outputs": [],
   "source": [
    "# Écrire votre code ici\n",
    "raise NotImplementedError # effacer cette ligne une fois le code écrit"
   ]
  },
  {
   "cell_type": "code",
   "execution_count": null,
   "id": "3a493783",
   "metadata": {
    "deletable": false,
    "editable": false,
    "nbgrader": {
     "cell_type": "code",
     "checksum": "adf07cd64feb77ffc43f3fb3c6212300",
     "grade": true,
     "grade_id": "cell-e7685d93c6f63bf3",
     "locked": true,
     "points": 1,
     "schema_version": 3,
     "solution": false,
     "task": false
    }
   },
   "outputs": [],
   "source": [
    "assert(est_palindrome(0))\n",
    "assert(est_palindrome(5))\n",
    "assert(est_palindrome(12721))\n",
    "assert(est_palindrome(127721))\n",
    "assert(not est_palindrome(12723))\n",
    "assert(not est_palindrome(765732))\n",
    "assert(not est_palindrome(1210))"
   ]
  },
  {
   "cell_type": "markdown",
   "id": "a8480b00",
   "metadata": {
    "deletable": false,
    "editable": false,
    "nbgrader": {
     "cell_type": "markdown",
     "checksum": "0d22d62fc3a973930cc13a6fb29a9fc8",
     "grade": false,
     "grade_id": "cell-c8fee9b1ee23e783",
     "locked": true,
     "schema_version": 3,
     "solution": false,
     "task": false
    }
   },
   "source": [
    "## Exo3 : plus petit palindrome immédiatement supérieur\n",
    "\n",
    "On veut maintenant trouver, pour un entier `n` donné, le plus petit entier supérieur ou égal à `n` qui est un palindrome.\n",
    "\n",
    "Comme vous pouvez le constater dans la cellule de test précédente, on peut prendre la négation d'un booléen grâce à l'opérateur `not` placé devant. Exécutez les cellules suivantes pour mieux comprendre:"
   ]
  },
  {
   "cell_type": "code",
   "execution_count": null,
   "id": "13925ce1",
   "metadata": {
    "deletable": false,
    "editable": false,
    "nbgrader": {
     "cell_type": "code",
     "checksum": "0f83699b6b91aa66e54db633724845fd",
     "grade": false,
     "grade_id": "cell-a110a78ec962b723",
     "locked": true,
     "schema_version": 3,
     "solution": false,
     "task": false
    }
   },
   "outputs": [],
   "source": [
    "not True"
   ]
  },
  {
   "cell_type": "code",
   "execution_count": null,
   "id": "c842aaaf",
   "metadata": {
    "deletable": false,
    "editable": false,
    "nbgrader": {
     "cell_type": "code",
     "checksum": "c9af8d88d94e423cf6ff9cf96c1a302c",
     "grade": false,
     "grade_id": "cell-62ce2ee9ca45961c",
     "locked": true,
     "schema_version": 3,
     "solution": false,
     "task": false
    }
   },
   "outputs": [],
   "source": [
    "not False"
   ]
  },
  {
   "cell_type": "code",
   "execution_count": null,
   "id": "0ea3cdd1",
   "metadata": {
    "deletable": false,
    "editable": false,
    "nbgrader": {
     "cell_type": "code",
     "checksum": "a4a284f6467455f3cdcdc2f43d329baa",
     "grade": false,
     "grade_id": "cell-c9923accff14d933",
     "locked": true,
     "schema_version": 3,
     "solution": false,
     "task": false
    }
   },
   "outputs": [],
   "source": [
    "not 1 < 5"
   ]
  },
  {
   "cell_type": "code",
   "execution_count": null,
   "id": "3514795f",
   "metadata": {},
   "outputs": [],
   "source": [
    "est_palindrome(127)"
   ]
  },
  {
   "cell_type": "code",
   "execution_count": null,
   "id": "9a10679d",
   "metadata": {
    "deletable": false,
    "editable": false,
    "nbgrader": {
     "cell_type": "code",
     "checksum": "e6ce58961e1f1ee78ba431292e3afefd",
     "grade": false,
     "grade_id": "cell-2e0d0b389d033968",
     "locked": true,
     "schema_version": 3,
     "solution": false,
     "task": false
    }
   },
   "outputs": [],
   "source": [
    "not est_palindrome(127)"
   ]
  },
  {
   "cell_type": "markdown",
   "id": "dbceb066",
   "metadata": {
    "deletable": false,
    "editable": false,
    "nbgrader": {
     "cell_type": "markdown",
     "checksum": "c79e1a0463ae9571d53f408fcbab97d4",
     "grade": false,
     "grade_id": "cell-c8fee9b1ee23e784",
     "locked": true,
     "schema_version": 3,
     "solution": false,
     "task": false
    }
   },
   "source": [
    "Documentez et écrivez la fonction `approximation_palindromique` (ce n'est pas un terme officiel) qui à un entier `n` associe le plus petit entier supérieur ou égal à `n` qui est un palindrome."
   ]
  },
  {
   "cell_type": "code",
   "execution_count": null,
   "id": "3a874fd8",
   "metadata": {
    "deletable": false,
    "nbgrader": {
     "cell_type": "code",
     "checksum": "0adeaaa5bcd2711b3383b168f5828292",
     "grade": false,
     "grade_id": "cell-3937aa4084e22c5c",
     "locked": false,
     "schema_version": 3,
     "solution": true,
     "task": false
    }
   },
   "outputs": [],
   "source": [
    "# Écrire votre code ici\n",
    "raise NotImplementedError # effacer cette ligne une fois le code écrit"
   ]
  },
  {
   "cell_type": "code",
   "execution_count": null,
   "id": "8b6ad1a7",
   "metadata": {
    "deletable": false,
    "editable": false,
    "nbgrader": {
     "cell_type": "code",
     "checksum": "b8126b30d658786993f15847a3eb7e4d",
     "grade": true,
     "grade_id": "cell-8e0597de0bfa1606",
     "locked": true,
     "points": 0,
     "schema_version": 3,
     "solution": false,
     "task": false
    }
   },
   "outputs": [],
   "source": [
    "assert(approximation_palindromique(5) == 5)\n",
    "assert(approximation_palindromique(10) == 11)\n",
    "assert(approximation_palindromique(127) == 131)\n",
    "assert(approximation_palindromique(453624) == 454454)"
   ]
  },
  {
   "cell_type": "markdown",
   "id": "1d6a09de",
   "metadata": {
    "deletable": false,
    "editable": false,
    "nbgrader": {
     "cell_type": "markdown",
     "checksum": "62fdd453106bedd9453d4bd13841f7f7",
     "grade": false,
     "grade_id": "cell-c37fda170682ed26",
     "locked": true,
     "schema_version": 3,
     "solution": false,
     "task": false
    }
   },
   "source": [
    "<div class=\"alert alert-success\">\n",
    "    <h2>Les points à retenir</h2>\n",
    "\n",
    "* La division euclidienne entre deux entiers s'obtient par les opérateurs `//` (quotient) et `%` (reste).\n",
    "* L'opérateur `/` fait une division entre flottants (même si on lui fournit des entiers).\n",
    "* En `python`, les constantes booléennes sont `True` et `False`. La négation d'un booléen s'exprime avec l'opérateur `not`.\n",
    "* Un _test_ est une fonction qui renvoie un booléen.\n",
    "</div>"
   ]
  }
 ],
 "metadata": {
  "kernelspec": {
   "display_name": "Python 3",
   "language": "python",
   "name": "python3"
  },
  "language_info": {
   "codemirror_mode": {
    "name": "ipython",
    "version": 3
   },
   "file_extension": ".py",
   "mimetype": "text/x-python",
   "name": "python",
   "nbconvert_exporter": "python",
   "pygments_lexer": "ipython3",
   "version": "3.7.3"
  }
 },
 "nbformat": 4,
 "nbformat_minor": 5
}
