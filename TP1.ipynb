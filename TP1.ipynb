{
 "cells": [
  {
   "cell_type": "markdown",
   "metadata": {},
   "source": [
    "# ITC - MPSI\n",
    "---"
   ]
  },
  {
   "cell_type": "markdown",
   "metadata": {
    "deletable": false,
    "editable": false,
    "nbgrader": {
     "cell_type": "markdown",
     "checksum": "801cea208af3dffd1091bac1d5426ffa",
     "grade": false,
     "grade_id": "cell-fed51a05942ddbae",
     "locked": true,
     "schema_version": 3,
     "solution": false,
     "task": false
    }
   },
   "source": [
    "# TP1 : calcul de la racine carrée\n",
    "## ou pourquoi il ne suffit pas de trouver un algorithme\n",
    "\n",
    "Dans ce TP, nous allons étudier deux algorithmes de calcul de racine carrée, et comparer expérimentalement leur vitesse de convergence. Ce sera aussi l'occasion de revoir les bases de `python` que vous avez dû voir en spécialité Mathématiques au lycée."
   ]
  },
  {
   "cell_type": "markdown",
   "metadata": {
    "deletable": false,
    "editable": false,
    "nbgrader": {
     "cell_type": "markdown",
     "checksum": "7511da637587138d964ef1bb43e51436",
     "grade": false,
     "grade_id": "cell-a6d65c3ca47ccefb",
     "locked": true,
     "schema_version": 3,
     "solution": false,
     "task": false
    }
   },
   "source": [
    "## Rappel : écrire une fonction en `python`\n",
    "Le but d'une fonction est d'écrire une boîte noire à laquelle on fournit des valeurs, et qui restitue un résultat (comme en mathématiques!).\n",
    "En `python`, on définit une fonction de la manière suivante :\n",
    "\n",
    "* mot-clef `def`\n",
    "* nom de la fonction\n",
    "* liste des paramètres entre parenthèses (_même s'il n'y a pas de paramètre_)\n",
    "* deux points (`:`)\n",
    "* retour à la ligne et indentation\n",
    "* corps de la fonction (c'est-à-dire tout le code qui correspond aux calculs de la fonction)\n",
    "* ligne vide (ou fin du fichier)\n",
    "\n",
    "La valeur retournée par la fonction (c'est-à-dire la valeur qu'on attend d'elle) est précédée du mot-clef `return`, et une fois ce mot-clef rencontré dans un chemin d'exécution, on sort de la fonction pour retourner là où l'appel de fonction a été fait.\n",
    "\n",
    "Il faut prendre l'habitude de documenter la fonction, par exemple par une chaîne de caractères juste avant.\n",
    "\n",
    "Un exemple :\n",
    "```python\n",
    "import math\n",
    "\n",
    "\"\"\"calcule l'aire d'un disque\n",
    "r : rayon, nombre (entier ou flottant)\n",
    "retour : aire du disque, nombre flottant\"\"\"\n",
    "def aire_disque(r):\n",
    "    return math.pi * r**2\n",
    "```\n",
    "\n",
    "(Un _flottant_ est la façon dont est représenté un nombre réel, nous reviendront là-dessus plus tard.)"
   ]
  },
  {
   "cell_type": "markdown",
   "metadata": {
    "deletable": false,
    "editable": false,
    "nbgrader": {
     "cell_type": "markdown",
     "checksum": "912ba550e8df71df221010a8297187d8",
     "grade": false,
     "grade_id": "cell-11fc43c0377e61c5",
     "locked": true,
     "schema_version": 3,
     "solution": false,
     "task": false
    }
   },
   "source": [
    "Documenter et compléter la fonction suivante qui prend en argument deux nombres et renvoie leur moyenne arithmétique."
   ]
  },
  {
   "cell_type": "code",
   "execution_count": 1,
   "metadata": {
    "deletable": false,
    "nbgrader": {
     "cell_type": "code",
     "checksum": "3e70fd34c5ca730c82bccd75e195e44a",
     "grade": false,
     "grade_id": "cell-b28534382f6eb7aa",
     "locked": false,
     "schema_version": 3,
     "solution": true,
     "task": false
    }
   },
   "outputs": [],
   "source": [
    "\"\"\"a, b : 2 nombres\n",
    "resultat : moyenne arithmetique de a et b\"\"\"\n",
    "def moyenne(a, b):\n",
    "    return (a+b)/2"
   ]
  },
  {
   "cell_type": "code",
   "execution_count": 2,
   "metadata": {
    "ExecuteTime": {
     "end_time": "2021-08-07T17:05:52.861175Z",
     "start_time": "2021-08-07T17:05:52.856465Z"
    },
    "deletable": false,
    "editable": false,
    "nbgrader": {
     "cell_type": "code",
     "checksum": "acb30db4ffdf952704c38ab7a95ad0af",
     "grade": true,
     "grade_id": "cell-122674bbcf04ad42",
     "locked": true,
     "points": 1,
     "schema_version": 3,
     "solution": false,
     "task": false
    }
   },
   "outputs": [],
   "source": [
    "epsilon = 0.00001\n",
    "assert(abs(moyenne(0,0)) < epsilon)\n",
    "assert(abs(moyenne(1,1) - 1) < epsilon)\n",
    "assert(abs(moyenne(-1,1)) < epsilon)\n",
    "assert(abs(moyenne(3,8) - 5.5) < epsilon)"
   ]
  },
  {
   "cell_type": "markdown",
   "metadata": {
    "deletable": false,
    "editable": false,
    "nbgrader": {
     "cell_type": "markdown",
     "checksum": "aec0f7c2b0a331b8b1daadbb90c004e4",
     "grade": false,
     "grade_id": "cell-0ceda65073b937a8",
     "locked": true,
     "schema_version": 3,
     "solution": false,
     "task": false
    }
   },
   "source": [
    "## Tester l'égalité de deux flottants\n",
    "On ne peut représenter tous les réels sur un ordinateur, car il y a une infinité de réels alors que la mémoire d'un ordinateur est finie. Pour représenter les réels, on utilise des _flottants_ (ou _nombres à virgule flottante_).\n",
    "Pour des raisons que nous verrons plus tard dans l'année, les calculs sur flottants entraînent beaucoup d'erreurs d'arrondis, comme vous pouvez le constater avec le calcul suivant :"
   ]
  },
  {
   "cell_type": "code",
   "execution_count": null,
   "metadata": {
    "ExecuteTime": {
     "end_time": "2021-08-07T17:05:55.678248Z",
     "start_time": "2021-08-07T17:05:55.661646Z"
    },
    "deletable": false,
    "editable": false,
    "nbgrader": {
     "cell_type": "code",
     "checksum": "bc38ebab880fc9a7a50188f88923a29e",
     "grade": false,
     "grade_id": "cell-14b01a0e24b1933e",
     "locked": true,
     "schema_version": 3,
     "solution": false,
     "task": false
    }
   },
   "outputs": [],
   "source": [
    "0.3-0.2 == 0.1"
   ]
  },
  {
   "cell_type": "markdown",
   "metadata": {
    "deletable": false,
    "editable": false,
    "nbgrader": {
     "cell_type": "markdown",
     "checksum": "3d44fef102588dbe1fe644bab4acb8ac",
     "grade": false,
     "grade_id": "cell-5f615c71393d7a93",
     "locked": true,
     "schema_version": 3,
     "solution": false,
     "task": false
    }
   },
   "source": [
    "Pour cette raison, il ne faut **jamais** tester si deux flottants sont égaux ou différents, mais tester si la valeur absolue de leur différence est suffisamment petite ou suffisamment grande:"
   ]
  },
  {
   "cell_type": "code",
   "execution_count": null,
   "metadata": {
    "ExecuteTime": {
     "end_time": "2021-08-07T17:05:58.342601Z",
     "start_time": "2021-08-07T17:05:58.331278Z"
    },
    "deletable": false,
    "editable": false,
    "nbgrader": {
     "cell_type": "code",
     "checksum": "045b4062a97f9e99f14053f97f90de0d",
     "grade": false,
     "grade_id": "cell-21a327969ab5cddf",
     "locked": true,
     "schema_version": 3,
     "solution": false,
     "task": false
    }
   },
   "outputs": [],
   "source": [
    "epsilon = 0.000001\n",
    "abs((0.3-0.2) - 0.1) < epsilon"
   ]
  },
  {
   "cell_type": "markdown",
   "metadata": {
    "deletable": false,
    "editable": false,
    "nbgrader": {
     "cell_type": "markdown",
     "checksum": "cb392f27d9caf3ee57cf165a3e2e892d",
     "grade": false,
     "grade_id": "cell-c4d10aff90d639e3",
     "locked": true,
     "schema_version": 3,
     "solution": false,
     "task": false
    }
   },
   "source": [
    "## Rappel : conditionnelle\n",
    "\n",
    "Les structures de contrôle permettent de modifier le flot d'exécution du programme. En particulier `if` et `if ... else` introduisent des embranchements.\n",
    "\n",
    "```python\n",
    "if condition:\n",
    "    code    #indentation obligatoire\n",
    "```\n",
    "se comporte de la manière suivante :\n",
    "<img src=\"flot_if.png\" width=\"200\">\n",
    "\n",
    "\n",
    "tandis que\n",
    "```python\n",
    "if condition:\n",
    "    code1    #indentation obligatoire\n",
    "else:\n",
    "    code2    #indentation obligatoire\n",
    "```\n",
    "se comporte comme suit :\n",
    "<img src=\"flot_if_else.png\" width=\"230\">"
   ]
  },
  {
   "cell_type": "markdown",
   "metadata": {
    "deletable": false,
    "editable": false,
    "nbgrader": {
     "cell_type": "markdown",
     "checksum": "c4a3a7bd45896091c423edacafe67a01",
     "grade": false,
     "grade_id": "cell-5cc41b60021dfadd",
     "locked": true,
     "schema_version": 3,
     "solution": false,
     "task": false
    }
   },
   "source": [
    "Documenter et compléter (sans utiliser la fonction native `abs` de `python`) la fonction suivante qui prend en argument un nombre et renvoie sa valeur absolue."
   ]
  },
  {
   "cell_type": "code",
   "execution_count": 3,
   "metadata": {
    "ExecuteTime": {
     "end_time": "2021-08-07T17:05:51.041280Z",
     "start_time": "2021-08-07T17:05:51.025185Z"
    },
    "deletable": false,
    "nbgrader": {
     "cell_type": "code",
     "checksum": "e8a7c7e6b382a2e483a19d30865b0eb1",
     "grade": false,
     "grade_id": "cell-a81e45a52f0b7323",
     "locked": false,
     "schema_version": 3,
     "solution": true,
     "task": false
    }
   },
   "outputs": [],
   "source": [
    "def valeur_absolue(x):\n",
    "    if x >= 0 :\n",
    "        return x\n",
    "    else : \n",
    "        return -x"
   ]
  },
  {
   "cell_type": "code",
   "execution_count": 4,
   "metadata": {
    "deletable": false,
    "editable": false,
    "nbgrader": {
     "cell_type": "code",
     "checksum": "506b865b33c4ca937856204c1e5d9fb8",
     "grade": true,
     "grade_id": "cell-68cdf7728f1c9e85",
     "locked": true,
     "points": 1,
     "schema_version": 3,
     "solution": false,
     "task": false
    }
   },
   "outputs": [],
   "source": [
    "epsilon = 0.00001\n",
    "assert(abs( valeur_absolue(0) ) < epsilon)\n",
    "assert(abs( valeur_absolue(10) - 10 ) < epsilon)\n",
    "assert(abs( valeur_absolue(-15.3) - 15.3 ) < epsilon)"
   ]
  },
  {
   "cell_type": "markdown",
   "metadata": {
    "deletable": false,
    "editable": false,
    "nbgrader": {
     "cell_type": "markdown",
     "checksum": "5a1c415ee153d3c20c7294c47c9af8aa",
     "grade": false,
     "grade_id": "cell-65982eb2a424ac4c",
     "locked": true,
     "schema_version": 3,
     "solution": false,
     "task": false
    }
   },
   "source": [
    "## Rappel : boucles conditionnelles\n",
    "\n",
    "L'intérêt d'utiliser un programme pour résoudre un problème, réside dans le fait qu'on peut demander au programme de répéter beaucoup de fois une action (c'est plus rapide qu'à la main). Il existe pour cela plusieurs instructions en `python`, en particulier l'instruction `while`.\n",
    "\n",
    "```python\n",
    "while condition:\n",
    "    code    #indentation obligatoire\n",
    "```\n",
    "se comporte de la manière suivante:\n",
    "<img src=\"flot_while.png\" width=\"230\">\n",
    "\n",
    "Si la condition est fausse dès le départ, alors le bloc d'instruction dans la boucle (`code`) n'est jamais exécuté."
   ]
  },
  {
   "cell_type": "markdown",
   "metadata": {
    "deletable": false,
    "editable": false,
    "nbgrader": {
     "cell_type": "markdown",
     "checksum": "493b55bd32e943036ab56ad804a5254b",
     "grade": false,
     "grade_id": "cell-574a4cb04e193181",
     "locked": true,
     "schema_version": 3,
     "solution": false,
     "task": false
    }
   },
   "source": [
    "## Racine carrée : calcul par dichotomie\n",
    "Dans cette partie, nous allons aborder le problème du calcul de la racine carrée d'un nombre supposé supérieur ou égal à 1 (sans vérifier ce point), par une stratégie algorithmique classique, la _dichotomie_. Le principe de la dichotomie est le suivant :\n",
    "* on cherche la réponse dans un intervalle,\n",
    "* si la réponse est au milieu de l'intervalle, on a trouvé la solution,\n",
    "* sinon\n",
    "  * soit elle est inférieure à ce milieu et on regarde dans la moitié de gauche en suivant la même méthode,\n",
    "  * soit elle est supérieure et on regarde dans la moitié de droite en suivant la même méthode.\n",
    "C'est le principe que vous utilisez quand vous cherchez un mot dans un dictionnaire.\n",
    "\n",
    "Ici, si on note $x$ le nombre dont on cherche la racine carrée, on sait que celle-ci appartient à l'intervalle\n",
    "$$[1,x].$$\n",
    "\n",
    "(Rappel : on suppose que $x\\geq 1$.) On peut alors comparer le carré de la valeur candidate (ici $(x+1)/2$) à $x$ : s'ils sont suffisamment proches, on considère qu'on a trouvé $\\sqrt{x}$, sinon on continue dans la bonne moitié de l'intervalle.\n",
    "\n",
    "L'algorithme se traduit alors de la façon suivante:\n",
    "* gauche $\\leftarrow$ 1\n",
    "* droite $\\leftarrow$ x\n",
    "* candidat $\\leftarrow$ moyenne(gauche, droite)\n",
    "* tant que $\\text{candidat}^2$ trop éloigné de $x$\n",
    "  * si $\\text{candidat}^2 < x$, alors gauche $\\leftarrow$ candidat &nbsp;&nbsp;&nbsp;&nbsp;&nbsp;&nbsp;&nbsp;&nbsp;&nbsp;&nbsp;#car la racine se trouve dans $[\\text{candidat},\\text{droite}]$\n",
    "  * sinon, droite $\\leftarrow$ candidat &nbsp;&nbsp;&nbsp;&nbsp;&nbsp;&nbsp;&nbsp;&nbsp;&nbsp;&nbsp;#car la racine se trouve dans $[\\text{gauche},\\text{candidat}]$\n",
    "  * on met candidat à jour\n",
    "* renvoyer la valeur de candidat &nbsp;&nbsp;&nbsp;&nbsp;&nbsp;&nbsp;&nbsp;&nbsp;&nbsp;&nbsp;#si on sorti de la boucle, c'est que $\\text{candidat}^2$ est suffisamment proche de $x$\n",
    "\n",
    "Documenter et compléter la fonction suivante :"
   ]
  },
  {
   "cell_type": "code",
   "execution_count": 5,
   "metadata": {
    "ExecuteTime": {
     "end_time": "2021-08-07T17:06:02.476279Z",
     "start_time": "2021-08-07T17:06:02.466428Z"
    },
    "deletable": false,
    "nbgrader": {
     "cell_type": "code",
     "checksum": "c817eb12ecf4205c31308ac424f5e443",
     "grade": false,
     "grade_id": "cell-e9268bd0e190a646",
     "locked": false,
     "schema_version": 3,
     "solution": true,
     "task": false
    }
   },
   "outputs": [],
   "source": [
    "def trop_eloigne(a, b, precision):\n",
    "    return valeur_absolue(a-b) > precision\n",
    "\n",
    "def racine_par_dichotomie(x, precision):\n",
    "    gauche = 1\n",
    "    droite = x\n",
    "    candidat = (gauche+droite)/2\n",
    "    while trop_eloigne(candidat**2, x, precision):\n",
    "        if candidat**2 < x:\n",
    "            gauche = candidat\n",
    "        else : \n",
    "            droite = candidat\n",
    "        candidat = (gauche+droite)/2\n",
    "    return candidat"
   ]
  },
  {
   "cell_type": "code",
   "execution_count": 6,
   "metadata": {
    "ExecuteTime": {
     "end_time": "2021-08-07T17:06:04.298153Z",
     "start_time": "2021-08-07T17:06:04.288457Z"
    },
    "deletable": false,
    "editable": false,
    "nbgrader": {
     "cell_type": "code",
     "checksum": "cd574344782395181aebcbd7994eeeef",
     "grade": true,
     "grade_id": "cell-532fd3b19f9e2a48",
     "locked": true,
     "points": 1,
     "schema_version": 3,
     "solution": false,
     "task": false
    }
   },
   "outputs": [],
   "source": [
    "import math\n",
    "import random\n",
    "\n",
    "epsilon = 0.0001\n",
    "precisiontest = 0.00000001\n",
    "assert(abs(racine_par_dichotomie(1, precisiontest) - 1) < epsilon)\n",
    "assert(abs(racine_par_dichotomie(2, precisiontest) - math.sqrt(2)) < epsilon)\n",
    "xtest = random.randint(43432,65364)\n",
    "assert(abs(racine_par_dichotomie(xtest, precisiontest) - math.sqrt(xtest)) < epsilon)"
   ]
  },
  {
   "cell_type": "markdown",
   "metadata": {
    "deletable": false,
    "editable": false,
    "nbgrader": {
     "cell_type": "markdown",
     "checksum": "95ddc2f0ec2b4a53414d595018e766f5",
     "grade": false,
     "grade_id": "cell-fb284c25fd9a00dd",
     "locked": true,
     "schema_version": 3,
     "solution": false,
     "task": false
    }
   },
   "source": [
    "Pour connaître le temps d'exécution d'une cellule, il suffit de mettre `%%time` en première ligne de la cellule :"
   ]
  },
  {
   "cell_type": "code",
   "execution_count": 7,
   "metadata": {
    "ExecuteTime": {
     "end_time": "2021-08-07T17:06:08.080826Z",
     "start_time": "2021-08-07T17:06:08.069557Z"
    },
    "deletable": false,
    "editable": false,
    "nbgrader": {
     "cell_type": "code",
     "checksum": "236201c90535d709bb191702e5e5f056",
     "grade": false,
     "grade_id": "cell-bf73fa4f77831bb3",
     "locked": true,
     "schema_version": 3,
     "solution": false,
     "task": false
    }
   },
   "outputs": [
    {
     "name": "stdout",
     "output_type": "stream",
     "text": [
      "CPU times: user 32 µs, sys: 0 ns, total: 32 µs\n",
      "Wall time: 35 µs\n"
     ]
    },
    {
     "data": {
      "text/plain": [
       "208.4202485364558"
      ]
     },
     "execution_count": 7,
     "metadata": {},
     "output_type": "execute_result"
    }
   ],
   "source": [
    "%%time\n",
    "racine_par_dichotomie(xtest, precisiontest)"
   ]
  },
  {
   "cell_type": "markdown",
   "metadata": {
    "deletable": false,
    "editable": false,
    "nbgrader": {
     "cell_type": "markdown",
     "checksum": "4bd3893aabaaa2f5339b8f25ae7bc554",
     "grade": false,
     "grade_id": "cell-68f5d0a63977fa46",
     "locked": true,
     "schema_version": 3,
     "solution": false,
     "task": false
    }
   },
   "source": [
    "Comme sur un seul essai on peut tomber sur un cas particulier qui demande peu d'étapes ou au contraire en demande beaucoup, on va faire une boucle sur un ensemble de valeurs (ce type de boucle sera expliqué au TP2):\n",
    "[ Attention : le calcul prend quelques secondes, soyez patients ]"
   ]
  },
  {
   "cell_type": "code",
   "execution_count": 12,
   "metadata": {
    "deletable": false,
    "editable": false,
    "nbgrader": {
     "cell_type": "code",
     "checksum": "7b583b83677516ec0fbaa72f463117ac",
     "grade": false,
     "grade_id": "cell-e56040733faafe7c",
     "locked": true,
     "schema_version": 3,
     "solution": false,
     "task": false
    }
   },
   "outputs": [
    {
     "name": "stdout",
     "output_type": "stream",
     "text": [
      "CPU times: user 2.51 s, sys: 4.04 ms, total: 2.51 s\n",
      "Wall time: 12.1 s\n"
     ]
    }
   ],
   "source": [
    "%%time\n",
    "x = 43432\n",
    "for i in range(100000):     # on fait 100000 essais\n",
    "    racine_par_dichotomie(x+i, precisiontest)"
   ]
  },
  {
   "cell_type": "markdown",
   "metadata": {
    "deletable": false,
    "editable": false,
    "nbgrader": {
     "cell_type": "markdown",
     "checksum": "475630a2a69a875692c36a0526ea740f",
     "grade": false,
     "grade_id": "cell-06f2259ef1fd9f14",
     "locked": true,
     "schema_version": 3,
     "solution": false,
     "task": false
    }
   },
   "source": [
    "## Racine carrée : algorithme de Héron\n",
    "Chez les Grecs anciens, trouver la racine carrée de $x$ était un problème de gémétrie : cela revenait à trouver un carré de côté $c$ dont l'aire valait $x$. L'algorithme de Héron repose sur cette vision : \n",
    "* on part d'un rectangle dont on sait que l'aire est $x$ : le rectangle $1\\times x$,\n",
    "* tant que le rectangle ne peut pas être considéré comme un carré (c'est-à-dire tant que ses côtés sont suffisamment différents)\n",
    "  * on considère un nouveau rectangle dont un des côtés vaut la moyenne arithmétique des côtés de l'ancien rectangle, et l'autre ce qu'il faut pour que l'aire de ce rectangle soit encore $x$\n",
    "* on retourne $x$.\n",
    "\n",
    "Commenter et compléter la fonction suivante:"
   ]
  },
  {
   "cell_type": "code",
   "execution_count": 10,
   "metadata": {
    "ExecuteTime": {
     "end_time": "2021-08-07T17:06:19.250874Z",
     "start_time": "2021-08-07T17:06:19.242977Z"
    },
    "deletable": false,
    "nbgrader": {
     "cell_type": "code",
     "checksum": "8ef85e37d55fa0a195359a2478e7cd77",
     "grade": false,
     "grade_id": "cell-4534bcfab8b31593",
     "locked": false,
     "schema_version": 3,
     "solution": true,
     "task": false
    }
   },
   "outputs": [],
   "source": [
    "def racine_Heron(x, precision):\n",
    "    cote1 = 1\n",
    "    cote2 = x\n",
    "    while trop_eloigne(cote1, cote2, precision):\n",
    "        cote1 = (cote1+cote2)/2\n",
    "        cote2 = x/cote1\n",
    "    return cote1"
   ]
  },
  {
   "cell_type": "code",
   "execution_count": 11,
   "metadata": {
    "ExecuteTime": {
     "end_time": "2021-08-07T17:06:22.278128Z",
     "start_time": "2021-08-07T17:06:22.268456Z"
    },
    "deletable": false,
    "editable": false,
    "nbgrader": {
     "cell_type": "code",
     "checksum": "45bd8a15db82a2d2d578d2ff86db6d27",
     "grade": true,
     "grade_id": "cell-ebf553428a064e00",
     "locked": true,
     "points": 1,
     "schema_version": 3,
     "solution": false,
     "task": false
    }
   },
   "outputs": [],
   "source": [
    "assert(abs(racine_Heron(1, precisiontest) - 1) < epsilon)\n",
    "assert(abs(racine_Heron(2, precisiontest) - math.sqrt(2)) < epsilon)\n",
    "assert(abs(racine_Heron(xtest, precisiontest) - math.sqrt(xtest)) < epsilon)"
   ]
  },
  {
   "cell_type": "markdown",
   "metadata": {
    "deletable": false,
    "editable": false,
    "nbgrader": {
     "cell_type": "markdown",
     "checksum": "567dd6a78cadbfbda59b9f216506df77",
     "grade": false,
     "grade_id": "cell-bf05692df305b127",
     "locked": true,
     "schema_version": 3,
     "solution": false,
     "task": false
    }
   },
   "source": [
    "Vous pouvez comparer le temps d'exécution de ce nouvel algorithme avec le précédent."
   ]
  },
  {
   "cell_type": "code",
   "execution_count": 13,
   "metadata": {
    "ExecuteTime": {
     "end_time": "2021-08-07T17:06:24.000408Z",
     "start_time": "2021-08-07T17:06:23.987910Z"
    },
    "deletable": false,
    "editable": false,
    "nbgrader": {
     "cell_type": "code",
     "checksum": "85d6f9d6074bf56682e3eb212b51d9c7",
     "grade": false,
     "grade_id": "cell-4f1712a3c8b5a38c",
     "locked": true,
     "schema_version": 3,
     "solution": false,
     "task": false
    }
   },
   "outputs": [
    {
     "name": "stdout",
     "output_type": "stream",
     "text": [
      "CPU times: user 460 ms, sys: 27 µs, total: 460 ms\n",
      "Wall time: 2.25 s\n"
     ]
    }
   ],
   "source": [
    "%%time\n",
    "x = 43432\n",
    "for i in range(100000):     # on fait 100000 essais\n",
    "    racine_Heron(x+i, precisiontest)"
   ]
  },
  {
   "cell_type": "markdown",
   "metadata": {
    "deletable": false,
    "editable": false,
    "nbgrader": {
     "cell_type": "markdown",
     "checksum": "d7949ebb6bedda862b76a113e0ca28b3",
     "grade": false,
     "grade_id": "cell-e769ce2938b44d22",
     "locked": true,
     "schema_version": 3,
     "solution": false,
     "task": false
    }
   },
   "source": [
    "Faites le même test avec la fonction `sqrt` du paquet `math` pour vous convaincre qu'aucun des deux algorithmes n'est celui qui est utilisé dans les programmes informatiques (pour les curieux l'algorithme utilisé est une variante de l'algorithme de Cordic, qui repose sur des maths et de l'info que vous n'avez pas encore vues) :\n",
    "\n",
    "[ au passage, notez comment on peut utiliser une fonction définie dans un paquet ]"
   ]
  },
  {
   "cell_type": "code",
   "execution_count": 14,
   "metadata": {
    "deletable": false,
    "editable": false,
    "nbgrader": {
     "cell_type": "code",
     "checksum": "1e9b3450af4110b7e58c034fe3b8c29b",
     "grade": false,
     "grade_id": "cell-53acd1344669a3d0",
     "locked": true,
     "schema_version": 3,
     "solution": false,
     "task": false
    }
   },
   "outputs": [
    {
     "name": "stdout",
     "output_type": "stream",
     "text": [
      "CPU times: user 16.7 ms, sys: 0 ns, total: 16.7 ms\n",
      "Wall time: 83.6 ms\n"
     ]
    }
   ],
   "source": [
    "%%time\n",
    "import math\n",
    "\n",
    "x = 43432\n",
    "for i in range(100000):     # on fait 100000 essais\n",
    "    math.sqrt(x)"
   ]
  },
  {
   "cell_type": "markdown",
   "metadata": {
    "deletable": false,
    "editable": false,
    "nbgrader": {
     "cell_type": "markdown",
     "checksum": "5837d43af0d4392e94fd7e4d6a6b7d9a",
     "grade": false,
     "grade_id": "cell-f60c7ff68046ec33",
     "locked": true,
     "schema_version": 3,
     "solution": false,
     "task": false
    }
   },
   "source": [
    "Rendez votre devoir en passant par la page \"Assignments\"."
   ]
  },
  {
   "cell_type": "markdown",
   "metadata": {
    "deletable": false,
    "editable": false,
    "nbgrader": {
     "cell_type": "markdown",
     "checksum": "3d3ff95246a97ac9630402c9076b9302",
     "grade": false,
     "grade_id": "cell-72e74fe81895b011",
     "locked": true,
     "schema_version": 3,
     "solution": false,
     "task": false
    }
   },
   "source": [
    "<div class=\"alert alert-success\">\n",
    "    <h2>Les points à retenir</h2>\n",
    "\n",
    "* on ne teste jamais si deux flottants sont égaux ou pas : on teste s'ils sont suffisamment proches pour qu'on puisse les considérer comme égaux, ou suffisamment éloignés pour qu'on puisse les considérer comme différents;\n",
    "* toute fonction doit être commentée par une chaîne de caractères juste avant qui\n",
    "  * résume ce que fait la fonction\n",
    "  * donne les types et rôles des paramètres\n",
    "  * donne le type et la signification de la valeur de retour (s'il y en a une)\n",
    "* principe de la dichotomie : on a un ensemble ordonné de valeurs candidates, on regarde si celle du milieu est la bonne, sinon on regarde dans la bonne moitié\n",
    "* syntaxe et comportement de `if` et `if ... else`\n",
    "* syntaxe et comportement de `while`\n",
    "* pour utiliser la fonction `f` définie dans le paquet `paq`, on peut écrire `import paq` (au début du programme) puis invoquer `f` par `paq.f`\n",
    "</div>"
   ]
  }
 ],
 "metadata": {
  "kernelspec": {
   "display_name": "Python 3 (ipykernel)",
   "language": "python",
   "name": "python3"
  },
  "language_info": {
   "codemirror_mode": {
    "name": "ipython",
    "version": 3
   },
   "file_extension": ".py",
   "mimetype": "text/x-python",
   "name": "python",
   "nbconvert_exporter": "python",
   "pygments_lexer": "ipython3",
   "version": "3.7.3"
  }
 },
 "nbformat": 4,
 "nbformat_minor": 1
}
