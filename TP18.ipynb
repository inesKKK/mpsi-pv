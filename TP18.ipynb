{
 "cells": [
  {
   "cell_type": "markdown",
   "id": "d5d29c84-aeac-40d8-98a8-99cb3870be2d",
   "metadata": {
    "nbgrader": {
     "grade": false,
     "grade_id": "cell-b6ca65405898c247",
     "locked": true,
     "schema_version": 3,
     "solution": false,
     "task": false
    }
   },
   "source": [
    "# TP18 : Analyse de données météorologiques\n",
    "\n",
    "Ce TP est fortement inspiré d'un TP de Guillaume Dewaele que je remercie pour son partage.\n",
    "\n",
    "Pour ce TP, vous disposez de trois fichiers. Chacun de ces fichiers contient une valeur par ligne, sous forme de flottants, et correspond à des mesures de températures ou de précipitations sur une année non bissextile:\n",
    "\n",
    "* `temp-jour.dat` contenant les températures maximales en journée (une ligne par date du 1er janvier au 31 décembre, soit 365 lignes),\n",
    "* `temp-nuit.dat` contenant les températures maximales de nuit (une ligne par date du 1er janvier au 30 décembre, soit 364 lignes; il n'y a pas de température pour la nuit du 31 décembre au 1er janvier),\n",
    "* `precipitations.dat` contenant les précipitations par jour en mm (365 lignes).\n",
    "\n",
    "Pour rappel, la lecture dans un fichier permet d'obtenir des chaînes de caractères. On peut convertir une chaîne de caractères qui représente un flottant en valeur de type `float` de la façon suivante:\n",
    "```python\n",
    "nombre = float(chaine)\n",
    "```"
   ]
  },
  {
   "cell_type": "markdown",
   "id": "d5e9d940-2247-4ec5-99f9-2e929f7376a0",
   "metadata": {
    "nbgrader": {
     "grade": false,
     "grade_id": "cell-d536bc0dba8f38dc",
     "locked": true,
     "schema_version": 3,
     "solution": false,
     "task": false
    }
   },
   "source": [
    "### Exercice 1 : récupérer les valeurs des fichiers\n",
    "Écrire et documenter une fonction `get_values` qui prend en argument un nom de fichier supposé contenir une représentation de flottant sur chaque ligne et qui renvoie une liste contenant ces flottants dans l'ordre.\n",
    "Créer trois listes `TJ`, `TN` et `P` qui contiendront respectivement dans l'ordre les températures de jour, de nuit et les précipitations, en allant lire les données dans les fichiers correspondants."
   ]
  },
  {
   "cell_type": "code",
   "execution_count": 1,
   "id": "d649d0bd",
   "metadata": {
    "nbgrader": {
     "grade": false,
     "grade_id": "cell-e0663c0503e75b1d",
     "locked": false,
     "schema_version": 3,
     "solution": true,
     "task": false
    }
   },
   "outputs": [],
   "source": [
    "###BEGIN SOLUTION\n",
    "def get_values(fichier):\n",
    "    L = []\n",
    "    f = open(fichier)\n",
    "    for ligne in f.readlines():\n",
    "        L.append(float(ligne))\n",
    "    f.close()\n",
    "    return L\n",
    "###END SOLUTION"
   ]
  },
  {
   "cell_type": "markdown",
   "id": "a037b1fa",
   "metadata": {
    "nbgrader": {
     "grade": false,
     "grade_id": "cell-e63e433ee2a64e31",
     "locked": true,
     "schema_version": 3,
     "solution": false,
     "task": false
    }
   },
   "source": [
    "À vous d'ajouter des tests avec les fichiers mis à votre disposition:"
   ]
  },
  {
   "cell_type": "code",
   "execution_count": null,
   "id": "5409d7f9",
   "metadata": {},
   "outputs": [],
   "source": []
  },
  {
   "cell_type": "code",
   "execution_count": 2,
   "id": "502de51e",
   "metadata": {
    "nbgrader": {
     "grade": true,
     "grade_id": "cell-960a4b27181a3079",
     "locked": true,
     "points": 2,
     "schema_version": 3,
     "solution": false,
     "task": false
    }
   },
   "outputs": [],
   "source": [
    "# case pour la correction\n",
    "###BEGIN HIDDEN TESTS\n",
    "t = get_values('temp-jour.dat')\n",
    "assert (len(t) == 365)\n",
    "assert (t[0] == -4.2)\n",
    "assert (t[364] == 3.0)\n",
    "assert (t[175] == 33.9)\n",
    "###END HIDDEN TESTS"
   ]
  },
  {
   "cell_type": "markdown",
   "id": "da222f12",
   "metadata": {
    "nbgrader": {
     "grade": false,
     "grade_id": "cell-b0b418a73da6dbeb",
     "locked": true,
     "schema_version": 3,
     "solution": false,
     "task": false
    }
   },
   "source": [
    "On crée maintenant les listes correspondant aux températures diurnes, aux températures nocturnes et aux précipitations:"
   ]
  },
  {
   "cell_type": "code",
   "execution_count": 3,
   "id": "0cb6494c",
   "metadata": {
    "nbgrader": {
     "grade": false,
     "grade_id": "cell-f769f6944e1273ff",
     "locked": true,
     "schema_version": 3,
     "solution": false,
     "task": false
    }
   },
   "outputs": [],
   "source": [
    "TJ = get_values('temp-jour.dat')\n",
    "TN = get_values('temp-nuit.dat')\n",
    "P = get_values('precipitations.dat')"
   ]
  },
  {
   "cell_type": "markdown",
   "id": "1467cbe9",
   "metadata": {
    "nbgrader": {
     "grade": false,
     "grade_id": "cell-8bc9e110ba756747",
     "locked": true,
     "schema_version": 3,
     "solution": false,
     "task": false
    }
   },
   "source": [
    "### Exercice 2 : afficher les courbes de température\n",
    "Pour afficher les courbes de température, nous allons utiliser des fonctions de du module `matplotlib.pyplot`. Il faut donc importer ce module. Comme le nom est un peu long, on va créer un alias plus court:"
   ]
  },
  {
   "cell_type": "code",
   "execution_count": 4,
   "id": "d6311f61",
   "metadata": {
    "nbgrader": {
     "grade": false,
     "grade_id": "cell-580a1734fdfa2537",
     "locked": true,
     "schema_version": 3,
     "solution": false,
     "task": false
    }
   },
   "outputs": [],
   "source": [
    "import matplotlib.pyplot as plt # si ça ne fonctionne pas, retournez au TP de Noel pour installer ce qu'il faut"
   ]
  },
  {
   "cell_type": "markdown",
   "id": "91e23d47",
   "metadata": {
    "nbgrader": {
     "grade": false,
     "grade_id": "cell-b76927dbdb16d872",
     "locked": true,
     "schema_version": 3,
     "solution": false,
     "task": false
    }
   },
   "source": [
    "Vous pouvez maintenant utiliser `plt` à la place de `matplotlib.pyplot`. Utiliser la fonction `plot` pour dessiner les courbes de températures sur l'année. Cette fonction prend en premier argument une liste de nombres et peut prendre en deuxième argument un format d'affichage sous la forme d'une chaîne de caractères de longueur 2:\n",
    "* le premier pour la couleur (`b` pour **b**lue, `r` pour **r**ed, `k` pour blac**k**, `g` pour **g**reen, etc.),\n",
    "* le deuxième pour le type d'affichage(`o` pour des gros points, `.` pour des petits points,`x` pour des croix, `+` pour des plus, `-` pour des lignes, etc.)."
   ]
  },
  {
   "cell_type": "markdown",
   "id": "f46012de",
   "metadata": {
    "nbgrader": {
     "grade": false,
     "grade_id": "cell-81fcc5ea7f5bb1d0",
     "locked": true,
     "schema_version": 3,
     "solution": false,
     "task": false
    }
   },
   "source": [
    "Afficher les courbes de températures diurnes (en rouge) et nocture (en bleu)."
   ]
  },
  {
   "cell_type": "code",
   "execution_count": 5,
   "id": "7486d2fb",
   "metadata": {
    "nbgrader": {
     "grade": true,
     "grade_id": "cell-6f6b6e74a9459fb4",
     "locked": false,
     "points": 2,
     "schema_version": 3,
     "solution": true,
     "task": false
    }
   },
   "outputs": [
    {
     "data": {
      "text/plain": [
       "[<matplotlib.lines.Line2D at 0x7f921dc852b0>]"
      ]
     },
     "execution_count": 5,
     "metadata": {},
     "output_type": "execute_result"
    },
    {
     "data": {
      "image/png": "[encoded data removed]",
      "text/plain": [
       "<Figure size 432x288 with 1 Axes>"
      ]
     },
     "metadata": {
      "needs_background": "light"
     },
     "output_type": "display_data"
    }
   ],
   "source": [
    "###BEGIN SOLUTION\n",
    "plt.plot(TJ,\"r\")\n",
    "plt.plot(TN, \"b-\")\n",
    "###END SOLUTION"
   ]
  },
  {
   "cell_type": "markdown",
   "id": "c28baebf",
   "metadata": {
    "nbgrader": {
     "grade": false,
     "grade_id": "cell-e1475377e61f57c2",
     "locked": true,
     "schema_version": 3,
     "solution": false,
     "task": false
    }
   },
   "source": [
    "### Exercice 3 : obtenir un jour à partir d'un indice\n",
    "L'année des mesures commence un lundi. Et vos tableaux de mesure contiennent une case par journée. On voudrait pourvoir identifier la date à partir de l'indice. Pour cela, on dispose des données suivantes (on peut accéder à une composante d'un couple avec la même notation que pour les cases d'une liste):"
   ]
  },
  {
   "cell_type": "code",
   "execution_count": 6,
   "id": "077b2d7c",
   "metadata": {
    "nbgrader": {
     "grade": false,
     "grade_id": "cell-b814a5be5fdebf54",
     "locked": true,
     "schema_version": 3,
     "solution": false,
     "task": false
    }
   },
   "outputs": [],
   "source": [
    "jours = ['lundi', 'mardi', 'mercredi', 'jeudi', 'vendredi', 'samedi', 'dimanche']\n",
    "mois = [ {'nom': 'janvier', 'len': 31},\n",
    "     {'nom': 'février', 'len': 28},\n",
    "     {'nom': 'mars', 'len': 31},\n",
    "     {'nom': 'avril', 'len': 30},\n",
    "     {'nom': 'mai', 'len': 31},\n",
    "     {'nom': 'juin', 'len': 30},\n",
    "     {'nom': 'juillet', 'len': 31},\n",
    "     {'nom': 'août', 'len': 31},\n",
    "     {'nom': 'septembre', 'len': 30},\n",
    "     {'nom': 'octobre', 'len': 31},\n",
    "     {'nom': 'novembre', 'len': 30},\n",
    "     {'nom': 'décembre', 'len': 31} ]"
   ]
  },
  {
   "cell_type": "markdown",
   "id": "b9697145",
   "metadata": {
    "nbgrader": {
     "grade": false,
     "grade_id": "cell-24ae08c0fb6add0a",
     "locked": true,
     "schema_version": 3,
     "solution": false,
     "task": false
    }
   },
   "source": [
    "Écrire et documenter une fonction `date` qui prend en argument un entier supposé compris entre 0 et 364 et renvoie le jour correspondant sous forme de chaîne de caractère (0 donne `\"lundi 1 janvier\"`)."
   ]
  },
  {
   "cell_type": "code",
   "execution_count": 7,
   "id": "ef2cc877",
   "metadata": {
    "nbgrader": {
     "grade": false,
     "grade_id": "cell-304bef69bccc45a8",
     "locked": false,
     "schema_version": 3,
     "solution": true,
     "task": false
    }
   },
   "outputs": [],
   "source": [
    "###BEGIN SOLUTION\n",
    "def date(n):\n",
    "    assert(n>=0 and n<=364)\n",
    "    jj = jours[n % 7]\n",
    "    n = n+1\n",
    "    m = 0\n",
    "    le_mois = mois[m]\n",
    "    while le_mois['len'] < n:\n",
    "        n -= le_mois['len']\n",
    "        m += 1\n",
    "        le_mois = mois[m]\n",
    "    return jj + ' ' + str(n) + ' ' + le_mois['nom']\n",
    "###END SOLUTION"
   ]
  },
  {
   "cell_type": "markdown",
   "id": "806d9f45",
   "metadata": {
    "nbgrader": {
     "grade": false,
     "grade_id": "cell-35661ff36b9c8b70",
     "locked": true,
     "schema_version": 3,
     "solution": false,
     "task": false
    }
   },
   "source": [
    "Quelques dates pour vos tests:\n",
    "* 2 : mercredi 3 janvier\n",
    "* 180 : samedi 30 juin\n",
    "* 363 : dimanche 30 décembre"
   ]
  },
  {
   "cell_type": "code",
   "execution_count": null,
   "id": "d1618979",
   "metadata": {},
   "outputs": [],
   "source": []
  },
  {
   "cell_type": "code",
   "execution_count": 8,
   "id": "c9ff538d",
   "metadata": {
    "nbgrader": {
     "grade": true,
     "grade_id": "cell-cfa59d6583f6b99a",
     "locked": true,
     "points": 2,
     "schema_version": 3,
     "solution": false,
     "task": false
    }
   },
   "outputs": [],
   "source": [
    "# case pour la correction\n",
    "###BEGIN HIDDEN TESTS\n",
    "assert (date(0) == 'lundi 1 janvier')\n",
    "assert (date(181) == 'dimanche 1 juillet')\n",
    "###END HIDDEN TESTS"
   ]
  },
  {
   "cell_type": "markdown",
   "id": "d966161c",
   "metadata": {
    "nbgrader": {
     "grade": false,
     "grade_id": "cell-df204d4c15749b2a",
     "locked": true,
     "schema_version": 3,
     "solution": false,
     "task": false
    }
   },
   "source": [
    "### Exercice 4 : réciproque\n",
    "Écrire et documenter une fonction `indice` qui prend en argument un nombre et un nom de mois correspondant à une date et renvoie l'indice correspondant dans les listes `TJ`, `TN` et `P`. Par exemple `indice(1, 'janvier')` doit renvoyer 0.\n",
    "Un algorithme possible est d'ajouter les longueurs des mois jusqu'à tomber sur le mois recherché, puis de sortir de la boucle. Pour sortir d'une boucle lors d'une itération, on utilise le mot-clef `break`:"
   ]
  },
  {
   "cell_type": "code",
   "execution_count": 9,
   "id": "81355f0c",
   "metadata": {
    "nbgrader": {
     "grade": false,
     "grade_id": "cell-5d3c48d2f1d29c96",
     "locked": true,
     "schema_version": 3,
     "solution": false,
     "task": false
    }
   },
   "outputs": [
    {
     "name": "stdout",
     "output_type": "stream",
     "text": [
      "0\n",
      "1\n",
      "2\n",
      "3\n",
      "4\n",
      "toto\n"
     ]
    }
   ],
   "source": [
    "for i in range(20):\n",
    "    if i < 5:\n",
    "        print(i)\n",
    "    else:\n",
    "        break\n",
    "print('toto')"
   ]
  },
  {
   "cell_type": "code",
   "execution_count": 10,
   "id": "ce51d933",
   "metadata": {
    "nbgrader": {
     "grade": false,
     "grade_id": "cell-d0635a1baea70c87",
     "locked": false,
     "schema_version": 3,
     "solution": true,
     "task": false
    }
   },
   "outputs": [],
   "source": [
    "###BEGIN SOLUTION\n",
    "def indice(jour, le_mois):\n",
    "    n = 0\n",
    "    for m in mois:\n",
    "        if m['nom'] != le_mois:\n",
    "            n += m['len']\n",
    "        else:\n",
    "            break\n",
    "    return n + jour - 1\n",
    "###END SOLUTION"
   ]
  },
  {
   "cell_type": "code",
   "execution_count": null,
   "id": "139610bd",
   "metadata": {},
   "outputs": [],
   "source": []
  },
  {
   "cell_type": "code",
   "execution_count": 11,
   "id": "15bc2317",
   "metadata": {
    "nbgrader": {
     "grade": true,
     "grade_id": "cell-54b7d88358e9bd0b",
     "locked": true,
     "points": 2,
     "schema_version": 3,
     "solution": false,
     "task": false
    }
   },
   "outputs": [],
   "source": [
    "# case pour la correction\n",
    "###BEGIN HIDDEN TESTS\n",
    "assert (indice(1, 'janvier') == 0)\n",
    "assert (indice(30, 'juin') == 180)\n",
    "assert (indice(1, 'juillet') == 181)\n",
    "###END HIDDEN TESTS"
   ]
  },
  {
   "cell_type": "markdown",
   "id": "0d34fa88",
   "metadata": {
    "nbgrader": {
     "grade": false,
     "grade_id": "cell-3ddbba09482f0331",
     "locked": true,
     "schema_version": 3,
     "solution": false,
     "task": false
    }
   },
   "source": [
    "### Exercice 5 : récupérer de l'information\n",
    "Pour chacune des questions qui suit, vous devez mettre la réponse dans une variable qui est spécifiée. Il s'agit bien entendu de déterminer la réponse en programmant, pas en regardant les données. Les jours sont à donner sous forme de chaîne de caractères, les températures sous formes de flottants, les décomptes sous forme d'entiers.\n",
    "\n",
    "1. Déterminer le jour le plus chaud de l'année (variable `J1`) et la température correspondante (`T1`).\n",
    "2. Déterminer, de même, la nuit la plus froide (`N2`) et la température correspondante (`T2`). \n",
    "3. Quelle est la plus chaude journée durant laquelle il a plu (`J3`) ? \n",
    "4. Quelle est la plus froide journée sèche (on parle des températures de jour ici) (`J4`) ?\n",
    "5. Quelle est la moyenne des températures *diurnes* pendant l'été (entre le 21 juin inclus et le 21 septembre exclu) (`T5`)? \n",
    "6. Combien de nuits ont eu du gel (température nocturne strictement inférieure à 0) (`N6`)? \n",
    "7. Quel est le jour pour lequel l'écart entre la température du jour et de la nuit *qui a suivi* (donc portant le même indice) a été le plus important (`J7`) ?\n",
    "8. Quels sont les deux jours consécutifs pour lesquels la différence de température diurne est maximale (`J8a` puis `J8b`) ? "
   ]
  },
  {
   "cell_type": "code",
   "execution_count": 12,
   "id": "970c1e79-5de6-4ddc-beb2-e2bcfd538367",
   "metadata": {
    "nbgrader": {
     "grade": false,
     "grade_id": "cell-fc58440fd3e83480",
     "locked": false,
     "schema_version": 3,
     "solution": true,
     "task": false
    }
   },
   "outputs": [],
   "source": [
    "###BEGIN SOLUTION\n",
    "i = 0\n",
    "for j in range(1, len(TJ)):\n",
    "    if TJ[j] > TJ[i]:\n",
    "        i = j\n",
    "j1 = date(i)\n",
    "t1 = TJ[i]\n",
    "\n",
    "i = 0\n",
    "for j in range(1, len(TJ)):\n",
    "    if TJ[j] < TJ[i]:\n",
    "        i = j\n",
    "n2 = date(i)\n",
    "t2 = TJ[i]\n",
    "\n",
    "i = 0\n",
    "for j in range(1, len(TJ)):\n",
    "    if (TJ[j] > TJ[i] and P[j] > 0) or TJ[i] == 0:\n",
    "        i = j\n",
    "j3 = date(i)\n",
    "\n",
    "i = 0\n",
    "for j in range(1, len(TJ)):\n",
    "    if (TJ[j] < TJ[i] and P[j] == 0) or TJ[i] > 0:\n",
    "        i = j\n",
    "j4 = date(i)\n",
    "\n",
    "ete = TJ[indice(21, 'juin'):indice(21, 'septembre')]\n",
    "t5 = sum(ete)/len(ete)\n",
    "\n",
    "n6 = len([ t for t in TN if t < 0 ])\n",
    "\n",
    "i = 0\n",
    "for j in range(1, len(TN)):\n",
    "    if abs(TN[j]-TJ[j]) > abs(TN[i]-TJ[i]):\n",
    "        i = j\n",
    "j7 = date(i)\n",
    "\n",
    "i = 0\n",
    "for j in range(1, len(TJ)-1):\n",
    "    if abs(TJ[j+1]-TJ[j]) > abs(TJ[i+1]-TJ[i]):\n",
    "        i = j\n",
    "j8a = date(i)\n",
    "j8b = date(i+1)\n",
    "\n",
    "J1 = j1; T1 = t1\n",
    "N2 = n2; T2 = t2\n",
    "J3 = j3\n",
    "J4 = j4\n",
    "T5 = t5\n",
    "N6 = n6\n",
    "J7 = j7\n",
    "J8a = j8a\n",
    "J8b = j8b\n",
    "###END SOLUTION"
   ]
  },
  {
   "cell_type": "code",
   "execution_count": 13,
   "id": "065341fd",
   "metadata": {
    "nbgrader": {
     "grade": true,
     "grade_id": "cell-4ab8cdd034bb1bad",
     "locked": true,
     "points": 10,
     "schema_version": 3,
     "solution": false,
     "task": false
    }
   },
   "outputs": [],
   "source": [
    "# case pour la correction\n",
    "###BEGIN HIDDEN TESTS\n",
    "assert (j1 == J1); assert (t1 == T1)\n",
    "assert (n2 == N2); assert (t2 == T2)\n",
    "assert (j3 == J3)\n",
    "assert (j4 == J4)\n",
    "assert (t5 == T5)\n",
    "assert (n6 == N6)\n",
    "assert (j7 == J7)\n",
    "assert (j8a == J8a); assert (j8b == J8b)\n",
    "###END HIDDEN TESTS"
   ]
  },
  {
   "cell_type": "markdown",
   "id": "f7b4264d",
   "metadata": {
    "nbgrader": {
     "grade": false,
     "grade_id": "cell-a4baf42a16fbf298",
     "locked": true,
     "schema_version": 3,
     "solution": false,
     "task": false
    }
   },
   "source": [
    "### Exercice 6 : plus difficile\n",
    "\n",
    "9. Quelle est la plus longue période de jours consécutifs sans pluie (quand commence-t-elle (`J9`) ? combien de jours dure-t-elle (`N9`) ?)\n",
    "10. Une *canicule* est une succession d'au moins trois jours où la température diurne est supérieure ou égale à 37°C et où elle ne descend pas strictement en-dessous de 25°C la nuit. Déterminer le nombre de canicules éventuelles sur cette période (`N10`)."
   ]
  },
  {
   "cell_type": "code",
   "execution_count": 21,
   "id": "405b425c",
   "metadata": {
    "nbgrader": {
     "grade": false,
     "grade_id": "cell-13729d6907ac268c",
     "locked": false,
     "schema_version": 3,
     "solution": true,
     "task": false
    }
   },
   "outputs": [],
   "source": [
    "###BEGIN SOLUTION\n",
    "def sans_pluie(n):\n",
    "    d = 0\n",
    "    for i in range(n, len(P)):\n",
    "        if P[i] == 0:\n",
    "            d += 1\n",
    "        else:\n",
    "            break\n",
    "    return d\n",
    "\n",
    "i = 0\n",
    "while P[i] > 0:\n",
    "    i += 1\n",
    "d = sans_pluie(i)\n",
    "j = i + d\n",
    "while j < len(P):\n",
    "    dj = sans_pluie(j)\n",
    "    if dj > d:\n",
    "        i = j\n",
    "        d = dj\n",
    "    j += dj+1\n",
    "j9 = date(i)\n",
    "n9 = d\n",
    "\n",
    "\n",
    "def canicule(n):\n",
    "    d = 0\n",
    "    for i in range(n, len(TN)):\n",
    "        if TJ[i] >= 37 and TN[i] >= 25:\n",
    "            d += 1\n",
    "        else:\n",
    "            break\n",
    "    if d >= 3:\n",
    "        return (True, d)\n",
    "    else:\n",
    "        return (False, d)\n",
    "n = 0\n",
    "j = 0\n",
    "while j < len(TN):\n",
    "    cj = canicule(j)\n",
    "    if cj[0]:\n",
    "        n += 1\n",
    "    j += cj[1]+1\n",
    "n10 = n\n",
    "    \n",
    "J9 = j9; N9 = n9\n",
    "N10 = n10\n",
    "###END SOLUTION"
   ]
  },
  {
   "cell_type": "code",
   "execution_count": null,
   "id": "ef91eb26",
   "metadata": {},
   "outputs": [],
   "source": []
  },
  {
   "cell_type": "code",
   "execution_count": 24,
   "id": "7825e44f",
   "metadata": {
    "nbgrader": {
     "grade": true,
     "grade_id": "cell-81fd6749c518d51e",
     "locked": true,
     "points": 4,
     "schema_version": 3,
     "solution": false,
     "task": false
    }
   },
   "outputs": [],
   "source": [
    "# case pour la correction\n",
    "###BEGIN HIDDEN TESTS\n",
    "assert (J9 == j9); assert (N9 == n9)\n",
    "assert (N10 == n10)\n",
    "###END HIDDEN TESTS"
   ]
  },
  {
   "cell_type": "markdown",
   "id": "286ceb3e",
   "metadata": {
    "nbgrader": {
     "grade": false,
     "grade_id": "cell-b25a4725315daff6",
     "locked": true,
     "schema_version": 3,
     "solution": false,
     "task": false
    }
   },
   "source": [
    "<div class=\"alert alert-success\">\n",
    "    <h2>Les points à retenir</h2>\n",
    "    \n",
    "* on peut convertir une chaîne de caractère en flottant avec `float(chaine)` (si ça a un sens),\n",
    "* on peut créer un alias sur un module avec le mot-clef `as`,\n",
    "* `break` pour sortir d'une boucle.\n",
    "</div>"
   ]
  }
 ],
 "metadata": {
  "celltoolbar": "Create Assignment",
  "kernelspec": {
   "display_name": "Python 3 (ipykernel)",
   "language": "python",
   "name": "python3"
  },
  "language_info": {
   "codemirror_mode": {
    "name": "ipython",
    "version": 3
   },
   "file_extension": ".py",
   "mimetype": "text/x-python",
   "name": "python",
   "nbconvert_exporter": "python",
   "pygments_lexer": "ipython3",
   "version": "3.7.3"
  }
 },
 "nbformat": 4,
 "nbformat_minor": 5
}
