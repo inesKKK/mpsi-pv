{
 "cells": [
  {
   "cell_type": "markdown",
   "id": "8f766959",
   "metadata": {},
   "source": [
    "# ITC - MPSI\n",
    "---"
   ]
  },
  {
   "cell_type": "markdown",
   "id": "d5d29c84-aeac-40d8-98a8-99cb3870be2d",
   "metadata": {
    "deletable": false,
    "editable": false,
    "nbgrader": {
     "cell_type": "markdown",
     "checksum": "95133c0f6640237ac972fa5bf9f2f84a",
     "grade": false,
     "grade_id": "cell-b6ca65405898c247",
     "locked": true,
     "schema_version": 3,
     "solution": false,
     "task": false
    }
   },
   "source": [
    "# TP18 : Analyse de données météorologiques\n",
    "\n",
    "Ce TP est fortement inspiré d'un TP de Guillaume Dewaele que je remercie pour son partage.\n",
    "\n",
    "Pour ce TP, vous disposez de trois fichiers. Chacun de ces fichiers contient une valeur par ligne, sous forme de flottants, et correspond à des mesures de températures ou de précipitations sur une année non bissextile:\n",
    "\n",
    "* `temp-jour.dat` contenant les températures maximales en journée (une ligne par date du 1er janvier au 31 décembre, soit 365 lignes),\n",
    "* `temp-nuit.dat` contenant les températures maximales de nuit (une ligne par date du 1er janvier au 30 décembre, soit 364 lignes; il n'y a pas de température pour la nuit du 31 décembre au 1er janvier),\n",
    "* `precipitations.dat` contenant les précipitations par jour en mm (365 lignes).\n",
    "\n",
    "Pour rappel, la lecture dans un fichier permet d'obtenir des chaînes de caractères. On peut convertir une chaîne de caractères qui représente un flottant en valeur de type `float` de la façon suivante:\n",
    "```python\n",
    "nombre = float(chaine)\n",
    "```"
   ]
  },
  {
   "cell_type": "markdown",
   "id": "d5e9d940-2247-4ec5-99f9-2e929f7376a0",
   "metadata": {
    "deletable": false,
    "editable": false,
    "nbgrader": {
     "cell_type": "markdown",
     "checksum": "f5912e479eb6a10cf0519d2fc3078bc2",
     "grade": false,
     "grade_id": "cell-d536bc0dba8f38dc",
     "locked": true,
     "schema_version": 3,
     "solution": false,
     "task": false
    }
   },
   "source": [
    "### Exercice 1 : récupérer les valeurs des fichiers\n",
    "Écrire et documenter une fonction `get_values` qui prend en argument un nom de fichier supposé contenir une représentation de flottant sur chaque ligne et qui renvoie une liste contenant ces flottants dans l'ordre.\n",
    "Créer trois listes `TJ`, `TN` et `P` qui contiendront respectivement dans l'ordre les températures de jour, de nuit et les précipitations, en allant lire les données dans les fichiers correspondants."
   ]
  },
  {
   "cell_type": "code",
   "execution_count": null,
   "id": "d649d0bd",
   "metadata": {
    "deletable": false,
    "nbgrader": {
     "cell_type": "code",
     "checksum": "b32fb62539bef07c07ecadb1c8af8b53",
     "grade": false,
     "grade_id": "cell-e0663c0503e75b1d",
     "locked": false,
     "schema_version": 3,
     "solution": true,
     "task": false
    }
   },
   "outputs": [],
   "source": [
    "# Écrire votre code ici\n",
    "raise NotImplementedError # effacer cette ligne une fois le code écrit"
   ]
  },
  {
   "cell_type": "markdown",
   "id": "a037b1fa",
   "metadata": {
    "deletable": false,
    "editable": false,
    "nbgrader": {
     "cell_type": "markdown",
     "checksum": "0aa43ece0e4f42cbd851b263e1b47661",
     "grade": false,
     "grade_id": "cell-e63e433ee2a64e31",
     "locked": true,
     "schema_version": 3,
     "solution": false,
     "task": false
    }
   },
   "source": [
    "À vous d'ajouter des tests avec les fichiers mis à votre disposition:"
   ]
  },
  {
   "cell_type": "code",
   "execution_count": null,
   "id": "5409d7f9",
   "metadata": {},
   "outputs": [],
   "source": []
  },
  {
   "cell_type": "code",
   "execution_count": null,
   "id": "502de51e",
   "metadata": {
    "deletable": false,
    "editable": false,
    "nbgrader": {
     "cell_type": "code",
     "checksum": "0e41580be18f4550999d8bf3999633df",
     "grade": true,
     "grade_id": "cell-960a4b27181a3079",
     "locked": true,
     "points": 2,
     "schema_version": 3,
     "solution": false,
     "task": false
    }
   },
   "outputs": [],
   "source": [
    "# case pour la correction"
   ]
  },
  {
   "cell_type": "markdown",
   "id": "da222f12",
   "metadata": {
    "deletable": false,
    "editable": false,
    "nbgrader": {
     "cell_type": "markdown",
     "checksum": "f2781585831b41fff5aa042548549bfb",
     "grade": false,
     "grade_id": "cell-b0b418a73da6dbeb",
     "locked": true,
     "schema_version": 3,
     "solution": false,
     "task": false
    }
   },
   "source": [
    "On crée maintenant les listes correspondant aux températures diurnes, aux températures nocturnes et aux précipitations:"
   ]
  },
  {
   "cell_type": "code",
   "execution_count": null,
   "id": "0cb6494c",
   "metadata": {
    "deletable": false,
    "editable": false,
    "nbgrader": {
     "cell_type": "code",
     "checksum": "a1d401f0cb5ebed086721f4dbbec2dfb",
     "grade": false,
     "grade_id": "cell-f769f6944e1273ff",
     "locked": true,
     "schema_version": 3,
     "solution": false,
     "task": false
    }
   },
   "outputs": [],
   "source": [
    "TJ = get_values('temp-jour.dat')\n",
    "TN = get_values('temp-nuit.dat')\n",
    "P = get_values('precipitations.dat')"
   ]
  },
  {
   "cell_type": "markdown",
   "id": "1467cbe9",
   "metadata": {
    "deletable": false,
    "editable": false,
    "nbgrader": {
     "cell_type": "markdown",
     "checksum": "853fa62490e3fb65f969eb045e757e67",
     "grade": false,
     "grade_id": "cell-8bc9e110ba756747",
     "locked": true,
     "schema_version": 3,
     "solution": false,
     "task": false
    }
   },
   "source": [
    "### Exercice 2 : afficher les courbes de température\n",
    "Pour afficher les courbes de température, nous allons utiliser des fonctions de du module `matplotlib.pyplot`. Il faut donc importer ce module. Comme le nom est un peu long, on va créer un alias plus court:"
   ]
  },
  {
   "cell_type": "code",
   "execution_count": null,
   "id": "d6311f61",
   "metadata": {
    "deletable": false,
    "editable": false,
    "nbgrader": {
     "cell_type": "code",
     "checksum": "57470936eca426344517e7f6698e5f68",
     "grade": false,
     "grade_id": "cell-580a1734fdfa2537",
     "locked": true,
     "schema_version": 3,
     "solution": false,
     "task": false
    }
   },
   "outputs": [],
   "source": [
    "import matplotlib.pyplot as plt # si ça ne fonctionne pas, retournez au TP de Noel pour installer ce qu'il faut"
   ]
  },
  {
   "cell_type": "markdown",
   "id": "91e23d47",
   "metadata": {
    "deletable": false,
    "editable": false,
    "nbgrader": {
     "cell_type": "markdown",
     "checksum": "e764696254c86e42d061704e57c8f291",
     "grade": false,
     "grade_id": "cell-b76927dbdb16d872",
     "locked": true,
     "schema_version": 3,
     "solution": false,
     "task": false
    }
   },
   "source": [
    "Vous pouvez maintenant utiliser `plt` à la place de `matplotlib.pyplot`. Utiliser la fonction `plot` pour dessiner les courbes de températures sur l'année. Cette fonction prend en premier argument une liste de nombres et peut prendre en deuxième argument un format d'affichage sous la forme d'une chaîne de caractères de longueur 2:\n",
    "* le premier pour la couleur (`b` pour **b**lue, `r` pour **r**ed, `k` pour blac**k**, `g` pour **g**reen, etc.),\n",
    "* le deuxième pour le type d'affichage(`o` pour des gros points, `.` pour des petits points,`x` pour des croix, `+` pour des plus, `-` pour des lignes, etc.)."
   ]
  },
  {
   "cell_type": "markdown",
   "id": "f46012de",
   "metadata": {
    "deletable": false,
    "editable": false,
    "nbgrader": {
     "cell_type": "markdown",
     "checksum": "c32af60cc0b6e44c7bb723358054c10d",
     "grade": false,
     "grade_id": "cell-81fcc5ea7f5bb1d0",
     "locked": true,
     "schema_version": 3,
     "solution": false,
     "task": false
    }
   },
   "source": [
    "Afficher les courbes de températures diurnes (en rouge) et nocture (en bleu)."
   ]
  },
  {
   "cell_type": "code",
   "execution_count": null,
   "id": "7486d2fb",
   "metadata": {
    "deletable": false,
    "nbgrader": {
     "cell_type": "code",
     "checksum": "0185055580dc958dd4ec6cf9a4a8b04f",
     "grade": true,
     "grade_id": "cell-6f6b6e74a9459fb4",
     "locked": false,
     "points": 2,
     "schema_version": 3,
     "solution": true,
     "task": false
    }
   },
   "outputs": [],
   "source": [
    "# Écrire votre code ici\n",
    "raise NotImplementedError # effacer cette ligne une fois le code écrit"
   ]
  },
  {
   "cell_type": "markdown",
   "id": "c28baebf",
   "metadata": {
    "deletable": false,
    "editable": false,
    "nbgrader": {
     "cell_type": "markdown",
     "checksum": "b46e263bbe98f30d2292b7e08b4b14cb",
     "grade": false,
     "grade_id": "cell-e1475377e61f57c2",
     "locked": true,
     "schema_version": 3,
     "solution": false,
     "task": false
    }
   },
   "source": [
    "### Exercice 3 : obtenir un jour à partir d'un indice\n",
    "L'année des mesures commence un lundi. Et vos tableaux de mesure contiennent une case par journée. On voudrait pourvoir identifier la date à partir de l'indice. Pour cela, on dispose des données suivantes (on peut accéder à une composante d'un couple avec la même notation que pour les cases d'une liste):"
   ]
  },
  {
   "cell_type": "code",
   "execution_count": null,
   "id": "077b2d7c",
   "metadata": {
    "deletable": false,
    "editable": false,
    "nbgrader": {
     "cell_type": "code",
     "checksum": "f7c9a1910766349e1a8742e2c206d7a0",
     "grade": false,
     "grade_id": "cell-b814a5be5fdebf54",
     "locked": true,
     "schema_version": 3,
     "solution": false,
     "task": false
    }
   },
   "outputs": [],
   "source": [
    "jours = ['lundi', 'mardi', 'mercredi', 'jeudi', 'vendredi', 'samedi', 'dimanche']\n",
    "mois = [ {'nom': 'janvier', 'len': 31},\n",
    "     {'nom': 'février', 'len': 28},\n",
    "     {'nom': 'mars', 'len': 31},\n",
    "     {'nom': 'avril', 'len': 30},\n",
    "     {'nom': 'mai', 'len': 31},\n",
    "     {'nom': 'juin', 'len': 30},\n",
    "     {'nom': 'juillet', 'len': 31},\n",
    "     {'nom': 'août', 'len': 31},\n",
    "     {'nom': 'septembre', 'len': 30},\n",
    "     {'nom': 'octobre', 'len': 31},\n",
    "     {'nom': 'novembre', 'len': 30},\n",
    "     {'nom': 'décembre', 'len': 31} ]"
   ]
  },
  {
   "cell_type": "markdown",
   "id": "b9697145",
   "metadata": {
    "deletable": false,
    "editable": false,
    "nbgrader": {
     "cell_type": "markdown",
     "checksum": "b91be4259e01a69f05de73967d9aec3e",
     "grade": false,
     "grade_id": "cell-24ae08c0fb6add0a",
     "locked": true,
     "schema_version": 3,
     "solution": false,
     "task": false
    }
   },
   "source": [
    "Écrire et documenter une fonction `date` qui prend en argument un entier supposé compris entre 0 et 364 et renvoie le jour correspondant sous forme de chaîne de caractère (0 donne `\"lundi 1 janvier\"`)."
   ]
  },
  {
   "cell_type": "code",
   "execution_count": null,
   "id": "ef2cc877",
   "metadata": {
    "deletable": false,
    "nbgrader": {
     "cell_type": "code",
     "checksum": "90eec6522226530b9d84ed2c3412ee56",
     "grade": false,
     "grade_id": "cell-304bef69bccc45a8",
     "locked": false,
     "schema_version": 3,
     "solution": true,
     "task": false
    }
   },
   "outputs": [],
   "source": [
    "# Écrire votre code ici\n",
    "raise NotImplementedError # effacer cette ligne une fois le code écrit"
   ]
  },
  {
   "cell_type": "markdown",
   "id": "806d9f45",
   "metadata": {
    "deletable": false,
    "editable": false,
    "nbgrader": {
     "cell_type": "markdown",
     "checksum": "0d8481f485b6d2d736563426b9e26631",
     "grade": false,
     "grade_id": "cell-35661ff36b9c8b70",
     "locked": true,
     "schema_version": 3,
     "solution": false,
     "task": false
    }
   },
   "source": [
    "Quelques dates pour vos tests:\n",
    "* 2 : mercredi 3 janvier\n",
    "* 180 : samedi 30 juin\n",
    "* 363 : dimanche 30 décembre"
   ]
  },
  {
   "cell_type": "code",
   "execution_count": null,
   "id": "d1618979",
   "metadata": {},
   "outputs": [],
   "source": []
  },
  {
   "cell_type": "code",
   "execution_count": null,
   "id": "c9ff538d",
   "metadata": {
    "deletable": false,
    "editable": false,
    "nbgrader": {
     "cell_type": "code",
     "checksum": "fda659c079086377f93ac4bff88922e6",
     "grade": true,
     "grade_id": "cell-cfa59d6583f6b99a",
     "locked": true,
     "points": 2,
     "schema_version": 3,
     "solution": false,
     "task": false
    }
   },
   "outputs": [],
   "source": [
    "# case pour la correction"
   ]
  },
  {
   "cell_type": "markdown",
   "id": "d966161c",
   "metadata": {
    "deletable": false,
    "editable": false,
    "nbgrader": {
     "cell_type": "markdown",
     "checksum": "e2be8a6bf380f9612c70ce331fb5a24f",
     "grade": false,
     "grade_id": "cell-df204d4c15749b2a",
     "locked": true,
     "schema_version": 3,
     "solution": false,
     "task": false
    }
   },
   "source": [
    "### Exercice 4 : réciproque\n",
    "Écrire et documenter une fonction `indice` qui prend en argument un nombre et un nom de mois correspondant à une date et renvoie l'indice correspondant dans les listes `TJ`, `TN` et `P`. Par exemple `indice(1, 'janvier')` doit renvoyer 0.\n",
    "Un algorithme possible est d'ajouter les longueurs des mois jusqu'à tomber sur le mois recherché, puis de sortir de la boucle. Pour sortir d'une boucle lors d'une itération, on utilise le mot-clef `break`:"
   ]
  },
  {
   "cell_type": "code",
   "execution_count": null,
   "id": "81355f0c",
   "metadata": {
    "deletable": false,
    "editable": false,
    "nbgrader": {
     "cell_type": "code",
     "checksum": "50e292987054e8aa2041fa5c5a13672e",
     "grade": false,
     "grade_id": "cell-5d3c48d2f1d29c96",
     "locked": true,
     "schema_version": 3,
     "solution": false,
     "task": false
    }
   },
   "outputs": [],
   "source": [
    "for i in range(20):\n",
    "    if i < 5:\n",
    "        print(i)\n",
    "    else:\n",
    "        break\n",
    "print('toto')"
   ]
  },
  {
   "cell_type": "code",
   "execution_count": null,
   "id": "ce51d933",
   "metadata": {
    "deletable": false,
    "nbgrader": {
     "cell_type": "code",
     "checksum": "1e4ba59fb11d4bbcda46bf5c854b0b0b",
     "grade": false,
     "grade_id": "cell-d0635a1baea70c87",
     "locked": false,
     "schema_version": 3,
     "solution": true,
     "task": false
    }
   },
   "outputs": [],
   "source": [
    "# Écrire votre code ici\n",
    "raise NotImplementedError # effacer cette ligne une fois le code écrit"
   ]
  },
  {
   "cell_type": "code",
   "execution_count": null,
   "id": "139610bd",
   "metadata": {},
   "outputs": [],
   "source": []
  },
  {
   "cell_type": "code",
   "execution_count": null,
   "id": "15bc2317",
   "metadata": {
    "deletable": false,
    "editable": false,
    "nbgrader": {
     "cell_type": "code",
     "checksum": "183379410385bb551c50bf6280cda65c",
     "grade": true,
     "grade_id": "cell-54b7d88358e9bd0b",
     "locked": true,
     "points": 2,
     "schema_version": 3,
     "solution": false,
     "task": false
    }
   },
   "outputs": [],
   "source": [
    "# case pour la correction"
   ]
  },
  {
   "cell_type": "markdown",
   "id": "0d34fa88",
   "metadata": {
    "deletable": false,
    "editable": false,
    "nbgrader": {
     "cell_type": "markdown",
     "checksum": "52a8f80d47d5b97afb283e8dcf761768",
     "grade": false,
     "grade_id": "cell-3ddbba09482f0331",
     "locked": true,
     "schema_version": 3,
     "solution": false,
     "task": false
    }
   },
   "source": [
    "### Exercice 5 : récupérer de l'information\n",
    "Pour chacune des questions qui suit, vous devez mettre la réponse dans une variable qui est spécifiée. Il s'agit bien entendu de déterminer la réponse en programmant, pas en regardant les données. Les jours sont à donner sous forme de chaîne de caractères, les températures sous formes de flottants, les décomptes sous forme d'entiers.\n",
    "\n",
    "1. Déterminer le jour le plus chaud de l'année (variable `J1`) et la température correspondante (`T1`).\n",
    "2. Déterminer, de même, la nuit la plus froide (`N2`) et la température correspondante (`T2`). \n",
    "3. Quelle est la plus chaude journée durant laquelle il a plu (`J3`) ? \n",
    "4. Quelle est la plus froide journée sèche (on parle des températures de jour ici) (`J4`) ?\n",
    "5. Quelle est la moyenne des températures *diurnes* pendant l'été (entre le 21 juin inclus et le 21 septembre exclu) (`T5`)? \n",
    "6. Combien de nuits ont eu du gel (température nocturne strictement inférieure à 0) (`N6`)? \n",
    "7. Quel est le jour pour lequel l'écart entre la température du jour et de la nuit *qui a suivi* (donc portant le même indice) a été le plus important (`J7`) ?\n",
    "8. Quels sont les deux jours consécutifs pour lesquels la différence de température diurne est maximale (`J8a` puis `J8b`) ? "
   ]
  },
  {
   "cell_type": "code",
   "execution_count": null,
   "id": "970c1e79-5de6-4ddc-beb2-e2bcfd538367",
   "metadata": {
    "deletable": false,
    "nbgrader": {
     "cell_type": "code",
     "checksum": "e377ec3b151999cc7fc4c2eefe8de1c4",
     "grade": false,
     "grade_id": "cell-fc58440fd3e83480",
     "locked": false,
     "schema_version": 3,
     "solution": true,
     "task": false
    }
   },
   "outputs": [],
   "source": [
    "# Écrire votre code ici\n",
    "raise NotImplementedError # effacer cette ligne une fois le code écrit"
   ]
  },
  {
   "cell_type": "code",
   "execution_count": null,
   "id": "065341fd",
   "metadata": {
    "deletable": false,
    "editable": false,
    "nbgrader": {
     "cell_type": "code",
     "checksum": "a839c7193202610a2a6a944ebb936e22",
     "grade": true,
     "grade_id": "cell-4ab8cdd034bb1bad",
     "locked": true,
     "points": 10,
     "schema_version": 3,
     "solution": false,
     "task": false
    }
   },
   "outputs": [],
   "source": [
    "# case pour la correction"
   ]
  },
  {
   "cell_type": "markdown",
   "id": "f7b4264d",
   "metadata": {
    "deletable": false,
    "editable": false,
    "nbgrader": {
     "cell_type": "markdown",
     "checksum": "9726102578d10976be020061c65f7995",
     "grade": false,
     "grade_id": "cell-a4baf42a16fbf298",
     "locked": true,
     "schema_version": 3,
     "solution": false,
     "task": false
    }
   },
   "source": [
    "### Exercice 6 : plus difficile\n",
    "\n",
    "9. Quelle est la plus longue période de jours consécutifs sans pluie (quand commence-t-elle (`J9`) ? combien de jours dure-t-elle (`N9`) ?)\n",
    "10. Une *canicule* est une succession d'au moins trois jours où la température diurne est supérieure ou égale à 37°C et où elle ne descend pas strictement en-dessous de 25°C la nuit. Déterminer le nombre de canicules éventuelles sur cette période (`N10`)."
   ]
  },
  {
   "cell_type": "code",
   "execution_count": null,
   "id": "405b425c",
   "metadata": {
    "deletable": false,
    "nbgrader": {
     "cell_type": "code",
     "checksum": "960a9e47725842d758add4ef50561b15",
     "grade": false,
     "grade_id": "cell-13729d6907ac268c",
     "locked": false,
     "schema_version": 3,
     "solution": true,
     "task": false
    }
   },
   "outputs": [],
   "source": [
    "# Écrire votre code ici\n",
    "raise NotImplementedError # effacer cette ligne une fois le code écrit"
   ]
  },
  {
   "cell_type": "code",
   "execution_count": null,
   "id": "ef91eb26",
   "metadata": {},
   "outputs": [],
   "source": []
  },
  {
   "cell_type": "code",
   "execution_count": null,
   "id": "7825e44f",
   "metadata": {
    "deletable": false,
    "editable": false,
    "nbgrader": {
     "cell_type": "code",
     "checksum": "84ea12b9fa4359c2046b4ae62a09d3f7",
     "grade": true,
     "grade_id": "cell-81fd6749c518d51e",
     "locked": true,
     "points": 4,
     "schema_version": 3,
     "solution": false,
     "task": false
    }
   },
   "outputs": [],
   "source": [
    "# case pour la correction"
   ]
  },
  {
   "cell_type": "markdown",
   "id": "286ceb3e",
   "metadata": {
    "deletable": false,
    "editable": false,
    "nbgrader": {
     "cell_type": "markdown",
     "checksum": "8d8a99608196b5c15d6c3705a7196df7",
     "grade": false,
     "grade_id": "cell-b25a4725315daff6",
     "locked": true,
     "schema_version": 3,
     "solution": false,
     "task": false
    }
   },
   "source": [
    "<div class=\"alert alert-success\">\n",
    "    <h2>Les points à retenir</h2>\n",
    "    \n",
    "* on peut convertir une chaîne de caractère en flottant avec `float(chaine)` (si ça a un sens),\n",
    "* on peut créer un alias sur un module avec le mot-clef `as`,\n",
    "* `break` pour sortir d'une boucle.\n",
    "</div>"
   ]
  }
 ],
 "metadata": {
  "kernelspec": {
   "display_name": "Python 3 (ipykernel)",
   "language": "python",
   "name": "python3"
  },
  "language_info": {
   "codemirror_mode": {
    "name": "ipython",
    "version": 3
   },
   "file_extension": ".py",
   "mimetype": "text/x-python",
   "name": "python",
   "nbconvert_exporter": "python",
   "pygments_lexer": "ipython3",
   "version": "3.7.3"
  }
 },
 "nbformat": 4,
 "nbformat_minor": 5
}
